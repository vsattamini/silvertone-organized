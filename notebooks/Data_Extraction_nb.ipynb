{
  "nbformat": 4,
  "nbformat_minor": 0,
  "metadata": {
    "colab": {
      "provenance": [],
      "machine_shape": "hm"
    },
    "kernelspec": {
      "name": "python3",
      "display_name": "Python 3"
    },
    "language_info": {
      "name": "python"
    },
    "accelerator": "GPU",
    "gpuClass": "premium"
  },
  "cells": [
    {
      "cell_type": "code",
      "source": [
        "%load_ext autoreload\n",
        "%autoreload 2"
      ],
      "metadata": {
        "id": "lNCpQhiq3Q9M"
      },
      "execution_count": null,
      "outputs": []
    },
    {
      "cell_type": "code",
      "execution_count": null,
      "metadata": {
        "colab": {
          "base_uri": "https://localhost:8080/"
        },
        "id": "9kxK0IqU2b22",
        "outputId": "be443c13-c3f0-4508-fc6e-be3883aadea8"
      },
      "outputs": [
        {
          "output_type": "stream",
          "name": "stdout",
          "text": [
            "Mounted at /content/drive\n"
          ]
        }
      ],
      "source": [
        "from google.colab import drive\n",
        "drive.mount('/content/drive', force_remount=True)\n",
        "\n",
        "from glob import glob\n",
        "\n",
        "import os\n",
        "\n",
        "# os.chdir allows you to change directories, like cd in the Terminal\n",
        "os.chdir('/content/drive/MyDrive/Colab Notebooks')\n",
        "\n",
        "# Subtitute for your own path to database folder. Structure afterwards is /databasename/files.wav\n",
        "# \"/content/drive/MyDrive/Emotion Datasets/Emotion Datasets/Audio/RAVDESS/Audio_Speech_Actors_01-24/*.wav\")\n",
        "path = '/content/drive/MyDrive/Emotion Datasets/Emotion Datasets/Audio'"
      ]
    },
    {
      "cell_type": "code",
      "source": [
        "import librosa"
      ],
      "metadata": {
        "id": "bRiYsnAD6fWe"
      },
      "execution_count": null,
      "outputs": []
    },
    {
      "cell_type": "code",
      "source": [
        "import tensorflow as tf"
      ],
      "metadata": {
        "id": "GmskPnMf6yLj"
      },
      "execution_count": null,
      "outputs": []
    },
    {
      "cell_type": "code",
      "source": [
        "def preprocessing (audio):\n",
        "    mfcc = []\n",
        "    X, sr = librosa.load(audio)\n",
        "    X_trim = librosa.effects.trim(X,top_db=35)\n",
        "    if X_trim[0].shape[0] >= 50000:\n",
        "        X_final = X_trim[0][:50000]\n",
        "        X_final = tf.convert_to_tensor(X_final).numpy()\n",
        "    else:\n",
        "        zero_padding = tf.zeros([50000]-tf.shape(X_trim[0]),dtype=tf.float32)\n",
        "        X_final = tf.concat([X_trim[0],zero_padding],0).numpy()\n",
        "    S = librosa.feature.mfcc(y=X_final, sr=sr)\n",
        "    mfcc.append(S)\n",
        "    X= np.array(mfcc)\n",
        "    X_flat=X.reshape(20*98)\n",
        "    return X_flat"
      ],
      "metadata": {
        "id": "1p1jtvnS6dE0"
      },
      "execution_count": null,
      "outputs": []
    },
    {
      "cell_type": "code",
      "source": [
        "test = preprocessing('/content/drive/MyDrive/Emotion Datasets/Emotion Datasets/Audio/RAVDESS/Audio_Speech_Actors_01-24/03-01-01-01-01-01-01.wav')"
      ],
      "metadata": {
        "id": "KGeLg3nD6g-W"
      },
      "execution_count": null,
      "outputs": []
    },
    {
      "cell_type": "code",
      "source": [
        "\n",
        "from glob import glob\n",
        "import numpy as np\n",
        "import pandas as pd"
      ],
      "metadata": {
        "id": "gt7HICpe3I8h"
      },
      "execution_count": null,
      "outputs": []
    },
    {
      "cell_type": "code",
      "source": [
        "from data_extraction_2 import extract_ravdess, extract_crema, extract_savee, extract_ESD, extract_JL, extract_ASVP, extract_tess"
      ],
      "metadata": {
        "id": "twZKBadB3JPq"
      },
      "execution_count": null,
      "outputs": []
    },
    {
      "cell_type": "code",
      "source": [
        "X1, y1 = extract_ravdess(trim=True)\n"
      ],
      "metadata": {
        "id": "D6bBLEXM3JhL"
      },
      "execution_count": null,
      "outputs": []
    },
    {
      "cell_type": "code",
      "source": [
        "X1.shape"
      ],
      "metadata": {
        "id": "lzRAtKZL7TeI",
        "colab": {
          "base_uri": "https://localhost:8080/"
        },
        "outputId": "c61664b7-4924-4c11-8654-35b764261f11"
      },
      "execution_count": null,
      "outputs": [
        {
          "output_type": "execute_result",
          "data": {
            "text/plain": [
              "(1440, 1960)"
            ]
          },
          "metadata": {},
          "execution_count": 8
        }
      ]
    },
    {
      "cell_type": "code",
      "source": [
        "X2, y2 = extract_crema(trim=True)\n"
      ],
      "metadata": {
        "id": "FxotyOoZiyAs"
      },
      "execution_count": null,
      "outputs": []
    },
    {
      "cell_type": "code",
      "source": [
        "X2.shape"
      ],
      "metadata": {
        "colab": {
          "base_uri": "https://localhost:8080/"
        },
        "id": "Qg_vCKLfKLpZ",
        "outputId": "b37703f8-5cf2-422a-d8db-0e7215326554"
      },
      "execution_count": null,
      "outputs": [
        {
          "output_type": "execute_result",
          "data": {
            "text/plain": [
              "(7442, 1960)"
            ]
          },
          "metadata": {},
          "execution_count": 11
        }
      ]
    },
    {
      "cell_type": "code",
      "source": [
        "X3, y3 = extract_savee(trim=True)\n"
      ],
      "metadata": {
        "id": "CF1bgcHO3JkZ"
      },
      "execution_count": null,
      "outputs": []
    },
    {
      "cell_type": "code",
      "source": [
        "X3.shape"
      ],
      "metadata": {
        "colab": {
          "base_uri": "https://localhost:8080/"
        },
        "id": "pSUXZ_ltLK24",
        "outputId": "eaed1b10-d189-46f0-a315-a0252cd5944c"
      },
      "execution_count": null,
      "outputs": [
        {
          "output_type": "execute_result",
          "data": {
            "text/plain": [
              "(480, 1960)"
            ]
          },
          "metadata": {},
          "execution_count": 15
        }
      ]
    },
    {
      "cell_type": "code",
      "source": [
        "X4, y4 = extract_JL(trim=True)\n"
      ],
      "metadata": {
        "id": "v0M9elfo4qNq"
      },
      "execution_count": null,
      "outputs": []
    },
    {
      "cell_type": "code",
      "source": [
        "X4.shape"
      ],
      "metadata": {
        "colab": {
          "base_uri": "https://localhost:8080/"
        },
        "id": "qmu1DZ7ILNpo",
        "outputId": "b09fe615-3973-470e-d490-49bbe96d6b50"
      },
      "execution_count": null,
      "outputs": [
        {
          "output_type": "execute_result",
          "data": {
            "text/plain": [
              "(2214, 1960)"
            ]
          },
          "metadata": {},
          "execution_count": 23
        }
      ]
    },
    {
      "cell_type": "code",
      "source": [
        "X5, y5 = extract_ASVP(trim=True)\n"
      ],
      "metadata": {
        "id": "FeX-hPmqVaFz"
      },
      "execution_count": null,
      "outputs": []
    },
    {
      "cell_type": "code",
      "source": [
        "X5.shape"
      ],
      "metadata": {
        "colab": {
          "base_uri": "https://localhost:8080/"
        },
        "id": "j6g5YhQCLQx_",
        "outputId": "83fa8c2b-c466-4697-a5de-2d560b1325aa"
      },
      "execution_count": null,
      "outputs": [
        {
          "output_type": "execute_result",
          "data": {
            "text/plain": [
              "(8683, 1960)"
            ]
          },
          "metadata": {},
          "execution_count": 18
        }
      ]
    },
    {
      "cell_type": "code",
      "source": [
        "X6, y6 = extract_tess(trim=True)\n"
      ],
      "metadata": {
        "id": "S6cHbn0qVsNA"
      },
      "execution_count": null,
      "outputs": []
    },
    {
      "cell_type": "code",
      "source": [
        "X6.shape"
      ],
      "metadata": {
        "colab": {
          "base_uri": "https://localhost:8080/"
        },
        "id": "CMKisQq0LSIU",
        "outputId": "27e727b5-72e4-4c94-c745-615165db5b8e"
      },
      "execution_count": null,
      "outputs": [
        {
          "output_type": "execute_result",
          "data": {
            "text/plain": [
              "(2600, 1960)"
            ]
          },
          "metadata": {},
          "execution_count": 20
        }
      ]
    },
    {
      "cell_type": "code",
      "source": [
        "X_semifinal = pd.concat([X1,X2,X3,X4,X5,X6], ignore_index=True)"
      ],
      "metadata": {
        "id": "h8VRFkCXSEdv"
      },
      "execution_count": null,
      "outputs": []
    },
    {
      "cell_type": "code",
      "source": [
        "yx = y1.copy()"
      ],
      "metadata": {
        "id": "O3-gnbP1S2Ib"
      },
      "execution_count": null,
      "outputs": []
    },
    {
      "cell_type": "code",
      "source": [
        "emo_relation = {1: 'neutral', 2: 'calm', 3: 'happy', 4: 'sad',\n",
        "            5: 'angry', 6: 'fearful', 7: 'disgust', 8: 'surprised',\n",
        "            '1': 'neutral', '2': 'calm', '3': 'happy', '4': 'sad',\n",
        "            '5': 'angry', '6': 'fearful', '7': 'disgust', '8': 'surprised'}"
      ],
      "metadata": {
        "id": "MEu4jHNsS797"
      },
      "execution_count": null,
      "outputs": []
    },
    {
      "cell_type": "code",
      "source": [
        "yx = yx.replace({0:emo_relation})"
      ],
      "metadata": {
        "id": "mPrNku_ES5N3"
      },
      "execution_count": null,
      "outputs": []
    },
    {
      "cell_type": "code",
      "source": [
        "emo_relation = {'NEU': 'neutral', 2: 'calm', 'HAP': 'happy', 'SAD': 'sad',\n",
        "            'ANG': 'angry', 'FEA': 'fearful', 'DIS': 'disgust', 8: 'surprised',\n",
        "            '_SA': 'sad'}"
      ],
      "metadata": {
        "id": "LkDuGc1VTelV"
      },
      "execution_count": null,
      "outputs": []
    },
    {
      "cell_type": "code",
      "source": [
        "yx2 = y2.replace({0:emo_relation})"
      ],
      "metadata": {
        "id": "eH3G7M2VTWKG"
      },
      "execution_count": null,
      "outputs": []
    },
    {
      "cell_type": "code",
      "source": [
        "emo_relation = {'_n': 'neutral', 2: 'calm', '_h': 'happy', 'sa': 'sad',\n",
        "            '_a': 'angry', '_f': 'fearful', '_d': 'disgust', 'su': 'surprised'}"
      ],
      "metadata": {
        "id": "OILbRG5FTfNu"
      },
      "execution_count": null,
      "outputs": []
    },
    {
      "cell_type": "code",
      "source": [
        "yx3 = y3.replace({0:emo_relation})"
      ],
      "metadata": {
        "id": "78Trn1GITWR3"
      },
      "execution_count": null,
      "outputs": []
    },
    {
      "cell_type": "code",
      "source": [
        "emo_relation ={'_angr': 'angry','e1_an': 'angry','e2_an': 'angry',\n",
        "                   '_apol': 'apologetic','e1_ap': 'apologetic','e2_ap': 'apologetic',\n",
        "                   '_conc': 'concerned','e1_co': 'concerned','e2_co': 'concerned',\n",
        "                   '_enco': 'encouraging','e1_en': 'encouraging','e2_en': 'encouraging',\n",
        "                   '_asse': 'assertive','e1_as': 'assertive','e2_as': 'assertive',\n",
        "                   '_exci': 'excited','e1_ex': 'excited','e2_ex': 'excited',\n",
        "                   '_happ': 'happy','e1_ha': 'happy','e2_ha': 'happy',\n",
        "                   '_neut': 'neutral','e1_ne': 'neutral','e2_ne': 'neutral',\n",
        "                   '_ques': 'question','e1_qu': 'question','e2_qu': 'question',\n",
        "                   '_sad_': 'sad','e1_sa': 'sad','e2_sa': 'sad', '_anxi':'anxious'\n",
        "                   }"
      ],
      "metadata": {
        "id": "CkEUncmCTfnh"
      },
      "execution_count": null,
      "outputs": []
    },
    {
      "cell_type": "code",
      "source": [
        "yx4 = y4.replace({0:emo_relation})"
      ],
      "metadata": {
        "id": "BFOSdRMmTWW5"
      },
      "execution_count": null,
      "outputs": []
    },
    {
      "cell_type": "code",
      "source": [
        "emo_relation ={'01': 'bored', '02': 'neutral','03':'happy', '04': 'sad',\n",
        "                   '05': 'angry','06': 'fearful','07': 'disgust',\n",
        "                   '08':'surprised','09': 'excited','10': 'pleasure',\n",
        "                   '11': 'pain', '12': 'disappointed'\n",
        "                   }"
      ],
      "metadata": {
        "id": "YmYjU6qETgLG"
      },
      "execution_count": null,
      "outputs": []
    },
    {
      "cell_type": "code",
      "source": [
        "yx5 = y5.replace({0:emo_relation})"
      ],
      "metadata": {
        "id": "dKf5XANOTWbC"
      },
      "execution_count": null,
      "outputs": []
    },
    {
      "cell_type": "code",
      "source": [
        "yx6 = y6"
      ],
      "metadata": {
        "id": "xRCL6tblTWeN"
      },
      "execution_count": null,
      "outputs": []
    },
    {
      "cell_type": "code",
      "source": [
        "print(X1.shape)\n",
        "print(X2.shape)\n",
        "print(X3.shape)\n",
        "print(X4.shape)\n",
        "print(X5.shape)\n",
        "print(X6.shape)\n"
      ],
      "metadata": {
        "id": "KPxazlKYViB7",
        "colab": {
          "base_uri": "https://localhost:8080/"
        },
        "outputId": "c219813b-369e-4667-9e63-de0c5cb8de06"
      },
      "execution_count": null,
      "outputs": [
        {
          "output_type": "stream",
          "name": "stdout",
          "text": [
            "(1440, 1960)\n",
            "(7442, 1960)\n",
            "(480, 1960)\n",
            "(2214, 1960)\n",
            "(8683, 1960)\n",
            "(2600, 1960)\n"
          ]
        }
      ]
    },
    {
      "cell_type": "code",
      "source": [],
      "metadata": {
        "colab": {
          "base_uri": "https://localhost:8080/"
        },
        "id": "ruU2VUe1Uc27",
        "outputId": "39b40b4b-19ee-412c-9905-d6d0874b431f"
      },
      "execution_count": null,
      "outputs": [
        {
          "output_type": "execute_result",
          "data": {
            "text/plain": [
              "(1440, 1)"
            ]
          },
          "metadata": {},
          "execution_count": 59
        }
      ]
    },
    {
      "cell_type": "code",
      "source": [
        "print(yx[0][0])\n",
        "print(yx2[0][0])\n",
        "print(yx3[0][0])\n",
        "print(yx4[0][0])\n",
        "print(yx5[0][0])\n",
        "print(yx6[0][0])\n"
      ],
      "metadata": {
        "colab": {
          "base_uri": "https://localhost:8080/"
        },
        "id": "SAHAUAtdUOBF",
        "outputId": "53700310-9498-40ae-f258-9cc52716cc98"
      },
      "execution_count": null,
      "outputs": [
        {
          "output_type": "stream",
          "name": "stdout",
          "text": [
            "surprised\n",
            "fearful\n",
            "angry\n",
            "encouraging\n",
            "bored\n",
            "disgust\n"
          ]
        }
      ]
    },
    {
      "cell_type": "code",
      "source": [
        "X_semifinal = pd.concat([X1,X2,X3,X4,X5,X6], ignore_index=True)"
      ],
      "metadata": {
        "id": "kRvf08Jacaka"
      },
      "execution_count": null,
      "outputs": []
    },
    {
      "cell_type": "markdown",
      "source": [],
      "metadata": {
        "id": "WYeIAz3nX0iO"
      }
    },
    {
      "cell_type": "code",
      "source": [
        "X_semifinal.shape"
      ],
      "metadata": {
        "colab": {
          "base_uri": "https://localhost:8080/"
        },
        "id": "arT3fWnYfXmt",
        "outputId": "fb9e4a57-e49b-45c8-ba62-2d3bf48c26b3"
      },
      "execution_count": null,
      "outputs": [
        {
          "output_type": "execute_result",
          "data": {
            "text/plain": [
              "(22859, 1960)"
            ]
          },
          "metadata": {},
          "execution_count": 62
        }
      ]
    },
    {
      "cell_type": "code",
      "source": [
        "X_semifinal.to_pickle('X_semifnal.pkl')"
      ],
      "metadata": {
        "id": "54Qv6M9IVWTL"
      },
      "execution_count": null,
      "outputs": []
    },
    {
      "cell_type": "code",
      "source": [
        "y_semifinal= pd.concat([yx,yx2,yx3,yx4,yx5,yx6], ignore_index=True)"
      ],
      "metadata": {
        "id": "ruYAoKeeVCTB"
      },
      "execution_count": null,
      "outputs": []
    },
    {
      "cell_type": "code",
      "source": [
        "y_semifinal.shape"
      ],
      "metadata": {
        "id": "FNa_dN263JnR",
        "colab": {
          "base_uri": "https://localhost:8080/"
        },
        "outputId": "73cef809-aeb7-4964-9cae-54e2279a1413"
      },
      "execution_count": null,
      "outputs": [
        {
          "output_type": "execute_result",
          "data": {
            "text/plain": [
              "(22859, 1)"
            ]
          },
          "metadata": {},
          "execution_count": 64
        }
      ]
    },
    {
      "cell_type": "code",
      "source": [
        "y_semifinal.to_pickle('y_semifnal.pkl')"
      ],
      "metadata": {
        "id": "rely0TnX85Hz"
      },
      "execution_count": null,
      "outputs": []
    },
    {
      "cell_type": "code",
      "source": [
        "X7, y7 = extract_ESD(trim=True)\n"
      ],
      "metadata": {
        "id": "N8Agn4VXhWka"
      },
      "execution_count": null,
      "outputs": []
    },
    {
      "cell_type": "code",
      "source": [
        "X7.shape"
      ],
      "metadata": {
        "id": "6VJv08pIhTGA",
        "colab": {
          "base_uri": "https://localhost:8080/"
        },
        "outputId": "e0cb9eba-b59e-4afb-c3b6-f43d4d211208"
      },
      "execution_count": null,
      "outputs": [
        {
          "output_type": "execute_result",
          "data": {
            "text/plain": [
              "(17500, 1960)"
            ]
          },
          "metadata": {},
          "execution_count": 68
        }
      ]
    },
    {
      "cell_type": "code",
      "source": [],
      "metadata": {
        "id": "GyLIvP6IbaK8"
      },
      "execution_count": null,
      "outputs": []
    },
    {
      "cell_type": "code",
      "source": [
        "X_final = pd.concat([X_semifinal,X7], ignore_index=True)"
      ],
      "metadata": {
        "id": "2pnERnB185ci"
      },
      "execution_count": null,
      "outputs": []
    },
    {
      "cell_type": "code",
      "source": [
        "y_final= pd.concat([y_semifinal,y7], ignore_index=True)"
      ],
      "metadata": {
        "id": "Cmq7WffabdtQ"
      },
      "execution_count": null,
      "outputs": []
    },
    {
      "cell_type": "code",
      "source": [
        "y_final = y_final.rename(columns={0:'emotion'})"
      ],
      "metadata": {
        "id": "WYq3j4A1b525"
      },
      "execution_count": null,
      "outputs": []
    },
    {
      "cell_type": "code",
      "source": [
        "y_final.head(2)"
      ],
      "metadata": {
        "colab": {
          "base_uri": "https://localhost:8080/",
          "height": 112
        },
        "id": "-SdvZ_H_eAok",
        "outputId": "7077002d-97e3-43ce-97c1-71c193065a0c"
      },
      "execution_count": null,
      "outputs": [
        {
          "output_type": "execute_result",
          "data": {
            "text/plain": [
              "     emotion\n",
              "0  surprised\n",
              "1    fearful"
            ],
            "text/html": [
              "\n",
              "  <div id=\"df-f10f646e-683f-41d8-93ad-aee5badbf1fd\">\n",
              "    <div class=\"colab-df-container\">\n",
              "      <div>\n",
              "<style scoped>\n",
              "    .dataframe tbody tr th:only-of-type {\n",
              "        vertical-align: middle;\n",
              "    }\n",
              "\n",
              "    .dataframe tbody tr th {\n",
              "        vertical-align: top;\n",
              "    }\n",
              "\n",
              "    .dataframe thead th {\n",
              "        text-align: right;\n",
              "    }\n",
              "</style>\n",
              "<table border=\"1\" class=\"dataframe\">\n",
              "  <thead>\n",
              "    <tr style=\"text-align: right;\">\n",
              "      <th></th>\n",
              "      <th>emotion</th>\n",
              "    </tr>\n",
              "  </thead>\n",
              "  <tbody>\n",
              "    <tr>\n",
              "      <th>0</th>\n",
              "      <td>surprised</td>\n",
              "    </tr>\n",
              "    <tr>\n",
              "      <th>1</th>\n",
              "      <td>fearful</td>\n",
              "    </tr>\n",
              "  </tbody>\n",
              "</table>\n",
              "</div>\n",
              "      <button class=\"colab-df-convert\" onclick=\"convertToInteractive('df-f10f646e-683f-41d8-93ad-aee5badbf1fd')\"\n",
              "              title=\"Convert this dataframe to an interactive table.\"\n",
              "              style=\"display:none;\">\n",
              "        \n",
              "  <svg xmlns=\"http://www.w3.org/2000/svg\" height=\"24px\"viewBox=\"0 0 24 24\"\n",
              "       width=\"24px\">\n",
              "    <path d=\"M0 0h24v24H0V0z\" fill=\"none\"/>\n",
              "    <path d=\"M18.56 5.44l.94 2.06.94-2.06 2.06-.94-2.06-.94-.94-2.06-.94 2.06-2.06.94zm-11 1L8.5 8.5l.94-2.06 2.06-.94-2.06-.94L8.5 2.5l-.94 2.06-2.06.94zm10 10l.94 2.06.94-2.06 2.06-.94-2.06-.94-.94-2.06-.94 2.06-2.06.94z\"/><path d=\"M17.41 7.96l-1.37-1.37c-.4-.4-.92-.59-1.43-.59-.52 0-1.04.2-1.43.59L10.3 9.45l-7.72 7.72c-.78.78-.78 2.05 0 2.83L4 21.41c.39.39.9.59 1.41.59.51 0 1.02-.2 1.41-.59l7.78-7.78 2.81-2.81c.8-.78.8-2.07 0-2.86zM5.41 20L4 18.59l7.72-7.72 1.47 1.35L5.41 20z\"/>\n",
              "  </svg>\n",
              "      </button>\n",
              "      \n",
              "  <style>\n",
              "    .colab-df-container {\n",
              "      display:flex;\n",
              "      flex-wrap:wrap;\n",
              "      gap: 12px;\n",
              "    }\n",
              "\n",
              "    .colab-df-convert {\n",
              "      background-color: #E8F0FE;\n",
              "      border: none;\n",
              "      border-radius: 50%;\n",
              "      cursor: pointer;\n",
              "      display: none;\n",
              "      fill: #1967D2;\n",
              "      height: 32px;\n",
              "      padding: 0 0 0 0;\n",
              "      width: 32px;\n",
              "    }\n",
              "\n",
              "    .colab-df-convert:hover {\n",
              "      background-color: #E2EBFA;\n",
              "      box-shadow: 0px 1px 2px rgba(60, 64, 67, 0.3), 0px 1px 3px 1px rgba(60, 64, 67, 0.15);\n",
              "      fill: #174EA6;\n",
              "    }\n",
              "\n",
              "    [theme=dark] .colab-df-convert {\n",
              "      background-color: #3B4455;\n",
              "      fill: #D2E3FC;\n",
              "    }\n",
              "\n",
              "    [theme=dark] .colab-df-convert:hover {\n",
              "      background-color: #434B5C;\n",
              "      box-shadow: 0px 1px 3px 1px rgba(0, 0, 0, 0.15);\n",
              "      filter: drop-shadow(0px 1px 2px rgba(0, 0, 0, 0.3));\n",
              "      fill: #FFFFFF;\n",
              "    }\n",
              "  </style>\n",
              "\n",
              "      <script>\n",
              "        const buttonEl =\n",
              "          document.querySelector('#df-f10f646e-683f-41d8-93ad-aee5badbf1fd button.colab-df-convert');\n",
              "        buttonEl.style.display =\n",
              "          google.colab.kernel.accessAllowed ? 'block' : 'none';\n",
              "\n",
              "        async function convertToInteractive(key) {\n",
              "          const element = document.querySelector('#df-f10f646e-683f-41d8-93ad-aee5badbf1fd');\n",
              "          const dataTable =\n",
              "            await google.colab.kernel.invokeFunction('convertToInteractive',\n",
              "                                                     [key], {});\n",
              "          if (!dataTable) return;\n",
              "\n",
              "          const docLinkHtml = 'Like what you see? Visit the ' +\n",
              "            '<a target=\"_blank\" href=https://colab.research.google.com/notebooks/data_table.ipynb>data table notebook</a>'\n",
              "            + ' to learn more about interactive tables.';\n",
              "          element.innerHTML = '';\n",
              "          dataTable['output_type'] = 'display_data';\n",
              "          await google.colab.output.renderOutput(dataTable, element);\n",
              "          const docLink = document.createElement('div');\n",
              "          docLink.innerHTML = docLinkHtml;\n",
              "          element.appendChild(docLink);\n",
              "        }\n",
              "      </script>\n",
              "    </div>\n",
              "  </div>\n",
              "  "
            ]
          },
          "metadata": {},
          "execution_count": 84
        }
      ]
    },
    {
      "cell_type": "code",
      "source": [
        "df = pd.concat([X_final,y_final], axis=1)"
      ],
      "metadata": {
        "id": "Vck2uNxHbfwP"
      },
      "execution_count": null,
      "outputs": []
    },
    {
      "cell_type": "code",
      "source": [
        "df.head(2)"
      ],
      "metadata": {
        "colab": {
          "base_uri": "https://localhost:8080/",
          "height": 205
        },
        "id": "-v5JFz2XeOve",
        "outputId": "e1fc29ce-5558-43b1-efa5-7c51b671c60c"
      },
      "execution_count": null,
      "outputs": [
        {
          "output_type": "execute_result",
          "data": {
            "text/plain": [
              "            0           1           2           3           4           5  \\\n",
              "0 -479.404755 -398.397095 -364.782837 -337.846771 -316.627808 -310.222931   \n",
              "1 -535.179932 -408.081818 -354.822693 -310.673035 -301.282013 -299.028595   \n",
              "\n",
              "            6           7           8           9  ...      1951       1952  \\\n",
              "0 -314.818542 -308.885223 -297.959137 -317.647247  ...  11.06157  11.945036   \n",
              "1 -312.279572 -332.471466 -336.080627 -314.011444  ...   0.00000   0.000000   \n",
              "\n",
              "        1953       1954      1955      1956     1957      1958      1959  \\\n",
              "0  10.932281  14.437454  9.179834  6.551725  6.68632  3.352816  4.694935   \n",
              "1   0.000000   0.000000  0.000000  0.000000  0.00000  0.000000  0.000000   \n",
              "\n",
              "     emotion  \n",
              "0  surprised  \n",
              "1    fearful  \n",
              "\n",
              "[2 rows x 1961 columns]"
            ],
            "text/html": [
              "\n",
              "  <div id=\"df-e394c2d3-73c4-40ed-8d1b-c9f9c23ac7d0\">\n",
              "    <div class=\"colab-df-container\">\n",
              "      <div>\n",
              "<style scoped>\n",
              "    .dataframe tbody tr th:only-of-type {\n",
              "        vertical-align: middle;\n",
              "    }\n",
              "\n",
              "    .dataframe tbody tr th {\n",
              "        vertical-align: top;\n",
              "    }\n",
              "\n",
              "    .dataframe thead th {\n",
              "        text-align: right;\n",
              "    }\n",
              "</style>\n",
              "<table border=\"1\" class=\"dataframe\">\n",
              "  <thead>\n",
              "    <tr style=\"text-align: right;\">\n",
              "      <th></th>\n",
              "      <th>0</th>\n",
              "      <th>1</th>\n",
              "      <th>2</th>\n",
              "      <th>3</th>\n",
              "      <th>4</th>\n",
              "      <th>5</th>\n",
              "      <th>6</th>\n",
              "      <th>7</th>\n",
              "      <th>8</th>\n",
              "      <th>9</th>\n",
              "      <th>...</th>\n",
              "      <th>1951</th>\n",
              "      <th>1952</th>\n",
              "      <th>1953</th>\n",
              "      <th>1954</th>\n",
              "      <th>1955</th>\n",
              "      <th>1956</th>\n",
              "      <th>1957</th>\n",
              "      <th>1958</th>\n",
              "      <th>1959</th>\n",
              "      <th>emotion</th>\n",
              "    </tr>\n",
              "  </thead>\n",
              "  <tbody>\n",
              "    <tr>\n",
              "      <th>0</th>\n",
              "      <td>-479.404755</td>\n",
              "      <td>-398.397095</td>\n",
              "      <td>-364.782837</td>\n",
              "      <td>-337.846771</td>\n",
              "      <td>-316.627808</td>\n",
              "      <td>-310.222931</td>\n",
              "      <td>-314.818542</td>\n",
              "      <td>-308.885223</td>\n",
              "      <td>-297.959137</td>\n",
              "      <td>-317.647247</td>\n",
              "      <td>...</td>\n",
              "      <td>11.06157</td>\n",
              "      <td>11.945036</td>\n",
              "      <td>10.932281</td>\n",
              "      <td>14.437454</td>\n",
              "      <td>9.179834</td>\n",
              "      <td>6.551725</td>\n",
              "      <td>6.68632</td>\n",
              "      <td>3.352816</td>\n",
              "      <td>4.694935</td>\n",
              "      <td>surprised</td>\n",
              "    </tr>\n",
              "    <tr>\n",
              "      <th>1</th>\n",
              "      <td>-535.179932</td>\n",
              "      <td>-408.081818</td>\n",
              "      <td>-354.822693</td>\n",
              "      <td>-310.673035</td>\n",
              "      <td>-301.282013</td>\n",
              "      <td>-299.028595</td>\n",
              "      <td>-312.279572</td>\n",
              "      <td>-332.471466</td>\n",
              "      <td>-336.080627</td>\n",
              "      <td>-314.011444</td>\n",
              "      <td>...</td>\n",
              "      <td>0.00000</td>\n",
              "      <td>0.000000</td>\n",
              "      <td>0.000000</td>\n",
              "      <td>0.000000</td>\n",
              "      <td>0.000000</td>\n",
              "      <td>0.000000</td>\n",
              "      <td>0.00000</td>\n",
              "      <td>0.000000</td>\n",
              "      <td>0.000000</td>\n",
              "      <td>fearful</td>\n",
              "    </tr>\n",
              "  </tbody>\n",
              "</table>\n",
              "<p>2 rows × 1961 columns</p>\n",
              "</div>\n",
              "      <button class=\"colab-df-convert\" onclick=\"convertToInteractive('df-e394c2d3-73c4-40ed-8d1b-c9f9c23ac7d0')\"\n",
              "              title=\"Convert this dataframe to an interactive table.\"\n",
              "              style=\"display:none;\">\n",
              "        \n",
              "  <svg xmlns=\"http://www.w3.org/2000/svg\" height=\"24px\"viewBox=\"0 0 24 24\"\n",
              "       width=\"24px\">\n",
              "    <path d=\"M0 0h24v24H0V0z\" fill=\"none\"/>\n",
              "    <path d=\"M18.56 5.44l.94 2.06.94-2.06 2.06-.94-2.06-.94-.94-2.06-.94 2.06-2.06.94zm-11 1L8.5 8.5l.94-2.06 2.06-.94-2.06-.94L8.5 2.5l-.94 2.06-2.06.94zm10 10l.94 2.06.94-2.06 2.06-.94-2.06-.94-.94-2.06-.94 2.06-2.06.94z\"/><path d=\"M17.41 7.96l-1.37-1.37c-.4-.4-.92-.59-1.43-.59-.52 0-1.04.2-1.43.59L10.3 9.45l-7.72 7.72c-.78.78-.78 2.05 0 2.83L4 21.41c.39.39.9.59 1.41.59.51 0 1.02-.2 1.41-.59l7.78-7.78 2.81-2.81c.8-.78.8-2.07 0-2.86zM5.41 20L4 18.59l7.72-7.72 1.47 1.35L5.41 20z\"/>\n",
              "  </svg>\n",
              "      </button>\n",
              "      \n",
              "  <style>\n",
              "    .colab-df-container {\n",
              "      display:flex;\n",
              "      flex-wrap:wrap;\n",
              "      gap: 12px;\n",
              "    }\n",
              "\n",
              "    .colab-df-convert {\n",
              "      background-color: #E8F0FE;\n",
              "      border: none;\n",
              "      border-radius: 50%;\n",
              "      cursor: pointer;\n",
              "      display: none;\n",
              "      fill: #1967D2;\n",
              "      height: 32px;\n",
              "      padding: 0 0 0 0;\n",
              "      width: 32px;\n",
              "    }\n",
              "\n",
              "    .colab-df-convert:hover {\n",
              "      background-color: #E2EBFA;\n",
              "      box-shadow: 0px 1px 2px rgba(60, 64, 67, 0.3), 0px 1px 3px 1px rgba(60, 64, 67, 0.15);\n",
              "      fill: #174EA6;\n",
              "    }\n",
              "\n",
              "    [theme=dark] .colab-df-convert {\n",
              "      background-color: #3B4455;\n",
              "      fill: #D2E3FC;\n",
              "    }\n",
              "\n",
              "    [theme=dark] .colab-df-convert:hover {\n",
              "      background-color: #434B5C;\n",
              "      box-shadow: 0px 1px 3px 1px rgba(0, 0, 0, 0.15);\n",
              "      filter: drop-shadow(0px 1px 2px rgba(0, 0, 0, 0.3));\n",
              "      fill: #FFFFFF;\n",
              "    }\n",
              "  </style>\n",
              "\n",
              "      <script>\n",
              "        const buttonEl =\n",
              "          document.querySelector('#df-e394c2d3-73c4-40ed-8d1b-c9f9c23ac7d0 button.colab-df-convert');\n",
              "        buttonEl.style.display =\n",
              "          google.colab.kernel.accessAllowed ? 'block' : 'none';\n",
              "\n",
              "        async function convertToInteractive(key) {\n",
              "          const element = document.querySelector('#df-e394c2d3-73c4-40ed-8d1b-c9f9c23ac7d0');\n",
              "          const dataTable =\n",
              "            await google.colab.kernel.invokeFunction('convertToInteractive',\n",
              "                                                     [key], {});\n",
              "          if (!dataTable) return;\n",
              "\n",
              "          const docLinkHtml = 'Like what you see? Visit the ' +\n",
              "            '<a target=\"_blank\" href=https://colab.research.google.com/notebooks/data_table.ipynb>data table notebook</a>'\n",
              "            + ' to learn more about interactive tables.';\n",
              "          element.innerHTML = '';\n",
              "          dataTable['output_type'] = 'display_data';\n",
              "          await google.colab.output.renderOutput(dataTable, element);\n",
              "          const docLink = document.createElement('div');\n",
              "          docLink.innerHTML = docLinkHtml;\n",
              "          element.appendChild(docLink);\n",
              "        }\n",
              "      </script>\n",
              "    </div>\n",
              "  </div>\n",
              "  "
            ]
          },
          "metadata": {},
          "execution_count": 101
        }
      ]
    },
    {
      "cell_type": "code",
      "source": [
        "df_final = df"
      ],
      "metadata": {
        "id": "K2sjFe6tbffU"
      },
      "execution_count": null,
      "outputs": []
    },
    {
      "cell_type": "code",
      "source": [
        "df = df_final[(df_final['emotion']!='bored') & (df_final['emotion']!='calm') & (df_final['emotion']!='excited') & (df_final['emotion']!='disappointment') & (df_final['emotion']!='pain') & (df_final['emotion']!='pleasure') ]"
      ],
      "metadata": {
        "id": "BdNMI_kbbyxI"
      },
      "execution_count": null,
      "outputs": []
    },
    {
      "cell_type": "code",
      "source": [
        "df_final = df"
      ],
      "metadata": {
        "id": "gsUODS31eZHF"
      },
      "execution_count": null,
      "outputs": []
    },
    {
      "cell_type": "code",
      "source": [
        "df = df_final[(df_final['emotion']!='concerned') & (df_final['emotion']!='assertive') & (df_final['emotion']!='excited') & (df_final['emotion']!='apologetic') & (df_final['emotion']!='anxious') & (df_final['emotion']!='13') ]"
      ],
      "metadata": {
        "id": "eJR3ZI9qeYgH"
      },
      "execution_count": null,
      "outputs": []
    },
    {
      "cell_type": "code",
      "source": [
        "df_final = df"
      ],
      "metadata": {
        "id": "-LFIian_esGM"
      },
      "execution_count": null,
      "outputs": []
    },
    {
      "cell_type": "code",
      "source": [
        "df = df_final[(df_final['emotion']!='concerned') & (df_final['emotion']!='assertive') & (df_final['emotion']!='excited') & (df_final['emotion']!='disappointed') & (df_final['emotion']!='encouraging') & (df_final['emotion']!='encouraging') ]"
      ],
      "metadata": {
        "id": "0XfGErp-esKX"
      },
      "execution_count": null,
      "outputs": []
    },
    {
      "cell_type": "markdown",
      "source": [],
      "metadata": {
        "id": "GbxPkuG_fJIp"
      }
    },
    {
      "cell_type": "code",
      "source": [
        "df_final = df"
      ],
      "metadata": {
        "id": "UN-NFxdZe8sY"
      },
      "execution_count": null,
      "outputs": []
    },
    {
      "cell_type": "code",
      "source": [
        "\n",
        "df = df_final[(df_final['emotion']!='bored') & (df_final['emotion']!='calm') & (df_final['emotion']!='excited') & (df_final['emotion']!='disappointment') & (df_final['emotion']!='pain') & (df_final['emotion']!='pleasure') ]"
      ],
      "metadata": {
        "id": "Hs8v-sWpe9CK"
      },
      "execution_count": null,
      "outputs": []
    },
    {
      "cell_type": "code",
      "source": [
        "df.groupby('emotion').count()"
      ],
      "metadata": {
        "colab": {
          "base_uri": "https://localhost:8080/",
          "height": 550
        },
        "id": "CBUrZHWxdLV6",
        "outputId": "54dd1a26-f8c0-413d-d0c8-17db2b6348ed"
      },
      "execution_count": null,
      "outputs": [
        {
          "output_type": "execute_result",
          "data": {
            "text/plain": [
              "           0     1     2     3     4     5     6     7     8     9     ...  \\\n",
              "emotion                                                                ...   \n",
              "Angry      3500  3500  3500  3500  3500  3500  3500  3500  3500  3500  ...   \n",
              "Happy      3500  3500  3500  3500  3500  3500  3500  3500  3500  3500  ...   \n",
              "Neutral    3500  3500  3500  3500  3500  3500  3500  3500  3500  3500  ...   \n",
              "Sad        3500  3500  3500  3500  3500  3500  3500  3500  3500  3500  ...   \n",
              "Surprise   3500  3500  3500  3500  3500  3500  3500  3500  3500  3500  ...   \n",
              "angry      3287  3287  3287  3287  3287  3287  3287  3287  3287  3287  ...   \n",
              "disgust    2378  2378  2378  2378  2378  2378  2378  2378  2378  2378  ...   \n",
              "fearful    2792  2792  2792  2792  2792  2792  2792  2792  2792  2792  ...   \n",
              "happy      3367  3367  3367  3367  3367  3367  3367  3367  3367  3367  ...   \n",
              "neutral    2967  2967  2967  2967  2967  2967  2967  2967  2967  2967  ...   \n",
              "sad        3217  3217  3217  3217  3217  3217  3217  3217  3217  3217  ...   \n",
              "surprised  1695  1695  1695  1695  1695  1695  1695  1695  1695  1695  ...   \n",
              "\n",
              "           1950  1951  1952  1953  1954  1955  1956  1957  1958  1959  \n",
              "emotion                                                                \n",
              "Angry      3500  3500  3500  3500  3500  3500  3500  3500  3500  3500  \n",
              "Happy      3500  3500  3500  3500  3500  3500  3500  3500  3500  3500  \n",
              "Neutral    3500  3500  3500  3500  3500  3500  3500  3500  3500  3500  \n",
              "Sad        3500  3500  3500  3500  3500  3500  3500  3500  3500  3500  \n",
              "Surprise   3500  3500  3500  3500  3500  3500  3500  3500  3500  3500  \n",
              "angry      3287  3287  3287  3287  3287  3287  3287  3287  3287  3287  \n",
              "disgust    2378  2378  2378  2378  2378  2378  2378  2378  2378  2378  \n",
              "fearful    2792  2792  2792  2792  2792  2792  2792  2792  2792  2792  \n",
              "happy      3367  3367  3367  3367  3367  3367  3367  3367  3367  3367  \n",
              "neutral    2967  2967  2967  2967  2967  2967  2967  2967  2967  2967  \n",
              "sad        3217  3217  3217  3217  3217  3217  3217  3217  3217  3217  \n",
              "surprised  1695  1695  1695  1695  1695  1695  1695  1695  1695  1695  \n",
              "\n",
              "[12 rows x 1960 columns]"
            ],
            "text/html": [
              "\n",
              "  <div id=\"df-fdc37e66-ca45-4d5a-8210-858691e3b526\">\n",
              "    <div class=\"colab-df-container\">\n",
              "      <div>\n",
              "<style scoped>\n",
              "    .dataframe tbody tr th:only-of-type {\n",
              "        vertical-align: middle;\n",
              "    }\n",
              "\n",
              "    .dataframe tbody tr th {\n",
              "        vertical-align: top;\n",
              "    }\n",
              "\n",
              "    .dataframe thead th {\n",
              "        text-align: right;\n",
              "    }\n",
              "</style>\n",
              "<table border=\"1\" class=\"dataframe\">\n",
              "  <thead>\n",
              "    <tr style=\"text-align: right;\">\n",
              "      <th></th>\n",
              "      <th>0</th>\n",
              "      <th>1</th>\n",
              "      <th>2</th>\n",
              "      <th>3</th>\n",
              "      <th>4</th>\n",
              "      <th>5</th>\n",
              "      <th>6</th>\n",
              "      <th>7</th>\n",
              "      <th>8</th>\n",
              "      <th>9</th>\n",
              "      <th>...</th>\n",
              "      <th>1950</th>\n",
              "      <th>1951</th>\n",
              "      <th>1952</th>\n",
              "      <th>1953</th>\n",
              "      <th>1954</th>\n",
              "      <th>1955</th>\n",
              "      <th>1956</th>\n",
              "      <th>1957</th>\n",
              "      <th>1958</th>\n",
              "      <th>1959</th>\n",
              "    </tr>\n",
              "    <tr>\n",
              "      <th>emotion</th>\n",
              "      <th></th>\n",
              "      <th></th>\n",
              "      <th></th>\n",
              "      <th></th>\n",
              "      <th></th>\n",
              "      <th></th>\n",
              "      <th></th>\n",
              "      <th></th>\n",
              "      <th></th>\n",
              "      <th></th>\n",
              "      <th></th>\n",
              "      <th></th>\n",
              "      <th></th>\n",
              "      <th></th>\n",
              "      <th></th>\n",
              "      <th></th>\n",
              "      <th></th>\n",
              "      <th></th>\n",
              "      <th></th>\n",
              "      <th></th>\n",
              "      <th></th>\n",
              "    </tr>\n",
              "  </thead>\n",
              "  <tbody>\n",
              "    <tr>\n",
              "      <th>Angry</th>\n",
              "      <td>3500</td>\n",
              "      <td>3500</td>\n",
              "      <td>3500</td>\n",
              "      <td>3500</td>\n",
              "      <td>3500</td>\n",
              "      <td>3500</td>\n",
              "      <td>3500</td>\n",
              "      <td>3500</td>\n",
              "      <td>3500</td>\n",
              "      <td>3500</td>\n",
              "      <td>...</td>\n",
              "      <td>3500</td>\n",
              "      <td>3500</td>\n",
              "      <td>3500</td>\n",
              "      <td>3500</td>\n",
              "      <td>3500</td>\n",
              "      <td>3500</td>\n",
              "      <td>3500</td>\n",
              "      <td>3500</td>\n",
              "      <td>3500</td>\n",
              "      <td>3500</td>\n",
              "    </tr>\n",
              "    <tr>\n",
              "      <th>Happy</th>\n",
              "      <td>3500</td>\n",
              "      <td>3500</td>\n",
              "      <td>3500</td>\n",
              "      <td>3500</td>\n",
              "      <td>3500</td>\n",
              "      <td>3500</td>\n",
              "      <td>3500</td>\n",
              "      <td>3500</td>\n",
              "      <td>3500</td>\n",
              "      <td>3500</td>\n",
              "      <td>...</td>\n",
              "      <td>3500</td>\n",
              "      <td>3500</td>\n",
              "      <td>3500</td>\n",
              "      <td>3500</td>\n",
              "      <td>3500</td>\n",
              "      <td>3500</td>\n",
              "      <td>3500</td>\n",
              "      <td>3500</td>\n",
              "      <td>3500</td>\n",
              "      <td>3500</td>\n",
              "    </tr>\n",
              "    <tr>\n",
              "      <th>Neutral</th>\n",
              "      <td>3500</td>\n",
              "      <td>3500</td>\n",
              "      <td>3500</td>\n",
              "      <td>3500</td>\n",
              "      <td>3500</td>\n",
              "      <td>3500</td>\n",
              "      <td>3500</td>\n",
              "      <td>3500</td>\n",
              "      <td>3500</td>\n",
              "      <td>3500</td>\n",
              "      <td>...</td>\n",
              "      <td>3500</td>\n",
              "      <td>3500</td>\n",
              "      <td>3500</td>\n",
              "      <td>3500</td>\n",
              "      <td>3500</td>\n",
              "      <td>3500</td>\n",
              "      <td>3500</td>\n",
              "      <td>3500</td>\n",
              "      <td>3500</td>\n",
              "      <td>3500</td>\n",
              "    </tr>\n",
              "    <tr>\n",
              "      <th>Sad</th>\n",
              "      <td>3500</td>\n",
              "      <td>3500</td>\n",
              "      <td>3500</td>\n",
              "      <td>3500</td>\n",
              "      <td>3500</td>\n",
              "      <td>3500</td>\n",
              "      <td>3500</td>\n",
              "      <td>3500</td>\n",
              "      <td>3500</td>\n",
              "      <td>3500</td>\n",
              "      <td>...</td>\n",
              "      <td>3500</td>\n",
              "      <td>3500</td>\n",
              "      <td>3500</td>\n",
              "      <td>3500</td>\n",
              "      <td>3500</td>\n",
              "      <td>3500</td>\n",
              "      <td>3500</td>\n",
              "      <td>3500</td>\n",
              "      <td>3500</td>\n",
              "      <td>3500</td>\n",
              "    </tr>\n",
              "    <tr>\n",
              "      <th>Surprise</th>\n",
              "      <td>3500</td>\n",
              "      <td>3500</td>\n",
              "      <td>3500</td>\n",
              "      <td>3500</td>\n",
              "      <td>3500</td>\n",
              "      <td>3500</td>\n",
              "      <td>3500</td>\n",
              "      <td>3500</td>\n",
              "      <td>3500</td>\n",
              "      <td>3500</td>\n",
              "      <td>...</td>\n",
              "      <td>3500</td>\n",
              "      <td>3500</td>\n",
              "      <td>3500</td>\n",
              "      <td>3500</td>\n",
              "      <td>3500</td>\n",
              "      <td>3500</td>\n",
              "      <td>3500</td>\n",
              "      <td>3500</td>\n",
              "      <td>3500</td>\n",
              "      <td>3500</td>\n",
              "    </tr>\n",
              "    <tr>\n",
              "      <th>angry</th>\n",
              "      <td>3287</td>\n",
              "      <td>3287</td>\n",
              "      <td>3287</td>\n",
              "      <td>3287</td>\n",
              "      <td>3287</td>\n",
              "      <td>3287</td>\n",
              "      <td>3287</td>\n",
              "      <td>3287</td>\n",
              "      <td>3287</td>\n",
              "      <td>3287</td>\n",
              "      <td>...</td>\n",
              "      <td>3287</td>\n",
              "      <td>3287</td>\n",
              "      <td>3287</td>\n",
              "      <td>3287</td>\n",
              "      <td>3287</td>\n",
              "      <td>3287</td>\n",
              "      <td>3287</td>\n",
              "      <td>3287</td>\n",
              "      <td>3287</td>\n",
              "      <td>3287</td>\n",
              "    </tr>\n",
              "    <tr>\n",
              "      <th>disgust</th>\n",
              "      <td>2378</td>\n",
              "      <td>2378</td>\n",
              "      <td>2378</td>\n",
              "      <td>2378</td>\n",
              "      <td>2378</td>\n",
              "      <td>2378</td>\n",
              "      <td>2378</td>\n",
              "      <td>2378</td>\n",
              "      <td>2378</td>\n",
              "      <td>2378</td>\n",
              "      <td>...</td>\n",
              "      <td>2378</td>\n",
              "      <td>2378</td>\n",
              "      <td>2378</td>\n",
              "      <td>2378</td>\n",
              "      <td>2378</td>\n",
              "      <td>2378</td>\n",
              "      <td>2378</td>\n",
              "      <td>2378</td>\n",
              "      <td>2378</td>\n",
              "      <td>2378</td>\n",
              "    </tr>\n",
              "    <tr>\n",
              "      <th>fearful</th>\n",
              "      <td>2792</td>\n",
              "      <td>2792</td>\n",
              "      <td>2792</td>\n",
              "      <td>2792</td>\n",
              "      <td>2792</td>\n",
              "      <td>2792</td>\n",
              "      <td>2792</td>\n",
              "      <td>2792</td>\n",
              "      <td>2792</td>\n",
              "      <td>2792</td>\n",
              "      <td>...</td>\n",
              "      <td>2792</td>\n",
              "      <td>2792</td>\n",
              "      <td>2792</td>\n",
              "      <td>2792</td>\n",
              "      <td>2792</td>\n",
              "      <td>2792</td>\n",
              "      <td>2792</td>\n",
              "      <td>2792</td>\n",
              "      <td>2792</td>\n",
              "      <td>2792</td>\n",
              "    </tr>\n",
              "    <tr>\n",
              "      <th>happy</th>\n",
              "      <td>3367</td>\n",
              "      <td>3367</td>\n",
              "      <td>3367</td>\n",
              "      <td>3367</td>\n",
              "      <td>3367</td>\n",
              "      <td>3367</td>\n",
              "      <td>3367</td>\n",
              "      <td>3367</td>\n",
              "      <td>3367</td>\n",
              "      <td>3367</td>\n",
              "      <td>...</td>\n",
              "      <td>3367</td>\n",
              "      <td>3367</td>\n",
              "      <td>3367</td>\n",
              "      <td>3367</td>\n",
              "      <td>3367</td>\n",
              "      <td>3367</td>\n",
              "      <td>3367</td>\n",
              "      <td>3367</td>\n",
              "      <td>3367</td>\n",
              "      <td>3367</td>\n",
              "    </tr>\n",
              "    <tr>\n",
              "      <th>neutral</th>\n",
              "      <td>2967</td>\n",
              "      <td>2967</td>\n",
              "      <td>2967</td>\n",
              "      <td>2967</td>\n",
              "      <td>2967</td>\n",
              "      <td>2967</td>\n",
              "      <td>2967</td>\n",
              "      <td>2967</td>\n",
              "      <td>2967</td>\n",
              "      <td>2967</td>\n",
              "      <td>...</td>\n",
              "      <td>2967</td>\n",
              "      <td>2967</td>\n",
              "      <td>2967</td>\n",
              "      <td>2967</td>\n",
              "      <td>2967</td>\n",
              "      <td>2967</td>\n",
              "      <td>2967</td>\n",
              "      <td>2967</td>\n",
              "      <td>2967</td>\n",
              "      <td>2967</td>\n",
              "    </tr>\n",
              "    <tr>\n",
              "      <th>sad</th>\n",
              "      <td>3217</td>\n",
              "      <td>3217</td>\n",
              "      <td>3217</td>\n",
              "      <td>3217</td>\n",
              "      <td>3217</td>\n",
              "      <td>3217</td>\n",
              "      <td>3217</td>\n",
              "      <td>3217</td>\n",
              "      <td>3217</td>\n",
              "      <td>3217</td>\n",
              "      <td>...</td>\n",
              "      <td>3217</td>\n",
              "      <td>3217</td>\n",
              "      <td>3217</td>\n",
              "      <td>3217</td>\n",
              "      <td>3217</td>\n",
              "      <td>3217</td>\n",
              "      <td>3217</td>\n",
              "      <td>3217</td>\n",
              "      <td>3217</td>\n",
              "      <td>3217</td>\n",
              "    </tr>\n",
              "    <tr>\n",
              "      <th>surprised</th>\n",
              "      <td>1695</td>\n",
              "      <td>1695</td>\n",
              "      <td>1695</td>\n",
              "      <td>1695</td>\n",
              "      <td>1695</td>\n",
              "      <td>1695</td>\n",
              "      <td>1695</td>\n",
              "      <td>1695</td>\n",
              "      <td>1695</td>\n",
              "      <td>1695</td>\n",
              "      <td>...</td>\n",
              "      <td>1695</td>\n",
              "      <td>1695</td>\n",
              "      <td>1695</td>\n",
              "      <td>1695</td>\n",
              "      <td>1695</td>\n",
              "      <td>1695</td>\n",
              "      <td>1695</td>\n",
              "      <td>1695</td>\n",
              "      <td>1695</td>\n",
              "      <td>1695</td>\n",
              "    </tr>\n",
              "  </tbody>\n",
              "</table>\n",
              "<p>12 rows × 1960 columns</p>\n",
              "</div>\n",
              "      <button class=\"colab-df-convert\" onclick=\"convertToInteractive('df-fdc37e66-ca45-4d5a-8210-858691e3b526')\"\n",
              "              title=\"Convert this dataframe to an interactive table.\"\n",
              "              style=\"display:none;\">\n",
              "        \n",
              "  <svg xmlns=\"http://www.w3.org/2000/svg\" height=\"24px\"viewBox=\"0 0 24 24\"\n",
              "       width=\"24px\">\n",
              "    <path d=\"M0 0h24v24H0V0z\" fill=\"none\"/>\n",
              "    <path d=\"M18.56 5.44l.94 2.06.94-2.06 2.06-.94-2.06-.94-.94-2.06-.94 2.06-2.06.94zm-11 1L8.5 8.5l.94-2.06 2.06-.94-2.06-.94L8.5 2.5l-.94 2.06-2.06.94zm10 10l.94 2.06.94-2.06 2.06-.94-2.06-.94-.94-2.06-.94 2.06-2.06.94z\"/><path d=\"M17.41 7.96l-1.37-1.37c-.4-.4-.92-.59-1.43-.59-.52 0-1.04.2-1.43.59L10.3 9.45l-7.72 7.72c-.78.78-.78 2.05 0 2.83L4 21.41c.39.39.9.59 1.41.59.51 0 1.02-.2 1.41-.59l7.78-7.78 2.81-2.81c.8-.78.8-2.07 0-2.86zM5.41 20L4 18.59l7.72-7.72 1.47 1.35L5.41 20z\"/>\n",
              "  </svg>\n",
              "      </button>\n",
              "      \n",
              "  <style>\n",
              "    .colab-df-container {\n",
              "      display:flex;\n",
              "      flex-wrap:wrap;\n",
              "      gap: 12px;\n",
              "    }\n",
              "\n",
              "    .colab-df-convert {\n",
              "      background-color: #E8F0FE;\n",
              "      border: none;\n",
              "      border-radius: 50%;\n",
              "      cursor: pointer;\n",
              "      display: none;\n",
              "      fill: #1967D2;\n",
              "      height: 32px;\n",
              "      padding: 0 0 0 0;\n",
              "      width: 32px;\n",
              "    }\n",
              "\n",
              "    .colab-df-convert:hover {\n",
              "      background-color: #E2EBFA;\n",
              "      box-shadow: 0px 1px 2px rgba(60, 64, 67, 0.3), 0px 1px 3px 1px rgba(60, 64, 67, 0.15);\n",
              "      fill: #174EA6;\n",
              "    }\n",
              "\n",
              "    [theme=dark] .colab-df-convert {\n",
              "      background-color: #3B4455;\n",
              "      fill: #D2E3FC;\n",
              "    }\n",
              "\n",
              "    [theme=dark] .colab-df-convert:hover {\n",
              "      background-color: #434B5C;\n",
              "      box-shadow: 0px 1px 3px 1px rgba(0, 0, 0, 0.15);\n",
              "      filter: drop-shadow(0px 1px 2px rgba(0, 0, 0, 0.3));\n",
              "      fill: #FFFFFF;\n",
              "    }\n",
              "  </style>\n",
              "\n",
              "      <script>\n",
              "        const buttonEl =\n",
              "          document.querySelector('#df-fdc37e66-ca45-4d5a-8210-858691e3b526 button.colab-df-convert');\n",
              "        buttonEl.style.display =\n",
              "          google.colab.kernel.accessAllowed ? 'block' : 'none';\n",
              "\n",
              "        async function convertToInteractive(key) {\n",
              "          const element = document.querySelector('#df-fdc37e66-ca45-4d5a-8210-858691e3b526');\n",
              "          const dataTable =\n",
              "            await google.colab.kernel.invokeFunction('convertToInteractive',\n",
              "                                                     [key], {});\n",
              "          if (!dataTable) return;\n",
              "\n",
              "          const docLinkHtml = 'Like what you see? Visit the ' +\n",
              "            '<a target=\"_blank\" href=https://colab.research.google.com/notebooks/data_table.ipynb>data table notebook</a>'\n",
              "            + ' to learn more about interactive tables.';\n",
              "          element.innerHTML = '';\n",
              "          dataTable['output_type'] = 'display_data';\n",
              "          await google.colab.output.renderOutput(dataTable, element);\n",
              "          const docLink = document.createElement('div');\n",
              "          docLink.innerHTML = docLinkHtml;\n",
              "          element.appendChild(docLink);\n",
              "        }\n",
              "      </script>\n",
              "    </div>\n",
              "  </div>\n",
              "  "
            ]
          },
          "metadata": {},
          "execution_count": 110
        }
      ]
    },
    {
      "cell_type": "code",
      "source": [
        "df_final = df"
      ],
      "metadata": {
        "id": "NuIaMhTPfMNZ"
      },
      "execution_count": null,
      "outputs": []
    },
    {
      "cell_type": "code",
      "source": [
        "df_final['emotion'][df_final['emotion']=='Angry'] = \"angry\"\n",
        "df_final['emotion'][df_final['emotion']=='Happy'] = \"happy\"\n",
        "df_final['emotion'][df_final['emotion']=='Neutral'] = \"neutral\"\n",
        "df_final['emotion'][df_final['emotion']=='Sad'] = \"sad\"\n",
        "df_final['emotion'][df_final['emotion']=='Surprise'] = \"surprised\""
      ],
      "metadata": {
        "colab": {
          "base_uri": "https://localhost:8080/"
        },
        "id": "rna2-TzBfPft",
        "outputId": "ff8199db-735b-452f-d8b6-46f2d6bbdf8f"
      },
      "execution_count": null,
      "outputs": [
        {
          "output_type": "stream",
          "name": "stderr",
          "text": [
            "<ipython-input-111-ec435d48dc19>:2: SettingWithCopyWarning: \n",
            "A value is trying to be set on a copy of a slice from a DataFrame\n",
            "\n",
            "See the caveats in the documentation: https://pandas.pydata.org/pandas-docs/stable/user_guide/indexing.html#returning-a-view-versus-a-copy\n",
            "  df_final['emotion'][df_final['emotion']=='Happy'] = \"happy\"\n",
            "<ipython-input-111-ec435d48dc19>:3: SettingWithCopyWarning: \n",
            "A value is trying to be set on a copy of a slice from a DataFrame\n",
            "\n",
            "See the caveats in the documentation: https://pandas.pydata.org/pandas-docs/stable/user_guide/indexing.html#returning-a-view-versus-a-copy\n",
            "  df_final['emotion'][df_final['emotion']=='Neutral'] = \"neutral\"\n",
            "<ipython-input-111-ec435d48dc19>:4: SettingWithCopyWarning: \n",
            "A value is trying to be set on a copy of a slice from a DataFrame\n",
            "\n",
            "See the caveats in the documentation: https://pandas.pydata.org/pandas-docs/stable/user_guide/indexing.html#returning-a-view-versus-a-copy\n",
            "  df_final['emotion'][df_final['emotion']=='Sad'] = \"sad\"\n",
            "<ipython-input-111-ec435d48dc19>:5: SettingWithCopyWarning: \n",
            "A value is trying to be set on a copy of a slice from a DataFrame\n",
            "\n",
            "See the caveats in the documentation: https://pandas.pydata.org/pandas-docs/stable/user_guide/indexing.html#returning-a-view-versus-a-copy\n",
            "  df_final['emotion'][df_final['emotion']=='Surprise'] = \"surprised\"\n"
          ]
        }
      ]
    },
    {
      "cell_type": "code",
      "source": [
        "df_final.groupby('emotion').count()"
      ],
      "metadata": {
        "colab": {
          "base_uri": "https://localhost:8080/",
          "height": 394
        },
        "id": "YszLBlzifPmb",
        "outputId": "6291d7d8-1c79-45d8-9e53-9d1fd3f31596"
      },
      "execution_count": null,
      "outputs": [
        {
          "output_type": "execute_result",
          "data": {
            "text/plain": [
              "           0     1     2     3     4     5     6     7     8     9     ...  \\\n",
              "emotion                                                                ...   \n",
              "angry      6787  6787  6787  6787  6787  6787  6787  6787  6787  6787  ...   \n",
              "disgust    2378  2378  2378  2378  2378  2378  2378  2378  2378  2378  ...   \n",
              "fearful    2792  2792  2792  2792  2792  2792  2792  2792  2792  2792  ...   \n",
              "happy      6867  6867  6867  6867  6867  6867  6867  6867  6867  6867  ...   \n",
              "neutral    6467  6467  6467  6467  6467  6467  6467  6467  6467  6467  ...   \n",
              "sad        6717  6717  6717  6717  6717  6717  6717  6717  6717  6717  ...   \n",
              "surprised  5195  5195  5195  5195  5195  5195  5195  5195  5195  5195  ...   \n",
              "\n",
              "           1950  1951  1952  1953  1954  1955  1956  1957  1958  1959  \n",
              "emotion                                                                \n",
              "angry      6787  6787  6787  6787  6787  6787  6787  6787  6787  6787  \n",
              "disgust    2378  2378  2378  2378  2378  2378  2378  2378  2378  2378  \n",
              "fearful    2792  2792  2792  2792  2792  2792  2792  2792  2792  2792  \n",
              "happy      6867  6867  6867  6867  6867  6867  6867  6867  6867  6867  \n",
              "neutral    6467  6467  6467  6467  6467  6467  6467  6467  6467  6467  \n",
              "sad        6717  6717  6717  6717  6717  6717  6717  6717  6717  6717  \n",
              "surprised  5195  5195  5195  5195  5195  5195  5195  5195  5195  5195  \n",
              "\n",
              "[7 rows x 1960 columns]"
            ],
            "text/html": [
              "\n",
              "  <div id=\"df-797768f1-049b-49a7-9734-2610c2ab811a\">\n",
              "    <div class=\"colab-df-container\">\n",
              "      <div>\n",
              "<style scoped>\n",
              "    .dataframe tbody tr th:only-of-type {\n",
              "        vertical-align: middle;\n",
              "    }\n",
              "\n",
              "    .dataframe tbody tr th {\n",
              "        vertical-align: top;\n",
              "    }\n",
              "\n",
              "    .dataframe thead th {\n",
              "        text-align: right;\n",
              "    }\n",
              "</style>\n",
              "<table border=\"1\" class=\"dataframe\">\n",
              "  <thead>\n",
              "    <tr style=\"text-align: right;\">\n",
              "      <th></th>\n",
              "      <th>0</th>\n",
              "      <th>1</th>\n",
              "      <th>2</th>\n",
              "      <th>3</th>\n",
              "      <th>4</th>\n",
              "      <th>5</th>\n",
              "      <th>6</th>\n",
              "      <th>7</th>\n",
              "      <th>8</th>\n",
              "      <th>9</th>\n",
              "      <th>...</th>\n",
              "      <th>1950</th>\n",
              "      <th>1951</th>\n",
              "      <th>1952</th>\n",
              "      <th>1953</th>\n",
              "      <th>1954</th>\n",
              "      <th>1955</th>\n",
              "      <th>1956</th>\n",
              "      <th>1957</th>\n",
              "      <th>1958</th>\n",
              "      <th>1959</th>\n",
              "    </tr>\n",
              "    <tr>\n",
              "      <th>emotion</th>\n",
              "      <th></th>\n",
              "      <th></th>\n",
              "      <th></th>\n",
              "      <th></th>\n",
              "      <th></th>\n",
              "      <th></th>\n",
              "      <th></th>\n",
              "      <th></th>\n",
              "      <th></th>\n",
              "      <th></th>\n",
              "      <th></th>\n",
              "      <th></th>\n",
              "      <th></th>\n",
              "      <th></th>\n",
              "      <th></th>\n",
              "      <th></th>\n",
              "      <th></th>\n",
              "      <th></th>\n",
              "      <th></th>\n",
              "      <th></th>\n",
              "      <th></th>\n",
              "    </tr>\n",
              "  </thead>\n",
              "  <tbody>\n",
              "    <tr>\n",
              "      <th>angry</th>\n",
              "      <td>6787</td>\n",
              "      <td>6787</td>\n",
              "      <td>6787</td>\n",
              "      <td>6787</td>\n",
              "      <td>6787</td>\n",
              "      <td>6787</td>\n",
              "      <td>6787</td>\n",
              "      <td>6787</td>\n",
              "      <td>6787</td>\n",
              "      <td>6787</td>\n",
              "      <td>...</td>\n",
              "      <td>6787</td>\n",
              "      <td>6787</td>\n",
              "      <td>6787</td>\n",
              "      <td>6787</td>\n",
              "      <td>6787</td>\n",
              "      <td>6787</td>\n",
              "      <td>6787</td>\n",
              "      <td>6787</td>\n",
              "      <td>6787</td>\n",
              "      <td>6787</td>\n",
              "    </tr>\n",
              "    <tr>\n",
              "      <th>disgust</th>\n",
              "      <td>2378</td>\n",
              "      <td>2378</td>\n",
              "      <td>2378</td>\n",
              "      <td>2378</td>\n",
              "      <td>2378</td>\n",
              "      <td>2378</td>\n",
              "      <td>2378</td>\n",
              "      <td>2378</td>\n",
              "      <td>2378</td>\n",
              "      <td>2378</td>\n",
              "      <td>...</td>\n",
              "      <td>2378</td>\n",
              "      <td>2378</td>\n",
              "      <td>2378</td>\n",
              "      <td>2378</td>\n",
              "      <td>2378</td>\n",
              "      <td>2378</td>\n",
              "      <td>2378</td>\n",
              "      <td>2378</td>\n",
              "      <td>2378</td>\n",
              "      <td>2378</td>\n",
              "    </tr>\n",
              "    <tr>\n",
              "      <th>fearful</th>\n",
              "      <td>2792</td>\n",
              "      <td>2792</td>\n",
              "      <td>2792</td>\n",
              "      <td>2792</td>\n",
              "      <td>2792</td>\n",
              "      <td>2792</td>\n",
              "      <td>2792</td>\n",
              "      <td>2792</td>\n",
              "      <td>2792</td>\n",
              "      <td>2792</td>\n",
              "      <td>...</td>\n",
              "      <td>2792</td>\n",
              "      <td>2792</td>\n",
              "      <td>2792</td>\n",
              "      <td>2792</td>\n",
              "      <td>2792</td>\n",
              "      <td>2792</td>\n",
              "      <td>2792</td>\n",
              "      <td>2792</td>\n",
              "      <td>2792</td>\n",
              "      <td>2792</td>\n",
              "    </tr>\n",
              "    <tr>\n",
              "      <th>happy</th>\n",
              "      <td>6867</td>\n",
              "      <td>6867</td>\n",
              "      <td>6867</td>\n",
              "      <td>6867</td>\n",
              "      <td>6867</td>\n",
              "      <td>6867</td>\n",
              "      <td>6867</td>\n",
              "      <td>6867</td>\n",
              "      <td>6867</td>\n",
              "      <td>6867</td>\n",
              "      <td>...</td>\n",
              "      <td>6867</td>\n",
              "      <td>6867</td>\n",
              "      <td>6867</td>\n",
              "      <td>6867</td>\n",
              "      <td>6867</td>\n",
              "      <td>6867</td>\n",
              "      <td>6867</td>\n",
              "      <td>6867</td>\n",
              "      <td>6867</td>\n",
              "      <td>6867</td>\n",
              "    </tr>\n",
              "    <tr>\n",
              "      <th>neutral</th>\n",
              "      <td>6467</td>\n",
              "      <td>6467</td>\n",
              "      <td>6467</td>\n",
              "      <td>6467</td>\n",
              "      <td>6467</td>\n",
              "      <td>6467</td>\n",
              "      <td>6467</td>\n",
              "      <td>6467</td>\n",
              "      <td>6467</td>\n",
              "      <td>6467</td>\n",
              "      <td>...</td>\n",
              "      <td>6467</td>\n",
              "      <td>6467</td>\n",
              "      <td>6467</td>\n",
              "      <td>6467</td>\n",
              "      <td>6467</td>\n",
              "      <td>6467</td>\n",
              "      <td>6467</td>\n",
              "      <td>6467</td>\n",
              "      <td>6467</td>\n",
              "      <td>6467</td>\n",
              "    </tr>\n",
              "    <tr>\n",
              "      <th>sad</th>\n",
              "      <td>6717</td>\n",
              "      <td>6717</td>\n",
              "      <td>6717</td>\n",
              "      <td>6717</td>\n",
              "      <td>6717</td>\n",
              "      <td>6717</td>\n",
              "      <td>6717</td>\n",
              "      <td>6717</td>\n",
              "      <td>6717</td>\n",
              "      <td>6717</td>\n",
              "      <td>...</td>\n",
              "      <td>6717</td>\n",
              "      <td>6717</td>\n",
              "      <td>6717</td>\n",
              "      <td>6717</td>\n",
              "      <td>6717</td>\n",
              "      <td>6717</td>\n",
              "      <td>6717</td>\n",
              "      <td>6717</td>\n",
              "      <td>6717</td>\n",
              "      <td>6717</td>\n",
              "    </tr>\n",
              "    <tr>\n",
              "      <th>surprised</th>\n",
              "      <td>5195</td>\n",
              "      <td>5195</td>\n",
              "      <td>5195</td>\n",
              "      <td>5195</td>\n",
              "      <td>5195</td>\n",
              "      <td>5195</td>\n",
              "      <td>5195</td>\n",
              "      <td>5195</td>\n",
              "      <td>5195</td>\n",
              "      <td>5195</td>\n",
              "      <td>...</td>\n",
              "      <td>5195</td>\n",
              "      <td>5195</td>\n",
              "      <td>5195</td>\n",
              "      <td>5195</td>\n",
              "      <td>5195</td>\n",
              "      <td>5195</td>\n",
              "      <td>5195</td>\n",
              "      <td>5195</td>\n",
              "      <td>5195</td>\n",
              "      <td>5195</td>\n",
              "    </tr>\n",
              "  </tbody>\n",
              "</table>\n",
              "<p>7 rows × 1960 columns</p>\n",
              "</div>\n",
              "      <button class=\"colab-df-convert\" onclick=\"convertToInteractive('df-797768f1-049b-49a7-9734-2610c2ab811a')\"\n",
              "              title=\"Convert this dataframe to an interactive table.\"\n",
              "              style=\"display:none;\">\n",
              "        \n",
              "  <svg xmlns=\"http://www.w3.org/2000/svg\" height=\"24px\"viewBox=\"0 0 24 24\"\n",
              "       width=\"24px\">\n",
              "    <path d=\"M0 0h24v24H0V0z\" fill=\"none\"/>\n",
              "    <path d=\"M18.56 5.44l.94 2.06.94-2.06 2.06-.94-2.06-.94-.94-2.06-.94 2.06-2.06.94zm-11 1L8.5 8.5l.94-2.06 2.06-.94-2.06-.94L8.5 2.5l-.94 2.06-2.06.94zm10 10l.94 2.06.94-2.06 2.06-.94-2.06-.94-.94-2.06-.94 2.06-2.06.94z\"/><path d=\"M17.41 7.96l-1.37-1.37c-.4-.4-.92-.59-1.43-.59-.52 0-1.04.2-1.43.59L10.3 9.45l-7.72 7.72c-.78.78-.78 2.05 0 2.83L4 21.41c.39.39.9.59 1.41.59.51 0 1.02-.2 1.41-.59l7.78-7.78 2.81-2.81c.8-.78.8-2.07 0-2.86zM5.41 20L4 18.59l7.72-7.72 1.47 1.35L5.41 20z\"/>\n",
              "  </svg>\n",
              "      </button>\n",
              "      \n",
              "  <style>\n",
              "    .colab-df-container {\n",
              "      display:flex;\n",
              "      flex-wrap:wrap;\n",
              "      gap: 12px;\n",
              "    }\n",
              "\n",
              "    .colab-df-convert {\n",
              "      background-color: #E8F0FE;\n",
              "      border: none;\n",
              "      border-radius: 50%;\n",
              "      cursor: pointer;\n",
              "      display: none;\n",
              "      fill: #1967D2;\n",
              "      height: 32px;\n",
              "      padding: 0 0 0 0;\n",
              "      width: 32px;\n",
              "    }\n",
              "\n",
              "    .colab-df-convert:hover {\n",
              "      background-color: #E2EBFA;\n",
              "      box-shadow: 0px 1px 2px rgba(60, 64, 67, 0.3), 0px 1px 3px 1px rgba(60, 64, 67, 0.15);\n",
              "      fill: #174EA6;\n",
              "    }\n",
              "\n",
              "    [theme=dark] .colab-df-convert {\n",
              "      background-color: #3B4455;\n",
              "      fill: #D2E3FC;\n",
              "    }\n",
              "\n",
              "    [theme=dark] .colab-df-convert:hover {\n",
              "      background-color: #434B5C;\n",
              "      box-shadow: 0px 1px 3px 1px rgba(0, 0, 0, 0.15);\n",
              "      filter: drop-shadow(0px 1px 2px rgba(0, 0, 0, 0.3));\n",
              "      fill: #FFFFFF;\n",
              "    }\n",
              "  </style>\n",
              "\n",
              "      <script>\n",
              "        const buttonEl =\n",
              "          document.querySelector('#df-797768f1-049b-49a7-9734-2610c2ab811a button.colab-df-convert');\n",
              "        buttonEl.style.display =\n",
              "          google.colab.kernel.accessAllowed ? 'block' : 'none';\n",
              "\n",
              "        async function convertToInteractive(key) {\n",
              "          const element = document.querySelector('#df-797768f1-049b-49a7-9734-2610c2ab811a');\n",
              "          const dataTable =\n",
              "            await google.colab.kernel.invokeFunction('convertToInteractive',\n",
              "                                                     [key], {});\n",
              "          if (!dataTable) return;\n",
              "\n",
              "          const docLinkHtml = 'Like what you see? Visit the ' +\n",
              "            '<a target=\"_blank\" href=https://colab.research.google.com/notebooks/data_table.ipynb>data table notebook</a>'\n",
              "            + ' to learn more about interactive tables.';\n",
              "          element.innerHTML = '';\n",
              "          dataTable['output_type'] = 'display_data';\n",
              "          await google.colab.output.renderOutput(dataTable, element);\n",
              "          const docLink = document.createElement('div');\n",
              "          docLink.innerHTML = docLinkHtml;\n",
              "          element.appendChild(docLink);\n",
              "        }\n",
              "      </script>\n",
              "    </div>\n",
              "  </div>\n",
              "  "
            ]
          },
          "metadata": {},
          "execution_count": 112
        }
      ]
    },
    {
      "cell_type": "code",
      "source": [
        "\n",
        "df = df_final[(df_final['emotion']!='fearful') & (df_final['emotion']!='calm') & (df_final['emotion']!='excited') & (df_final['emotion']!='disappointment') & (df_final['emotion']!='pain') & (df_final['emotion']!='pleasure') ]"
      ],
      "metadata": {
        "id": "zYdY-t9hfPtW"
      },
      "execution_count": null,
      "outputs": []
    },
    {
      "cell_type": "code",
      "source": [],
      "metadata": {
        "id": "NJjYRmEIgK01"
      },
      "execution_count": null,
      "outputs": []
    },
    {
      "cell_type": "code",
      "source": [
        "df_final.groupby('emotion').count()"
      ],
      "metadata": {
        "colab": {
          "base_uri": "https://localhost:8080/",
          "height": 394
        },
        "id": "KP24FgEIgKyy",
        "outputId": "0916deb5-3a78-4082-d8dd-7b16a84b8930"
      },
      "execution_count": null,
      "outputs": [
        {
          "output_type": "execute_result",
          "data": {
            "text/plain": [
              "           0     1     2     3     4     5     6     7     8     9     ...  \\\n",
              "emotion                                                                ...   \n",
              "angry      6787  6787  6787  6787  6787  6787  6787  6787  6787  6787  ...   \n",
              "disgust    2378  2378  2378  2378  2378  2378  2378  2378  2378  2378  ...   \n",
              "fearful    2792  2792  2792  2792  2792  2792  2792  2792  2792  2792  ...   \n",
              "happy      6867  6867  6867  6867  6867  6867  6867  6867  6867  6867  ...   \n",
              "neutral    6467  6467  6467  6467  6467  6467  6467  6467  6467  6467  ...   \n",
              "sad        6717  6717  6717  6717  6717  6717  6717  6717  6717  6717  ...   \n",
              "surprised  5195  5195  5195  5195  5195  5195  5195  5195  5195  5195  ...   \n",
              "\n",
              "           1950  1951  1952  1953  1954  1955  1956  1957  1958  1959  \n",
              "emotion                                                                \n",
              "angry      6787  6787  6787  6787  6787  6787  6787  6787  6787  6787  \n",
              "disgust    2378  2378  2378  2378  2378  2378  2378  2378  2378  2378  \n",
              "fearful    2792  2792  2792  2792  2792  2792  2792  2792  2792  2792  \n",
              "happy      6867  6867  6867  6867  6867  6867  6867  6867  6867  6867  \n",
              "neutral    6467  6467  6467  6467  6467  6467  6467  6467  6467  6467  \n",
              "sad        6717  6717  6717  6717  6717  6717  6717  6717  6717  6717  \n",
              "surprised  5195  5195  5195  5195  5195  5195  5195  5195  5195  5195  \n",
              "\n",
              "[7 rows x 1960 columns]"
            ],
            "text/html": [
              "\n",
              "  <div id=\"df-80c911d3-52b7-40fc-a305-f2c30ff94296\">\n",
              "    <div class=\"colab-df-container\">\n",
              "      <div>\n",
              "<style scoped>\n",
              "    .dataframe tbody tr th:only-of-type {\n",
              "        vertical-align: middle;\n",
              "    }\n",
              "\n",
              "    .dataframe tbody tr th {\n",
              "        vertical-align: top;\n",
              "    }\n",
              "\n",
              "    .dataframe thead th {\n",
              "        text-align: right;\n",
              "    }\n",
              "</style>\n",
              "<table border=\"1\" class=\"dataframe\">\n",
              "  <thead>\n",
              "    <tr style=\"text-align: right;\">\n",
              "      <th></th>\n",
              "      <th>0</th>\n",
              "      <th>1</th>\n",
              "      <th>2</th>\n",
              "      <th>3</th>\n",
              "      <th>4</th>\n",
              "      <th>5</th>\n",
              "      <th>6</th>\n",
              "      <th>7</th>\n",
              "      <th>8</th>\n",
              "      <th>9</th>\n",
              "      <th>...</th>\n",
              "      <th>1950</th>\n",
              "      <th>1951</th>\n",
              "      <th>1952</th>\n",
              "      <th>1953</th>\n",
              "      <th>1954</th>\n",
              "      <th>1955</th>\n",
              "      <th>1956</th>\n",
              "      <th>1957</th>\n",
              "      <th>1958</th>\n",
              "      <th>1959</th>\n",
              "    </tr>\n",
              "    <tr>\n",
              "      <th>emotion</th>\n",
              "      <th></th>\n",
              "      <th></th>\n",
              "      <th></th>\n",
              "      <th></th>\n",
              "      <th></th>\n",
              "      <th></th>\n",
              "      <th></th>\n",
              "      <th></th>\n",
              "      <th></th>\n",
              "      <th></th>\n",
              "      <th></th>\n",
              "      <th></th>\n",
              "      <th></th>\n",
              "      <th></th>\n",
              "      <th></th>\n",
              "      <th></th>\n",
              "      <th></th>\n",
              "      <th></th>\n",
              "      <th></th>\n",
              "      <th></th>\n",
              "      <th></th>\n",
              "    </tr>\n",
              "  </thead>\n",
              "  <tbody>\n",
              "    <tr>\n",
              "      <th>angry</th>\n",
              "      <td>6787</td>\n",
              "      <td>6787</td>\n",
              "      <td>6787</td>\n",
              "      <td>6787</td>\n",
              "      <td>6787</td>\n",
              "      <td>6787</td>\n",
              "      <td>6787</td>\n",
              "      <td>6787</td>\n",
              "      <td>6787</td>\n",
              "      <td>6787</td>\n",
              "      <td>...</td>\n",
              "      <td>6787</td>\n",
              "      <td>6787</td>\n",
              "      <td>6787</td>\n",
              "      <td>6787</td>\n",
              "      <td>6787</td>\n",
              "      <td>6787</td>\n",
              "      <td>6787</td>\n",
              "      <td>6787</td>\n",
              "      <td>6787</td>\n",
              "      <td>6787</td>\n",
              "    </tr>\n",
              "    <tr>\n",
              "      <th>disgust</th>\n",
              "      <td>2378</td>\n",
              "      <td>2378</td>\n",
              "      <td>2378</td>\n",
              "      <td>2378</td>\n",
              "      <td>2378</td>\n",
              "      <td>2378</td>\n",
              "      <td>2378</td>\n",
              "      <td>2378</td>\n",
              "      <td>2378</td>\n",
              "      <td>2378</td>\n",
              "      <td>...</td>\n",
              "      <td>2378</td>\n",
              "      <td>2378</td>\n",
              "      <td>2378</td>\n",
              "      <td>2378</td>\n",
              "      <td>2378</td>\n",
              "      <td>2378</td>\n",
              "      <td>2378</td>\n",
              "      <td>2378</td>\n",
              "      <td>2378</td>\n",
              "      <td>2378</td>\n",
              "    </tr>\n",
              "    <tr>\n",
              "      <th>fearful</th>\n",
              "      <td>2792</td>\n",
              "      <td>2792</td>\n",
              "      <td>2792</td>\n",
              "      <td>2792</td>\n",
              "      <td>2792</td>\n",
              "      <td>2792</td>\n",
              "      <td>2792</td>\n",
              "      <td>2792</td>\n",
              "      <td>2792</td>\n",
              "      <td>2792</td>\n",
              "      <td>...</td>\n",
              "      <td>2792</td>\n",
              "      <td>2792</td>\n",
              "      <td>2792</td>\n",
              "      <td>2792</td>\n",
              "      <td>2792</td>\n",
              "      <td>2792</td>\n",
              "      <td>2792</td>\n",
              "      <td>2792</td>\n",
              "      <td>2792</td>\n",
              "      <td>2792</td>\n",
              "    </tr>\n",
              "    <tr>\n",
              "      <th>happy</th>\n",
              "      <td>6867</td>\n",
              "      <td>6867</td>\n",
              "      <td>6867</td>\n",
              "      <td>6867</td>\n",
              "      <td>6867</td>\n",
              "      <td>6867</td>\n",
              "      <td>6867</td>\n",
              "      <td>6867</td>\n",
              "      <td>6867</td>\n",
              "      <td>6867</td>\n",
              "      <td>...</td>\n",
              "      <td>6867</td>\n",
              "      <td>6867</td>\n",
              "      <td>6867</td>\n",
              "      <td>6867</td>\n",
              "      <td>6867</td>\n",
              "      <td>6867</td>\n",
              "      <td>6867</td>\n",
              "      <td>6867</td>\n",
              "      <td>6867</td>\n",
              "      <td>6867</td>\n",
              "    </tr>\n",
              "    <tr>\n",
              "      <th>neutral</th>\n",
              "      <td>6467</td>\n",
              "      <td>6467</td>\n",
              "      <td>6467</td>\n",
              "      <td>6467</td>\n",
              "      <td>6467</td>\n",
              "      <td>6467</td>\n",
              "      <td>6467</td>\n",
              "      <td>6467</td>\n",
              "      <td>6467</td>\n",
              "      <td>6467</td>\n",
              "      <td>...</td>\n",
              "      <td>6467</td>\n",
              "      <td>6467</td>\n",
              "      <td>6467</td>\n",
              "      <td>6467</td>\n",
              "      <td>6467</td>\n",
              "      <td>6467</td>\n",
              "      <td>6467</td>\n",
              "      <td>6467</td>\n",
              "      <td>6467</td>\n",
              "      <td>6467</td>\n",
              "    </tr>\n",
              "    <tr>\n",
              "      <th>sad</th>\n",
              "      <td>6717</td>\n",
              "      <td>6717</td>\n",
              "      <td>6717</td>\n",
              "      <td>6717</td>\n",
              "      <td>6717</td>\n",
              "      <td>6717</td>\n",
              "      <td>6717</td>\n",
              "      <td>6717</td>\n",
              "      <td>6717</td>\n",
              "      <td>6717</td>\n",
              "      <td>...</td>\n",
              "      <td>6717</td>\n",
              "      <td>6717</td>\n",
              "      <td>6717</td>\n",
              "      <td>6717</td>\n",
              "      <td>6717</td>\n",
              "      <td>6717</td>\n",
              "      <td>6717</td>\n",
              "      <td>6717</td>\n",
              "      <td>6717</td>\n",
              "      <td>6717</td>\n",
              "    </tr>\n",
              "    <tr>\n",
              "      <th>surprised</th>\n",
              "      <td>5195</td>\n",
              "      <td>5195</td>\n",
              "      <td>5195</td>\n",
              "      <td>5195</td>\n",
              "      <td>5195</td>\n",
              "      <td>5195</td>\n",
              "      <td>5195</td>\n",
              "      <td>5195</td>\n",
              "      <td>5195</td>\n",
              "      <td>5195</td>\n",
              "      <td>...</td>\n",
              "      <td>5195</td>\n",
              "      <td>5195</td>\n",
              "      <td>5195</td>\n",
              "      <td>5195</td>\n",
              "      <td>5195</td>\n",
              "      <td>5195</td>\n",
              "      <td>5195</td>\n",
              "      <td>5195</td>\n",
              "      <td>5195</td>\n",
              "      <td>5195</td>\n",
              "    </tr>\n",
              "  </tbody>\n",
              "</table>\n",
              "<p>7 rows × 1960 columns</p>\n",
              "</div>\n",
              "      <button class=\"colab-df-convert\" onclick=\"convertToInteractive('df-80c911d3-52b7-40fc-a305-f2c30ff94296')\"\n",
              "              title=\"Convert this dataframe to an interactive table.\"\n",
              "              style=\"display:none;\">\n",
              "        \n",
              "  <svg xmlns=\"http://www.w3.org/2000/svg\" height=\"24px\"viewBox=\"0 0 24 24\"\n",
              "       width=\"24px\">\n",
              "    <path d=\"M0 0h24v24H0V0z\" fill=\"none\"/>\n",
              "    <path d=\"M18.56 5.44l.94 2.06.94-2.06 2.06-.94-2.06-.94-.94-2.06-.94 2.06-2.06.94zm-11 1L8.5 8.5l.94-2.06 2.06-.94-2.06-.94L8.5 2.5l-.94 2.06-2.06.94zm10 10l.94 2.06.94-2.06 2.06-.94-2.06-.94-.94-2.06-.94 2.06-2.06.94z\"/><path d=\"M17.41 7.96l-1.37-1.37c-.4-.4-.92-.59-1.43-.59-.52 0-1.04.2-1.43.59L10.3 9.45l-7.72 7.72c-.78.78-.78 2.05 0 2.83L4 21.41c.39.39.9.59 1.41.59.51 0 1.02-.2 1.41-.59l7.78-7.78 2.81-2.81c.8-.78.8-2.07 0-2.86zM5.41 20L4 18.59l7.72-7.72 1.47 1.35L5.41 20z\"/>\n",
              "  </svg>\n",
              "      </button>\n",
              "      \n",
              "  <style>\n",
              "    .colab-df-container {\n",
              "      display:flex;\n",
              "      flex-wrap:wrap;\n",
              "      gap: 12px;\n",
              "    }\n",
              "\n",
              "    .colab-df-convert {\n",
              "      background-color: #E8F0FE;\n",
              "      border: none;\n",
              "      border-radius: 50%;\n",
              "      cursor: pointer;\n",
              "      display: none;\n",
              "      fill: #1967D2;\n",
              "      height: 32px;\n",
              "      padding: 0 0 0 0;\n",
              "      width: 32px;\n",
              "    }\n",
              "\n",
              "    .colab-df-convert:hover {\n",
              "      background-color: #E2EBFA;\n",
              "      box-shadow: 0px 1px 2px rgba(60, 64, 67, 0.3), 0px 1px 3px 1px rgba(60, 64, 67, 0.15);\n",
              "      fill: #174EA6;\n",
              "    }\n",
              "\n",
              "    [theme=dark] .colab-df-convert {\n",
              "      background-color: #3B4455;\n",
              "      fill: #D2E3FC;\n",
              "    }\n",
              "\n",
              "    [theme=dark] .colab-df-convert:hover {\n",
              "      background-color: #434B5C;\n",
              "      box-shadow: 0px 1px 3px 1px rgba(0, 0, 0, 0.15);\n",
              "      filter: drop-shadow(0px 1px 2px rgba(0, 0, 0, 0.3));\n",
              "      fill: #FFFFFF;\n",
              "    }\n",
              "  </style>\n",
              "\n",
              "      <script>\n",
              "        const buttonEl =\n",
              "          document.querySelector('#df-80c911d3-52b7-40fc-a305-f2c30ff94296 button.colab-df-convert');\n",
              "        buttonEl.style.display =\n",
              "          google.colab.kernel.accessAllowed ? 'block' : 'none';\n",
              "\n",
              "        async function convertToInteractive(key) {\n",
              "          const element = document.querySelector('#df-80c911d3-52b7-40fc-a305-f2c30ff94296');\n",
              "          const dataTable =\n",
              "            await google.colab.kernel.invokeFunction('convertToInteractive',\n",
              "                                                     [key], {});\n",
              "          if (!dataTable) return;\n",
              "\n",
              "          const docLinkHtml = 'Like what you see? Visit the ' +\n",
              "            '<a target=\"_blank\" href=https://colab.research.google.com/notebooks/data_table.ipynb>data table notebook</a>'\n",
              "            + ' to learn more about interactive tables.';\n",
              "          element.innerHTML = '';\n",
              "          dataTable['output_type'] = 'display_data';\n",
              "          await google.colab.output.renderOutput(dataTable, element);\n",
              "          const docLink = document.createElement('div');\n",
              "          docLink.innerHTML = docLinkHtml;\n",
              "          element.appendChild(docLink);\n",
              "        }\n",
              "      </script>\n",
              "    </div>\n",
              "  </div>\n",
              "  "
            ]
          },
          "metadata": {},
          "execution_count": 114
        }
      ]
    },
    {
      "cell_type": "code",
      "source": [
        "X_final = df.drop(columns='emotion')\n",
        "y_final= df['emotion']"
      ],
      "metadata": {
        "id": "NsaaZEwmb0ej"
      },
      "execution_count": null,
      "outputs": []
    },
    {
      "cell_type": "code",
      "source": [
        "X_final.to_pickle('X_final.pkl')"
      ],
      "metadata": {
        "id": "meqWl56MX6S-"
      },
      "execution_count": null,
      "outputs": []
    },
    {
      "cell_type": "code",
      "source": [
        "y_final.to_pickle('y_final.pkl')"
      ],
      "metadata": {
        "id": "PzL-Ct1W85fV"
      },
      "execution_count": null,
      "outputs": []
    },
    {
      "cell_type": "code",
      "source": [
        "df.to_pickle('df_final.pkl')"
      ],
      "metadata": {
        "id": "0VmHK4j6sbU8"
      },
      "execution_count": null,
      "outputs": []
    },
    {
      "cell_type": "code",
      "source": [
        "# df2 = df_final[df_final['emotion']!='surprised']"
      ],
      "metadata": {
        "id": "RHAcWwF0sh2R"
      },
      "execution_count": null,
      "outputs": []
    },
    {
      "cell_type": "code",
      "source": [
        "# df2 =  df2[df2['emotion']!='calm']"
      ],
      "metadata": {
        "id": "Q9EVz2ztu0-U"
      },
      "execution_count": null,
      "outputs": []
    },
    {
      "cell_type": "code",
      "source": [
        "# df_rv_cr = pd.concat([savee,tess])"
      ],
      "metadata": {
        "id": "S5eDBsz1LiRQ"
      },
      "execution_count": null,
      "outputs": []
    },
    {
      "cell_type": "code",
      "source": [
        "# df2.groupby('emotion').count()['tonnetz']"
      ],
      "metadata": {
        "id": "gclENy4KvWtN"
      },
      "execution_count": null,
      "outputs": []
    },
    {
      "cell_type": "code",
      "source": [
        "from data_extraction import extract_ESD, extract_JL, extract_ASVP, extract_tess"
      ],
      "metadata": {
        "id": "a402L0HLvZ09"
      },
      "execution_count": null,
      "outputs": []
    },
    {
      "cell_type": "code",
      "source": [
        "jl = extract_JL(trim=True)\n"
      ],
      "metadata": {
        "colab": {
          "base_uri": "https://localhost:8080/"
        },
        "id": "G46DJas78FRd",
        "outputId": "b86b7a93-cdcb-4ec2-ecbc-05c2b17945ff"
      },
      "execution_count": null,
      "outputs": [
        {
          "output_type": "stream",
          "name": "stderr",
          "text": [
            "/usr/local/lib/python3.8/dist-packages/librosa/core/spectrum.py:222: UserWarning: n_fft=1024 is too small for input signal of length=1016\n",
            "  warnings.warn(\n"
          ]
        }
      ]
    },
    {
      "cell_type": "code",
      "source": [
        "from glob import glob"
      ],
      "metadata": {
        "id": "kQNGWJGq8Fs4"
      },
      "execution_count": null,
      "outputs": []
    },
    {
      "cell_type": "code",
      "source": [
        "jl = jl[jl['emotion']!='_anxi']\n"
      ],
      "metadata": {
        "id": "1Cs38myg8Fwf"
      },
      "execution_count": null,
      "outputs": []
    },
    {
      "cell_type": "code",
      "source": [
        "jl.groupby('emotion').count()"
      ],
      "metadata": {
        "colab": {
          "base_uri": "https://localhost:8080/",
          "height": 438
        },
        "id": "uCelirh8tEKH",
        "outputId": "363f5aa5-2a0c-47fd-ae2f-7c99a9c15d1a"
      },
      "execution_count": null,
      "outputs": [
        {
          "output_type": "execute_result",
          "data": {
            "text/plain": [
              "              id  wave  mel_spec  fourrier  spec  spectral_centroid  mfcc  \\\n",
              "emotion                                                                     \n",
              "angry        364   364       364       364   364                364   364   \n",
              "anxious      120   120       120       120   120                120   120   \n",
              "apologetic   240   240       240       240   240                240   240   \n",
              "assertive    240   240       240       240   240                240   240   \n",
              "concerned    240   240       240       240   240                240   240   \n",
              "encouraging  240   240       240       240   240                240   240   \n",
              "excited      230   230       230       230   230                230   230   \n",
              "happy        180   180       180       180   180                180   180   \n",
              "neutral      180   180       180       180   180                180   180   \n",
              "sad          180   180       180       180   180                180   180   \n",
              "\n",
              "             chroma_stft  tonnetz  intensity  repetition  actor_gender  \\\n",
              "emotion                                                                  \n",
              "angry                364      364        364         364           364   \n",
              "anxious              120      120        120         120           120   \n",
              "apologetic           240      240        240         240           240   \n",
              "assertive            240      240        240         240           240   \n",
              "concerned            240      240        240         240           240   \n",
              "encouraging          240      240        240         240           240   \n",
              "excited              230      230        230         230           230   \n",
              "happy                180      180        180         180           180   \n",
              "neutral              180      180        180         180           180   \n",
              "sad                  180      180        180         180           180   \n",
              "\n",
              "             actor_age  source  \n",
              "emotion                         \n",
              "angry              364     364  \n",
              "anxious            120     120  \n",
              "apologetic         240     240  \n",
              "assertive          240     240  \n",
              "concerned          240     240  \n",
              "encouraging        240     240  \n",
              "excited            230     230  \n",
              "happy              180     180  \n",
              "neutral            180     180  \n",
              "sad                180     180  "
            ],
            "text/html": [
              "\n",
              "  <div id=\"df-8f2003c5-fcb8-4c17-8caa-3d3d064ef564\">\n",
              "    <div class=\"colab-df-container\">\n",
              "      <div>\n",
              "<style scoped>\n",
              "    .dataframe tbody tr th:only-of-type {\n",
              "        vertical-align: middle;\n",
              "    }\n",
              "\n",
              "    .dataframe tbody tr th {\n",
              "        vertical-align: top;\n",
              "    }\n",
              "\n",
              "    .dataframe thead th {\n",
              "        text-align: right;\n",
              "    }\n",
              "</style>\n",
              "<table border=\"1\" class=\"dataframe\">\n",
              "  <thead>\n",
              "    <tr style=\"text-align: right;\">\n",
              "      <th></th>\n",
              "      <th>id</th>\n",
              "      <th>wave</th>\n",
              "      <th>mel_spec</th>\n",
              "      <th>fourrier</th>\n",
              "      <th>spec</th>\n",
              "      <th>spectral_centroid</th>\n",
              "      <th>mfcc</th>\n",
              "      <th>chroma_stft</th>\n",
              "      <th>tonnetz</th>\n",
              "      <th>intensity</th>\n",
              "      <th>repetition</th>\n",
              "      <th>actor_gender</th>\n",
              "      <th>actor_age</th>\n",
              "      <th>source</th>\n",
              "    </tr>\n",
              "    <tr>\n",
              "      <th>emotion</th>\n",
              "      <th></th>\n",
              "      <th></th>\n",
              "      <th></th>\n",
              "      <th></th>\n",
              "      <th></th>\n",
              "      <th></th>\n",
              "      <th></th>\n",
              "      <th></th>\n",
              "      <th></th>\n",
              "      <th></th>\n",
              "      <th></th>\n",
              "      <th></th>\n",
              "      <th></th>\n",
              "      <th></th>\n",
              "    </tr>\n",
              "  </thead>\n",
              "  <tbody>\n",
              "    <tr>\n",
              "      <th>angry</th>\n",
              "      <td>364</td>\n",
              "      <td>364</td>\n",
              "      <td>364</td>\n",
              "      <td>364</td>\n",
              "      <td>364</td>\n",
              "      <td>364</td>\n",
              "      <td>364</td>\n",
              "      <td>364</td>\n",
              "      <td>364</td>\n",
              "      <td>364</td>\n",
              "      <td>364</td>\n",
              "      <td>364</td>\n",
              "      <td>364</td>\n",
              "      <td>364</td>\n",
              "    </tr>\n",
              "    <tr>\n",
              "      <th>anxious</th>\n",
              "      <td>120</td>\n",
              "      <td>120</td>\n",
              "      <td>120</td>\n",
              "      <td>120</td>\n",
              "      <td>120</td>\n",
              "      <td>120</td>\n",
              "      <td>120</td>\n",
              "      <td>120</td>\n",
              "      <td>120</td>\n",
              "      <td>120</td>\n",
              "      <td>120</td>\n",
              "      <td>120</td>\n",
              "      <td>120</td>\n",
              "      <td>120</td>\n",
              "    </tr>\n",
              "    <tr>\n",
              "      <th>apologetic</th>\n",
              "      <td>240</td>\n",
              "      <td>240</td>\n",
              "      <td>240</td>\n",
              "      <td>240</td>\n",
              "      <td>240</td>\n",
              "      <td>240</td>\n",
              "      <td>240</td>\n",
              "      <td>240</td>\n",
              "      <td>240</td>\n",
              "      <td>240</td>\n",
              "      <td>240</td>\n",
              "      <td>240</td>\n",
              "      <td>240</td>\n",
              "      <td>240</td>\n",
              "    </tr>\n",
              "    <tr>\n",
              "      <th>assertive</th>\n",
              "      <td>240</td>\n",
              "      <td>240</td>\n",
              "      <td>240</td>\n",
              "      <td>240</td>\n",
              "      <td>240</td>\n",
              "      <td>240</td>\n",
              "      <td>240</td>\n",
              "      <td>240</td>\n",
              "      <td>240</td>\n",
              "      <td>240</td>\n",
              "      <td>240</td>\n",
              "      <td>240</td>\n",
              "      <td>240</td>\n",
              "      <td>240</td>\n",
              "    </tr>\n",
              "    <tr>\n",
              "      <th>concerned</th>\n",
              "      <td>240</td>\n",
              "      <td>240</td>\n",
              "      <td>240</td>\n",
              "      <td>240</td>\n",
              "      <td>240</td>\n",
              "      <td>240</td>\n",
              "      <td>240</td>\n",
              "      <td>240</td>\n",
              "      <td>240</td>\n",
              "      <td>240</td>\n",
              "      <td>240</td>\n",
              "      <td>240</td>\n",
              "      <td>240</td>\n",
              "      <td>240</td>\n",
              "    </tr>\n",
              "    <tr>\n",
              "      <th>encouraging</th>\n",
              "      <td>240</td>\n",
              "      <td>240</td>\n",
              "      <td>240</td>\n",
              "      <td>240</td>\n",
              "      <td>240</td>\n",
              "      <td>240</td>\n",
              "      <td>240</td>\n",
              "      <td>240</td>\n",
              "      <td>240</td>\n",
              "      <td>240</td>\n",
              "      <td>240</td>\n",
              "      <td>240</td>\n",
              "      <td>240</td>\n",
              "      <td>240</td>\n",
              "    </tr>\n",
              "    <tr>\n",
              "      <th>excited</th>\n",
              "      <td>230</td>\n",
              "      <td>230</td>\n",
              "      <td>230</td>\n",
              "      <td>230</td>\n",
              "      <td>230</td>\n",
              "      <td>230</td>\n",
              "      <td>230</td>\n",
              "      <td>230</td>\n",
              "      <td>230</td>\n",
              "      <td>230</td>\n",
              "      <td>230</td>\n",
              "      <td>230</td>\n",
              "      <td>230</td>\n",
              "      <td>230</td>\n",
              "    </tr>\n",
              "    <tr>\n",
              "      <th>happy</th>\n",
              "      <td>180</td>\n",
              "      <td>180</td>\n",
              "      <td>180</td>\n",
              "      <td>180</td>\n",
              "      <td>180</td>\n",
              "      <td>180</td>\n",
              "      <td>180</td>\n",
              "      <td>180</td>\n",
              "      <td>180</td>\n",
              "      <td>180</td>\n",
              "      <td>180</td>\n",
              "      <td>180</td>\n",
              "      <td>180</td>\n",
              "      <td>180</td>\n",
              "    </tr>\n",
              "    <tr>\n",
              "      <th>neutral</th>\n",
              "      <td>180</td>\n",
              "      <td>180</td>\n",
              "      <td>180</td>\n",
              "      <td>180</td>\n",
              "      <td>180</td>\n",
              "      <td>180</td>\n",
              "      <td>180</td>\n",
              "      <td>180</td>\n",
              "      <td>180</td>\n",
              "      <td>180</td>\n",
              "      <td>180</td>\n",
              "      <td>180</td>\n",
              "      <td>180</td>\n",
              "      <td>180</td>\n",
              "    </tr>\n",
              "    <tr>\n",
              "      <th>sad</th>\n",
              "      <td>180</td>\n",
              "      <td>180</td>\n",
              "      <td>180</td>\n",
              "      <td>180</td>\n",
              "      <td>180</td>\n",
              "      <td>180</td>\n",
              "      <td>180</td>\n",
              "      <td>180</td>\n",
              "      <td>180</td>\n",
              "      <td>180</td>\n",
              "      <td>180</td>\n",
              "      <td>180</td>\n",
              "      <td>180</td>\n",
              "      <td>180</td>\n",
              "    </tr>\n",
              "  </tbody>\n",
              "</table>\n",
              "</div>\n",
              "      <button class=\"colab-df-convert\" onclick=\"convertToInteractive('df-8f2003c5-fcb8-4c17-8caa-3d3d064ef564')\"\n",
              "              title=\"Convert this dataframe to an interactive table.\"\n",
              "              style=\"display:none;\">\n",
              "        \n",
              "  <svg xmlns=\"http://www.w3.org/2000/svg\" height=\"24px\"viewBox=\"0 0 24 24\"\n",
              "       width=\"24px\">\n",
              "    <path d=\"M0 0h24v24H0V0z\" fill=\"none\"/>\n",
              "    <path d=\"M18.56 5.44l.94 2.06.94-2.06 2.06-.94-2.06-.94-.94-2.06-.94 2.06-2.06.94zm-11 1L8.5 8.5l.94-2.06 2.06-.94-2.06-.94L8.5 2.5l-.94 2.06-2.06.94zm10 10l.94 2.06.94-2.06 2.06-.94-2.06-.94-.94-2.06-.94 2.06-2.06.94z\"/><path d=\"M17.41 7.96l-1.37-1.37c-.4-.4-.92-.59-1.43-.59-.52 0-1.04.2-1.43.59L10.3 9.45l-7.72 7.72c-.78.78-.78 2.05 0 2.83L4 21.41c.39.39.9.59 1.41.59.51 0 1.02-.2 1.41-.59l7.78-7.78 2.81-2.81c.8-.78.8-2.07 0-2.86zM5.41 20L4 18.59l7.72-7.72 1.47 1.35L5.41 20z\"/>\n",
              "  </svg>\n",
              "      </button>\n",
              "      \n",
              "  <style>\n",
              "    .colab-df-container {\n",
              "      display:flex;\n",
              "      flex-wrap:wrap;\n",
              "      gap: 12px;\n",
              "    }\n",
              "\n",
              "    .colab-df-convert {\n",
              "      background-color: #E8F0FE;\n",
              "      border: none;\n",
              "      border-radius: 50%;\n",
              "      cursor: pointer;\n",
              "      display: none;\n",
              "      fill: #1967D2;\n",
              "      height: 32px;\n",
              "      padding: 0 0 0 0;\n",
              "      width: 32px;\n",
              "    }\n",
              "\n",
              "    .colab-df-convert:hover {\n",
              "      background-color: #E2EBFA;\n",
              "      box-shadow: 0px 1px 2px rgba(60, 64, 67, 0.3), 0px 1px 3px 1px rgba(60, 64, 67, 0.15);\n",
              "      fill: #174EA6;\n",
              "    }\n",
              "\n",
              "    [theme=dark] .colab-df-convert {\n",
              "      background-color: #3B4455;\n",
              "      fill: #D2E3FC;\n",
              "    }\n",
              "\n",
              "    [theme=dark] .colab-df-convert:hover {\n",
              "      background-color: #434B5C;\n",
              "      box-shadow: 0px 1px 3px 1px rgba(0, 0, 0, 0.15);\n",
              "      filter: drop-shadow(0px 1px 2px rgba(0, 0, 0, 0.3));\n",
              "      fill: #FFFFFF;\n",
              "    }\n",
              "  </style>\n",
              "\n",
              "      <script>\n",
              "        const buttonEl =\n",
              "          document.querySelector('#df-8f2003c5-fcb8-4c17-8caa-3d3d064ef564 button.colab-df-convert');\n",
              "        buttonEl.style.display =\n",
              "          google.colab.kernel.accessAllowed ? 'block' : 'none';\n",
              "\n",
              "        async function convertToInteractive(key) {\n",
              "          const element = document.querySelector('#df-8f2003c5-fcb8-4c17-8caa-3d3d064ef564');\n",
              "          const dataTable =\n",
              "            await google.colab.kernel.invokeFunction('convertToInteractive',\n",
              "                                                     [key], {});\n",
              "          if (!dataTable) return;\n",
              "\n",
              "          const docLinkHtml = 'Like what you see? Visit the ' +\n",
              "            '<a target=\"_blank\" href=https://colab.research.google.com/notebooks/data_table.ipynb>data table notebook</a>'\n",
              "            + ' to learn more about interactive tables.';\n",
              "          element.innerHTML = '';\n",
              "          dataTable['output_type'] = 'display_data';\n",
              "          await google.colab.output.renderOutput(dataTable, element);\n",
              "          const docLink = document.createElement('div');\n",
              "          docLink.innerHTML = docLinkHtml;\n",
              "          element.appendChild(docLink);\n",
              "        }\n",
              "      </script>\n",
              "    </div>\n",
              "  </div>\n",
              "  "
            ]
          },
          "metadata": {},
          "execution_count": 7
        }
      ]
    },
    {
      "cell_type": "code",
      "source": [
        "esd = extract_ESD(trim=True)\n"
      ],
      "metadata": {
        "colab": {
          "base_uri": "https://localhost:8080/"
        },
        "id": "GAhUE31kBxnd",
        "outputId": "e2e873a7-3e82-4f7d-de05-e86c7a941b49"
      },
      "execution_count": null,
      "outputs": [
        {
          "output_type": "stream",
          "name": "stderr",
          "text": [
            "/usr/local/lib/python3.8/dist-packages/librosa/core/spectrum.py:222: UserWarning: n_fft=1024 is too small for input signal of length=1016\n",
            "  warnings.warn(\n"
          ]
        }
      ]
    },
    {
      "cell_type": "code",
      "source": [
        "esd.groupby('emotion').count()"
      ],
      "metadata": {
        "id": "X9BPI9IQBxp2",
        "colab": {
          "base_uri": "https://localhost:8080/",
          "height": 238
        },
        "outputId": "06d3e38c-81b5-48b7-eb0c-197a2cfe081b"
      },
      "execution_count": null,
      "outputs": [
        {
          "output_type": "execute_result",
          "data": {
            "text/plain": [
              "             id  wave  mel_spec  fourrier  spec  spectral_centroid  mfcc  \\\n",
              "emotion                                                                    \n",
              "angry      3500  3500      3500      3500  3500               3500  3500   \n",
              "happy      3500  3500      3500      3500  3500               3500  3500   \n",
              "neutral    3500  3500      3500      3500  3500               3500  3500   \n",
              "sad        3500  3500      3500      3500  3500               3500  3500   \n",
              "surprised  3500  3500      3500      3500  3500               3500  3500   \n",
              "\n",
              "           chroma_stft  tonnetz  intensity  repetition  actor_gender  \\\n",
              "emotion                                                                \n",
              "angry             3500     3500       3500        3500          3500   \n",
              "happy             3500     3500       3500        3500          3500   \n",
              "neutral           3500     3500       3500        3500          3500   \n",
              "sad               3500     3500       3500        3500          3500   \n",
              "surprised         3500     3500       3500        3500          3500   \n",
              "\n",
              "           actor_age  source  \n",
              "emotion                       \n",
              "angry           3500    3500  \n",
              "happy           3500    3500  \n",
              "neutral         3500    3500  \n",
              "sad             3500    3500  \n",
              "surprised       3500    3500  "
            ],
            "text/html": [
              "\n",
              "  <div id=\"df-32e0fae2-bf33-4cf5-b305-eaec051e943c\">\n",
              "    <div class=\"colab-df-container\">\n",
              "      <div>\n",
              "<style scoped>\n",
              "    .dataframe tbody tr th:only-of-type {\n",
              "        vertical-align: middle;\n",
              "    }\n",
              "\n",
              "    .dataframe tbody tr th {\n",
              "        vertical-align: top;\n",
              "    }\n",
              "\n",
              "    .dataframe thead th {\n",
              "        text-align: right;\n",
              "    }\n",
              "</style>\n",
              "<table border=\"1\" class=\"dataframe\">\n",
              "  <thead>\n",
              "    <tr style=\"text-align: right;\">\n",
              "      <th></th>\n",
              "      <th>id</th>\n",
              "      <th>wave</th>\n",
              "      <th>mel_spec</th>\n",
              "      <th>fourrier</th>\n",
              "      <th>spec</th>\n",
              "      <th>spectral_centroid</th>\n",
              "      <th>mfcc</th>\n",
              "      <th>chroma_stft</th>\n",
              "      <th>tonnetz</th>\n",
              "      <th>intensity</th>\n",
              "      <th>repetition</th>\n",
              "      <th>actor_gender</th>\n",
              "      <th>actor_age</th>\n",
              "      <th>source</th>\n",
              "    </tr>\n",
              "    <tr>\n",
              "      <th>emotion</th>\n",
              "      <th></th>\n",
              "      <th></th>\n",
              "      <th></th>\n",
              "      <th></th>\n",
              "      <th></th>\n",
              "      <th></th>\n",
              "      <th></th>\n",
              "      <th></th>\n",
              "      <th></th>\n",
              "      <th></th>\n",
              "      <th></th>\n",
              "      <th></th>\n",
              "      <th></th>\n",
              "      <th></th>\n",
              "    </tr>\n",
              "  </thead>\n",
              "  <tbody>\n",
              "    <tr>\n",
              "      <th>angry</th>\n",
              "      <td>3500</td>\n",
              "      <td>3500</td>\n",
              "      <td>3500</td>\n",
              "      <td>3500</td>\n",
              "      <td>3500</td>\n",
              "      <td>3500</td>\n",
              "      <td>3500</td>\n",
              "      <td>3500</td>\n",
              "      <td>3500</td>\n",
              "      <td>3500</td>\n",
              "      <td>3500</td>\n",
              "      <td>3500</td>\n",
              "      <td>3500</td>\n",
              "      <td>3500</td>\n",
              "    </tr>\n",
              "    <tr>\n",
              "      <th>happy</th>\n",
              "      <td>3500</td>\n",
              "      <td>3500</td>\n",
              "      <td>3500</td>\n",
              "      <td>3500</td>\n",
              "      <td>3500</td>\n",
              "      <td>3500</td>\n",
              "      <td>3500</td>\n",
              "      <td>3500</td>\n",
              "      <td>3500</td>\n",
              "      <td>3500</td>\n",
              "      <td>3500</td>\n",
              "      <td>3500</td>\n",
              "      <td>3500</td>\n",
              "      <td>3500</td>\n",
              "    </tr>\n",
              "    <tr>\n",
              "      <th>neutral</th>\n",
              "      <td>3500</td>\n",
              "      <td>3500</td>\n",
              "      <td>3500</td>\n",
              "      <td>3500</td>\n",
              "      <td>3500</td>\n",
              "      <td>3500</td>\n",
              "      <td>3500</td>\n",
              "      <td>3500</td>\n",
              "      <td>3500</td>\n",
              "      <td>3500</td>\n",
              "      <td>3500</td>\n",
              "      <td>3500</td>\n",
              "      <td>3500</td>\n",
              "      <td>3500</td>\n",
              "    </tr>\n",
              "    <tr>\n",
              "      <th>sad</th>\n",
              "      <td>3500</td>\n",
              "      <td>3500</td>\n",
              "      <td>3500</td>\n",
              "      <td>3500</td>\n",
              "      <td>3500</td>\n",
              "      <td>3500</td>\n",
              "      <td>3500</td>\n",
              "      <td>3500</td>\n",
              "      <td>3500</td>\n",
              "      <td>3500</td>\n",
              "      <td>3500</td>\n",
              "      <td>3500</td>\n",
              "      <td>3500</td>\n",
              "      <td>3500</td>\n",
              "    </tr>\n",
              "    <tr>\n",
              "      <th>surprised</th>\n",
              "      <td>3500</td>\n",
              "      <td>3500</td>\n",
              "      <td>3500</td>\n",
              "      <td>3500</td>\n",
              "      <td>3500</td>\n",
              "      <td>3500</td>\n",
              "      <td>3500</td>\n",
              "      <td>3500</td>\n",
              "      <td>3500</td>\n",
              "      <td>3500</td>\n",
              "      <td>3500</td>\n",
              "      <td>3500</td>\n",
              "      <td>3500</td>\n",
              "      <td>3500</td>\n",
              "    </tr>\n",
              "  </tbody>\n",
              "</table>\n",
              "</div>\n",
              "      <button class=\"colab-df-convert\" onclick=\"convertToInteractive('df-32e0fae2-bf33-4cf5-b305-eaec051e943c')\"\n",
              "              title=\"Convert this dataframe to an interactive table.\"\n",
              "              style=\"display:none;\">\n",
              "        \n",
              "  <svg xmlns=\"http://www.w3.org/2000/svg\" height=\"24px\"viewBox=\"0 0 24 24\"\n",
              "       width=\"24px\">\n",
              "    <path d=\"M0 0h24v24H0V0z\" fill=\"none\"/>\n",
              "    <path d=\"M18.56 5.44l.94 2.06.94-2.06 2.06-.94-2.06-.94-.94-2.06-.94 2.06-2.06.94zm-11 1L8.5 8.5l.94-2.06 2.06-.94-2.06-.94L8.5 2.5l-.94 2.06-2.06.94zm10 10l.94 2.06.94-2.06 2.06-.94-2.06-.94-.94-2.06-.94 2.06-2.06.94z\"/><path d=\"M17.41 7.96l-1.37-1.37c-.4-.4-.92-.59-1.43-.59-.52 0-1.04.2-1.43.59L10.3 9.45l-7.72 7.72c-.78.78-.78 2.05 0 2.83L4 21.41c.39.39.9.59 1.41.59.51 0 1.02-.2 1.41-.59l7.78-7.78 2.81-2.81c.8-.78.8-2.07 0-2.86zM5.41 20L4 18.59l7.72-7.72 1.47 1.35L5.41 20z\"/>\n",
              "  </svg>\n",
              "      </button>\n",
              "      \n",
              "  <style>\n",
              "    .colab-df-container {\n",
              "      display:flex;\n",
              "      flex-wrap:wrap;\n",
              "      gap: 12px;\n",
              "    }\n",
              "\n",
              "    .colab-df-convert {\n",
              "      background-color: #E8F0FE;\n",
              "      border: none;\n",
              "      border-radius: 50%;\n",
              "      cursor: pointer;\n",
              "      display: none;\n",
              "      fill: #1967D2;\n",
              "      height: 32px;\n",
              "      padding: 0 0 0 0;\n",
              "      width: 32px;\n",
              "    }\n",
              "\n",
              "    .colab-df-convert:hover {\n",
              "      background-color: #E2EBFA;\n",
              "      box-shadow: 0px 1px 2px rgba(60, 64, 67, 0.3), 0px 1px 3px 1px rgba(60, 64, 67, 0.15);\n",
              "      fill: #174EA6;\n",
              "    }\n",
              "\n",
              "    [theme=dark] .colab-df-convert {\n",
              "      background-color: #3B4455;\n",
              "      fill: #D2E3FC;\n",
              "    }\n",
              "\n",
              "    [theme=dark] .colab-df-convert:hover {\n",
              "      background-color: #434B5C;\n",
              "      box-shadow: 0px 1px 3px 1px rgba(0, 0, 0, 0.15);\n",
              "      filter: drop-shadow(0px 1px 2px rgba(0, 0, 0, 0.3));\n",
              "      fill: #FFFFFF;\n",
              "    }\n",
              "  </style>\n",
              "\n",
              "      <script>\n",
              "        const buttonEl =\n",
              "          document.querySelector('#df-32e0fae2-bf33-4cf5-b305-eaec051e943c button.colab-df-convert');\n",
              "        buttonEl.style.display =\n",
              "          google.colab.kernel.accessAllowed ? 'block' : 'none';\n",
              "\n",
              "        async function convertToInteractive(key) {\n",
              "          const element = document.querySelector('#df-32e0fae2-bf33-4cf5-b305-eaec051e943c');\n",
              "          const dataTable =\n",
              "            await google.colab.kernel.invokeFunction('convertToInteractive',\n",
              "                                                     [key], {});\n",
              "          if (!dataTable) return;\n",
              "\n",
              "          const docLinkHtml = 'Like what you see? Visit the ' +\n",
              "            '<a target=\"_blank\" href=https://colab.research.google.com/notebooks/data_table.ipynb>data table notebook</a>'\n",
              "            + ' to learn more about interactive tables.';\n",
              "          element.innerHTML = '';\n",
              "          dataTable['output_type'] = 'display_data';\n",
              "          await google.colab.output.renderOutput(dataTable, element);\n",
              "          const docLink = document.createElement('div');\n",
              "          docLink.innerHTML = docLinkHtml;\n",
              "          element.appendChild(docLink);\n",
              "        }\n",
              "      </script>\n",
              "    </div>\n",
              "  </div>\n",
              "  "
            ]
          },
          "metadata": {},
          "execution_count": 10
        }
      ]
    },
    {
      "cell_type": "code",
      "source": [],
      "metadata": {
        "id": "5xMD6YqpBxrH"
      },
      "execution_count": null,
      "outputs": []
    },
    {
      "cell_type": "code",
      "source": [
        "df_jl_esd = pd.concat([jl,esd])"
      ],
      "metadata": {
        "id": "rAYHhYHgLv4V"
      },
      "execution_count": null,
      "outputs": []
    },
    {
      "cell_type": "code",
      "source": [
        "esd.to_pickle(\"esd.pkl\")"
      ],
      "metadata": {
        "id": "EM8iCjNGmIZW"
      },
      "execution_count": null,
      "outputs": []
    },
    {
      "cell_type": "code",
      "source": [
        "big_5 = pd.read_pickle(\"database_final_v5.pkl\")\n",
        "# asvp = pd.read_pickle(\"asvp.pkl\")\n",
        "jl = pd.read_pickle(\"jl.pkl\")\n",
        "# esd = pd.read_pickle(\"esd.pkl\")\n"
      ],
      "metadata": {
        "id": "B0mDDfPdBxsJ"
      },
      "execution_count": null,
      "outputs": []
    },
    {
      "cell_type": "code",
      "source": [
        "df_final = pd.concat([big_5,esd])"
      ],
      "metadata": {
        "id": "ezugEe_G9iG2"
      },
      "execution_count": null,
      "outputs": []
    },
    {
      "cell_type": "code",
      "source": [
        "df_final.groupby('emotion').count()"
      ],
      "metadata": {
        "colab": {
          "base_uri": "https://localhost:8080/",
          "height": 532
        },
        "id": "mHqJKn_OiQrr",
        "outputId": "c07d3baa-569b-40fa-c70a-8a6469aa812a"
      },
      "execution_count": null,
      "outputs": [
        {
          "output_type": "execute_result",
          "data": {
            "text/plain": [
              "                  id  wave  mel_spec  fourrier  spec  spectral_centroid  mfcc  \\\n",
              "emotion                                                                         \n",
              "angry           6180  6180      6180      6180  6180               6180  6180   \n",
              "bored             21    21        21        21    21                 21    21   \n",
              "calm             192   192       192       192   192                192   192   \n",
              "disappointment   180   180       180       180   180                180   180   \n",
              "disgust         2033  2033      2033      2033  2033               2033  2033   \n",
              "excited          178   178       178       178   178                178   178   \n",
              "fearful         2028  2028      2028      2028  2028               2028  2028   \n",
              "happy           5801  5801      5801      5801  5801               5801  5801   \n",
              "neutral         6110  6110      6110      6110  6110               6110  6110   \n",
              "pain              28    28        28        28    28                 28    28   \n",
              "pleasure          23    23        23        23    23                 23    23   \n",
              "sad             5655  5655      5655      5655  5655               5655  5655   \n",
              "surprised       4470  4470      4470      4470  4470               4470  4470   \n",
              "\n",
              "                chroma_stft  tonnetz  intensity  repetition  actor_gender  \\\n",
              "emotion                                                                     \n",
              "angry                  6180     6180       6180        6180          6180   \n",
              "bored                    21       21         21          21            21   \n",
              "calm                    192      192        192         192           192   \n",
              "disappointment          180      180        180         180           180   \n",
              "disgust                2033     2033       2033        2033          2033   \n",
              "excited                 178      178        178         178           178   \n",
              "fearful                2028     2028       2028        2028          2028   \n",
              "happy                  5801     5801       5801        5801          5801   \n",
              "neutral                6110     6110       6110        6110          6110   \n",
              "pain                     28       28         28          28            28   \n",
              "pleasure                 23       23         23          23            23   \n",
              "sad                    5655     5655       5655        5655          5655   \n",
              "surprised              4470     4470       4470        4470          4470   \n",
              "\n",
              "                actor_age  source  \n",
              "emotion                            \n",
              "angry                6180    6180  \n",
              "bored                  21      21  \n",
              "calm                  192     192  \n",
              "disappointment        180     180  \n",
              "disgust              2033    2033  \n",
              "excited               178     178  \n",
              "fearful              2028    2028  \n",
              "happy                5801    5801  \n",
              "neutral              6110    6110  \n",
              "pain                   28      28  \n",
              "pleasure               23      23  \n",
              "sad                  5655    5655  \n",
              "surprised            4470    4470  "
            ],
            "text/html": [
              "\n",
              "  <div id=\"df-f236d467-5928-469d-951f-c758b00fda17\">\n",
              "    <div class=\"colab-df-container\">\n",
              "      <div>\n",
              "<style scoped>\n",
              "    .dataframe tbody tr th:only-of-type {\n",
              "        vertical-align: middle;\n",
              "    }\n",
              "\n",
              "    .dataframe tbody tr th {\n",
              "        vertical-align: top;\n",
              "    }\n",
              "\n",
              "    .dataframe thead th {\n",
              "        text-align: right;\n",
              "    }\n",
              "</style>\n",
              "<table border=\"1\" class=\"dataframe\">\n",
              "  <thead>\n",
              "    <tr style=\"text-align: right;\">\n",
              "      <th></th>\n",
              "      <th>id</th>\n",
              "      <th>wave</th>\n",
              "      <th>mel_spec</th>\n",
              "      <th>fourrier</th>\n",
              "      <th>spec</th>\n",
              "      <th>spectral_centroid</th>\n",
              "      <th>mfcc</th>\n",
              "      <th>chroma_stft</th>\n",
              "      <th>tonnetz</th>\n",
              "      <th>intensity</th>\n",
              "      <th>repetition</th>\n",
              "      <th>actor_gender</th>\n",
              "      <th>actor_age</th>\n",
              "      <th>source</th>\n",
              "    </tr>\n",
              "    <tr>\n",
              "      <th>emotion</th>\n",
              "      <th></th>\n",
              "      <th></th>\n",
              "      <th></th>\n",
              "      <th></th>\n",
              "      <th></th>\n",
              "      <th></th>\n",
              "      <th></th>\n",
              "      <th></th>\n",
              "      <th></th>\n",
              "      <th></th>\n",
              "      <th></th>\n",
              "      <th></th>\n",
              "      <th></th>\n",
              "      <th></th>\n",
              "    </tr>\n",
              "  </thead>\n",
              "  <tbody>\n",
              "    <tr>\n",
              "      <th>angry</th>\n",
              "      <td>6180</td>\n",
              "      <td>6180</td>\n",
              "      <td>6180</td>\n",
              "      <td>6180</td>\n",
              "      <td>6180</td>\n",
              "      <td>6180</td>\n",
              "      <td>6180</td>\n",
              "      <td>6180</td>\n",
              "      <td>6180</td>\n",
              "      <td>6180</td>\n",
              "      <td>6180</td>\n",
              "      <td>6180</td>\n",
              "      <td>6180</td>\n",
              "      <td>6180</td>\n",
              "    </tr>\n",
              "    <tr>\n",
              "      <th>bored</th>\n",
              "      <td>21</td>\n",
              "      <td>21</td>\n",
              "      <td>21</td>\n",
              "      <td>21</td>\n",
              "      <td>21</td>\n",
              "      <td>21</td>\n",
              "      <td>21</td>\n",
              "      <td>21</td>\n",
              "      <td>21</td>\n",
              "      <td>21</td>\n",
              "      <td>21</td>\n",
              "      <td>21</td>\n",
              "      <td>21</td>\n",
              "      <td>21</td>\n",
              "    </tr>\n",
              "    <tr>\n",
              "      <th>calm</th>\n",
              "      <td>192</td>\n",
              "      <td>192</td>\n",
              "      <td>192</td>\n",
              "      <td>192</td>\n",
              "      <td>192</td>\n",
              "      <td>192</td>\n",
              "      <td>192</td>\n",
              "      <td>192</td>\n",
              "      <td>192</td>\n",
              "      <td>192</td>\n",
              "      <td>192</td>\n",
              "      <td>192</td>\n",
              "      <td>192</td>\n",
              "      <td>192</td>\n",
              "    </tr>\n",
              "    <tr>\n",
              "      <th>disappointment</th>\n",
              "      <td>180</td>\n",
              "      <td>180</td>\n",
              "      <td>180</td>\n",
              "      <td>180</td>\n",
              "      <td>180</td>\n",
              "      <td>180</td>\n",
              "      <td>180</td>\n",
              "      <td>180</td>\n",
              "      <td>180</td>\n",
              "      <td>180</td>\n",
              "      <td>180</td>\n",
              "      <td>180</td>\n",
              "      <td>180</td>\n",
              "      <td>180</td>\n",
              "    </tr>\n",
              "    <tr>\n",
              "      <th>disgust</th>\n",
              "      <td>2033</td>\n",
              "      <td>2033</td>\n",
              "      <td>2033</td>\n",
              "      <td>2033</td>\n",
              "      <td>2033</td>\n",
              "      <td>2033</td>\n",
              "      <td>2033</td>\n",
              "      <td>2033</td>\n",
              "      <td>2033</td>\n",
              "      <td>2033</td>\n",
              "      <td>2033</td>\n",
              "      <td>2033</td>\n",
              "      <td>2033</td>\n",
              "      <td>2033</td>\n",
              "    </tr>\n",
              "    <tr>\n",
              "      <th>excited</th>\n",
              "      <td>178</td>\n",
              "      <td>178</td>\n",
              "      <td>178</td>\n",
              "      <td>178</td>\n",
              "      <td>178</td>\n",
              "      <td>178</td>\n",
              "      <td>178</td>\n",
              "      <td>178</td>\n",
              "      <td>178</td>\n",
              "      <td>178</td>\n",
              "      <td>178</td>\n",
              "      <td>178</td>\n",
              "      <td>178</td>\n",
              "      <td>178</td>\n",
              "    </tr>\n",
              "    <tr>\n",
              "      <th>fearful</th>\n",
              "      <td>2028</td>\n",
              "      <td>2028</td>\n",
              "      <td>2028</td>\n",
              "      <td>2028</td>\n",
              "      <td>2028</td>\n",
              "      <td>2028</td>\n",
              "      <td>2028</td>\n",
              "      <td>2028</td>\n",
              "      <td>2028</td>\n",
              "      <td>2028</td>\n",
              "      <td>2028</td>\n",
              "      <td>2028</td>\n",
              "      <td>2028</td>\n",
              "      <td>2028</td>\n",
              "    </tr>\n",
              "    <tr>\n",
              "      <th>happy</th>\n",
              "      <td>5801</td>\n",
              "      <td>5801</td>\n",
              "      <td>5801</td>\n",
              "      <td>5801</td>\n",
              "      <td>5801</td>\n",
              "      <td>5801</td>\n",
              "      <td>5801</td>\n",
              "      <td>5801</td>\n",
              "      <td>5801</td>\n",
              "      <td>5801</td>\n",
              "      <td>5801</td>\n",
              "      <td>5801</td>\n",
              "      <td>5801</td>\n",
              "      <td>5801</td>\n",
              "    </tr>\n",
              "    <tr>\n",
              "      <th>neutral</th>\n",
              "      <td>6110</td>\n",
              "      <td>6110</td>\n",
              "      <td>6110</td>\n",
              "      <td>6110</td>\n",
              "      <td>6110</td>\n",
              "      <td>6110</td>\n",
              "      <td>6110</td>\n",
              "      <td>6110</td>\n",
              "      <td>6110</td>\n",
              "      <td>6110</td>\n",
              "      <td>6110</td>\n",
              "      <td>6110</td>\n",
              "      <td>6110</td>\n",
              "      <td>6110</td>\n",
              "    </tr>\n",
              "    <tr>\n",
              "      <th>pain</th>\n",
              "      <td>28</td>\n",
              "      <td>28</td>\n",
              "      <td>28</td>\n",
              "      <td>28</td>\n",
              "      <td>28</td>\n",
              "      <td>28</td>\n",
              "      <td>28</td>\n",
              "      <td>28</td>\n",
              "      <td>28</td>\n",
              "      <td>28</td>\n",
              "      <td>28</td>\n",
              "      <td>28</td>\n",
              "      <td>28</td>\n",
              "      <td>28</td>\n",
              "    </tr>\n",
              "    <tr>\n",
              "      <th>pleasure</th>\n",
              "      <td>23</td>\n",
              "      <td>23</td>\n",
              "      <td>23</td>\n",
              "      <td>23</td>\n",
              "      <td>23</td>\n",
              "      <td>23</td>\n",
              "      <td>23</td>\n",
              "      <td>23</td>\n",
              "      <td>23</td>\n",
              "      <td>23</td>\n",
              "      <td>23</td>\n",
              "      <td>23</td>\n",
              "      <td>23</td>\n",
              "      <td>23</td>\n",
              "    </tr>\n",
              "    <tr>\n",
              "      <th>sad</th>\n",
              "      <td>5655</td>\n",
              "      <td>5655</td>\n",
              "      <td>5655</td>\n",
              "      <td>5655</td>\n",
              "      <td>5655</td>\n",
              "      <td>5655</td>\n",
              "      <td>5655</td>\n",
              "      <td>5655</td>\n",
              "      <td>5655</td>\n",
              "      <td>5655</td>\n",
              "      <td>5655</td>\n",
              "      <td>5655</td>\n",
              "      <td>5655</td>\n",
              "      <td>5655</td>\n",
              "    </tr>\n",
              "    <tr>\n",
              "      <th>surprised</th>\n",
              "      <td>4470</td>\n",
              "      <td>4470</td>\n",
              "      <td>4470</td>\n",
              "      <td>4470</td>\n",
              "      <td>4470</td>\n",
              "      <td>4470</td>\n",
              "      <td>4470</td>\n",
              "      <td>4470</td>\n",
              "      <td>4470</td>\n",
              "      <td>4470</td>\n",
              "      <td>4470</td>\n",
              "      <td>4470</td>\n",
              "      <td>4470</td>\n",
              "      <td>4470</td>\n",
              "    </tr>\n",
              "  </tbody>\n",
              "</table>\n",
              "</div>\n",
              "      <button class=\"colab-df-convert\" onclick=\"convertToInteractive('df-f236d467-5928-469d-951f-c758b00fda17')\"\n",
              "              title=\"Convert this dataframe to an interactive table.\"\n",
              "              style=\"display:none;\">\n",
              "        \n",
              "  <svg xmlns=\"http://www.w3.org/2000/svg\" height=\"24px\"viewBox=\"0 0 24 24\"\n",
              "       width=\"24px\">\n",
              "    <path d=\"M0 0h24v24H0V0z\" fill=\"none\"/>\n",
              "    <path d=\"M18.56 5.44l.94 2.06.94-2.06 2.06-.94-2.06-.94-.94-2.06-.94 2.06-2.06.94zm-11 1L8.5 8.5l.94-2.06 2.06-.94-2.06-.94L8.5 2.5l-.94 2.06-2.06.94zm10 10l.94 2.06.94-2.06 2.06-.94-2.06-.94-.94-2.06-.94 2.06-2.06.94z\"/><path d=\"M17.41 7.96l-1.37-1.37c-.4-.4-.92-.59-1.43-.59-.52 0-1.04.2-1.43.59L10.3 9.45l-7.72 7.72c-.78.78-.78 2.05 0 2.83L4 21.41c.39.39.9.59 1.41.59.51 0 1.02-.2 1.41-.59l7.78-7.78 2.81-2.81c.8-.78.8-2.07 0-2.86zM5.41 20L4 18.59l7.72-7.72 1.47 1.35L5.41 20z\"/>\n",
              "  </svg>\n",
              "      </button>\n",
              "      \n",
              "  <style>\n",
              "    .colab-df-container {\n",
              "      display:flex;\n",
              "      flex-wrap:wrap;\n",
              "      gap: 12px;\n",
              "    }\n",
              "\n",
              "    .colab-df-convert {\n",
              "      background-color: #E8F0FE;\n",
              "      border: none;\n",
              "      border-radius: 50%;\n",
              "      cursor: pointer;\n",
              "      display: none;\n",
              "      fill: #1967D2;\n",
              "      height: 32px;\n",
              "      padding: 0 0 0 0;\n",
              "      width: 32px;\n",
              "    }\n",
              "\n",
              "    .colab-df-convert:hover {\n",
              "      background-color: #E2EBFA;\n",
              "      box-shadow: 0px 1px 2px rgba(60, 64, 67, 0.3), 0px 1px 3px 1px rgba(60, 64, 67, 0.15);\n",
              "      fill: #174EA6;\n",
              "    }\n",
              "\n",
              "    [theme=dark] .colab-df-convert {\n",
              "      background-color: #3B4455;\n",
              "      fill: #D2E3FC;\n",
              "    }\n",
              "\n",
              "    [theme=dark] .colab-df-convert:hover {\n",
              "      background-color: #434B5C;\n",
              "      box-shadow: 0px 1px 3px 1px rgba(0, 0, 0, 0.15);\n",
              "      filter: drop-shadow(0px 1px 2px rgba(0, 0, 0, 0.3));\n",
              "      fill: #FFFFFF;\n",
              "    }\n",
              "  </style>\n",
              "\n",
              "      <script>\n",
              "        const buttonEl =\n",
              "          document.querySelector('#df-f236d467-5928-469d-951f-c758b00fda17 button.colab-df-convert');\n",
              "        buttonEl.style.display =\n",
              "          google.colab.kernel.accessAllowed ? 'block' : 'none';\n",
              "\n",
              "        async function convertToInteractive(key) {\n",
              "          const element = document.querySelector('#df-f236d467-5928-469d-951f-c758b00fda17');\n",
              "          const dataTable =\n",
              "            await google.colab.kernel.invokeFunction('convertToInteractive',\n",
              "                                                     [key], {});\n",
              "          if (!dataTable) return;\n",
              "\n",
              "          const docLinkHtml = 'Like what you see? Visit the ' +\n",
              "            '<a target=\"_blank\" href=https://colab.research.google.com/notebooks/data_table.ipynb>data table notebook</a>'\n",
              "            + ' to learn more about interactive tables.';\n",
              "          element.innerHTML = '';\n",
              "          dataTable['output_type'] = 'display_data';\n",
              "          await google.colab.output.renderOutput(dataTable, element);\n",
              "          const docLink = document.createElement('div');\n",
              "          docLink.innerHTML = docLinkHtml;\n",
              "          element.appendChild(docLink);\n",
              "        }\n",
              "      </script>\n",
              "    </div>\n",
              "  </div>\n",
              "  "
            ]
          },
          "metadata": {},
          "execution_count": 16
        }
      ]
    },
    {
      "cell_type": "code",
      "source": [
        "df_final.shape"
      ],
      "metadata": {
        "colab": {
          "base_uri": "https://localhost:8080/"
        },
        "id": "7bq9HHeziS6Z",
        "outputId": "9d50676e-3fbe-430c-facd-9c4232017201"
      },
      "execution_count": null,
      "outputs": [
        {
          "output_type": "execute_result",
          "data": {
            "text/plain": [
              "(32899, 15)"
            ]
          },
          "metadata": {},
          "execution_count": 19
        }
      ]
    },
    {
      "cell_type": "code",
      "source": [
        "df_final.to_pickle(\"database_final_v6.pkl\")"
      ],
      "metadata": {
        "id": "d79dkaDv9w8z"
      },
      "execution_count": null,
      "outputs": []
    },
    {
      "cell_type": "code",
      "source": [],
      "metadata": {
        "id": "4wZPm6Nr-fr3"
      },
      "execution_count": null,
      "outputs": []
    }
  ]
}