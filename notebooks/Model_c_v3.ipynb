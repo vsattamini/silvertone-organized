{
  "nbformat": 4,
  "nbformat_minor": 0,
  "metadata": {
    "colab": {
      "provenance": [],
      "machine_shape": "hm",
      "collapsed_sections": [
        "IZlXClVZCqJf",
        "FjQckc6FG7cV",
        "IBwAM6nkjhBo",
        "QEYYTvb9nfDS",
        "HVdoZY4ErwYI",
        "zvbyZcqjsTEs"
      ]
    },
    "kernelspec": {
      "name": "python3",
      "display_name": "Python 3"
    },
    "language_info": {
      "name": "python"
    },
    "accelerator": "GPU",
    "gpuClass": "standard"
  },
  "cells": [
    {
      "cell_type": "markdown",
      "source": [
        "# Imports"
      ],
      "metadata": {
        "id": "MYiDs7ZTRO6G"
      }
    },
    {
      "cell_type": "markdown",
      "source": [
        "## Packages"
      ],
      "metadata": {
        "id": "ZdpHVuKERYNm"
      }
    },
    {
      "cell_type": "code",
      "source": [
        "from google.colab import drive\n",
        "drive.mount('/content/drive')\n",
        "\n",
        "from glob import glob\n",
        "import os\n",
        "\n",
        "# os.chdir allows you to change directories, like cd in the Terminal\n",
        "os.chdir('/content/drive/MyDrive/Colab Notebooks')"
      ],
      "metadata": {
        "colab": {
          "base_uri": "https://localhost:8080/"
        },
        "id": "qLfmAOjyROrX",
        "outputId": "a28181a1-e002-41f3-8152-fc9397d96199"
      },
      "execution_count": 1,
      "outputs": [
        {
          "output_type": "stream",
          "name": "stdout",
          "text": [
            "Mounted at /content/drive\n"
          ]
        }
      ]
    },
    {
      "cell_type": "code",
      "execution_count": 2,
      "metadata": {
        "id": "FssKKd8XQqpM"
      },
      "outputs": [],
      "source": [
        "# Data manipulation\n",
        "import numpy as np\n",
        "import pandas as pd\n",
        "pd.options.display.max_columns = None\n",
        "pd.options.display.max_rows = 30\n",
        "import math\n",
        "\n",
        "# Data Visualiation\n",
        "import matplotlib.pyplot as plt\n",
        "import seaborn as sns\n",
        "\n",
        "# System\n",
        "import os"
      ]
    },
    {
      "cell_type": "code",
      "source": [
        "import pandas as pd\n",
        "import numpy as np\n",
        "from sklearn.preprocessing import MinMaxScaler\n",
        "from sklearn.preprocessing import StandardScaler\n",
        "from sklearn.metrics import accuracy_score\n",
        "from sklearn.model_selection import train_test_split\n",
        "from tensorflow.keras.preprocessing.sequence import pad_sequences\n",
        "from tensorflow.keras import layers\n",
        "from tensorflow.keras import models\n",
        "from tensorflow.keras.callbacks import EarlyStopping\n",
        "from sklearn.preprocessing import LabelEncoder\n",
        "from keras.utils import np_utils, to_categorical\n",
        "from tensorflow.keras.preprocessing.sequence import pad_sequences\n",
        "from  tensorflow import expand_dims, squeeze"
      ],
      "metadata": {
        "id": "3Gl2UK0pDPS0"
      },
      "execution_count": 3,
      "outputs": []
    },
    {
      "cell_type": "code",
      "source": [
        "from tensorflow.keras.optimizers import Adam\n",
        "\n",
        "# Tried a few different versions, this was the best result\n",
        "custom_adam = Adam(learning_rate=0.0001)"
      ],
      "metadata": {
        "id": "tlTkUnx92oJM"
      },
      "execution_count": 4,
      "outputs": []
    },
    {
      "cell_type": "markdown",
      "source": [
        "## Data"
      ],
      "metadata": {
        "id": "UL-In8RGRb0V"
      }
    },
    {
      "cell_type": "code",
      "source": [
        "# Function to make things easier\n",
        "def import_data(cut_categories=False):\n",
        "  if cut_categories:\n",
        "    df = pd.read_pickle('database_final_v4_6emo.pkl')\n",
        "  else:\n",
        "    df = pd.read_pickle('database_final_v4.pkl')\n",
        "  return df"
      ],
      "metadata": {
        "id": "sP8aXyn5RhtW"
      },
      "execution_count": 5,
      "outputs": []
    },
    {
      "cell_type": "code",
      "source": [
        "# Load Data\n",
        "df = import_data(cut_categories=True)"
      ],
      "metadata": {
        "id": "bHfzqCz-RWUv"
      },
      "execution_count": null,
      "outputs": []
    },
    {
      "cell_type": "code",
      "source": [
        "df.head(2)"
      ],
      "metadata": {
        "id": "tzVdirB1R9zK"
      },
      "execution_count": null,
      "outputs": []
    },
    {
      "cell_type": "code",
      "source": [
        "df.info()"
      ],
      "metadata": {
        "id": "yEYD201FR-U0"
      },
      "execution_count": null,
      "outputs": []
    },
    {
      "cell_type": "code",
      "source": [
        "# Data is now ready\n",
        "df = df[df['emotion']!='surprised'].reset_index()"
      ],
      "metadata": {
        "id": "qxKm_43OR-cl"
      },
      "execution_count": null,
      "outputs": []
    },
    {
      "cell_type": "code",
      "source": [
        "# Encode Labels\n",
        "lb = LabelEncoder()\n",
        "y = df['emotion']\n",
        "y_cat = np_utils.to_categorical(lb.fit_transform(y))"
      ],
      "metadata": {
        "id": "XD3xGL58DSQz"
      },
      "execution_count": null,
      "outputs": []
    },
    {
      "cell_type": "code",
      "source": [
        "df.groupby('emotion').count()"
      ],
      "metadata": {
        "colab": {
          "base_uri": "https://localhost:8080/",
          "height": 333
        },
        "id": "9JjTFAA4GXDW",
        "outputId": "9283f52b-cee4-445c-ea1a-213469801548"
      },
      "execution_count": null,
      "outputs": [
        {
          "output_type": "execute_result",
          "data": {
            "text/plain": [
              "         level_0  index    id  wave  mel_spec  fourrier  spec  \\\n",
              "emotion                                                         \n",
              "angry       1923   1923  1923  1923      1923      1923  1923   \n",
              "disgust     1923   1923  1923  1923      1923      1923  1923   \n",
              "fearful     1923   1923  1923  1923      1923      1923  1923   \n",
              "happy       1923   1923  1923  1923      1923      1923  1923   \n",
              "neutral     1703   1703  1703  1703      1703      1703  1703   \n",
              "sad         1723   1723  1723  1723      1723      1723  1723   \n",
              "\n",
              "         spectral_centroid  mfcc  chroma_stft  tonnetz  intensity  repetition  \\\n",
              "emotion                                                                         \n",
              "angry                 1923  1923         1923     1923       1923        1923   \n",
              "disgust               1923  1923         1923     1923       1923        1923   \n",
              "fearful               1923  1923         1923     1923       1923        1923   \n",
              "happy                 1923  1923         1923     1923       1923        1923   \n",
              "neutral               1703  1703         1703     1703       1703        1703   \n",
              "sad                   1723  1723         1723     1723       1723        1723   \n",
              "\n",
              "         actor_gender  actor_age  source  \n",
              "emotion                                   \n",
              "angry            1923       1923    1923  \n",
              "disgust          1923       1923    1923  \n",
              "fearful          1923       1923    1923  \n",
              "happy            1923       1923    1923  \n",
              "neutral          1703       1703    1703  \n",
              "sad              1723       1723    1723  "
            ],
            "text/html": [
              "\n",
              "  <div id=\"df-56f2706e-dcda-4fb9-88fb-6c79fff23a7a\">\n",
              "    <div class=\"colab-df-container\">\n",
              "      <div>\n",
              "<style scoped>\n",
              "    .dataframe tbody tr th:only-of-type {\n",
              "        vertical-align: middle;\n",
              "    }\n",
              "\n",
              "    .dataframe tbody tr th {\n",
              "        vertical-align: top;\n",
              "    }\n",
              "\n",
              "    .dataframe thead th {\n",
              "        text-align: right;\n",
              "    }\n",
              "</style>\n",
              "<table border=\"1\" class=\"dataframe\">\n",
              "  <thead>\n",
              "    <tr style=\"text-align: right;\">\n",
              "      <th></th>\n",
              "      <th>level_0</th>\n",
              "      <th>index</th>\n",
              "      <th>id</th>\n",
              "      <th>wave</th>\n",
              "      <th>mel_spec</th>\n",
              "      <th>fourrier</th>\n",
              "      <th>spec</th>\n",
              "      <th>spectral_centroid</th>\n",
              "      <th>mfcc</th>\n",
              "      <th>chroma_stft</th>\n",
              "      <th>tonnetz</th>\n",
              "      <th>intensity</th>\n",
              "      <th>repetition</th>\n",
              "      <th>actor_gender</th>\n",
              "      <th>actor_age</th>\n",
              "      <th>source</th>\n",
              "    </tr>\n",
              "    <tr>\n",
              "      <th>emotion</th>\n",
              "      <th></th>\n",
              "      <th></th>\n",
              "      <th></th>\n",
              "      <th></th>\n",
              "      <th></th>\n",
              "      <th></th>\n",
              "      <th></th>\n",
              "      <th></th>\n",
              "      <th></th>\n",
              "      <th></th>\n",
              "      <th></th>\n",
              "      <th></th>\n",
              "      <th></th>\n",
              "      <th></th>\n",
              "      <th></th>\n",
              "      <th></th>\n",
              "    </tr>\n",
              "  </thead>\n",
              "  <tbody>\n",
              "    <tr>\n",
              "      <th>angry</th>\n",
              "      <td>1923</td>\n",
              "      <td>1923</td>\n",
              "      <td>1923</td>\n",
              "      <td>1923</td>\n",
              "      <td>1923</td>\n",
              "      <td>1923</td>\n",
              "      <td>1923</td>\n",
              "      <td>1923</td>\n",
              "      <td>1923</td>\n",
              "      <td>1923</td>\n",
              "      <td>1923</td>\n",
              "      <td>1923</td>\n",
              "      <td>1923</td>\n",
              "      <td>1923</td>\n",
              "      <td>1923</td>\n",
              "      <td>1923</td>\n",
              "    </tr>\n",
              "    <tr>\n",
              "      <th>disgust</th>\n",
              "      <td>1923</td>\n",
              "      <td>1923</td>\n",
              "      <td>1923</td>\n",
              "      <td>1923</td>\n",
              "      <td>1923</td>\n",
              "      <td>1923</td>\n",
              "      <td>1923</td>\n",
              "      <td>1923</td>\n",
              "      <td>1923</td>\n",
              "      <td>1923</td>\n",
              "      <td>1923</td>\n",
              "      <td>1923</td>\n",
              "      <td>1923</td>\n",
              "      <td>1923</td>\n",
              "      <td>1923</td>\n",
              "      <td>1923</td>\n",
              "    </tr>\n",
              "    <tr>\n",
              "      <th>fearful</th>\n",
              "      <td>1923</td>\n",
              "      <td>1923</td>\n",
              "      <td>1923</td>\n",
              "      <td>1923</td>\n",
              "      <td>1923</td>\n",
              "      <td>1923</td>\n",
              "      <td>1923</td>\n",
              "      <td>1923</td>\n",
              "      <td>1923</td>\n",
              "      <td>1923</td>\n",
              "      <td>1923</td>\n",
              "      <td>1923</td>\n",
              "      <td>1923</td>\n",
              "      <td>1923</td>\n",
              "      <td>1923</td>\n",
              "      <td>1923</td>\n",
              "    </tr>\n",
              "    <tr>\n",
              "      <th>happy</th>\n",
              "      <td>1923</td>\n",
              "      <td>1923</td>\n",
              "      <td>1923</td>\n",
              "      <td>1923</td>\n",
              "      <td>1923</td>\n",
              "      <td>1923</td>\n",
              "      <td>1923</td>\n",
              "      <td>1923</td>\n",
              "      <td>1923</td>\n",
              "      <td>1923</td>\n",
              "      <td>1923</td>\n",
              "      <td>1923</td>\n",
              "      <td>1923</td>\n",
              "      <td>1923</td>\n",
              "      <td>1923</td>\n",
              "      <td>1923</td>\n",
              "    </tr>\n",
              "    <tr>\n",
              "      <th>neutral</th>\n",
              "      <td>1703</td>\n",
              "      <td>1703</td>\n",
              "      <td>1703</td>\n",
              "      <td>1703</td>\n",
              "      <td>1703</td>\n",
              "      <td>1703</td>\n",
              "      <td>1703</td>\n",
              "      <td>1703</td>\n",
              "      <td>1703</td>\n",
              "      <td>1703</td>\n",
              "      <td>1703</td>\n",
              "      <td>1703</td>\n",
              "      <td>1703</td>\n",
              "      <td>1703</td>\n",
              "      <td>1703</td>\n",
              "      <td>1703</td>\n",
              "    </tr>\n",
              "    <tr>\n",
              "      <th>sad</th>\n",
              "      <td>1723</td>\n",
              "      <td>1723</td>\n",
              "      <td>1723</td>\n",
              "      <td>1723</td>\n",
              "      <td>1723</td>\n",
              "      <td>1723</td>\n",
              "      <td>1723</td>\n",
              "      <td>1723</td>\n",
              "      <td>1723</td>\n",
              "      <td>1723</td>\n",
              "      <td>1723</td>\n",
              "      <td>1723</td>\n",
              "      <td>1723</td>\n",
              "      <td>1723</td>\n",
              "      <td>1723</td>\n",
              "      <td>1723</td>\n",
              "    </tr>\n",
              "  </tbody>\n",
              "</table>\n",
              "</div>\n",
              "      <button class=\"colab-df-convert\" onclick=\"convertToInteractive('df-56f2706e-dcda-4fb9-88fb-6c79fff23a7a')\"\n",
              "              title=\"Convert this dataframe to an interactive table.\"\n",
              "              style=\"display:none;\">\n",
              "        \n",
              "  <svg xmlns=\"http://www.w3.org/2000/svg\" height=\"24px\"viewBox=\"0 0 24 24\"\n",
              "       width=\"24px\">\n",
              "    <path d=\"M0 0h24v24H0V0z\" fill=\"none\"/>\n",
              "    <path d=\"M18.56 5.44l.94 2.06.94-2.06 2.06-.94-2.06-.94-.94-2.06-.94 2.06-2.06.94zm-11 1L8.5 8.5l.94-2.06 2.06-.94-2.06-.94L8.5 2.5l-.94 2.06-2.06.94zm10 10l.94 2.06.94-2.06 2.06-.94-2.06-.94-.94-2.06-.94 2.06-2.06.94z\"/><path d=\"M17.41 7.96l-1.37-1.37c-.4-.4-.92-.59-1.43-.59-.52 0-1.04.2-1.43.59L10.3 9.45l-7.72 7.72c-.78.78-.78 2.05 0 2.83L4 21.41c.39.39.9.59 1.41.59.51 0 1.02-.2 1.41-.59l7.78-7.78 2.81-2.81c.8-.78.8-2.07 0-2.86zM5.41 20L4 18.59l7.72-7.72 1.47 1.35L5.41 20z\"/>\n",
              "  </svg>\n",
              "      </button>\n",
              "      \n",
              "  <style>\n",
              "    .colab-df-container {\n",
              "      display:flex;\n",
              "      flex-wrap:wrap;\n",
              "      gap: 12px;\n",
              "    }\n",
              "\n",
              "    .colab-df-convert {\n",
              "      background-color: #E8F0FE;\n",
              "      border: none;\n",
              "      border-radius: 50%;\n",
              "      cursor: pointer;\n",
              "      display: none;\n",
              "      fill: #1967D2;\n",
              "      height: 32px;\n",
              "      padding: 0 0 0 0;\n",
              "      width: 32px;\n",
              "    }\n",
              "\n",
              "    .colab-df-convert:hover {\n",
              "      background-color: #E2EBFA;\n",
              "      box-shadow: 0px 1px 2px rgba(60, 64, 67, 0.3), 0px 1px 3px 1px rgba(60, 64, 67, 0.15);\n",
              "      fill: #174EA6;\n",
              "    }\n",
              "\n",
              "    [theme=dark] .colab-df-convert {\n",
              "      background-color: #3B4455;\n",
              "      fill: #D2E3FC;\n",
              "    }\n",
              "\n",
              "    [theme=dark] .colab-df-convert:hover {\n",
              "      background-color: #434B5C;\n",
              "      box-shadow: 0px 1px 3px 1px rgba(0, 0, 0, 0.15);\n",
              "      filter: drop-shadow(0px 1px 2px rgba(0, 0, 0, 0.3));\n",
              "      fill: #FFFFFF;\n",
              "    }\n",
              "  </style>\n",
              "\n",
              "      <script>\n",
              "        const buttonEl =\n",
              "          document.querySelector('#df-56f2706e-dcda-4fb9-88fb-6c79fff23a7a button.colab-df-convert');\n",
              "        buttonEl.style.display =\n",
              "          google.colab.kernel.accessAllowed ? 'block' : 'none';\n",
              "\n",
              "        async function convertToInteractive(key) {\n",
              "          const element = document.querySelector('#df-56f2706e-dcda-4fb9-88fb-6c79fff23a7a');\n",
              "          const dataTable =\n",
              "            await google.colab.kernel.invokeFunction('convertToInteractive',\n",
              "                                                     [key], {});\n",
              "          if (!dataTable) return;\n",
              "\n",
              "          const docLinkHtml = 'Like what you see? Visit the ' +\n",
              "            '<a target=\"_blank\" href=https://colab.research.google.com/notebooks/data_table.ipynb>data table notebook</a>'\n",
              "            + ' to learn more about interactive tables.';\n",
              "          element.innerHTML = '';\n",
              "          dataTable['output_type'] = 'display_data';\n",
              "          await google.colab.output.renderOutput(dataTable, element);\n",
              "          const docLink = document.createElement('div');\n",
              "          docLink.innerHTML = docLinkHtml;\n",
              "          element.appendChild(docLink);\n",
              "        }\n",
              "      </script>\n",
              "    </div>\n",
              "  </div>\n",
              "  "
            ]
          },
          "metadata": {},
          "execution_count": 17
        }
      ]
    },
    {
      "cell_type": "markdown",
      "source": [
        "# Models"
      ],
      "metadata": {
        "id": "bXBkwvgCCoF-"
      }
    },
    {
      "cell_type": "markdown",
      "source": [
        "## Model 1: Simple Tonnetz\n"
      ],
      "metadata": {
        "id": "IZlXClVZCqJf"
      }
    },
    {
      "cell_type": "code",
      "source": [
        "# Optional cutting to 4 emotions (need to adjust model)\n",
        "# df = df[df['emotion']!='disgust']\n",
        "# df = df[df['emotion']!='fearful'].reset_index()\n",
        "lb = LabelEncoder()\n",
        "y = df['emotion']\n",
        "y_cat = np_utils.to_categorical(lb.fit_transform(y))"
      ],
      "metadata": {
        "id": "gd85p7jckLn4"
      },
      "execution_count": null,
      "outputs": []
    },
    {
      "cell_type": "code",
      "source": [],
      "metadata": {
        "id": "1Ys4VHmV8zhs"
      },
      "execution_count": null,
      "outputs": []
    },
    {
      "cell_type": "code",
      "source": [
        "df['tonnetz']"
      ],
      "metadata": {
        "colab": {
          "base_uri": "https://localhost:8080/"
        },
        "id": "zlqoJGrNDndg",
        "outputId": "eecda391-844b-432e-ae30-5b9b1fcf80b3"
      },
      "execution_count": null,
      "outputs": [
        {
          "output_type": "execute_result",
          "data": {
            "text/plain": [
              "0        [[0.013699955686509828, -0.003631811642639246,...\n",
              "1        [[-0.11400240548955944, -0.11533106978425169, ...\n",
              "2        [[-0.06737267803132992, -0.052550179674132794,...\n",
              "3        [[0.01590668038099245, -0.017033557377502263, ...\n",
              "4        [[-0.01154996413504892, -0.012310916026523674,...\n",
              "                               ...                        \n",
              "11113    [[0.037540806310996766, 0.03995356748174914, 0...\n",
              "11114    [[0.056195407274964956, 0.04051361656623037, 0...\n",
              "11115    [[-0.02838156910269496, -0.014462168851763626,...\n",
              "11116    [[0.03637628281552688, 0.06103719084058169, 0....\n",
              "11117    [[-0.013825005936069373, 0.009084334940358128,...\n",
              "Name: tonnetz, Length: 11118, dtype: object"
            ]
          },
          "metadata": {},
          "execution_count": 11
        }
      ]
    },
    {
      "cell_type": "code",
      "source": [
        "df['tonnetz'][0][0]"
      ],
      "metadata": {
        "colab": {
          "base_uri": "https://localhost:8080/"
        },
        "id": "Y9l4jmhJDnX9",
        "outputId": "58d9f309-6963-4707-ccde-1401fc591b99"
      },
      "execution_count": null,
      "outputs": [
        {
          "output_type": "execute_result",
          "data": {
            "text/plain": [
              "array([ 0.01369996, -0.00363181, -0.04147455, -0.10499756, -0.17078021,\n",
              "       -0.03738004,  0.25844561,  0.35400744,  0.24523407,  0.12399114,\n",
              "        0.0783973 ,  0.05442138,  0.04065253,  0.06131205,  0.07765707,\n",
              "        0.05453042,  0.11420719,  0.18590638,  0.23654868,  0.05278377,\n",
              "        0.0388999 ,  0.04487734,  0.03817897,  0.01305858, -0.03356193,\n",
              "       -0.05164649, -0.07058663, -0.11001424, -0.11057896, -0.09728116,\n",
              "       -0.06174941, -0.01902895, -0.04085201,  0.01717603,  0.08397553,\n",
              "        0.18559034,  0.17573486,  0.11884329,  0.070574  ,  0.05386441,\n",
              "        0.06727722,  0.00831661,  0.0757276 , -0.21657144, -0.14130489,\n",
              "        0.06783514,  0.07678856,  0.00729219, -0.05598293, -0.11163602,\n",
              "       -0.07541429, -0.05270579, -0.04102154, -0.01581746, -0.0085467 ,\n",
              "       -0.03317991, -0.14243466, -0.03858346,  0.03363929, -0.00222602,\n",
              "       -0.10401584,  0.02343112,  0.03209967, -0.00961836, -0.01254906,\n",
              "       -0.07553634, -0.04100395,  0.01758943,  0.07245177,  0.07732131,\n",
              "        0.01837445, -0.02972565, -0.08712335, -0.0635411 , -0.01338725,\n",
              "       -0.02002478, -0.03312517, -0.02622262, -0.03190409, -0.03319123,\n",
              "       -0.04082911, -0.04533072, -0.05116825, -0.04648965, -0.04486914,\n",
              "       -0.05117428, -0.04725068, -0.04542447, -0.04301787, -0.04370827,\n",
              "       -0.0399208 , -0.01162764, -0.00104818, -0.01072059, -0.01015252,\n",
              "        0.01993035,  0.0304125 ,  0.02696508,  0.0313213 ,  0.05109023,\n",
              "        0.03397957,  0.04271872,  0.06370253,  0.08733563,  0.0960429 ,\n",
              "        0.10837037,  0.11852619,  0.097434  ,  0.10233728,  0.0707118 ,\n",
              "        0.10412054,  0.05509355,  0.10109326,  0.08479805,  0.08588446,\n",
              "        0.07265991,  0.11432884,  0.19216409,  0.18650678,  0.09302684,\n",
              "        0.08670857,  0.13664542,  0.12597845,  0.16229027,  0.20921012,\n",
              "        0.24626793,  0.24503801])"
            ]
          },
          "metadata": {},
          "execution_count": 12
        }
      ]
    },
    {
      "cell_type": "code",
      "source": [
        "# Playing around with plots\n",
        "\n",
        "# fifth\n",
        "sns.lineplot(x=df['tonnetz'][0][0],y=df['tonnetz'][0][1])\n",
        "# minor third\n",
        "sns.lineplot(x=df['tonnetz'][0][2],y=df['tonnetz'][0][3])\n",
        "# major third green\n",
        "sns.lineplot(x=df['tonnetz'][0][4],y=df['tonnetz'][0][5])"
      ],
      "metadata": {
        "colab": {
          "base_uri": "https://localhost:8080/"
        },
        "id": "8AOa4vWqKJXH",
        "outputId": "aded9787-8844-4ab1-f0d5-da8ffa18fba3"
      },
      "execution_count": null,
      "outputs": [
        {
          "output_type": "execute_result",
          "data": {
            "text/plain": [
              "<matplotlib.axes._subplots.AxesSubplot at 0x7f9764d7c9d0>"
            ]
          },
          "metadata": {},
          "execution_count": 13
        },
        {
          "output_type": "display_data",
          "data": {
            "text/plain": [
              "<Figure size 432x288 with 1 Axes>"
            ],
            "image/png": "[encoded data removed]"
          },
          "metadata": {
            "needs_background": "light"
          }
        }
      ]
    },
    {
      "cell_type": "code",
      "source": [
        "# based on the minor third, prediction is that it will be either neutral or a negative emotion\n",
        "df['emotion'][0]"
      ],
      "metadata": {
        "colab": {
          "base_uri": "https://localhost:8080/"
        },
        "id": "bbRq-H46Ki2t",
        "outputId": "14bf5698-de0d-40d5-ba71-f6d288e26f97"
      },
      "execution_count": null,
      "outputs": [
        {
          "output_type": "execute_result",
          "data": {
            "text/plain": [
              "'fearful'"
            ],
            "application/vnd.google.colaboratory.intrinsic+json": {
              "type": "string"
            }
          },
          "metadata": {},
          "execution_count": 14
        }
      ]
    },
    {
      "cell_type": "code",
      "source": [
        "# fifth\n",
        "sns.lineplot(x=df['tonnetz'][3560][0],y=df['tonnetz'][3560][1])\n",
        "# minor third\n",
        "sns.lineplot(x=df['tonnetz'][3560][2],y=df['tonnetz'][3560][3])\n",
        "# major third\n",
        "sns.lineplot(x=df['tonnetz'][3560][4],y=df['tonnetz'][3560][5])"
      ],
      "metadata": {
        "colab": {
          "base_uri": "https://localhost:8080/"
        },
        "id": "-XnTN_gkKtIX",
        "outputId": "92f9dcd4-df40-4e18-d936-4c95066ed181"
      },
      "execution_count": null,
      "outputs": [
        {
          "output_type": "execute_result",
          "data": {
            "text/plain": [
              "<matplotlib.axes._subplots.AxesSubplot at 0x7f97655f8150>"
            ]
          },
          "metadata": {},
          "execution_count": 15
        },
        {
          "output_type": "display_data",
          "data": {
            "text/plain": [
              "<Figure size 432x288 with 1 Axes>"
            ],
            "image/png": "[encoded data removed]"
          },
          "metadata": {
            "needs_background": "light"
          }
        }
      ]
    },
    {
      "cell_type": "code",
      "source": [
        "# based on the minor third, prediction is that it will be either neutral or a negative emotion again\n",
        "df['emotion'][3560]"
      ],
      "metadata": {
        "colab": {
          "base_uri": "https://localhost:8080/"
        },
        "id": "m8xGb-x1DnPy",
        "outputId": "d3e6f98a-2227-4206-d106-a130933230f6"
      },
      "execution_count": null,
      "outputs": [
        {
          "output_type": "execute_result",
          "data": {
            "text/plain": [
              "'sad'"
            ],
            "application/vnd.google.colaboratory.intrinsic+json": {
              "type": "string"
            }
          },
          "metadata": {},
          "execution_count": 16
        }
      ]
    },
    {
      "cell_type": "code",
      "source": [
        "# fifth\n",
        "sns.lineplot(x=df['tonnetz'][7151][0],y=df['tonnetz'][7151][1])\n",
        "# minor third\n",
        "sns.lineplot(x=df['tonnetz'][7151][2],y=df['tonnetz'][7151][3])\n",
        "# major third\n",
        "sns.lineplot(x=df['tonnetz'][7151][4],y=df['tonnetz'][7151][5])"
      ],
      "metadata": {
        "colab": {
          "base_uri": "https://localhost:8080/"
        },
        "id": "tUPRTErzAXC2",
        "outputId": "16c9cac0-87e8-4983-f19e-e7fe9048a392"
      },
      "execution_count": null,
      "outputs": [
        {
          "output_type": "execute_result",
          "data": {
            "text/plain": [
              "<matplotlib.axes._subplots.AxesSubplot at 0x7f976efd26d0>"
            ]
          },
          "metadata": {},
          "execution_count": 17
        },
        {
          "output_type": "display_data",
          "data": {
            "text/plain": [
              "<Figure size 432x288 with 1 Axes>"
            ],
            "image/png": "[encoded data removed]"
          },
          "metadata": {
            "needs_background": "light"
          }
        }
      ]
    },
    {
      "cell_type": "code",
      "source": [
        "# based on the minor third, prediction is that it will be either neutral or a negative emotion again\n",
        "df['emotion'][7151]"
      ],
      "metadata": {
        "colab": {
          "base_uri": "https://localhost:8080/"
        },
        "id": "zQpps44ULm8F",
        "outputId": "a6193acb-1848-49c7-e958-c829ae79cd72"
      },
      "execution_count": null,
      "outputs": [
        {
          "output_type": "execute_result",
          "data": {
            "text/plain": [
              "'fearful'"
            ],
            "application/vnd.google.colaboratory.intrinsic+json": {
              "type": "string"
            }
          },
          "metadata": {},
          "execution_count": 18
        }
      ]
    },
    {
      "cell_type": "code",
      "source": [
        "# fifth\n",
        "sns.lineplot(x=df['tonnetz'][3000][0],y=df['tonnetz'][3000][1])\n",
        "# minor third\n",
        "sns.lineplot(x=df['tonnetz'][3000][2],y=df['tonnetz'][3000][3])\n",
        "# major third\n",
        "sns.lineplot(x=df['tonnetz'][3000][4],y=df['tonnetz'][3000][5])"
      ],
      "metadata": {
        "colab": {
          "base_uri": "https://localhost:8080/"
        },
        "id": "INxExDydL_SP",
        "outputId": "0e2cf4c5-9aed-4730-d2b0-4769b0c2e2bd"
      },
      "execution_count": null,
      "outputs": [
        {
          "output_type": "execute_result",
          "data": {
            "text/plain": [
              "<matplotlib.axes._subplots.AxesSubplot at 0x7f976eb97e10>"
            ]
          },
          "metadata": {},
          "execution_count": 19
        },
        {
          "output_type": "display_data",
          "data": {
            "text/plain": [
              "<Figure size 432x288 with 1 Axes>"
            ],
            "image/png": "[encoded data removed]"
          },
          "metadata": {
            "needs_background": "light"
          }
        }
      ]
    },
    {
      "cell_type": "code",
      "source": [
        "# based on the minor third, prediction is that it will be either neutral or a negative emotion again\n",
        "df['emotion'][3000]\n",
        "#it waswrong, tis neutral"
      ],
      "metadata": {
        "colab": {
          "base_uri": "https://localhost:8080/"
        },
        "id": "WeBfsw96L_-t",
        "outputId": "3479b377-a311-4bce-f69f-25f98fad67a8"
      },
      "execution_count": null,
      "outputs": [
        {
          "output_type": "execute_result",
          "data": {
            "text/plain": [
              "'neutral'"
            ],
            "application/vnd.google.colaboratory.intrinsic+json": {
              "type": "string"
            }
          },
          "metadata": {},
          "execution_count": 20
        }
      ]
    },
    {
      "cell_type": "code",
      "source": [
        "# fifth\n",
        "sns.lineplot(x=df['tonnetz'][777][0],y=df['tonnetz'][777][1])\n",
        "# minor third\n",
        "sns.lineplot(x=df['tonnetz'][777][2],y=df['tonnetz'][777][3])\n",
        "# major third\n",
        "sns.lineplot(x=df['tonnetz'][777][4],y=df['tonnetz'][777][5])"
      ],
      "metadata": {
        "colab": {
          "base_uri": "https://localhost:8080/"
        },
        "id": "yRYt4EEtMT7N",
        "outputId": "5605bb58-0449-4e5d-db99-b75f8e30193f"
      },
      "execution_count": null,
      "outputs": [
        {
          "output_type": "execute_result",
          "data": {
            "text/plain": [
              "<matplotlib.axes._subplots.AxesSubplot at 0x7f976e91b750>"
            ]
          },
          "metadata": {},
          "execution_count": 21
        },
        {
          "output_type": "display_data",
          "data": {
            "text/plain": [
              "<Figure size 432x288 with 1 Axes>"
            ],
            "image/png": "[encoded data removed]"
          },
          "metadata": {
            "needs_background": "light"
          }
        }
      ]
    },
    {
      "cell_type": "code",
      "source": [
        "# based on the minor third, prediction is that it will be either neutral or a negative emotion again\n",
        "df['emotion'][777]"
      ],
      "metadata": {
        "colab": {
          "base_uri": "https://localhost:8080/"
        },
        "id": "qIP-8R_KMYu7",
        "outputId": "c3939f2c-c477-46a4-bc2f-0b92edfeed94"
      },
      "execution_count": null,
      "outputs": [
        {
          "output_type": "execute_result",
          "data": {
            "text/plain": [
              "'angry'"
            ],
            "application/vnd.google.colaboratory.intrinsic+json": {
              "type": "string"
            }
          },
          "metadata": {},
          "execution_count": 22
        }
      ]
    },
    {
      "cell_type": "code",
      "source": [
        "df.shape"
      ],
      "metadata": {
        "colab": {
          "base_uri": "https://localhost:8080/"
        },
        "id": "Y_xgRpTkNgGx",
        "outputId": "ed2994ef-3db6-4e1d-cd24-33f207111c1b"
      },
      "execution_count": null,
      "outputs": [
        {
          "output_type": "execute_result",
          "data": {
            "text/plain": [
              "(11118, 16)"
            ]
          },
          "metadata": {},
          "execution_count": 23
        }
      ]
    },
    {
      "cell_type": "code",
      "source": [
        "# Creating X by stacking the tonnetz series into a vector\n",
        "tonnetz_5x = []\n",
        "tonnetz_5y = []\n",
        "tonnetz_3mx = []\n",
        "tonnetz_3my = []\n",
        "tonnetz_3Mx = []\n",
        "tonnetz_3My = []\n",
        "tonnetz = []\n",
        "\n",
        "for i in range(df.shape[0]):\n",
        "  tonnetz_5x.append(df['tonnetz'][i][0])\n",
        "  tonnetz_5y.append(df['tonnetz'][i][1])\n",
        "  tonnetz_3mx.append(df['tonnetz'][i][2])\n",
        "  tonnetz_3my.append(df['tonnetz'][i][3])\n",
        "  tonnetz_3Mx.append(df['tonnetz'][i][4])\n",
        "  tonnetz_3My.append(df['tonnetz'][i][5])\n",
        "  tonnetz_5x[i] = np.array(tonnetz_5x[i])\n",
        "  tonnetz_5y[i] = np.array(tonnetz_5y[i])\n",
        "  tonnetz_3mx[i] = np.array(tonnetz_3mx[i])\n",
        "  tonnetz_3my[i] = np.array(tonnetz_3my[i])\n",
        "  tonnetz_3Mx[i] = np.array(tonnetz_3Mx[i])\n",
        "  tonnetz_3My[i] = np.array(tonnetz_3My[i])\n",
        "  tonnetz.append(np.stack((tonnetz_5x[i],tonnetz_5y[i],tonnetz_3mx[i],\n",
        "                      tonnetz_3my[i],tonnetz_3Mx[i],tonnetz_3My[i])))"
      ],
      "metadata": {
        "id": "Oui0LeUnNfD_"
      },
      "execution_count": null,
      "outputs": []
    },
    {
      "cell_type": "code",
      "source": [
        "# tranforming everything into an array, aplitting train test and minmax scaling\n",
        "X = np.array(tonnetz)\n",
        "X_train, X_test, y_train, y_test = train_test_split(X, y_cat, test_size=0.30, stratify=y)\n",
        "scaler = MinMaxScaler()\n",
        "X_train_mmscaled = scaler.fit_transform(X_train.reshape(-1, X_train.shape[-1])).reshape(X_train.shape)\n",
        "X_test_mmscaled = scaler.transform(X_test.reshape(-1, X_test.shape[-1])).reshape(X_test.shape)"
      ],
      "metadata": {
        "id": "72lvGallAXIe"
      },
      "execution_count": null,
      "outputs": []
    },
    {
      "cell_type": "code",
      "source": [
        "print(X_train.shape)\n",
        "print(X_test.shape)"
      ],
      "metadata": {
        "colab": {
          "base_uri": "https://localhost:8080/"
        },
        "id": "OhrC6ZAYQi5_",
        "outputId": "bdb27138-5e56-4457-dcc0-49c7fbff64d5"
      },
      "execution_count": null,
      "outputs": [
        {
          "output_type": "stream",
          "name": "stdout",
          "text": [
            "(7782, 6, 127)\n",
            "(3336, 6, 127)\n"
          ]
        }
      ]
    },
    {
      "cell_type": "code",
      "source": [
        "from  tensorflow import expand_dims, squeeze"
      ],
      "metadata": {
        "id": "r05XS6XhW0xQ"
      },
      "execution_count": null,
      "outputs": []
    },
    {
      "cell_type": "code",
      "source": [
        "# Expanding dims to input into model\n",
        "X_train_mmscaled = expand_dims(X_train_mmscaled,-1)\n",
        "X_test_mmscaled = expand_dims(X_test_mmscaled,-1)"
      ],
      "metadata": {
        "id": "NODOxlVEXVMD"
      },
      "execution_count": null,
      "outputs": []
    },
    {
      "cell_type": "code",
      "source": [
        "print(X_train_mmscaled.shape)\n",
        "print(X_test_mmscaled.shape)"
      ],
      "metadata": {
        "colab": {
          "base_uri": "https://localhost:8080/"
        },
        "id": "BVGpMIInWy02",
        "outputId": "f9ee7d2d-320a-49b6-f25b-518ca451193b"
      },
      "execution_count": null,
      "outputs": [
        {
          "output_type": "stream",
          "name": "stdout",
          "text": [
            "(7782, 6, 127, 1)\n",
            "(3336, 6, 127, 1)\n"
          ]
        }
      ]
    },
    {
      "cell_type": "code",
      "source": [
        "from tensorflow.keras.optimizers import Adam\n",
        "\n",
        "# Tried a few different versions, this was the best result\n",
        "custom_adam = Adam(learning_rate=0.0001)"
      ],
      "metadata": {
        "id": "zSYsvDgoAXKs"
      },
      "execution_count": null,
      "outputs": []
    },
    {
      "cell_type": "code",
      "source": [
        "# Masking 0 values and using conv2d to scan through each X Y pair in tonnetz (see libosa docs)\n",
        "model = models.Sequential()\n",
        "model.add(layers.Masking(mask_value=0))\n",
        "model.add(layers.Conv2D(128, kernel_size=(2,2), strides=(1,2), padding='valid', activation = \"relu\"))\n",
        "model.add(layers.Conv2D(128, kernel_size=(2,2), strides=(1,2), padding='valid', activation = \"relu\"))\n",
        "model.add(layers.BatchNormalization())\n",
        "model.add(layers.Dropout(0.5))\n",
        "# model.add(layers.MaxPooling2D(pool_size=(2,2)))\n",
        "\n",
        "model.add(layers.Conv2D(256, kernel_size=(2,2), strides=(1,2), padding='valid', activation = \"relu\"))\n",
        "# model.add(layers.BatchNormalization())\n",
        "model.add(layers.Dropout(0.5))\n",
        "model.add(layers.Conv2D(256, kernel_size=(2,2), strides=(1,2), padding='valid', activation = \"relu\"))\n",
        "model.add(layers.Dropout(0.5))\n",
        "model.add(layers.Conv2D(512, kernel_size=(2,2), strides=(1,2), padding='valid', activation = \"relu\"))\n",
        "\n",
        "# model.add(layers.MaxPooling2D(pool_size=(2,2)))\n",
        "model.add(layers.Flatten())\n",
        "\n",
        "# More dense layers improved model performance 10-20%\n",
        "\n",
        "model.add(layers.Dense(200, activation='relu'))\n",
        "model.add(layers.Dense(100, activation='relu'))\n",
        "model.add(layers.Dropout(0.5))\n",
        "model.add(layers.Dense(100, activation='relu'))\n",
        "\n",
        "model.add(layers.Dense(200, activation='relu'))\n",
        "model.add(layers.Dense(100, activation='relu'))\n",
        "model.add(layers.Dropout(0.5))\n",
        "model.add(layers.Dense(100, activation='relu'))\n",
        "\n",
        "model.add(layers.Dense(6, activation='softmax'))\n"
      ],
      "metadata": {
        "id": "qf10GlfBAXNE"
      },
      "execution_count": null,
      "outputs": []
    },
    {
      "cell_type": "code",
      "source": [
        "model.build((1, 6, 127, 1))"
      ],
      "metadata": {
        "id": "CMuqJAkPX8OA"
      },
      "execution_count": null,
      "outputs": []
    },
    {
      "cell_type": "code",
      "source": [
        "model.compile(loss=\"categorical_crossentropy\", optimizer=custom_adam, metrics=[\"accuracy\"])"
      ],
      "metadata": {
        "id": "qBeGJX1QSh2n"
      },
      "execution_count": null,
      "outputs": []
    },
    {
      "cell_type": "code",
      "source": [
        "model.summary()"
      ],
      "metadata": {
        "colab": {
          "base_uri": "https://localhost:8080/"
        },
        "id": "MpSkyePTZJ5j",
        "outputId": "62651079-d298-405a-8e3d-81115144b61b"
      },
      "execution_count": null,
      "outputs": [
        {
          "output_type": "stream",
          "name": "stdout",
          "text": [
            "Model: \"sequential\"\n",
            "_________________________________________________________________\n",
            " Layer (type)                Output Shape              Param #   \n",
            "=================================================================\n",
            " masking (Masking)           (1, 6, 127, 1)            0         \n",
            "                                                                 \n",
            " conv2d (Conv2D)             (1, 5, 63, 128)           640       \n",
            "                                                                 \n",
            " conv2d_1 (Conv2D)           (1, 4, 31, 128)           65664     \n",
            "                                                                 \n",
            " batch_normalization (BatchN  (1, 4, 31, 128)          512       \n",
            " ormalization)                                                   \n",
            "                                                                 \n",
            " dropout (Dropout)           (1, 4, 31, 128)           0         \n",
            "                                                                 \n",
            " conv2d_2 (Conv2D)           (1, 3, 15, 256)           131328    \n",
            "                                                                 \n",
            " dropout_1 (Dropout)         (1, 3, 15, 256)           0         \n",
            "                                                                 \n",
            " conv2d_3 (Conv2D)           (1, 2, 7, 256)            262400    \n",
            "                                                                 \n",
            " dropout_2 (Dropout)         (1, 2, 7, 256)            0         \n",
            "                                                                 \n",
            " conv2d_4 (Conv2D)           (1, 1, 3, 512)            524800    \n",
            "                                                                 \n",
            " flatten (Flatten)           (1, 1536)                 0         \n",
            "                                                                 \n",
            " dense (Dense)               (1, 200)                  307400    \n",
            "                                                                 \n",
            " dense_1 (Dense)             (1, 100)                  20100     \n",
            "                                                                 \n",
            " dropout_3 (Dropout)         (1, 100)                  0         \n",
            "                                                                 \n",
            " dense_2 (Dense)             (1, 100)                  10100     \n",
            "                                                                 \n",
            " dense_3 (Dense)             (1, 200)                  20200     \n",
            "                                                                 \n",
            " dense_4 (Dense)             (1, 100)                  20100     \n",
            "                                                                 \n",
            " dropout_4 (Dropout)         (1, 100)                  0         \n",
            "                                                                 \n",
            " dense_5 (Dense)             (1, 100)                  10100     \n",
            "                                                                 \n",
            " dense_6 (Dense)             (1, 6)                    606       \n",
            "                                                                 \n",
            "=================================================================\n",
            "Total params: 1,373,950\n",
            "Trainable params: 1,373,694\n",
            "Non-trainable params: 256\n",
            "_________________________________________________________________\n"
          ]
        }
      ]
    },
    {
      "cell_type": "code",
      "source": [
        "es = EarlyStopping(patience=50, restore_best_weights=True)\n",
        "history_1 = model.fit(X_train_mmscaled, y_train, validation_split=0.3, epochs=1000, batch_size=64, callbacks=[es])"
      ],
      "metadata": {
        "colab": {
          "base_uri": "https://localhost:8080/"
        },
        "id": "7mcc5CYaR-fS",
        "outputId": "683f2469-097b-4527-9df3-d37d2b716298"
      },
      "execution_count": null,
      "outputs": [
        {
          "output_type": "stream",
          "name": "stdout",
          "text": [
            "Epoch 1/1000\n",
            "86/86 [==============================] - 4s 11ms/step - loss: 1.7915 - accuracy: 0.1717 - val_loss: 1.7915 - val_accuracy: 0.1687\n",
            "Epoch 2/1000\n",
            "86/86 [==============================] - 1s 7ms/step - loss: 1.7902 - accuracy: 0.1717 - val_loss: 1.7912 - val_accuracy: 0.1687\n",
            "Epoch 3/1000\n",
            "86/86 [==============================] - 1s 7ms/step - loss: 1.7878 - accuracy: 0.1718 - val_loss: 1.7909 - val_accuracy: 0.1687\n",
            "Epoch 4/1000\n",
            "86/86 [==============================] - 1s 7ms/step - loss: 1.7805 - accuracy: 0.1783 - val_loss: 1.7879 - val_accuracy: 0.2060\n",
            "Epoch 5/1000\n",
            "86/86 [==============================] - 1s 7ms/step - loss: 1.7528 - accuracy: 0.1939 - val_loss: 1.7696 - val_accuracy: 0.2330\n",
            "Epoch 6/1000\n",
            "70/86 [=======================>......] - ETA: 0s - loss: 1.7322 - accuracy: 0.2112"
          ]
        },
        {
          "output_type": "error",
          "ename": "KeyboardInterrupt",
          "evalue": "ignored",
          "traceback": [
            "\u001b[0;31m---------------------------------------------------------------------------\u001b[0m",
            "\u001b[0;31mKeyboardInterrupt\u001b[0m                         Traceback (most recent call last)",
            "\u001b[0;32m<ipython-input-35-1f2c7ffa7967>\u001b[0m in \u001b[0;36m<module>\u001b[0;34m\u001b[0m\n\u001b[1;32m      1\u001b[0m \u001b[0mes\u001b[0m \u001b[0;34m=\u001b[0m \u001b[0mEarlyStopping\u001b[0m\u001b[0;34m(\u001b[0m\u001b[0mpatience\u001b[0m\u001b[0;34m=\u001b[0m\u001b[0;36m50\u001b[0m\u001b[0;34m,\u001b[0m \u001b[0mrestore_best_weights\u001b[0m\u001b[0;34m=\u001b[0m\u001b[0;32mTrue\u001b[0m\u001b[0;34m)\u001b[0m\u001b[0;34m\u001b[0m\u001b[0;34m\u001b[0m\u001b[0m\n\u001b[0;32m----> 2\u001b[0;31m \u001b[0mhistory_1\u001b[0m \u001b[0;34m=\u001b[0m \u001b[0mmodel\u001b[0m\u001b[0;34m.\u001b[0m\u001b[0mfit\u001b[0m\u001b[0;34m(\u001b[0m\u001b[0mX_train_mmscaled\u001b[0m\u001b[0;34m,\u001b[0m \u001b[0my_train\u001b[0m\u001b[0;34m,\u001b[0m \u001b[0mvalidation_split\u001b[0m\u001b[0;34m=\u001b[0m\u001b[0;36m0.3\u001b[0m\u001b[0;34m,\u001b[0m \u001b[0mepochs\u001b[0m\u001b[0;34m=\u001b[0m\u001b[0;36m1000\u001b[0m\u001b[0;34m,\u001b[0m \u001b[0mbatch_size\u001b[0m\u001b[0;34m=\u001b[0m\u001b[0;36m64\u001b[0m\u001b[0;34m,\u001b[0m \u001b[0mcallbacks\u001b[0m\u001b[0;34m=\u001b[0m\u001b[0;34m[\u001b[0m\u001b[0mes\u001b[0m\u001b[0;34m]\u001b[0m\u001b[0;34m)\u001b[0m\u001b[0;34m\u001b[0m\u001b[0;34m\u001b[0m\u001b[0m\n\u001b[0m",
            "\u001b[0;32m/usr/local/lib/python3.7/dist-packages/keras/utils/traceback_utils.py\u001b[0m in \u001b[0;36merror_handler\u001b[0;34m(*args, **kwargs)\u001b[0m\n\u001b[1;32m     62\u001b[0m     \u001b[0mfiltered_tb\u001b[0m \u001b[0;34m=\u001b[0m \u001b[0;32mNone\u001b[0m\u001b[0;34m\u001b[0m\u001b[0;34m\u001b[0m\u001b[0m\n\u001b[1;32m     63\u001b[0m     \u001b[0;32mtry\u001b[0m\u001b[0;34m:\u001b[0m\u001b[0;34m\u001b[0m\u001b[0;34m\u001b[0m\u001b[0m\n\u001b[0;32m---> 64\u001b[0;31m       \u001b[0;32mreturn\u001b[0m \u001b[0mfn\u001b[0m\u001b[0;34m(\u001b[0m\u001b[0;34m*\u001b[0m\u001b[0margs\u001b[0m\u001b[0;34m,\u001b[0m \u001b[0;34m**\u001b[0m\u001b[0mkwargs\u001b[0m\u001b[0;34m)\u001b[0m\u001b[0;34m\u001b[0m\u001b[0;34m\u001b[0m\u001b[0m\n\u001b[0m\u001b[1;32m     65\u001b[0m     \u001b[0;32mexcept\u001b[0m \u001b[0mException\u001b[0m \u001b[0;32mas\u001b[0m \u001b[0me\u001b[0m\u001b[0;34m:\u001b[0m  \u001b[0;31m# pylint: disable=broad-except\u001b[0m\u001b[0;34m\u001b[0m\u001b[0;34m\u001b[0m\u001b[0m\n\u001b[1;32m     66\u001b[0m       \u001b[0mfiltered_tb\u001b[0m \u001b[0;34m=\u001b[0m \u001b[0m_process_traceback_frames\u001b[0m\u001b[0;34m(\u001b[0m\u001b[0me\u001b[0m\u001b[0;34m.\u001b[0m\u001b[0m__traceback__\u001b[0m\u001b[0;34m)\u001b[0m\u001b[0;34m\u001b[0m\u001b[0;34m\u001b[0m\u001b[0m\n",
            "\u001b[0;32m/usr/local/lib/python3.7/dist-packages/keras/engine/training.py\u001b[0m in \u001b[0;36mfit\u001b[0;34m(self, x, y, batch_size, epochs, verbose, callbacks, validation_split, validation_data, shuffle, class_weight, sample_weight, initial_epoch, steps_per_epoch, validation_steps, validation_batch_size, validation_freq, max_queue_size, workers, use_multiprocessing)\u001b[0m\n\u001b[1;32m   1407\u001b[0m                 _r=1):\n\u001b[1;32m   1408\u001b[0m               \u001b[0mcallbacks\u001b[0m\u001b[0;34m.\u001b[0m\u001b[0mon_train_batch_begin\u001b[0m\u001b[0;34m(\u001b[0m\u001b[0mstep\u001b[0m\u001b[0;34m)\u001b[0m\u001b[0;34m\u001b[0m\u001b[0;34m\u001b[0m\u001b[0m\n\u001b[0;32m-> 1409\u001b[0;31m               \u001b[0mtmp_logs\u001b[0m \u001b[0;34m=\u001b[0m \u001b[0mself\u001b[0m\u001b[0;34m.\u001b[0m\u001b[0mtrain_function\u001b[0m\u001b[0;34m(\u001b[0m\u001b[0miterator\u001b[0m\u001b[0;34m)\u001b[0m\u001b[0;34m\u001b[0m\u001b[0;34m\u001b[0m\u001b[0m\n\u001b[0m\u001b[1;32m   1410\u001b[0m               \u001b[0;32mif\u001b[0m \u001b[0mdata_handler\u001b[0m\u001b[0;34m.\u001b[0m\u001b[0mshould_sync\u001b[0m\u001b[0;34m:\u001b[0m\u001b[0;34m\u001b[0m\u001b[0;34m\u001b[0m\u001b[0m\n\u001b[1;32m   1411\u001b[0m                 \u001b[0mcontext\u001b[0m\u001b[0;34m.\u001b[0m\u001b[0masync_wait\u001b[0m\u001b[0;34m(\u001b[0m\u001b[0;34m)\u001b[0m\u001b[0;34m\u001b[0m\u001b[0;34m\u001b[0m\u001b[0m\n",
            "\u001b[0;32m/usr/local/lib/python3.7/dist-packages/tensorflow/python/util/traceback_utils.py\u001b[0m in \u001b[0;36merror_handler\u001b[0;34m(*args, **kwargs)\u001b[0m\n\u001b[1;32m    148\u001b[0m     \u001b[0mfiltered_tb\u001b[0m \u001b[0;34m=\u001b[0m \u001b[0;32mNone\u001b[0m\u001b[0;34m\u001b[0m\u001b[0;34m\u001b[0m\u001b[0m\n\u001b[1;32m    149\u001b[0m     \u001b[0;32mtry\u001b[0m\u001b[0;34m:\u001b[0m\u001b[0;34m\u001b[0m\u001b[0;34m\u001b[0m\u001b[0m\n\u001b[0;32m--> 150\u001b[0;31m       \u001b[0;32mreturn\u001b[0m \u001b[0mfn\u001b[0m\u001b[0;34m(\u001b[0m\u001b[0;34m*\u001b[0m\u001b[0margs\u001b[0m\u001b[0;34m,\u001b[0m \u001b[0;34m**\u001b[0m\u001b[0mkwargs\u001b[0m\u001b[0;34m)\u001b[0m\u001b[0;34m\u001b[0m\u001b[0;34m\u001b[0m\u001b[0m\n\u001b[0m\u001b[1;32m    151\u001b[0m     \u001b[0;32mexcept\u001b[0m \u001b[0mException\u001b[0m \u001b[0;32mas\u001b[0m \u001b[0me\u001b[0m\u001b[0;34m:\u001b[0m\u001b[0;34m\u001b[0m\u001b[0;34m\u001b[0m\u001b[0m\n\u001b[1;32m    152\u001b[0m       \u001b[0mfiltered_tb\u001b[0m \u001b[0;34m=\u001b[0m \u001b[0m_process_traceback_frames\u001b[0m\u001b[0;34m(\u001b[0m\u001b[0me\u001b[0m\u001b[0;34m.\u001b[0m\u001b[0m__traceback__\u001b[0m\u001b[0;34m)\u001b[0m\u001b[0;34m\u001b[0m\u001b[0;34m\u001b[0m\u001b[0m\n",
            "\u001b[0;32m/usr/local/lib/python3.7/dist-packages/tensorflow/python/eager/def_function.py\u001b[0m in \u001b[0;36m__call__\u001b[0;34m(self, *args, **kwds)\u001b[0m\n\u001b[1;32m    913\u001b[0m \u001b[0;34m\u001b[0m\u001b[0m\n\u001b[1;32m    914\u001b[0m       \u001b[0;32mwith\u001b[0m \u001b[0mOptionalXlaContext\u001b[0m\u001b[0;34m(\u001b[0m\u001b[0mself\u001b[0m\u001b[0;34m.\u001b[0m\u001b[0m_jit_compile\u001b[0m\u001b[0;34m)\u001b[0m\u001b[0;34m:\u001b[0m\u001b[0;34m\u001b[0m\u001b[0;34m\u001b[0m\u001b[0m\n\u001b[0;32m--> 915\u001b[0;31m         \u001b[0mresult\u001b[0m \u001b[0;34m=\u001b[0m \u001b[0mself\u001b[0m\u001b[0;34m.\u001b[0m\u001b[0m_call\u001b[0m\u001b[0;34m(\u001b[0m\u001b[0;34m*\u001b[0m\u001b[0margs\u001b[0m\u001b[0;34m,\u001b[0m \u001b[0;34m**\u001b[0m\u001b[0mkwds\u001b[0m\u001b[0;34m)\u001b[0m\u001b[0;34m\u001b[0m\u001b[0;34m\u001b[0m\u001b[0m\n\u001b[0m\u001b[1;32m    916\u001b[0m \u001b[0;34m\u001b[0m\u001b[0m\n\u001b[1;32m    917\u001b[0m       \u001b[0mnew_tracing_count\u001b[0m \u001b[0;34m=\u001b[0m \u001b[0mself\u001b[0m\u001b[0;34m.\u001b[0m\u001b[0mexperimental_get_tracing_count\u001b[0m\u001b[0;34m(\u001b[0m\u001b[0;34m)\u001b[0m\u001b[0;34m\u001b[0m\u001b[0;34m\u001b[0m\u001b[0m\n",
            "\u001b[0;32m/usr/local/lib/python3.7/dist-packages/tensorflow/python/eager/def_function.py\u001b[0m in \u001b[0;36m_call\u001b[0;34m(self, *args, **kwds)\u001b[0m\n\u001b[1;32m    945\u001b[0m       \u001b[0;31m# In this case we have created variables on the first call, so we run the\u001b[0m\u001b[0;34m\u001b[0m\u001b[0;34m\u001b[0m\u001b[0;34m\u001b[0m\u001b[0m\n\u001b[1;32m    946\u001b[0m       \u001b[0;31m# defunned version which is guaranteed to never create variables.\u001b[0m\u001b[0;34m\u001b[0m\u001b[0;34m\u001b[0m\u001b[0;34m\u001b[0m\u001b[0m\n\u001b[0;32m--> 947\u001b[0;31m       \u001b[0;32mreturn\u001b[0m \u001b[0mself\u001b[0m\u001b[0;34m.\u001b[0m\u001b[0m_stateless_fn\u001b[0m\u001b[0;34m(\u001b[0m\u001b[0;34m*\u001b[0m\u001b[0margs\u001b[0m\u001b[0;34m,\u001b[0m \u001b[0;34m**\u001b[0m\u001b[0mkwds\u001b[0m\u001b[0;34m)\u001b[0m  \u001b[0;31m# pylint: disable=not-callable\u001b[0m\u001b[0;34m\u001b[0m\u001b[0;34m\u001b[0m\u001b[0m\n\u001b[0m\u001b[1;32m    948\u001b[0m     \u001b[0;32melif\u001b[0m \u001b[0mself\u001b[0m\u001b[0;34m.\u001b[0m\u001b[0m_stateful_fn\u001b[0m \u001b[0;32mis\u001b[0m \u001b[0;32mnot\u001b[0m \u001b[0;32mNone\u001b[0m\u001b[0;34m:\u001b[0m\u001b[0;34m\u001b[0m\u001b[0;34m\u001b[0m\u001b[0m\n\u001b[1;32m    949\u001b[0m       \u001b[0;31m# Release the lock early so that multiple threads can perform the call\u001b[0m\u001b[0;34m\u001b[0m\u001b[0;34m\u001b[0m\u001b[0;34m\u001b[0m\u001b[0m\n",
            "\u001b[0;32m/usr/local/lib/python3.7/dist-packages/tensorflow/python/eager/function.py\u001b[0m in \u001b[0;36m__call__\u001b[0;34m(self, *args, **kwargs)\u001b[0m\n\u001b[1;32m   2452\u001b[0m        filtered_flat_args) = self._maybe_define_function(args, kwargs)\n\u001b[1;32m   2453\u001b[0m     return graph_function._call_flat(\n\u001b[0;32m-> 2454\u001b[0;31m         filtered_flat_args, captured_inputs=graph_function.captured_inputs)  # pylint: disable=protected-access\n\u001b[0m\u001b[1;32m   2455\u001b[0m \u001b[0;34m\u001b[0m\u001b[0m\n\u001b[1;32m   2456\u001b[0m   \u001b[0;34m@\u001b[0m\u001b[0mproperty\u001b[0m\u001b[0;34m\u001b[0m\u001b[0;34m\u001b[0m\u001b[0m\n",
            "\u001b[0;32m/usr/local/lib/python3.7/dist-packages/tensorflow/python/eager/function.py\u001b[0m in \u001b[0;36m_call_flat\u001b[0;34m(self, args, captured_inputs, cancellation_manager)\u001b[0m\n\u001b[1;32m   1859\u001b[0m       \u001b[0;31m# No tape is watching; skip to running the function.\u001b[0m\u001b[0;34m\u001b[0m\u001b[0;34m\u001b[0m\u001b[0;34m\u001b[0m\u001b[0m\n\u001b[1;32m   1860\u001b[0m       return self._build_call_outputs(self._inference_function.call(\n\u001b[0;32m-> 1861\u001b[0;31m           ctx, args, cancellation_manager=cancellation_manager))\n\u001b[0m\u001b[1;32m   1862\u001b[0m     forward_backward = self._select_forward_and_backward_functions(\n\u001b[1;32m   1863\u001b[0m         \u001b[0margs\u001b[0m\u001b[0;34m,\u001b[0m\u001b[0;34m\u001b[0m\u001b[0;34m\u001b[0m\u001b[0m\n",
            "\u001b[0;32m/usr/local/lib/python3.7/dist-packages/tensorflow/python/eager/function.py\u001b[0m in \u001b[0;36mcall\u001b[0;34m(self, ctx, args, cancellation_manager)\u001b[0m\n\u001b[1;32m    500\u001b[0m               \u001b[0minputs\u001b[0m\u001b[0;34m=\u001b[0m\u001b[0margs\u001b[0m\u001b[0;34m,\u001b[0m\u001b[0;34m\u001b[0m\u001b[0;34m\u001b[0m\u001b[0m\n\u001b[1;32m    501\u001b[0m               \u001b[0mattrs\u001b[0m\u001b[0;34m=\u001b[0m\u001b[0mattrs\u001b[0m\u001b[0;34m,\u001b[0m\u001b[0;34m\u001b[0m\u001b[0;34m\u001b[0m\u001b[0m\n\u001b[0;32m--> 502\u001b[0;31m               ctx=ctx)\n\u001b[0m\u001b[1;32m    503\u001b[0m         \u001b[0;32melse\u001b[0m\u001b[0;34m:\u001b[0m\u001b[0;34m\u001b[0m\u001b[0;34m\u001b[0m\u001b[0m\n\u001b[1;32m    504\u001b[0m           outputs = execute.execute_with_cancellation(\n",
            "\u001b[0;32m/usr/local/lib/python3.7/dist-packages/tensorflow/python/eager/execute.py\u001b[0m in \u001b[0;36mquick_execute\u001b[0;34m(op_name, num_outputs, inputs, attrs, ctx, name)\u001b[0m\n\u001b[1;32m     53\u001b[0m     \u001b[0mctx\u001b[0m\u001b[0;34m.\u001b[0m\u001b[0mensure_initialized\u001b[0m\u001b[0;34m(\u001b[0m\u001b[0;34m)\u001b[0m\u001b[0;34m\u001b[0m\u001b[0;34m\u001b[0m\u001b[0m\n\u001b[1;32m     54\u001b[0m     tensors = pywrap_tfe.TFE_Py_Execute(ctx._handle, device_name, op_name,\n\u001b[0;32m---> 55\u001b[0;31m                                         inputs, attrs, num_outputs)\n\u001b[0m\u001b[1;32m     56\u001b[0m   \u001b[0;32mexcept\u001b[0m \u001b[0mcore\u001b[0m\u001b[0;34m.\u001b[0m\u001b[0m_NotOkStatusException\u001b[0m \u001b[0;32mas\u001b[0m \u001b[0me\u001b[0m\u001b[0;34m:\u001b[0m\u001b[0;34m\u001b[0m\u001b[0;34m\u001b[0m\u001b[0m\n\u001b[1;32m     57\u001b[0m     \u001b[0;32mif\u001b[0m \u001b[0mname\u001b[0m \u001b[0;32mis\u001b[0m \u001b[0;32mnot\u001b[0m \u001b[0;32mNone\u001b[0m\u001b[0;34m:\u001b[0m\u001b[0;34m\u001b[0m\u001b[0;34m\u001b[0m\u001b[0m\n",
            "\u001b[0;31mKeyboardInterrupt\u001b[0m: "
          ]
        }
      ]
    },
    {
      "cell_type": "code",
      "source": [
        "model.evaluate(X_test_mmscaled, y_test)"
      ],
      "metadata": {
        "id": "cinYUSKwDirf"
      },
      "execution_count": null,
      "outputs": []
    },
    {
      "cell_type": "markdown",
      "source": [
        "## Model 2: Tonnetz + PCA (Failure)\n"
      ],
      "metadata": {
        "id": "FjQckc6FG7cV"
      }
    },
    {
      "cell_type": "markdown",
      "source": [
        "I think this one went wrong at a very fundamental leval. Might be interesting to go back and see if it can be processed correctly. I tried to make it so that after reducing the dimensionality to 3 waves, it returned to the original format. I don't think I did it right, but I planned on going back to it at some point. Might hve been a good solution if implemented, but couldn't figure out how to do DL with it, only the original ML."
      ],
      "metadata": {
        "id": "2GqBmbo8wnwJ"
      }
    },
    {
      "cell_type": "code",
      "source": [
        "from sklearn.decomposition import PCA\n",
        "\n"
      ],
      "metadata": {
        "id": "C8APDrZ5Diui"
      },
      "execution_count": null,
      "outputs": []
    },
    {
      "cell_type": "code",
      "source": [
        "std_scaler = StandardScaler(copy=True)\n",
        "X_train_stdscaled = std_scaler.fit_transform(X_train.reshape(-1, X_train.shape[-1])).reshape(X_train.shape)\n",
        "X_test_stdscaled = std_scaler.transform(X_test.reshape(-1, X_test.shape[-1])).reshape(X_test.shape)"
      ],
      "metadata": {
        "id": "__Uw91vyPSxK"
      },
      "execution_count": null,
      "outputs": []
    },
    {
      "cell_type": "code",
      "source": [
        "pca = PCA()"
      ],
      "metadata": {
        "id": "ZgakoRAAP3Ht"
      },
      "execution_count": null,
      "outputs": []
    },
    {
      "cell_type": "code",
      "source": [
        "X_train_PCA = pca.fit_transform(X_train_stdscaled.reshape(-1, X_train_stdscaled.shape[-1])).reshape(X_train.shape)\n",
        "X_train_PCa_cut = X_train_PCA[:,:4,:]\n"
      ],
      "metadata": {
        "id": "rsm0sCk2Di0Z"
      },
      "execution_count": null,
      "outputs": []
    },
    {
      "cell_type": "code",
      "source": [
        "X_test_PCA = pca.transform(X_test_stdscaled.reshape(-1, X_test_stdscaled.shape[-1])).reshape(X_test.shape)\n",
        "X_test_PCA_cut = X_test_PCA[:,:4,:]\n"
      ],
      "metadata": {
        "id": "OIJFgCbiXRKU"
      },
      "execution_count": null,
      "outputs": []
    },
    {
      "cell_type": "code",
      "source": [
        "X_test_PCA.shape"
      ],
      "metadata": {
        "colab": {
          "base_uri": "https://localhost:8080/"
        },
        "id": "MuVCKm1cUBdL",
        "outputId": "1cd2d0aa-e3bf-44e3-b63a-1028b41ab957"
      },
      "execution_count": null,
      "outputs": [
        {
          "output_type": "execute_result",
          "data": {
            "text/plain": [
              "(3336, 6, 127)"
            ]
          },
          "metadata": {},
          "execution_count": 43
        }
      ]
    },
    {
      "cell_type": "code",
      "source": [
        "X_train_PCA.shape"
      ],
      "metadata": {
        "id": "dJThR8K4Di28",
        "colab": {
          "base_uri": "https://localhost:8080/"
        },
        "outputId": "a23a233e-56be-4d35-9bdd-4d0f684d7a41"
      },
      "execution_count": null,
      "outputs": [
        {
          "output_type": "execute_result",
          "data": {
            "text/plain": [
              "(7782, 6, 127)"
            ]
          },
          "metadata": {},
          "execution_count": 44
        }
      ]
    },
    {
      "cell_type": "code",
      "source": [
        "X_train_PCA_input = pca.inverse_transform(X_train_PCa_cut)\n",
        "X_test_PCA_input = pca.inverse_transform(X_test_PCA_cut)"
      ],
      "metadata": {
        "id": "eJYlx6WSYBKb"
      },
      "execution_count": null,
      "outputs": []
    },
    {
      "cell_type": "code",
      "source": [
        "X_train_PCA_input = expand_dims(X_train_PCA_input,-1)\n",
        "X_test_PCA_input = expand_dims(X_test_PCA_cut,-1)"
      ],
      "metadata": {
        "id": "MWhqjOe1YUs3"
      },
      "execution_count": null,
      "outputs": []
    },
    {
      "cell_type": "code",
      "source": [
        "model2 = models.Sequential()\n",
        "model2.add(layers.Masking(mask_value=0))\n",
        "model2.add(layers.Conv2D(128, kernel_size=(1,1), strides=(1,1), padding='valid', activation = \"relu\"))\n",
        "model2.add(layers.Conv2D(128, kernel_size=(1,1), strides=(1,1), padding='valid', activation = \"relu\"))\n",
        "model2.add(layers.BatchNormalization())\n",
        "model2.add(layers.Dropout(0.5))\n",
        "# model.add(layers.MaxPooling2D(pool_size=(2,2)))\n",
        "\n",
        "model2.add(layers.Conv2D(256, kernel_size=(1,1), strides=(1,1), padding='valid', activation = \"relu\"))\n",
        "model2.add(layers.BatchNormalization())\n",
        "model2.add(layers.Dropout(0.5))\n",
        "model2.add(layers.Conv2D(256, kernel_size=(1,1), strides=(1,1), padding='valid', activation = \"relu\"))\n",
        "model2.add(layers.Dropout(0.5))\n",
        "model2.add(layers.Conv2D(512, kernel_size=(1,1), strides=(1,1), padding='valid', activation = \"relu\"))\n",
        "\n",
        "# model.add(layers.MaxPooling2D(pool_size=(2,2)))\n",
        "model2.add(layers.Flatten())\n",
        "\n",
        "model2.add(layers.Dense(200, activation='relu'))\n",
        "model2.add(layers.Dense(100, activation='relu'))\n",
        "model2.add(layers.Dropout(0.5))\n",
        "model2.add(layers.Dense(100, activation='relu'))\n",
        "\n",
        "model2.add(layers.Dense(200, activation='relu'))\n",
        "model2.add(layers.Dense(100, activation='relu'))\n",
        "model2.add(layers.Dropout(0.5))\n",
        "model2.add(layers.Dense(100, activation='relu'))\n",
        "\n",
        "model2.add(layers.Dense(6, activation='softmax'))\n"
      ],
      "metadata": {
        "id": "fG62mKW0Njf5"
      },
      "execution_count": null,
      "outputs": []
    },
    {
      "cell_type": "code",
      "source": [
        "model2.compile(loss=\"categorical_crossentropy\", optimizer=custom_adam, metrics=[\"accuracy\"])"
      ],
      "metadata": {
        "id": "0UN4qNaXW_gR"
      },
      "execution_count": null,
      "outputs": []
    },
    {
      "cell_type": "code",
      "source": [
        "X_train_PCA_input.shape"
      ],
      "metadata": {
        "colab": {
          "base_uri": "https://localhost:8080/"
        },
        "id": "WquSqdn1fSUW",
        "outputId": "1629134b-d222-4172-a5a0-572c2d604d08"
      },
      "execution_count": null,
      "outputs": [
        {
          "output_type": "execute_result",
          "data": {
            "text/plain": [
              "TensorShape([7782, 4, 127, 1])"
            ]
          },
          "metadata": {},
          "execution_count": 49
        }
      ]
    },
    {
      "cell_type": "code",
      "source": [
        "es = EarlyStopping(patience=30, restore_best_weights=True)\n",
        "history_2 = model2.fit(X_train_PCA_input, y_train, validation_split=0.3, epochs=1000, batch_size=64, callbacks=[es])"
      ],
      "metadata": {
        "colab": {
          "base_uri": "https://localhost:8080/"
        },
        "id": "OZRsrbl9W_iz",
        "outputId": "ee278bff-e103-4a2d-a34b-2ef1cec64e9e"
      },
      "execution_count": null,
      "outputs": [
        {
          "output_type": "stream",
          "name": "stdout",
          "text": [
            "Epoch 1/1000\n",
            "86/86 [==============================] - 3s 20ms/step - loss: 2.1557 - accuracy: 0.1702 - val_loss: 1.7912 - val_accuracy: 0.1760\n",
            "Epoch 2/1000\n",
            "86/86 [==============================] - 1s 15ms/step - loss: 1.7902 - accuracy: 0.1755 - val_loss: 1.7909 - val_accuracy: 0.1760\n",
            "Epoch 3/1000\n",
            "86/86 [==============================] - 1s 15ms/step - loss: 1.7852 - accuracy: 0.1819 - val_loss: 1.7907 - val_accuracy: 0.1760\n",
            "Epoch 4/1000\n",
            "86/86 [==============================] - 1s 15ms/step - loss: 1.7712 - accuracy: 0.1942 - val_loss: 1.7851 - val_accuracy: 0.2385\n",
            "Epoch 5/1000\n",
            "86/86 [==============================] - 1s 15ms/step - loss: 1.7426 - accuracy: 0.2231 - val_loss: 1.7570 - val_accuracy: 0.2771\n",
            "Epoch 6/1000\n",
            "86/86 [==============================] - 1s 15ms/step - loss: 1.7176 - accuracy: 0.2376 - val_loss: 1.7240 - val_accuracy: 0.2912\n",
            "Epoch 7/1000\n",
            "86/86 [==============================] - 1s 15ms/step - loss: 1.7021 - accuracy: 0.2541 - val_loss: 1.6776 - val_accuracy: 0.3032\n",
            "Epoch 8/1000\n",
            "86/86 [==============================] - 1s 15ms/step - loss: 1.6692 - accuracy: 0.2647 - val_loss: 1.6444 - val_accuracy: 0.2874\n",
            "Epoch 9/1000\n",
            "86/86 [==============================] - 1s 15ms/step - loss: 1.6567 - accuracy: 0.2811 - val_loss: 1.6260 - val_accuracy: 0.3135\n",
            "Epoch 10/1000\n",
            "86/86 [==============================] - 1s 15ms/step - loss: 1.6360 - accuracy: 0.2965 - val_loss: 1.5993 - val_accuracy: 0.3221\n",
            "Epoch 11/1000\n",
            "86/86 [==============================] - 1s 14ms/step - loss: 1.6265 - accuracy: 0.2956 - val_loss: 1.5999 - val_accuracy: 0.3246\n",
            "Epoch 12/1000\n",
            "86/86 [==============================] - 1s 15ms/step - loss: 1.6127 - accuracy: 0.3126 - val_loss: 1.5873 - val_accuracy: 0.3281\n",
            "Epoch 13/1000\n",
            "86/86 [==============================] - 1s 13ms/step - loss: 1.5979 - accuracy: 0.3191 - val_loss: 1.5950 - val_accuracy: 0.3259\n",
            "Epoch 14/1000\n",
            "86/86 [==============================] - 1s 14ms/step - loss: 1.5945 - accuracy: 0.3270 - val_loss: 1.5962 - val_accuracy: 0.3285\n",
            "Epoch 15/1000\n",
            "86/86 [==============================] - 1s 15ms/step - loss: 1.5698 - accuracy: 0.3284 - val_loss: 1.5797 - val_accuracy: 0.3238\n",
            "Epoch 16/1000\n",
            "86/86 [==============================] - ETA: 0s - loss: 1.5684 - accuracy: 0.3369"
          ]
        },
        {
          "output_type": "error",
          "ename": "KeyboardInterrupt",
          "evalue": "ignored",
          "traceback": [
            "\u001b[0;31m---------------------------------------------------------------------------\u001b[0m",
            "\u001b[0;31mKeyboardInterrupt\u001b[0m                         Traceback (most recent call last)",
            "\u001b[0;32m<ipython-input-50-c13f2f9d35b4>\u001b[0m in \u001b[0;36m<module>\u001b[0;34m\u001b[0m\n\u001b[1;32m      1\u001b[0m \u001b[0mes\u001b[0m \u001b[0;34m=\u001b[0m \u001b[0mEarlyStopping\u001b[0m\u001b[0;34m(\u001b[0m\u001b[0mpatience\u001b[0m\u001b[0;34m=\u001b[0m\u001b[0;36m30\u001b[0m\u001b[0;34m,\u001b[0m \u001b[0mrestore_best_weights\u001b[0m\u001b[0;34m=\u001b[0m\u001b[0;32mTrue\u001b[0m\u001b[0;34m)\u001b[0m\u001b[0;34m\u001b[0m\u001b[0;34m\u001b[0m\u001b[0m\n\u001b[0;32m----> 2\u001b[0;31m \u001b[0mhistory_2\u001b[0m \u001b[0;34m=\u001b[0m \u001b[0mmodel2\u001b[0m\u001b[0;34m.\u001b[0m\u001b[0mfit\u001b[0m\u001b[0;34m(\u001b[0m\u001b[0mX_train_PCA_input\u001b[0m\u001b[0;34m,\u001b[0m \u001b[0my_train\u001b[0m\u001b[0;34m,\u001b[0m \u001b[0mvalidation_split\u001b[0m\u001b[0;34m=\u001b[0m\u001b[0;36m0.3\u001b[0m\u001b[0;34m,\u001b[0m \u001b[0mepochs\u001b[0m\u001b[0;34m=\u001b[0m\u001b[0;36m1000\u001b[0m\u001b[0;34m,\u001b[0m \u001b[0mbatch_size\u001b[0m\u001b[0;34m=\u001b[0m\u001b[0;36m64\u001b[0m\u001b[0;34m,\u001b[0m \u001b[0mcallbacks\u001b[0m\u001b[0;34m=\u001b[0m\u001b[0;34m[\u001b[0m\u001b[0mes\u001b[0m\u001b[0;34m]\u001b[0m\u001b[0;34m)\u001b[0m\u001b[0;34m\u001b[0m\u001b[0;34m\u001b[0m\u001b[0m\n\u001b[0m",
            "\u001b[0;32m/usr/local/lib/python3.7/dist-packages/keras/utils/traceback_utils.py\u001b[0m in \u001b[0;36merror_handler\u001b[0;34m(*args, **kwargs)\u001b[0m\n\u001b[1;32m     62\u001b[0m     \u001b[0mfiltered_tb\u001b[0m \u001b[0;34m=\u001b[0m \u001b[0;32mNone\u001b[0m\u001b[0;34m\u001b[0m\u001b[0;34m\u001b[0m\u001b[0m\n\u001b[1;32m     63\u001b[0m     \u001b[0;32mtry\u001b[0m\u001b[0;34m:\u001b[0m\u001b[0;34m\u001b[0m\u001b[0;34m\u001b[0m\u001b[0m\n\u001b[0;32m---> 64\u001b[0;31m       \u001b[0;32mreturn\u001b[0m \u001b[0mfn\u001b[0m\u001b[0;34m(\u001b[0m\u001b[0;34m*\u001b[0m\u001b[0margs\u001b[0m\u001b[0;34m,\u001b[0m \u001b[0;34m**\u001b[0m\u001b[0mkwargs\u001b[0m\u001b[0;34m)\u001b[0m\u001b[0;34m\u001b[0m\u001b[0;34m\u001b[0m\u001b[0m\n\u001b[0m\u001b[1;32m     65\u001b[0m     \u001b[0;32mexcept\u001b[0m \u001b[0mException\u001b[0m \u001b[0;32mas\u001b[0m \u001b[0me\u001b[0m\u001b[0;34m:\u001b[0m  \u001b[0;31m# pylint: disable=broad-except\u001b[0m\u001b[0;34m\u001b[0m\u001b[0;34m\u001b[0m\u001b[0m\n\u001b[1;32m     66\u001b[0m       \u001b[0mfiltered_tb\u001b[0m \u001b[0;34m=\u001b[0m \u001b[0m_process_traceback_frames\u001b[0m\u001b[0;34m(\u001b[0m\u001b[0me\u001b[0m\u001b[0;34m.\u001b[0m\u001b[0m__traceback__\u001b[0m\u001b[0;34m)\u001b[0m\u001b[0;34m\u001b[0m\u001b[0;34m\u001b[0m\u001b[0m\n",
            "\u001b[0;32m/usr/local/lib/python3.7/dist-packages/keras/engine/training.py\u001b[0m in \u001b[0;36mfit\u001b[0;34m(self, x, y, batch_size, epochs, verbose, callbacks, validation_split, validation_data, shuffle, class_weight, sample_weight, initial_epoch, steps_per_epoch, validation_steps, validation_batch_size, validation_freq, max_queue_size, workers, use_multiprocessing)\u001b[0m\n\u001b[1;32m   1454\u001b[0m               \u001b[0muse_multiprocessing\u001b[0m\u001b[0;34m=\u001b[0m\u001b[0muse_multiprocessing\u001b[0m\u001b[0;34m,\u001b[0m\u001b[0;34m\u001b[0m\u001b[0;34m\u001b[0m\u001b[0m\n\u001b[1;32m   1455\u001b[0m               \u001b[0mreturn_dict\u001b[0m\u001b[0;34m=\u001b[0m\u001b[0;32mTrue\u001b[0m\u001b[0;34m,\u001b[0m\u001b[0;34m\u001b[0m\u001b[0;34m\u001b[0m\u001b[0m\n\u001b[0;32m-> 1456\u001b[0;31m               _use_cached_eval_dataset=True)\n\u001b[0m\u001b[1;32m   1457\u001b[0m           \u001b[0mval_logs\u001b[0m \u001b[0;34m=\u001b[0m \u001b[0;34m{\u001b[0m\u001b[0;34m'val_'\u001b[0m \u001b[0;34m+\u001b[0m \u001b[0mname\u001b[0m\u001b[0;34m:\u001b[0m \u001b[0mval\u001b[0m \u001b[0;32mfor\u001b[0m \u001b[0mname\u001b[0m\u001b[0;34m,\u001b[0m \u001b[0mval\u001b[0m \u001b[0;32min\u001b[0m \u001b[0mval_logs\u001b[0m\u001b[0;34m.\u001b[0m\u001b[0mitems\u001b[0m\u001b[0;34m(\u001b[0m\u001b[0;34m)\u001b[0m\u001b[0;34m}\u001b[0m\u001b[0;34m\u001b[0m\u001b[0;34m\u001b[0m\u001b[0m\n\u001b[1;32m   1458\u001b[0m           \u001b[0mepoch_logs\u001b[0m\u001b[0;34m.\u001b[0m\u001b[0mupdate\u001b[0m\u001b[0;34m(\u001b[0m\u001b[0mval_logs\u001b[0m\u001b[0;34m)\u001b[0m\u001b[0;34m\u001b[0m\u001b[0;34m\u001b[0m\u001b[0m\n",
            "\u001b[0;32m/usr/local/lib/python3.7/dist-packages/keras/utils/traceback_utils.py\u001b[0m in \u001b[0;36merror_handler\u001b[0;34m(*args, **kwargs)\u001b[0m\n\u001b[1;32m     62\u001b[0m     \u001b[0mfiltered_tb\u001b[0m \u001b[0;34m=\u001b[0m \u001b[0;32mNone\u001b[0m\u001b[0;34m\u001b[0m\u001b[0;34m\u001b[0m\u001b[0m\n\u001b[1;32m     63\u001b[0m     \u001b[0;32mtry\u001b[0m\u001b[0;34m:\u001b[0m\u001b[0;34m\u001b[0m\u001b[0;34m\u001b[0m\u001b[0m\n\u001b[0;32m---> 64\u001b[0;31m       \u001b[0;32mreturn\u001b[0m \u001b[0mfn\u001b[0m\u001b[0;34m(\u001b[0m\u001b[0;34m*\u001b[0m\u001b[0margs\u001b[0m\u001b[0;34m,\u001b[0m \u001b[0;34m**\u001b[0m\u001b[0mkwargs\u001b[0m\u001b[0;34m)\u001b[0m\u001b[0;34m\u001b[0m\u001b[0;34m\u001b[0m\u001b[0m\n\u001b[0m\u001b[1;32m     65\u001b[0m     \u001b[0;32mexcept\u001b[0m \u001b[0mException\u001b[0m \u001b[0;32mas\u001b[0m \u001b[0me\u001b[0m\u001b[0;34m:\u001b[0m  \u001b[0;31m# pylint: disable=broad-except\u001b[0m\u001b[0;34m\u001b[0m\u001b[0;34m\u001b[0m\u001b[0m\n\u001b[1;32m     66\u001b[0m       \u001b[0mfiltered_tb\u001b[0m \u001b[0;34m=\u001b[0m \u001b[0m_process_traceback_frames\u001b[0m\u001b[0;34m(\u001b[0m\u001b[0me\u001b[0m\u001b[0;34m.\u001b[0m\u001b[0m__traceback__\u001b[0m\u001b[0;34m)\u001b[0m\u001b[0;34m\u001b[0m\u001b[0;34m\u001b[0m\u001b[0m\n",
            "\u001b[0;32m/usr/local/lib/python3.7/dist-packages/keras/engine/training.py\u001b[0m in \u001b[0;36mevaluate\u001b[0;34m(self, x, y, batch_size, verbose, sample_weight, steps, callbacks, max_queue_size, workers, use_multiprocessing, return_dict, **kwargs)\u001b[0m\n\u001b[1;32m   1754\u001b[0m             \u001b[0;32mwith\u001b[0m \u001b[0mtf\u001b[0m\u001b[0;34m.\u001b[0m\u001b[0mprofiler\u001b[0m\u001b[0;34m.\u001b[0m\u001b[0mexperimental\u001b[0m\u001b[0;34m.\u001b[0m\u001b[0mTrace\u001b[0m\u001b[0;34m(\u001b[0m\u001b[0;34m'test'\u001b[0m\u001b[0;34m,\u001b[0m \u001b[0mstep_num\u001b[0m\u001b[0;34m=\u001b[0m\u001b[0mstep\u001b[0m\u001b[0;34m,\u001b[0m \u001b[0m_r\u001b[0m\u001b[0;34m=\u001b[0m\u001b[0;36m1\u001b[0m\u001b[0;34m)\u001b[0m\u001b[0;34m:\u001b[0m\u001b[0;34m\u001b[0m\u001b[0;34m\u001b[0m\u001b[0m\n\u001b[1;32m   1755\u001b[0m               \u001b[0mcallbacks\u001b[0m\u001b[0;34m.\u001b[0m\u001b[0mon_test_batch_begin\u001b[0m\u001b[0;34m(\u001b[0m\u001b[0mstep\u001b[0m\u001b[0;34m)\u001b[0m\u001b[0;34m\u001b[0m\u001b[0;34m\u001b[0m\u001b[0m\n\u001b[0;32m-> 1756\u001b[0;31m               \u001b[0mtmp_logs\u001b[0m \u001b[0;34m=\u001b[0m \u001b[0mself\u001b[0m\u001b[0;34m.\u001b[0m\u001b[0mtest_function\u001b[0m\u001b[0;34m(\u001b[0m\u001b[0miterator\u001b[0m\u001b[0;34m)\u001b[0m\u001b[0;34m\u001b[0m\u001b[0;34m\u001b[0m\u001b[0m\n\u001b[0m\u001b[1;32m   1757\u001b[0m               \u001b[0;32mif\u001b[0m \u001b[0mdata_handler\u001b[0m\u001b[0;34m.\u001b[0m\u001b[0mshould_sync\u001b[0m\u001b[0;34m:\u001b[0m\u001b[0;34m\u001b[0m\u001b[0;34m\u001b[0m\u001b[0m\n\u001b[1;32m   1758\u001b[0m                 \u001b[0mcontext\u001b[0m\u001b[0;34m.\u001b[0m\u001b[0masync_wait\u001b[0m\u001b[0;34m(\u001b[0m\u001b[0;34m)\u001b[0m\u001b[0;34m\u001b[0m\u001b[0;34m\u001b[0m\u001b[0m\n",
            "\u001b[0;32m/usr/local/lib/python3.7/dist-packages/tensorflow/python/util/traceback_utils.py\u001b[0m in \u001b[0;36merror_handler\u001b[0;34m(*args, **kwargs)\u001b[0m\n\u001b[1;32m    148\u001b[0m     \u001b[0mfiltered_tb\u001b[0m \u001b[0;34m=\u001b[0m \u001b[0;32mNone\u001b[0m\u001b[0;34m\u001b[0m\u001b[0;34m\u001b[0m\u001b[0m\n\u001b[1;32m    149\u001b[0m     \u001b[0;32mtry\u001b[0m\u001b[0;34m:\u001b[0m\u001b[0;34m\u001b[0m\u001b[0;34m\u001b[0m\u001b[0m\n\u001b[0;32m--> 150\u001b[0;31m       \u001b[0;32mreturn\u001b[0m \u001b[0mfn\u001b[0m\u001b[0;34m(\u001b[0m\u001b[0;34m*\u001b[0m\u001b[0margs\u001b[0m\u001b[0;34m,\u001b[0m \u001b[0;34m**\u001b[0m\u001b[0mkwargs\u001b[0m\u001b[0;34m)\u001b[0m\u001b[0;34m\u001b[0m\u001b[0;34m\u001b[0m\u001b[0m\n\u001b[0m\u001b[1;32m    151\u001b[0m     \u001b[0;32mexcept\u001b[0m \u001b[0mException\u001b[0m \u001b[0;32mas\u001b[0m \u001b[0me\u001b[0m\u001b[0;34m:\u001b[0m\u001b[0;34m\u001b[0m\u001b[0;34m\u001b[0m\u001b[0m\n\u001b[1;32m    152\u001b[0m       \u001b[0mfiltered_tb\u001b[0m \u001b[0;34m=\u001b[0m \u001b[0m_process_traceback_frames\u001b[0m\u001b[0;34m(\u001b[0m\u001b[0me\u001b[0m\u001b[0;34m.\u001b[0m\u001b[0m__traceback__\u001b[0m\u001b[0;34m)\u001b[0m\u001b[0;34m\u001b[0m\u001b[0;34m\u001b[0m\u001b[0m\n",
            "\u001b[0;32m/usr/local/lib/python3.7/dist-packages/tensorflow/python/eager/def_function.py\u001b[0m in \u001b[0;36m__call__\u001b[0;34m(self, *args, **kwds)\u001b[0m\n\u001b[1;32m    913\u001b[0m \u001b[0;34m\u001b[0m\u001b[0m\n\u001b[1;32m    914\u001b[0m       \u001b[0;32mwith\u001b[0m \u001b[0mOptionalXlaContext\u001b[0m\u001b[0;34m(\u001b[0m\u001b[0mself\u001b[0m\u001b[0;34m.\u001b[0m\u001b[0m_jit_compile\u001b[0m\u001b[0;34m)\u001b[0m\u001b[0;34m:\u001b[0m\u001b[0;34m\u001b[0m\u001b[0;34m\u001b[0m\u001b[0m\n\u001b[0;32m--> 915\u001b[0;31m         \u001b[0mresult\u001b[0m \u001b[0;34m=\u001b[0m \u001b[0mself\u001b[0m\u001b[0;34m.\u001b[0m\u001b[0m_call\u001b[0m\u001b[0;34m(\u001b[0m\u001b[0;34m*\u001b[0m\u001b[0margs\u001b[0m\u001b[0;34m,\u001b[0m \u001b[0;34m**\u001b[0m\u001b[0mkwds\u001b[0m\u001b[0;34m)\u001b[0m\u001b[0;34m\u001b[0m\u001b[0;34m\u001b[0m\u001b[0m\n\u001b[0m\u001b[1;32m    916\u001b[0m \u001b[0;34m\u001b[0m\u001b[0m\n\u001b[1;32m    917\u001b[0m       \u001b[0mnew_tracing_count\u001b[0m \u001b[0;34m=\u001b[0m \u001b[0mself\u001b[0m\u001b[0;34m.\u001b[0m\u001b[0mexperimental_get_tracing_count\u001b[0m\u001b[0;34m(\u001b[0m\u001b[0;34m)\u001b[0m\u001b[0;34m\u001b[0m\u001b[0;34m\u001b[0m\u001b[0m\n",
            "\u001b[0;32m/usr/local/lib/python3.7/dist-packages/tensorflow/python/eager/def_function.py\u001b[0m in \u001b[0;36m_call\u001b[0;34m(self, *args, **kwds)\u001b[0m\n\u001b[1;32m    952\u001b[0m       \u001b[0;31m# In this case we have not created variables on the first call. So we can\u001b[0m\u001b[0;34m\u001b[0m\u001b[0;34m\u001b[0m\u001b[0;34m\u001b[0m\u001b[0m\n\u001b[1;32m    953\u001b[0m       \u001b[0;31m# run the first trace but we should fail if variables are created.\u001b[0m\u001b[0;34m\u001b[0m\u001b[0;34m\u001b[0m\u001b[0;34m\u001b[0m\u001b[0m\n\u001b[0;32m--> 954\u001b[0;31m       \u001b[0mresults\u001b[0m \u001b[0;34m=\u001b[0m \u001b[0mself\u001b[0m\u001b[0;34m.\u001b[0m\u001b[0m_stateful_fn\u001b[0m\u001b[0;34m(\u001b[0m\u001b[0;34m*\u001b[0m\u001b[0margs\u001b[0m\u001b[0;34m,\u001b[0m \u001b[0;34m**\u001b[0m\u001b[0mkwds\u001b[0m\u001b[0;34m)\u001b[0m\u001b[0;34m\u001b[0m\u001b[0;34m\u001b[0m\u001b[0m\n\u001b[0m\u001b[1;32m    955\u001b[0m       \u001b[0;32mif\u001b[0m \u001b[0mself\u001b[0m\u001b[0;34m.\u001b[0m\u001b[0m_created_variables\u001b[0m \u001b[0;32mand\u001b[0m \u001b[0;32mnot\u001b[0m \u001b[0mALLOW_DYNAMIC_VARIABLE_CREATION\u001b[0m\u001b[0;34m:\u001b[0m\u001b[0;34m\u001b[0m\u001b[0;34m\u001b[0m\u001b[0m\n\u001b[1;32m    956\u001b[0m         raise ValueError(\"Creating variables on a non-first call to a function\"\n",
            "\u001b[0;32m/usr/local/lib/python3.7/dist-packages/tensorflow/python/eager/function.py\u001b[0m in \u001b[0;36m__call__\u001b[0;34m(self, *args, **kwargs)\u001b[0m\n\u001b[1;32m   2452\u001b[0m        filtered_flat_args) = self._maybe_define_function(args, kwargs)\n\u001b[1;32m   2453\u001b[0m     return graph_function._call_flat(\n\u001b[0;32m-> 2454\u001b[0;31m         filtered_flat_args, captured_inputs=graph_function.captured_inputs)  # pylint: disable=protected-access\n\u001b[0m\u001b[1;32m   2455\u001b[0m \u001b[0;34m\u001b[0m\u001b[0m\n\u001b[1;32m   2456\u001b[0m   \u001b[0;34m@\u001b[0m\u001b[0mproperty\u001b[0m\u001b[0;34m\u001b[0m\u001b[0;34m\u001b[0m\u001b[0m\n",
            "\u001b[0;32m/usr/local/lib/python3.7/dist-packages/tensorflow/python/eager/function.py\u001b[0m in \u001b[0;36m_call_flat\u001b[0;34m(self, args, captured_inputs, cancellation_manager)\u001b[0m\n\u001b[1;32m   1859\u001b[0m       \u001b[0;31m# No tape is watching; skip to running the function.\u001b[0m\u001b[0;34m\u001b[0m\u001b[0;34m\u001b[0m\u001b[0;34m\u001b[0m\u001b[0m\n\u001b[1;32m   1860\u001b[0m       return self._build_call_outputs(self._inference_function.call(\n\u001b[0;32m-> 1861\u001b[0;31m           ctx, args, cancellation_manager=cancellation_manager))\n\u001b[0m\u001b[1;32m   1862\u001b[0m     forward_backward = self._select_forward_and_backward_functions(\n\u001b[1;32m   1863\u001b[0m         \u001b[0margs\u001b[0m\u001b[0;34m,\u001b[0m\u001b[0;34m\u001b[0m\u001b[0;34m\u001b[0m\u001b[0m\n",
            "\u001b[0;32m/usr/local/lib/python3.7/dist-packages/tensorflow/python/eager/function.py\u001b[0m in \u001b[0;36mcall\u001b[0;34m(self, ctx, args, cancellation_manager)\u001b[0m\n\u001b[1;32m    500\u001b[0m               \u001b[0minputs\u001b[0m\u001b[0;34m=\u001b[0m\u001b[0margs\u001b[0m\u001b[0;34m,\u001b[0m\u001b[0;34m\u001b[0m\u001b[0;34m\u001b[0m\u001b[0m\n\u001b[1;32m    501\u001b[0m               \u001b[0mattrs\u001b[0m\u001b[0;34m=\u001b[0m\u001b[0mattrs\u001b[0m\u001b[0;34m,\u001b[0m\u001b[0;34m\u001b[0m\u001b[0;34m\u001b[0m\u001b[0m\n\u001b[0;32m--> 502\u001b[0;31m               ctx=ctx)\n\u001b[0m\u001b[1;32m    503\u001b[0m         \u001b[0;32melse\u001b[0m\u001b[0;34m:\u001b[0m\u001b[0;34m\u001b[0m\u001b[0;34m\u001b[0m\u001b[0m\n\u001b[1;32m    504\u001b[0m           outputs = execute.execute_with_cancellation(\n",
            "\u001b[0;32m/usr/local/lib/python3.7/dist-packages/tensorflow/python/eager/execute.py\u001b[0m in \u001b[0;36mquick_execute\u001b[0;34m(op_name, num_outputs, inputs, attrs, ctx, name)\u001b[0m\n\u001b[1;32m     53\u001b[0m     \u001b[0mctx\u001b[0m\u001b[0;34m.\u001b[0m\u001b[0mensure_initialized\u001b[0m\u001b[0;34m(\u001b[0m\u001b[0;34m)\u001b[0m\u001b[0;34m\u001b[0m\u001b[0;34m\u001b[0m\u001b[0m\n\u001b[1;32m     54\u001b[0m     tensors = pywrap_tfe.TFE_Py_Execute(ctx._handle, device_name, op_name,\n\u001b[0;32m---> 55\u001b[0;31m                                         inputs, attrs, num_outputs)\n\u001b[0m\u001b[1;32m     56\u001b[0m   \u001b[0;32mexcept\u001b[0m \u001b[0mcore\u001b[0m\u001b[0;34m.\u001b[0m\u001b[0m_NotOkStatusException\u001b[0m \u001b[0;32mas\u001b[0m \u001b[0me\u001b[0m\u001b[0;34m:\u001b[0m\u001b[0;34m\u001b[0m\u001b[0;34m\u001b[0m\u001b[0m\n\u001b[1;32m     57\u001b[0m     \u001b[0;32mif\u001b[0m \u001b[0mname\u001b[0m \u001b[0;32mis\u001b[0m \u001b[0;32mnot\u001b[0m \u001b[0;32mNone\u001b[0m\u001b[0;34m:\u001b[0m\u001b[0;34m\u001b[0m\u001b[0;34m\u001b[0m\u001b[0m\n",
            "\u001b[0;31mKeyboardInterrupt\u001b[0m: "
          ]
        }
      ]
    },
    {
      "cell_type": "code",
      "source": [
        "model2.evaluate(X_test_PCA_input, y_test)"
      ],
      "metadata": {
        "id": "8MfwN7xkW_lr"
      },
      "execution_count": null,
      "outputs": []
    },
    {
      "cell_type": "code",
      "source": [],
      "metadata": {
        "id": "eEN5Mf3LW_pg"
      },
      "execution_count": null,
      "outputs": []
    },
    {
      "cell_type": "code",
      "source": [],
      "metadata": {
        "id": "HS-K2v8eW_rE"
      },
      "execution_count": null,
      "outputs": []
    },
    {
      "cell_type": "code",
      "source": [],
      "metadata": {
        "id": "9Zy3zgKHjflr"
      },
      "execution_count": null,
      "outputs": []
    },
    {
      "cell_type": "markdown",
      "source": [
        "## Model 3 Chroma stacked"
      ],
      "metadata": {
        "id": "IBwAM6nkjhBo"
      }
    },
    {
      "cell_type": "code",
      "source": [
        "# Attempted to stack all compatible features, failed and went to chroma"
      ],
      "metadata": {
        "id": "6CsaF5RCsB_D"
      },
      "execution_count": null,
      "outputs": []
    },
    {
      "cell_type": "code",
      "source": [
        "df.columns"
      ],
      "metadata": {
        "colab": {
          "base_uri": "https://localhost:8080/"
        },
        "id": "bdWciydBahEV",
        "outputId": "18d6c599-8fbf-46c9-9bd1-77cd44fdf96f"
      },
      "execution_count": null,
      "outputs": [
        {
          "output_type": "execute_result",
          "data": {
            "text/plain": [
              "Index(['index', 'id', 'wave', 'mel_spec', 'fourrier', 'spec',\n",
              "       'spectral_centroid', 'mfcc', 'chroma_stft', 'tonnetz', 'emotion',\n",
              "       'intensity', 'repetition', 'actor_gender', 'actor_age', 'source'],\n",
              "      dtype='object')"
            ]
          },
          "metadata": {},
          "execution_count": 52
        }
      ]
    },
    {
      "cell_type": "code",
      "source": [
        "columns = df.drop(['id', 'index','emotion','intensity','repetition','actor_gender','actor_age','source'], axis=1).columns"
      ],
      "metadata": {
        "id": "9gwY7SVBdDb2"
      },
      "execution_count": null,
      "outputs": []
    },
    {
      "cell_type": "code",
      "source": [
        "columns"
      ],
      "metadata": {
        "colab": {
          "base_uri": "https://localhost:8080/"
        },
        "id": "_HgQ-n31dT_u",
        "outputId": "71496676-33d9-407f-be1f-5c31cac0edd6"
      },
      "execution_count": null,
      "outputs": [
        {
          "output_type": "execute_result",
          "data": {
            "text/plain": [
              "Index(['wave', 'mel_spec', 'fourrier', 'spec', 'spectral_centroid', 'mfcc',\n",
              "       'chroma_stft', 'tonnetz'],\n",
              "      dtype='object')"
            ]
          },
          "metadata": {},
          "execution_count": 54
        }
      ]
    },
    {
      "cell_type": "code",
      "source": [
        "for i in columns:\n",
        "  print(f'The len of {i} is {len(df[i][0])}')"
      ],
      "metadata": {
        "colab": {
          "base_uri": "https://localhost:8080/"
        },
        "id": "rAC-gnlncXon",
        "outputId": "0124084a-9fe0-4dc0-aa40-6bc0744584f1"
      },
      "execution_count": null,
      "outputs": [
        {
          "output_type": "stream",
          "name": "stdout",
          "text": [
            "The len of wave is 65000\n",
            "The len of mel_spec is 256\n",
            "The len of fourrier is 1025\n",
            "The len of spec is 256\n",
            "The len of spectral_centroid is 1\n",
            "The len of mfcc is 127\n",
            "The len of chroma_stft is 12\n",
            "The len of tonnetz is 6\n"
          ]
        }
      ]
    },
    {
      "cell_type": "code",
      "source": [
        "len(df['chroma_stft' ][0][0])"
      ],
      "metadata": {
        "colab": {
          "base_uri": "https://localhost:8080/"
        },
        "id": "VTD6QOpndp1J",
        "outputId": "3a9ead47-9db2-4ba9-fc60-9cd483a82fd1"
      },
      "execution_count": null,
      "outputs": [
        {
          "output_type": "execute_result",
          "data": {
            "text/plain": [
              "127"
            ]
          },
          "metadata": {},
          "execution_count": 56
        }
      ]
    },
    {
      "cell_type": "code",
      "source": [
        "for i in range(12):\n",
        "  print(f'chroma_{i} = []')"
      ],
      "metadata": {
        "colab": {
          "base_uri": "https://localhost:8080/"
        },
        "id": "KEpDeqKCd637",
        "outputId": "9af2296b-1dde-4bd4-d945-0e3726b045e7"
      },
      "execution_count": null,
      "outputs": [
        {
          "output_type": "stream",
          "name": "stdout",
          "text": [
            "chroma_0 = []\n",
            "chroma_1 = []\n",
            "chroma_2 = []\n",
            "chroma_3 = []\n",
            "chroma_4 = []\n",
            "chroma_5 = []\n",
            "chroma_6 = []\n",
            "chroma_7 = []\n",
            "chroma_8 = []\n",
            "chroma_9 = []\n",
            "chroma_10 = []\n",
            "chroma_11 = []\n"
          ]
        }
      ]
    },
    {
      "cell_type": "code",
      "source": [
        "for i in range(12):\n",
        "  print(f'chroma_{i}, ')"
      ],
      "metadata": {
        "colab": {
          "base_uri": "https://localhost:8080/"
        },
        "id": "bh_VHqhge6JX",
        "outputId": "90b7268c-1802-4255-d7d4-6082f098aa43"
      },
      "execution_count": null,
      "outputs": [
        {
          "output_type": "stream",
          "name": "stdout",
          "text": [
            "chroma_0, \n",
            "chroma_1, \n",
            "chroma_2, \n",
            "chroma_3, \n",
            "chroma_4, \n",
            "chroma_5, \n",
            "chroma_6, \n",
            "chroma_7, \n",
            "chroma_8, \n",
            "chroma_9, \n",
            "chroma_10, \n",
            "chroma_11, \n"
          ]
        }
      ]
    },
    {
      "cell_type": "code",
      "source": [
        "for i in range(12):\n",
        "  print(f'chroma[{i}][i], ')"
      ],
      "metadata": {
        "colab": {
          "base_uri": "https://localhost:8080/"
        },
        "id": "VFbc0hXRinQb",
        "outputId": "2013e65b-8959-48ac-b02d-ff8f79db8136"
      },
      "execution_count": null,
      "outputs": [
        {
          "output_type": "stream",
          "name": "stdout",
          "text": [
            "chroma[0][i], \n",
            "chroma[1][i], \n",
            "chroma[2][i], \n",
            "chroma[3][i], \n",
            "chroma[4][i], \n",
            "chroma[5][i], \n",
            "chroma[6][i], \n",
            "chroma[7][i], \n",
            "chroma[8][i], \n",
            "chroma[9][i], \n",
            "chroma[10][i], \n",
            "chroma[11][i], \n"
          ]
        }
      ]
    },
    {
      "cell_type": "code",
      "source": [
        "tonnetz_5x = []\n",
        "tonnetz_5y = []\n",
        "tonnetz_3mx = []\n",
        "tonnetz_3my = []\n",
        "tonnetz_3Mx = []\n",
        "tonnetz_3My = []\n",
        "chroma_0 = []\n",
        "chroma_1 = []\n",
        "chroma_2 = []\n",
        "chroma_3 = []\n",
        "chroma_4 = []\n",
        "chroma_5 = []\n",
        "chroma_6 = []\n",
        "chroma_7 = []\n",
        "chroma_8 = []\n",
        "chroma_9 = []\n",
        "chroma_10 = []\n",
        "chroma_11 = []\n",
        "chroma = [chroma_0, \n",
        "chroma_1, \n",
        "chroma_2, \n",
        "chroma_3, \n",
        "chroma_4, \n",
        "chroma_5, \n",
        "chroma_6, \n",
        "chroma_7, \n",
        "chroma_8, \n",
        "chroma_9, \n",
        "chroma_10, \n",
        "chroma_11]\n",
        "mfcc = []\n",
        "total = []\n",
        "\n",
        "for i in range(df.shape[0]):\n",
        "  # tonnetz_5x.append(df['tonnetz'][i][0])\n",
        "  # tonnetz_5y.append(df['tonnetz'][i][1])\n",
        "  # tonnetz_3mx.append(df['tonnetz'][i][2])\n",
        "  # tonnetz_3my.append(df['tonnetz'][i][3])\n",
        "  # tonnetz_3Mx.append(df['tonnetz'][i][4])\n",
        "  # tonnetz_3My.append(df['tonnetz'][i][5])\n",
        "  for index, j in enumerate(chroma):\n",
        "    j.append(df['chroma_stft'][i][index])\n",
        "  # mfcc.append(df['mfcc'][i])\n",
        "  for k in range(12):\n",
        "    chroma[k][i] = np.array(chroma[k][i])\n",
        "  # tonnetz_5x[i] = np.array(tonnetz_5x[i])\n",
        "  # tonnetz_5y[i] = np.array(tonnetz_5y[i])\n",
        "  # tonnetz_3mx[i] = np.array(tonnetz_3mx[i])\n",
        "  # tonnetz_3my[i] = np.array(tonnetz_3my[i])\n",
        "  # tonnetz_3Mx[i] = np.array(tonnetz_3Mx[i])\n",
        "  # tonnetz_3My[i] = np.array(tonnetz_3My[i])\n",
        "  # mfcc[i] = np.array(mfcc[i])\n",
        "  total.append(np.stack(( chroma[1][i], chroma[2][i], chroma[3][i], chroma[4][i], \n",
        "                      chroma[5][i], chroma[6][i], chroma[7][i], chroma[8][i], \n",
        "                      chroma[9][i], chroma[10][i], chroma[11][i])))"
      ],
      "metadata": {
        "id": "YjzlWSbpXwPY"
      },
      "execution_count": null,
      "outputs": []
    },
    {
      "cell_type": "code",
      "source": [
        "X = np.array(total)"
      ],
      "metadata": {
        "id": "Cl8Vdw4IXwMo"
      },
      "execution_count": null,
      "outputs": []
    },
    {
      "cell_type": "code",
      "source": [
        "X_train, X_test, y_train, y_test = train_test_split(X, y_cat, test_size=0.30, stratify=y)"
      ],
      "metadata": {
        "id": "5syIq5HlXwJh"
      },
      "execution_count": null,
      "outputs": []
    },
    {
      "cell_type": "code",
      "source": [
        "scaler = MinMaxScaler()\n",
        "X_train_mmscaled = scaler.fit_transform(X_train.reshape(-1, X_train.shape[-1])).reshape(X_train.shape)\n",
        "X_test_mmscaled = scaler.transform(X_test.reshape(-1, X_test.shape[-1])).reshape(X_test.shape)\n",
        "\n",
        "X_train_mmscaled = expand_dims(X_train_mmscaled,-1)\n",
        "X_test_mmscaled = expand_dims(X_test_mmscaled,-1)"
      ],
      "metadata": {
        "id": "kqXV3QDRXwF3"
      },
      "execution_count": null,
      "outputs": []
    },
    {
      "cell_type": "code",
      "source": [
        "model3 = models.Sequential()\n",
        "model3.add(layers.Masking(mask_value=0))\n",
        "model3.add(layers.Conv1D(128, kernel_size=6, strides=1, padding='valid', activation = \"relu\"))\n",
        "model3.add(layers.Conv1D(128, kernel_size=6, strides=1, padding='valid', activation = \"relu\"))\n",
        "model3.add(layers.BatchNormalization())\n",
        "model3.add(layers.Dropout(0.5))\n",
        "# model.add(layers.MaxPooling2D(pool_size=(2,2)))\n",
        "\n",
        "model3.add(layers.Conv1D(256, kernel_size=6, strides=1, padding='valid', activation = \"relu\"))\n",
        "# model.add(layers.BatchNormalization())\n",
        "model3.add(layers.Dropout(0.5))\n",
        "model3.add(layers.Conv1D(256, kernel_size=6, strides=1, padding='valid', activation = \"relu\"))\n",
        "model3.add(layers.Dropout(0.5))\n",
        "model3.add(layers.Conv1D(256, kernel_size=6, strides=1, padding='valid', activation = \"relu\"))\n",
        "\n",
        "# model.add(layers.MaxPooling2D(pool_size=(2,2)))\n",
        "model3.add(layers.Flatten())\n",
        "\n",
        "model3.add(layers.Dense(200, activation='relu'))\n",
        "model3.add(layers.Dropout(0.5))\n",
        "model3.add(layers.Dense(100, activation='relu'))\n",
        "model3.add(layers.Dropout(0.5))\n",
        "model3.add(layers.Dense(100, activation='relu'))\n",
        "\n",
        "model3.add(layers.Dense(200, activation='relu'))\n",
        "model3.add(layers.Dropout(0.5))\n",
        "model3.add(layers.Dense(100, activation='relu'))\n",
        "model3.add(layers.Dropout(0.5))\n",
        "model3.add(layers.Dense(100, activation='relu'))\n",
        "\n",
        "model3.add(layers.Dense(6, activation='softmax'))\n"
      ],
      "metadata": {
        "id": "dQh2Mtn0jh6-"
      },
      "execution_count": null,
      "outputs": []
    },
    {
      "cell_type": "code",
      "source": [
        "model3.build((1, 11, 127, 1))"
      ],
      "metadata": {
        "id": "ZWMAe5JJkzNe"
      },
      "execution_count": null,
      "outputs": []
    },
    {
      "cell_type": "code",
      "source": [
        "model3.compile(loss=\"categorical_crossentropy\", optimizer=custom_adam, metrics=[\"accuracy\"])"
      ],
      "metadata": {
        "id": "o3b8WjfOkzTV"
      },
      "execution_count": null,
      "outputs": []
    },
    {
      "cell_type": "code",
      "source": [
        "model3.summary()"
      ],
      "metadata": {
        "colab": {
          "base_uri": "https://localhost:8080/"
        },
        "id": "D8B3hG33kzYt",
        "outputId": "3a0d2a2d-8d57-461f-96ae-924a6d78cf2d"
      },
      "execution_count": null,
      "outputs": [
        {
          "output_type": "stream",
          "name": "stdout",
          "text": [
            "Model: \"sequential_2\"\n",
            "_________________________________________________________________\n",
            " Layer (type)                Output Shape              Param #   \n",
            "=================================================================\n",
            " masking_2 (Masking)         (1, 11, 127, 1)           0         \n",
            "                                                                 \n",
            " conv1d (Conv1D)             (1, 11, 122, 128)         896       \n",
            "                                                                 \n",
            " conv1d_1 (Conv1D)           (1, 11, 117, 128)         98432     \n",
            "                                                                 \n",
            " batch_normalization_3 (Batc  (1, 11, 117, 128)        512       \n",
            " hNormalization)                                                 \n",
            "                                                                 \n",
            " dropout_10 (Dropout)        (1, 11, 117, 128)         0         \n",
            "                                                                 \n",
            " conv1d_2 (Conv1D)           (1, 11, 112, 256)         196864    \n",
            "                                                                 \n",
            " dropout_11 (Dropout)        (1, 11, 112, 256)         0         \n",
            "                                                                 \n",
            " conv1d_3 (Conv1D)           (1, 11, 107, 256)         393472    \n",
            "                                                                 \n",
            " dropout_12 (Dropout)        (1, 11, 107, 256)         0         \n",
            "                                                                 \n",
            " conv1d_4 (Conv1D)           (1, 11, 102, 256)         393472    \n",
            "                                                                 \n",
            " flatten_2 (Flatten)         (1, 287232)               0         \n",
            "                                                                 \n",
            " dense_14 (Dense)            (1, 200)                  57446600  \n",
            "                                                                 \n",
            " dropout_13 (Dropout)        (1, 200)                  0         \n",
            "                                                                 \n",
            " dense_15 (Dense)            (1, 100)                  20100     \n",
            "                                                                 \n",
            " dropout_14 (Dropout)        (1, 100)                  0         \n",
            "                                                                 \n",
            " dense_16 (Dense)            (1, 100)                  10100     \n",
            "                                                                 \n",
            " dense_17 (Dense)            (1, 200)                  20200     \n",
            "                                                                 \n",
            " dropout_15 (Dropout)        (1, 200)                  0         \n",
            "                                                                 \n",
            " dense_18 (Dense)            (1, 100)                  20100     \n",
            "                                                                 \n",
            " dropout_16 (Dropout)        (1, 100)                  0         \n",
            "                                                                 \n",
            " dense_19 (Dense)            (1, 100)                  10100     \n",
            "                                                                 \n",
            " dense_20 (Dense)            (1, 6)                    606       \n",
            "                                                                 \n",
            "=================================================================\n",
            "Total params: 58,611,454\n",
            "Trainable params: 58,611,198\n",
            "Non-trainable params: 256\n",
            "_________________________________________________________________\n"
          ]
        }
      ]
    },
    {
      "cell_type": "code",
      "source": [
        "es = EarlyStopping(patience=20, restore_best_weights=True)\n",
        "history_3 = model3.fit(X_train_mmscaled, y_train, validation_split=0.3, epochs=1000, batch_size=64, callbacks=[es])"
      ],
      "metadata": {
        "colab": {
          "base_uri": "https://localhost:8080/"
        },
        "id": "IsY-dcatkzeH",
        "outputId": "83e4b9fc-cf8c-42a9-bc24-d1ee368955c0"
      },
      "execution_count": null,
      "outputs": [
        {
          "output_type": "stream",
          "name": "stdout",
          "text": [
            "Epoch 1/1000\n",
            "86/86 [==============================] - 5s 35ms/step - loss: 1.9155 - accuracy: 0.1718 - val_loss: 1.7914 - val_accuracy: 0.1679\n",
            "Epoch 2/1000\n",
            "86/86 [==============================] - 2s 27ms/step - loss: 1.7911 - accuracy: 0.1751 - val_loss: 1.7911 - val_accuracy: 0.1679\n",
            "Epoch 3/1000\n",
            "86/86 [==============================] - 2s 26ms/step - loss: 1.7908 - accuracy: 0.1751 - val_loss: 1.7910 - val_accuracy: 0.1679\n",
            "Epoch 4/1000\n",
            "86/86 [==============================] - 2s 26ms/step - loss: 1.7905 - accuracy: 0.1751 - val_loss: 1.7908 - val_accuracy: 0.1679\n",
            "Epoch 5/1000\n",
            "86/86 [==============================] - 2s 25ms/step - loss: 1.7906 - accuracy: 0.1751 - val_loss: 1.7908 - val_accuracy: 0.1679\n",
            "Epoch 6/1000\n",
            "86/86 [==============================] - 2s 27ms/step - loss: 1.7904 - accuracy: 0.1751 - val_loss: 1.7908 - val_accuracy: 0.1679\n",
            "Epoch 7/1000\n",
            "86/86 [==============================] - 2s 26ms/step - loss: 1.7904 - accuracy: 0.1748 - val_loss: 1.7907 - val_accuracy: 0.1679\n",
            "Epoch 8/1000\n",
            "86/86 [==============================] - 2s 27ms/step - loss: 1.7904 - accuracy: 0.1751 - val_loss: 1.7907 - val_accuracy: 0.1679\n",
            "Epoch 9/1000\n",
            "86/86 [==============================] - 2s 27ms/step - loss: 1.7903 - accuracy: 0.1750 - val_loss: 1.7907 - val_accuracy: 0.1679\n",
            "Epoch 10/1000\n",
            "86/86 [==============================] - 2s 27ms/step - loss: 1.7902 - accuracy: 0.1742 - val_loss: 1.7907 - val_accuracy: 0.1679\n",
            "Epoch 11/1000\n",
            "86/86 [==============================] - 2s 25ms/step - loss: 1.7904 - accuracy: 0.1753 - val_loss: 1.7907 - val_accuracy: 0.1679\n",
            "Epoch 12/1000\n",
            "86/86 [==============================] - 2s 25ms/step - loss: 1.7903 - accuracy: 0.1748 - val_loss: 1.7907 - val_accuracy: 0.1679\n",
            "Epoch 13/1000\n",
            "86/86 [==============================] - 2s 25ms/step - loss: 1.7903 - accuracy: 0.1768 - val_loss: 1.7907 - val_accuracy: 0.1679\n",
            "Epoch 14/1000\n",
            "86/86 [==============================] - 2s 27ms/step - loss: 1.7899 - accuracy: 0.1737 - val_loss: 1.7865 - val_accuracy: 0.1679\n",
            "Epoch 15/1000\n",
            "86/86 [==============================] - 2s 26ms/step - loss: 1.7810 - accuracy: 0.1985 - val_loss: 1.7717 - val_accuracy: 0.2154\n",
            "Epoch 16/1000\n",
            "86/86 [==============================] - 2s 26ms/step - loss: 1.7692 - accuracy: 0.2168 - val_loss: 1.7597 - val_accuracy: 0.2321\n",
            "Epoch 17/1000\n",
            "86/86 [==============================] - 2s 27ms/step - loss: 1.7518 - accuracy: 0.2256 - val_loss: 1.7584 - val_accuracy: 0.2266\n",
            "Epoch 18/1000\n",
            "86/86 [==============================] - 2s 26ms/step - loss: 1.7412 - accuracy: 0.2289 - val_loss: 1.7354 - val_accuracy: 0.2424\n",
            "Epoch 19/1000\n",
            "86/86 [==============================] - 2s 27ms/step - loss: 1.7259 - accuracy: 0.2357 - val_loss: 1.7108 - val_accuracy: 0.2347\n",
            "Epoch 20/1000\n",
            "86/86 [==============================] - 2s 25ms/step - loss: 1.7154 - accuracy: 0.2330 - val_loss: 1.7132 - val_accuracy: 0.2201\n",
            "Epoch 21/1000\n",
            "86/86 [==============================] - 2s 27ms/step - loss: 1.7072 - accuracy: 0.2374 - val_loss: 1.6905 - val_accuracy: 0.2582\n",
            "Epoch 22/1000\n",
            "86/86 [==============================] - 2s 27ms/step - loss: 1.6906 - accuracy: 0.2374 - val_loss: 1.6810 - val_accuracy: 0.2595\n",
            "Epoch 23/1000\n",
            "86/86 [==============================] - 2s 27ms/step - loss: 1.6858 - accuracy: 0.2466 - val_loss: 1.6706 - val_accuracy: 0.2570\n",
            "Epoch 24/1000\n",
            "86/86 [==============================] - 2s 27ms/step - loss: 1.6816 - accuracy: 0.2546 - val_loss: 1.6699 - val_accuracy: 0.2758\n",
            "Epoch 25/1000\n",
            "86/86 [==============================] - 2s 26ms/step - loss: 1.6669 - accuracy: 0.2546 - val_loss: 1.6538 - val_accuracy: 0.2797\n",
            "Epoch 26/1000\n",
            "86/86 [==============================] - 2s 26ms/step - loss: 1.6559 - accuracy: 0.2601 - val_loss: 1.6503 - val_accuracy: 0.2865\n",
            "Epoch 27/1000\n",
            "86/86 [==============================] - 2s 26ms/step - loss: 1.6496 - accuracy: 0.2576 - val_loss: 1.6460 - val_accuracy: 0.2882\n",
            "Epoch 28/1000\n",
            "86/86 [==============================] - 2s 25ms/step - loss: 1.6512 - accuracy: 0.2519 - val_loss: 1.6638 - val_accuracy: 0.2878\n",
            "Epoch 29/1000\n",
            "86/86 [==============================] - 2s 26ms/step - loss: 1.6315 - accuracy: 0.2686 - val_loss: 1.6216 - val_accuracy: 0.2925\n",
            "Epoch 30/1000\n",
            "86/86 [==============================] - 2s 27ms/step - loss: 1.6202 - accuracy: 0.2653 - val_loss: 1.6192 - val_accuracy: 0.2891\n",
            "Epoch 31/1000\n",
            "86/86 [==============================] - 2s 26ms/step - loss: 1.6171 - accuracy: 0.2765 - val_loss: 1.6160 - val_accuracy: 0.2895\n",
            "Epoch 32/1000\n",
            "86/86 [==============================] - 2s 26ms/step - loss: 1.6043 - accuracy: 0.2752 - val_loss: 1.5953 - val_accuracy: 0.2998\n",
            "Epoch 33/1000\n",
            "86/86 [==============================] - 2s 25ms/step - loss: 1.5991 - accuracy: 0.2855 - val_loss: 1.6359 - val_accuracy: 0.2981\n",
            "Epoch 34/1000\n",
            "86/86 [==============================] - 2s 25ms/step - loss: 1.5939 - accuracy: 0.2798 - val_loss: 1.5970 - val_accuracy: 0.3011\n",
            "Epoch 35/1000\n",
            "86/86 [==============================] - 2s 27ms/step - loss: 1.5796 - accuracy: 0.2930 - val_loss: 1.5794 - val_accuracy: 0.3203\n",
            "Epoch 36/1000\n",
            "86/86 [==============================] - 2s 25ms/step - loss: 1.5670 - accuracy: 0.2974 - val_loss: 1.6119 - val_accuracy: 0.2938\n",
            "Epoch 37/1000\n",
            "86/86 [==============================] - 2s 26ms/step - loss: 1.5556 - accuracy: 0.3009 - val_loss: 1.5485 - val_accuracy: 0.3323\n",
            "Epoch 38/1000\n",
            "86/86 [==============================] - 2s 25ms/step - loss: 1.5471 - accuracy: 0.2937 - val_loss: 1.5655 - val_accuracy: 0.3049\n",
            "Epoch 39/1000\n",
            "86/86 [==============================] - 2s 25ms/step - loss: 1.5494 - accuracy: 0.2992 - val_loss: 1.5801 - val_accuracy: 0.2976\n",
            "Epoch 40/1000\n",
            "86/86 [==============================] - 2s 26ms/step - loss: 1.5423 - accuracy: 0.3145 - val_loss: 1.5435 - val_accuracy: 0.3259\n",
            "Epoch 41/1000\n",
            "86/86 [==============================] - 2s 25ms/step - loss: 1.5240 - accuracy: 0.3191 - val_loss: 1.5736 - val_accuracy: 0.3045\n",
            "Epoch 42/1000\n",
            "86/86 [==============================] - 2s 25ms/step - loss: 1.5123 - accuracy: 0.3130 - val_loss: 1.5553 - val_accuracy: 0.3152\n",
            "Epoch 43/1000\n",
            "86/86 [==============================] - 2s 26ms/step - loss: 1.5192 - accuracy: 0.3158 - val_loss: 1.5313 - val_accuracy: 0.3255\n",
            "Epoch 44/1000\n",
            "86/86 [==============================] - 2s 27ms/step - loss: 1.4859 - accuracy: 0.3226 - val_loss: 1.5295 - val_accuracy: 0.3221\n",
            "Epoch 45/1000\n",
            "86/86 [==============================] - 2s 25ms/step - loss: 1.4743 - accuracy: 0.3338 - val_loss: 1.5298 - val_accuracy: 0.3268\n",
            "Epoch 46/1000\n",
            "86/86 [==============================] - 2s 26ms/step - loss: 1.4770 - accuracy: 0.3244 - val_loss: 1.5239 - val_accuracy: 0.3319\n",
            "Epoch 47/1000\n",
            "86/86 [==============================] - 2s 25ms/step - loss: 1.4667 - accuracy: 0.3345 - val_loss: 1.5491 - val_accuracy: 0.3293\n",
            "Epoch 48/1000\n",
            "86/86 [==============================] - 2s 26ms/step - loss: 1.4598 - accuracy: 0.3330 - val_loss: 1.5328 - val_accuracy: 0.3396\n",
            "Epoch 49/1000\n",
            "86/86 [==============================] - 2s 25ms/step - loss: 1.4441 - accuracy: 0.3435 - val_loss: 1.5288 - val_accuracy: 0.3310\n",
            "Epoch 50/1000\n",
            "86/86 [==============================] - 2s 25ms/step - loss: 1.4345 - accuracy: 0.3407 - val_loss: 1.5383 - val_accuracy: 0.3370\n",
            "Epoch 51/1000\n",
            "86/86 [==============================] - 2s 25ms/step - loss: 1.4169 - accuracy: 0.3589 - val_loss: 1.5382 - val_accuracy: 0.3310\n",
            "Epoch 52/1000\n",
            "86/86 [==============================] - 2s 26ms/step - loss: 1.4152 - accuracy: 0.3611 - val_loss: 1.5671 - val_accuracy: 0.3302\n",
            "Epoch 53/1000\n",
            "86/86 [==============================] - 2s 26ms/step - loss: 1.3989 - accuracy: 0.3609 - val_loss: 1.5313 - val_accuracy: 0.3362\n",
            "Epoch 54/1000\n",
            "86/86 [==============================] - 2s 25ms/step - loss: 1.3822 - accuracy: 0.3602 - val_loss: 1.5390 - val_accuracy: 0.3370\n",
            "Epoch 55/1000\n",
            "86/86 [==============================] - 2s 26ms/step - loss: 1.3673 - accuracy: 0.3786 - val_loss: 1.5553 - val_accuracy: 0.3375\n",
            "Epoch 56/1000\n",
            "86/86 [==============================] - 2s 25ms/step - loss: 1.3722 - accuracy: 0.3749 - val_loss: 1.5400 - val_accuracy: 0.3443\n",
            "Epoch 57/1000\n",
            "86/86 [==============================] - 2s 25ms/step - loss: 1.3596 - accuracy: 0.3736 - val_loss: 1.5338 - val_accuracy: 0.3490\n",
            "Epoch 58/1000\n",
            "86/86 [==============================] - 2s 25ms/step - loss: 1.3555 - accuracy: 0.3806 - val_loss: 1.5487 - val_accuracy: 0.3465\n",
            "Epoch 59/1000\n",
            "86/86 [==============================] - 2s 26ms/step - loss: 1.3363 - accuracy: 0.3899 - val_loss: 1.5590 - val_accuracy: 0.3469\n",
            "Epoch 60/1000\n",
            "86/86 [==============================] - 2s 26ms/step - loss: 1.3266 - accuracy: 0.3874 - val_loss: 1.5936 - val_accuracy: 0.3353\n",
            "Epoch 61/1000\n",
            "86/86 [==============================] - 2s 25ms/step - loss: 1.3257 - accuracy: 0.3932 - val_loss: 1.5459 - val_accuracy: 0.3435\n",
            "Epoch 62/1000\n",
            "86/86 [==============================] - 2s 25ms/step - loss: 1.3157 - accuracy: 0.3969 - val_loss: 1.5614 - val_accuracy: 0.3409\n",
            "Epoch 63/1000\n",
            "86/86 [==============================] - 2s 25ms/step - loss: 1.3163 - accuracy: 0.3965 - val_loss: 1.5725 - val_accuracy: 0.3358\n",
            "Epoch 64/1000\n",
            "86/86 [==============================] - 2s 26ms/step - loss: 1.3075 - accuracy: 0.4015 - val_loss: 1.5449 - val_accuracy: 0.3460\n",
            "Epoch 65/1000\n",
            "86/86 [==============================] - 2s 26ms/step - loss: 1.3067 - accuracy: 0.4037 - val_loss: 1.5752 - val_accuracy: 0.3323\n",
            "Epoch 66/1000\n",
            "86/86 [==============================] - 2s 26ms/step - loss: 1.2888 - accuracy: 0.4156 - val_loss: 1.6095 - val_accuracy: 0.3426\n"
          ]
        }
      ]
    },
    {
      "cell_type": "code",
      "source": [
        "model3.evaluate(X_test_mmscaled, y_test)"
      ],
      "metadata": {
        "colab": {
          "base_uri": "https://localhost:8080/"
        },
        "id": "y9FulrpdlMpo",
        "outputId": "17e87f84-10c3-409c-b565-7b78c5f19f7d"
      },
      "execution_count": null,
      "outputs": [
        {
          "output_type": "stream",
          "name": "stdout",
          "text": [
            "105/105 [==============================] - 1s 6ms/step - loss: 1.5483 - accuracy: 0.3216\n"
          ]
        },
        {
          "output_type": "execute_result",
          "data": {
            "text/plain": [
              "[1.5483160018920898, 0.3216426968574524]"
            ]
          },
          "metadata": {},
          "execution_count": 69
        }
      ]
    },
    {
      "cell_type": "markdown",
      "source": [
        "## Model 4: Tonnetz 1D"
      ],
      "metadata": {
        "id": "QEYYTvb9nfDS"
      }
    },
    {
      "cell_type": "code",
      "source": [
        "tonnetz_5x = []\n",
        "tonnetz_5y = []\n",
        "tonnetz_3mx = []\n",
        "tonnetz_3my = []\n",
        "tonnetz_3Mx = []\n",
        "tonnetz_3My = []\n",
        "tonnetz = []\n",
        "\n",
        "for i in range(df.shape[0]):\n",
        "  tonnetz_5x.append(df['tonnetz'][i][0])\n",
        "  tonnetz_5y.append(df['tonnetz'][i][1])\n",
        "  tonnetz_3mx.append(df['tonnetz'][i][2])\n",
        "  tonnetz_3my.append(df['tonnetz'][i][3])\n",
        "  tonnetz_3Mx.append(df['tonnetz'][i][4])\n",
        "  tonnetz_3My.append(df['tonnetz'][i][5])\n",
        "  tonnetz_5x[i] = np.array(tonnetz_5x[i])\n",
        "  tonnetz_5y[i] = np.array(tonnetz_5y[i])\n",
        "  tonnetz_3mx[i] = np.array(tonnetz_3mx[i])\n",
        "  tonnetz_3my[i] = np.array(tonnetz_3my[i])\n",
        "  tonnetz_3Mx[i] = np.array(tonnetz_3Mx[i])\n",
        "  tonnetz_3My[i] = np.array(tonnetz_3My[i])\n",
        "  tonnetz.append(np.stack((tonnetz_5x[i],tonnetz_5y[i],tonnetz_3mx[i],\n",
        "                      tonnetz_3my[i],tonnetz_3Mx[i],tonnetz_3My[i])))"
      ],
      "metadata": {
        "id": "LdXSZsjknhOu"
      },
      "execution_count": null,
      "outputs": []
    },
    {
      "cell_type": "code",
      "source": [
        "X = np.array(tonnetz)\n",
        "X_train, X_test, y_train, y_test = train_test_split(X, y_cat, test_size=0.30, stratify=y)\n",
        "scaler = MinMaxScaler()\n",
        "X_train_mmscaled = scaler.fit_transform(X_train.reshape(-1, X_train.shape[-1])).reshape(X_train.shape)\n",
        "X_test_mmscaled = scaler.transform(X_test.reshape(-1, X_test.shape[-1])).reshape(X_test.shape)"
      ],
      "metadata": {
        "id": "NNRuoRDznsrF"
      },
      "execution_count": null,
      "outputs": []
    },
    {
      "cell_type": "code",
      "source": [
        "X_train_mmscaled = expand_dims(X_train_mmscaled,-1)\n",
        "X_test_mmscaled = expand_dims(X_test_mmscaled,-1)"
      ],
      "metadata": {
        "id": "MTZwfA78nswG"
      },
      "execution_count": null,
      "outputs": []
    },
    {
      "cell_type": "code",
      "source": [
        "model4 = models.Sequential()\n",
        "model4.add(layers.Masking(mask_value=0))\n",
        "model4.add(layers.Conv1D(128, kernel_size=6, strides=1, padding='valid', activation = \"relu\"))\n",
        "model4.add(layers.Conv1D(128, kernel_size=6, strides=1, padding='valid', activation = \"relu\"))\n",
        "model4.add(layers.BatchNormalization())\n",
        "model4.add(layers.Dropout(0.5))\n",
        "# model.add(layers.MaxPooling2D(pool_size=(2,2)))\n",
        "\n",
        "model4.add(layers.Conv1D(256, kernel_size=6, strides=1, padding='valid', activation = \"relu\"))\n",
        "# model.add(layers.BatchNormalization())\n",
        "model4.add(layers.Dropout(0.5))\n",
        "model4.add(layers.Conv1D(256, kernel_size=6, strides=1, padding='valid', activation = \"relu\"))\n",
        "model4.add(layers.Dropout(0.5))\n",
        "model4.add(layers.Conv1D(256, kernel_size=6, strides=1, padding='valid', activation = \"relu\"))\n",
        "\n",
        "# model.add(layers.MaxPooling2D(pool_size=(2,2)))\n",
        "model4.add(layers.Flatten())\n",
        "\n",
        "model4.add(layers.Dense(200, activation='relu'))\n",
        "model4.add(layers.Dropout(0.5))\n",
        "model4.add(layers.Dense(100, activation='relu'))\n",
        "model4.add(layers.Dropout(0.5))\n",
        "model4.add(layers.Dense(100, activation='relu'))\n",
        "\n",
        "model4.add(layers.Dense(200, activation='relu'))\n",
        "model4.add(layers.Dropout(0.5))\n",
        "model4.add(layers.Dense(100, activation='relu'))\n",
        "model4.add(layers.Dropout(0.5))\n",
        "model4.add(layers.Dense(100, activation='relu'))\n",
        "\n",
        "model4.add(layers.Dense(6, activation='softmax'))\n"
      ],
      "metadata": {
        "id": "MOLS-986ns1C"
      },
      "execution_count": null,
      "outputs": []
    },
    {
      "cell_type": "code",
      "source": [
        "model4.build((1, 6, 127, 1))"
      ],
      "metadata": {
        "id": "sCRknZ6Cns5r"
      },
      "execution_count": null,
      "outputs": []
    },
    {
      "cell_type": "code",
      "source": [
        "model4.compile(loss=\"categorical_crossentropy\", optimizer=custom_adam, metrics=[\"accuracy\"])"
      ],
      "metadata": {
        "id": "O92378Rgns9y"
      },
      "execution_count": null,
      "outputs": []
    },
    {
      "cell_type": "code",
      "source": [
        "model4.summary()"
      ],
      "metadata": {
        "colab": {
          "base_uri": "https://localhost:8080/"
        },
        "id": "huPDg2wDoL7Q",
        "outputId": "b56067f7-7caa-4df5-907f-0432d69f26c2"
      },
      "execution_count": null,
      "outputs": [
        {
          "output_type": "stream",
          "name": "stdout",
          "text": [
            "Model: \"sequential_3\"\n",
            "_________________________________________________________________\n",
            " Layer (type)                Output Shape              Param #   \n",
            "=================================================================\n",
            " masking_3 (Masking)         (1, 6, 127, 1)            0         \n",
            "                                                                 \n",
            " conv1d_5 (Conv1D)           (1, 6, 122, 128)          896       \n",
            "                                                                 \n",
            " conv1d_6 (Conv1D)           (1, 6, 117, 128)          98432     \n",
            "                                                                 \n",
            " batch_normalization_4 (Batc  (1, 6, 117, 128)         512       \n",
            " hNormalization)                                                 \n",
            "                                                                 \n",
            " dropout_17 (Dropout)        (1, 6, 117, 128)          0         \n",
            "                                                                 \n",
            " conv1d_7 (Conv1D)           (1, 6, 112, 256)          196864    \n",
            "                                                                 \n",
            " dropout_18 (Dropout)        (1, 6, 112, 256)          0         \n",
            "                                                                 \n",
            " conv1d_8 (Conv1D)           (1, 6, 107, 256)          393472    \n",
            "                                                                 \n",
            " dropout_19 (Dropout)        (1, 6, 107, 256)          0         \n",
            "                                                                 \n",
            " conv1d_9 (Conv1D)           (1, 6, 102, 256)          393472    \n",
            "                                                                 \n",
            " flatten_3 (Flatten)         (1, 156672)               0         \n",
            "                                                                 \n",
            " dense_21 (Dense)            (1, 200)                  31334600  \n",
            "                                                                 \n",
            " dropout_20 (Dropout)        (1, 200)                  0         \n",
            "                                                                 \n",
            " dense_22 (Dense)            (1, 100)                  20100     \n",
            "                                                                 \n",
            " dropout_21 (Dropout)        (1, 100)                  0         \n",
            "                                                                 \n",
            " dense_23 (Dense)            (1, 100)                  10100     \n",
            "                                                                 \n",
            " dense_24 (Dense)            (1, 200)                  20200     \n",
            "                                                                 \n",
            " dropout_22 (Dropout)        (1, 200)                  0         \n",
            "                                                                 \n",
            " dense_25 (Dense)            (1, 100)                  20100     \n",
            "                                                                 \n",
            " dropout_23 (Dropout)        (1, 100)                  0         \n",
            "                                                                 \n",
            " dense_26 (Dense)            (1, 100)                  10100     \n",
            "                                                                 \n",
            " dense_27 (Dense)            (1, 6)                    606       \n",
            "                                                                 \n",
            "=================================================================\n",
            "Total params: 32,499,454\n",
            "Trainable params: 32,499,198\n",
            "Non-trainable params: 256\n",
            "_________________________________________________________________\n"
          ]
        }
      ]
    },
    {
      "cell_type": "code",
      "source": [
        "es = EarlyStopping(patience=50, restore_best_weights=True)\n",
        "history_4 = model4.fit(X_train_mmscaled, y_train, validation_split=0.3, epochs=1000, batch_size=64, callbacks=[es])"
      ],
      "metadata": {
        "colab": {
          "base_uri": "https://localhost:8080/"
        },
        "id": "xhMlUGmeoMBm",
        "outputId": "3893aa47-1f4c-436e-c8d8-0364e5920a1b"
      },
      "execution_count": null,
      "outputs": [
        {
          "output_type": "stream",
          "name": "stdout",
          "text": [
            "Epoch 1/1000\n",
            "86/86 [==============================] - 4s 25ms/step - loss: 1.8017 - accuracy: 0.1700 - val_loss: 1.7921 - val_accuracy: 0.1623\n",
            "Epoch 2/1000\n",
            "86/86 [==============================] - 1s 17ms/step - loss: 1.7686 - accuracy: 0.1959 - val_loss: 1.7919 - val_accuracy: 0.1692\n",
            "Epoch 3/1000\n",
            "86/86 [==============================] - 1s 16ms/step - loss: 1.7399 - accuracy: 0.2210 - val_loss: 1.7921 - val_accuracy: 0.1692\n",
            "Epoch 4/1000\n",
            "86/86 [==============================] - 1s 16ms/step - loss: 1.7181 - accuracy: 0.2240 - val_loss: 1.7928 - val_accuracy: 0.1752\n",
            "Epoch 5/1000\n",
            "86/86 [==============================] - 1s 16ms/step - loss: 1.7055 - accuracy: 0.2422 - val_loss: 1.7938 - val_accuracy: 0.1752\n",
            "Epoch 6/1000\n",
            "86/86 [==============================] - 1s 16ms/step - loss: 1.6954 - accuracy: 0.2631 - val_loss: 1.7951 - val_accuracy: 0.1752\n",
            "Epoch 7/1000\n",
            "86/86 [==============================] - 1s 17ms/step - loss: 1.6863 - accuracy: 0.2644 - val_loss: 1.7820 - val_accuracy: 0.1949\n",
            "Epoch 8/1000\n",
            "86/86 [==============================] - 1s 17ms/step - loss: 1.6863 - accuracy: 0.2596 - val_loss: 1.7613 - val_accuracy: 0.2210\n",
            "Epoch 9/1000\n",
            "86/86 [==============================] - 1s 16ms/step - loss: 1.6718 - accuracy: 0.2666 - val_loss: 1.7634 - val_accuracy: 0.2171\n",
            "Epoch 10/1000\n",
            "86/86 [==============================] - 1s 17ms/step - loss: 1.6725 - accuracy: 0.2647 - val_loss: 1.7152 - val_accuracy: 0.2818\n",
            "Epoch 11/1000\n",
            "86/86 [==============================] - 1s 16ms/step - loss: 1.6628 - accuracy: 0.2625 - val_loss: 1.7784 - val_accuracy: 0.1970\n",
            "Epoch 12/1000\n",
            "86/86 [==============================] - 1s 17ms/step - loss: 1.6508 - accuracy: 0.2690 - val_loss: 1.7502 - val_accuracy: 0.2197\n",
            "Epoch 13/1000\n",
            "86/86 [==============================] - 1s 17ms/step - loss: 1.6499 - accuracy: 0.2739 - val_loss: 1.7035 - val_accuracy: 0.2672\n",
            "Epoch 14/1000\n",
            "86/86 [==============================] - 1s 17ms/step - loss: 1.6324 - accuracy: 0.2792 - val_loss: 1.7069 - val_accuracy: 0.2630\n",
            "Epoch 15/1000\n",
            "86/86 [==============================] - 1s 17ms/step - loss: 1.6334 - accuracy: 0.2768 - val_loss: 1.6918 - val_accuracy: 0.2672\n",
            "Epoch 16/1000\n",
            "86/86 [==============================] - 1s 17ms/step - loss: 1.6231 - accuracy: 0.2778 - val_loss: 1.6939 - val_accuracy: 0.2582\n",
            "Epoch 17/1000\n",
            "86/86 [==============================] - 1s 17ms/step - loss: 1.6182 - accuracy: 0.2791 - val_loss: 1.7088 - val_accuracy: 0.2493\n",
            "Epoch 18/1000\n",
            "86/86 [==============================] - 1s 16ms/step - loss: 1.6115 - accuracy: 0.2972 - val_loss: 1.7221 - val_accuracy: 0.2642\n",
            "Epoch 19/1000\n",
            "86/86 [==============================] - 1s 17ms/step - loss: 1.6035 - accuracy: 0.2857 - val_loss: 1.6735 - val_accuracy: 0.2685\n",
            "Epoch 20/1000\n",
            "86/86 [==============================] - 1s 17ms/step - loss: 1.6011 - accuracy: 0.2914 - val_loss: 1.6987 - val_accuracy: 0.2672\n",
            "Epoch 21/1000\n",
            "86/86 [==============================] - 1s 17ms/step - loss: 1.5971 - accuracy: 0.2937 - val_loss: 1.6609 - val_accuracy: 0.2510\n",
            "Epoch 22/1000\n",
            "86/86 [==============================] - 2s 18ms/step - loss: 1.5879 - accuracy: 0.2980 - val_loss: 1.6276 - val_accuracy: 0.3054\n",
            "Epoch 23/1000\n",
            "86/86 [==============================] - 1s 17ms/step - loss: 1.5890 - accuracy: 0.2970 - val_loss: 1.6500 - val_accuracy: 0.2827\n",
            "Epoch 24/1000\n",
            "86/86 [==============================] - 1s 16ms/step - loss: 1.5876 - accuracy: 0.3075 - val_loss: 1.6286 - val_accuracy: 0.3139\n",
            "Epoch 25/1000\n",
            "86/86 [==============================] - 1s 16ms/step - loss: 1.5759 - accuracy: 0.3110 - val_loss: 1.7978 - val_accuracy: 0.2248\n",
            "Epoch 26/1000\n",
            "86/86 [==============================] - 1s 17ms/step - loss: 1.5694 - accuracy: 0.3073 - val_loss: 1.8981 - val_accuracy: 0.2000\n",
            "Epoch 27/1000\n",
            "86/86 [==============================] - 1s 17ms/step - loss: 1.5640 - accuracy: 0.3180 - val_loss: 1.8512 - val_accuracy: 0.2146\n",
            "Epoch 28/1000\n",
            "86/86 [==============================] - 1s 17ms/step - loss: 1.5555 - accuracy: 0.3237 - val_loss: 1.6338 - val_accuracy: 0.2916\n",
            "Epoch 29/1000\n",
            "86/86 [==============================] - 1s 16ms/step - loss: 1.5469 - accuracy: 0.3371 - val_loss: 1.7661 - val_accuracy: 0.2497\n",
            "Epoch 30/1000\n",
            "86/86 [==============================] - 1s 17ms/step - loss: 1.5437 - accuracy: 0.3237 - val_loss: 1.8217 - val_accuracy: 0.2291\n",
            "Epoch 31/1000\n",
            "86/86 [==============================] - 1s 17ms/step - loss: 1.5312 - accuracy: 0.3312 - val_loss: 1.5816 - val_accuracy: 0.3272\n",
            "Epoch 32/1000\n",
            "86/86 [==============================] - 1s 17ms/step - loss: 1.5291 - accuracy: 0.3305 - val_loss: 1.6718 - val_accuracy: 0.2822\n",
            "Epoch 33/1000\n",
            "86/86 [==============================] - 1s 17ms/step - loss: 1.5119 - accuracy: 0.3317 - val_loss: 1.5816 - val_accuracy: 0.3242\n",
            "Epoch 34/1000\n",
            "86/86 [==============================] - 2s 17ms/step - loss: 1.5167 - accuracy: 0.3350 - val_loss: 1.5769 - val_accuracy: 0.3225\n",
            "Epoch 35/1000\n",
            "86/86 [==============================] - 1s 17ms/step - loss: 1.5061 - accuracy: 0.3349 - val_loss: 1.6871 - val_accuracy: 0.2779\n",
            "Epoch 36/1000\n",
            "86/86 [==============================] - 1s 17ms/step - loss: 1.4950 - accuracy: 0.3529 - val_loss: 1.9427 - val_accuracy: 0.2124\n",
            "Epoch 37/1000\n",
            "86/86 [==============================] - 1s 17ms/step - loss: 1.4881 - accuracy: 0.3578 - val_loss: 1.6126 - val_accuracy: 0.2869\n",
            "Epoch 38/1000\n",
            "86/86 [==============================] - 2s 17ms/step - loss: 1.4761 - accuracy: 0.3499 - val_loss: 1.5595 - val_accuracy: 0.3293\n",
            "Epoch 39/1000\n",
            "86/86 [==============================] - 1s 16ms/step - loss: 1.4798 - accuracy: 0.3534 - val_loss: 1.5678 - val_accuracy: 0.3336\n",
            "Epoch 40/1000\n",
            "86/86 [==============================] - 1s 16ms/step - loss: 1.4689 - accuracy: 0.3578 - val_loss: 1.5953 - val_accuracy: 0.3203\n",
            "Epoch 41/1000\n",
            "86/86 [==============================] - 1s 17ms/step - loss: 1.4575 - accuracy: 0.3591 - val_loss: 1.5605 - val_accuracy: 0.3268\n",
            "Epoch 42/1000\n",
            "86/86 [==============================] - 1s 17ms/step - loss: 1.4463 - accuracy: 0.3670 - val_loss: 2.0964 - val_accuracy: 0.1889\n",
            "Epoch 43/1000\n",
            "86/86 [==============================] - 1s 17ms/step - loss: 1.4505 - accuracy: 0.3606 - val_loss: 1.5631 - val_accuracy: 0.3319\n",
            "Epoch 44/1000\n",
            "86/86 [==============================] - 1s 16ms/step - loss: 1.4379 - accuracy: 0.3710 - val_loss: 1.6976 - val_accuracy: 0.2929\n",
            "Epoch 45/1000\n",
            "86/86 [==============================] - 2s 18ms/step - loss: 1.4299 - accuracy: 0.3716 - val_loss: 1.5509 - val_accuracy: 0.3370\n",
            "Epoch 46/1000\n",
            "86/86 [==============================] - 1s 17ms/step - loss: 1.4114 - accuracy: 0.3844 - val_loss: 2.0600 - val_accuracy: 0.2017\n",
            "Epoch 47/1000\n",
            "86/86 [==============================] - 1s 17ms/step - loss: 1.4231 - accuracy: 0.3808 - val_loss: 2.0568 - val_accuracy: 0.2021\n",
            "Epoch 48/1000\n",
            "86/86 [==============================] - 1s 17ms/step - loss: 1.4217 - accuracy: 0.3791 - val_loss: 1.5429 - val_accuracy: 0.3533\n",
            "Epoch 49/1000\n",
            "86/86 [==============================] - 1s 17ms/step - loss: 1.4050 - accuracy: 0.3800 - val_loss: 1.5629 - val_accuracy: 0.3430\n",
            "Epoch 50/1000\n",
            "86/86 [==============================] - 1s 16ms/step - loss: 1.4097 - accuracy: 0.3826 - val_loss: 1.5568 - val_accuracy: 0.3379\n",
            "Epoch 51/1000\n",
            "86/86 [==============================] - 1s 17ms/step - loss: 1.3899 - accuracy: 0.3819 - val_loss: 1.7468 - val_accuracy: 0.2827\n",
            "Epoch 52/1000\n",
            "86/86 [==============================] - 1s 17ms/step - loss: 1.3819 - accuracy: 0.3947 - val_loss: 1.7021 - val_accuracy: 0.3002\n",
            "Epoch 53/1000\n",
            "86/86 [==============================] - 1s 16ms/step - loss: 1.3813 - accuracy: 0.3969 - val_loss: 1.5666 - val_accuracy: 0.3490\n",
            "Epoch 54/1000\n",
            "86/86 [==============================] - 1s 16ms/step - loss: 1.3695 - accuracy: 0.4033 - val_loss: 1.5538 - val_accuracy: 0.3520\n",
            "Epoch 55/1000\n",
            "86/86 [==============================] - 1s 17ms/step - loss: 1.3581 - accuracy: 0.4077 - val_loss: 1.8502 - val_accuracy: 0.2621\n",
            "Epoch 56/1000\n",
            "86/86 [==============================] - 1s 16ms/step - loss: 1.3616 - accuracy: 0.4116 - val_loss: 1.9572 - val_accuracy: 0.2334\n",
            "Epoch 57/1000\n",
            "86/86 [==============================] - 1s 16ms/step - loss: 1.3521 - accuracy: 0.4122 - val_loss: 1.5786 - val_accuracy: 0.3465\n",
            "Epoch 58/1000\n",
            "86/86 [==============================] - 1s 17ms/step - loss: 1.3310 - accuracy: 0.4144 - val_loss: 1.5564 - val_accuracy: 0.3555\n",
            "Epoch 59/1000\n",
            "86/86 [==============================] - 1s 17ms/step - loss: 1.3271 - accuracy: 0.4256 - val_loss: 1.5884 - val_accuracy: 0.3546\n",
            "Epoch 60/1000\n",
            "86/86 [==============================] - 1s 16ms/step - loss: 1.2965 - accuracy: 0.4340 - val_loss: 1.6375 - val_accuracy: 0.3332\n",
            "Epoch 61/1000\n",
            "86/86 [==============================] - 1s 16ms/step - loss: 1.3122 - accuracy: 0.4235 - val_loss: 1.5762 - val_accuracy: 0.3512\n",
            "Epoch 62/1000\n",
            "86/86 [==============================] - 1s 17ms/step - loss: 1.3056 - accuracy: 0.4323 - val_loss: 1.6355 - val_accuracy: 0.3430\n",
            "Epoch 63/1000\n",
            "86/86 [==============================] - 1s 16ms/step - loss: 1.2892 - accuracy: 0.4390 - val_loss: 1.5948 - val_accuracy: 0.3396\n",
            "Epoch 64/1000\n",
            "86/86 [==============================] - 1s 16ms/step - loss: 1.2897 - accuracy: 0.4309 - val_loss: 1.5797 - val_accuracy: 0.3657\n",
            "Epoch 65/1000\n",
            "86/86 [==============================] - 1s 16ms/step - loss: 1.2754 - accuracy: 0.4498 - val_loss: 1.5798 - val_accuracy: 0.3563\n",
            "Epoch 66/1000\n",
            "86/86 [==============================] - 1s 16ms/step - loss: 1.2664 - accuracy: 0.4470 - val_loss: 1.8260 - val_accuracy: 0.2887\n",
            "Epoch 67/1000\n",
            "86/86 [==============================] - 1s 17ms/step - loss: 1.2551 - accuracy: 0.4503 - val_loss: 1.5879 - val_accuracy: 0.3627\n",
            "Epoch 68/1000\n",
            "86/86 [==============================] - 1s 16ms/step - loss: 1.2396 - accuracy: 0.4610 - val_loss: 1.6296 - val_accuracy: 0.3675\n",
            "Epoch 69/1000\n",
            "86/86 [==============================] - 1s 17ms/step - loss: 1.2254 - accuracy: 0.4641 - val_loss: 1.6413 - val_accuracy: 0.3632\n",
            "Epoch 70/1000\n",
            "86/86 [==============================] - 1s 17ms/step - loss: 1.2475 - accuracy: 0.4536 - val_loss: 1.9078 - val_accuracy: 0.2668\n",
            "Epoch 71/1000\n",
            "86/86 [==============================] - 1s 17ms/step - loss: 1.2510 - accuracy: 0.4481 - val_loss: 1.6713 - val_accuracy: 0.3336\n",
            "Epoch 72/1000\n",
            "86/86 [==============================] - 1s 17ms/step - loss: 1.2154 - accuracy: 0.4656 - val_loss: 1.6675 - val_accuracy: 0.3465\n",
            "Epoch 73/1000\n",
            "86/86 [==============================] - 1s 16ms/step - loss: 1.2082 - accuracy: 0.4806 - val_loss: 1.6332 - val_accuracy: 0.3126\n",
            "Epoch 74/1000\n",
            "86/86 [==============================] - 1s 16ms/step - loss: 1.2216 - accuracy: 0.4727 - val_loss: 1.6850 - val_accuracy: 0.3332\n",
            "Epoch 75/1000\n",
            "86/86 [==============================] - 1s 16ms/step - loss: 1.2067 - accuracy: 0.4815 - val_loss: 1.6081 - val_accuracy: 0.3576\n",
            "Epoch 76/1000\n",
            "86/86 [==============================] - 1s 16ms/step - loss: 1.1942 - accuracy: 0.4815 - val_loss: 1.6275 - val_accuracy: 0.3520\n",
            "Epoch 77/1000\n",
            "86/86 [==============================] - 1s 16ms/step - loss: 1.1914 - accuracy: 0.4836 - val_loss: 1.7912 - val_accuracy: 0.3109\n",
            "Epoch 78/1000\n",
            "86/86 [==============================] - 1s 16ms/step - loss: 1.1869 - accuracy: 0.4839 - val_loss: 1.5985 - val_accuracy: 0.3345\n",
            "Epoch 79/1000\n",
            "86/86 [==============================] - 1s 16ms/step - loss: 1.1539 - accuracy: 0.4983 - val_loss: 1.6611 - val_accuracy: 0.3645\n",
            "Epoch 80/1000\n",
            "86/86 [==============================] - 1s 16ms/step - loss: 1.1629 - accuracy: 0.5054 - val_loss: 1.6438 - val_accuracy: 0.3602\n",
            "Epoch 81/1000\n",
            "86/86 [==============================] - 1s 16ms/step - loss: 1.1489 - accuracy: 0.5082 - val_loss: 1.7058 - val_accuracy: 0.3597\n",
            "Epoch 82/1000\n",
            "86/86 [==============================] - 1s 16ms/step - loss: 1.1407 - accuracy: 0.4979 - val_loss: 1.7136 - val_accuracy: 0.3572\n",
            "Epoch 83/1000\n",
            "86/86 [==============================] - 1s 16ms/step - loss: 1.1392 - accuracy: 0.5137 - val_loss: 1.6702 - val_accuracy: 0.3687\n",
            "Epoch 84/1000\n",
            "86/86 [==============================] - 1s 16ms/step - loss: 1.1225 - accuracy: 0.5205 - val_loss: 1.6780 - val_accuracy: 0.3636\n",
            "Epoch 85/1000\n",
            "86/86 [==============================] - 1s 17ms/step - loss: 1.1283 - accuracy: 0.5140 - val_loss: 1.8904 - val_accuracy: 0.2942\n",
            "Epoch 86/1000\n",
            "86/86 [==============================] - 1s 17ms/step - loss: 1.1077 - accuracy: 0.5208 - val_loss: 1.7257 - val_accuracy: 0.3666\n",
            "Epoch 87/1000\n",
            "86/86 [==============================] - 1s 16ms/step - loss: 1.1003 - accuracy: 0.5203 - val_loss: 1.7374 - val_accuracy: 0.3734\n",
            "Epoch 88/1000\n",
            "86/86 [==============================] - 1s 16ms/step - loss: 1.0911 - accuracy: 0.5335 - val_loss: 1.6944 - val_accuracy: 0.3563\n",
            "Epoch 89/1000\n",
            "86/86 [==============================] - 1s 16ms/step - loss: 1.0977 - accuracy: 0.5254 - val_loss: 1.7224 - val_accuracy: 0.3747\n",
            "Epoch 90/1000\n",
            "86/86 [==============================] - 1s 16ms/step - loss: 1.0748 - accuracy: 0.5423 - val_loss: 1.7312 - val_accuracy: 0.3816\n",
            "Epoch 91/1000\n",
            "86/86 [==============================] - 1s 16ms/step - loss: 1.0919 - accuracy: 0.5236 - val_loss: 1.7851 - val_accuracy: 0.3199\n",
            "Epoch 92/1000\n",
            "86/86 [==============================] - 1s 17ms/step - loss: 1.0776 - accuracy: 0.5366 - val_loss: 1.7053 - val_accuracy: 0.3529\n",
            "Epoch 93/1000\n",
            "86/86 [==============================] - 1s 16ms/step - loss: 1.0689 - accuracy: 0.5379 - val_loss: 1.7180 - val_accuracy: 0.3640\n",
            "Epoch 94/1000\n",
            "86/86 [==============================] - 1s 16ms/step - loss: 1.0565 - accuracy: 0.5445 - val_loss: 1.7655 - val_accuracy: 0.3567\n",
            "Epoch 95/1000\n",
            "86/86 [==============================] - 1s 16ms/step - loss: 1.0643 - accuracy: 0.5425 - val_loss: 1.7114 - val_accuracy: 0.3585\n",
            "Epoch 96/1000\n",
            "86/86 [==============================] - 1s 16ms/step - loss: 1.0464 - accuracy: 0.5434 - val_loss: 1.7661 - val_accuracy: 0.3495\n",
            "Epoch 97/1000\n",
            "86/86 [==============================] - 1s 16ms/step - loss: 1.0380 - accuracy: 0.5517 - val_loss: 1.8462 - val_accuracy: 0.3653\n",
            "Epoch 98/1000\n",
            "86/86 [==============================] - 1s 17ms/step - loss: 1.0304 - accuracy: 0.5653 - val_loss: 1.8142 - val_accuracy: 0.3285\n"
          ]
        }
      ]
    },
    {
      "cell_type": "code",
      "source": [
        "model4.evaluate(X_test_mmscaled, y_test)"
      ],
      "metadata": {
        "colab": {
          "base_uri": "https://localhost:8080/"
        },
        "id": "q3rAhpIGoMH7",
        "outputId": "13fe25cd-b0ac-4c4b-bf7e-7ca39761f184"
      },
      "execution_count": null,
      "outputs": [
        {
          "output_type": "stream",
          "name": "stdout",
          "text": [
            "105/105 [==============================] - 1s 4ms/step - loss: 1.5736 - accuracy: 0.3429\n"
          ]
        },
        {
          "output_type": "execute_result",
          "data": {
            "text/plain": [
              "[1.5735838413238525, 0.34292566776275635]"
            ]
          },
          "metadata": {},
          "execution_count": 78
        }
      ]
    },
    {
      "cell_type": "code",
      "source": [],
      "metadata": {
        "id": "PmAgf6Qkp4af"
      },
      "execution_count": null,
      "outputs": []
    },
    {
      "cell_type": "markdown",
      "source": [
        "## Model 5: Mfcc"
      ],
      "metadata": {
        "id": "HVdoZY4ErwYI"
      }
    },
    {
      "cell_type": "code",
      "source": [],
      "metadata": {
        "id": "T01o1AIdrsPz"
      },
      "execution_count": null,
      "outputs": []
    },
    {
      "cell_type": "code",
      "source": [
        "tonnetz_5x = []\n",
        "tonnetz_5y = []\n",
        "tonnetz_3mx = []\n",
        "tonnetz_3my = []\n",
        "tonnetz_3Mx = []\n",
        "tonnetz_3My = []\n",
        "chroma_0 = []\n",
        "chroma_1 = []\n",
        "chroma_2 = []\n",
        "chroma_3 = []\n",
        "chroma_4 = []\n",
        "chroma_5 = []\n",
        "chroma_6 = []\n",
        "chroma_7 = []\n",
        "chroma_8 = []\n",
        "chroma_9 = []\n",
        "chroma_10 = []\n",
        "chroma_11 = []\n",
        "chroma = [chroma_0, \n",
        "chroma_1, \n",
        "chroma_2, \n",
        "chroma_3, \n",
        "chroma_4, \n",
        "chroma_5, \n",
        "chroma_6, \n",
        "chroma_7, \n",
        "chroma_8, \n",
        "chroma_9, \n",
        "chroma_10, \n",
        "chroma_11]\n",
        "mfcc = []\n",
        "total = []\n",
        "\n",
        "for i in range(df.shape[0]):\n",
        "  mfcc.append(df['mfcc'][i])\n",
        "  mfcc[i] = np.array(mfcc[i])"
      ],
      "metadata": {
        "id": "a_2lMVzpryvL"
      },
      "execution_count": null,
      "outputs": []
    },
    {
      "cell_type": "code",
      "source": [
        "total = np.array(mfcc)"
      ],
      "metadata": {
        "id": "Ic_ctY8NtIur"
      },
      "execution_count": null,
      "outputs": []
    },
    {
      "cell_type": "code",
      "source": [
        "X = np.array(total)\n",
        "X_train, X_test, y_train, y_test = train_test_split(X, y_cat, test_size=0.30, stratify=y)\n",
        "scaler = MinMaxScaler()\n",
        "X_train_mmscaled = scaler.fit_transform(X_train.reshape(-1, X_train.shape[-1])).reshape(X_train.shape)\n",
        "X_test_mmscaled = scaler.transform(X_test.reshape(-1, X_test.shape[-1])).reshape(X_test.shape)"
      ],
      "metadata": {
        "id": "gN5GSklmryvM"
      },
      "execution_count": null,
      "outputs": []
    },
    {
      "cell_type": "code",
      "source": [
        "X_train_mmscaled = expand_dims(X_train_mmscaled,-1)\n",
        "X_test_mmscaled = expand_dims(X_test_mmscaled,-1)"
      ],
      "metadata": {
        "id": "4dC1I0t7ryvM"
      },
      "execution_count": null,
      "outputs": []
    },
    {
      "cell_type": "code",
      "source": [
        "model5 = models.Sequential()\n",
        "model5.add(layers.Masking(mask_value=0))\n",
        "model5.add(layers.Conv1D(128, kernel_size=2, strides=1, padding='valid', activation = \"relu\"))\n",
        "model5.add(layers.Conv1D(128, kernel_size=2, strides=1, padding='valid', activation = \"relu\"))\n",
        "# model5.add(layers.BatchNormalization())\n",
        "model5.add(layers.Dropout(0.5))\n",
        "# model.add(layers.MaxPooling2D(pool_size=(2,2)))\n",
        "\n",
        "model5.add(layers.Conv1D(256, kernel_size=2, strides=1, padding='valid', activation = \"relu\"))\n",
        "# model.add(layers.BatchNormalization())\n",
        "model5.add(layers.Dropout(0.5))\n",
        "model5.add(layers.Conv1D(256, kernel_size=2, strides=1, padding='valid', activation = \"relu\"))\n",
        "model5.add(layers.Dropout(0.5))\n",
        "model5.add(layers.Conv1D(256, kernel_size=2, strides=1, padding='valid', activation = \"relu\"))\n",
        "\n",
        "# model.add(layers.MaxPooling2D(pool_size=(2,2)))\n",
        "model5.add(layers.Flatten())\n",
        "\n",
        "model5.add(layers.Dense(200, activation='relu'))\n",
        "model5.add(layers.Dropout(0.5))\n",
        "model5.add(layers.Dense(100, activation='relu'))\n",
        "model5.add(layers.Dropout(0.5))\n",
        "model5.add(layers.Dense(100, activation='relu'))\n",
        "\n",
        "model5.add(layers.Dense(200, activation='relu'))\n",
        "model5.add(layers.Dropout(0.5))\n",
        "model5.add(layers.Dense(100, activation='relu'))\n",
        "model5.add(layers.Dropout(0.5))\n",
        "model5.add(layers.Dense(100, activation='relu'))\n",
        "\n",
        "model5.add(layers.Dense(6, activation='softmax'))\n"
      ],
      "metadata": {
        "id": "HdD_wVDJryvM"
      },
      "execution_count": null,
      "outputs": []
    },
    {
      "cell_type": "code",
      "source": [
        "model5.build((1, 127, 1, 1))"
      ],
      "metadata": {
        "colab": {
          "base_uri": "https://localhost:8080/"
        },
        "id": "e4YkUjtIryvM",
        "outputId": "8889be33-b9a2-468e-df7e-4ba84855dbe8"
      },
      "execution_count": null,
      "outputs": [
        {
          "output_type": "error",
          "ename": "ValueError",
          "evalue": "ignored",
          "traceback": [
            "\u001b[0;31m---------------------------------------------------------------------------\u001b[0m",
            "\u001b[0;31mValueError\u001b[0m                                Traceback (most recent call last)",
            "\u001b[0;32m<ipython-input-142-547e09f8af4c>\u001b[0m in \u001b[0;36m<module>\u001b[0;34m\u001b[0m\n\u001b[0;32m----> 1\u001b[0;31m \u001b[0mmodel5\u001b[0m\u001b[0;34m.\u001b[0m\u001b[0mbuild\u001b[0m\u001b[0;34m(\u001b[0m\u001b[0;34m(\u001b[0m\u001b[0;36m1\u001b[0m\u001b[0;34m,\u001b[0m \u001b[0;36m127\u001b[0m\u001b[0;34m,\u001b[0m \u001b[0;36m1\u001b[0m\u001b[0;34m,\u001b[0m \u001b[0;36m1\u001b[0m\u001b[0;34m)\u001b[0m\u001b[0;34m)\u001b[0m\u001b[0;34m\u001b[0m\u001b[0;34m\u001b[0m\u001b[0m\n\u001b[0m",
            "\u001b[0;32m/usr/local/lib/python3.7/dist-packages/keras/engine/sequential.py\u001b[0m in \u001b[0;36mbuild\u001b[0;34m(self, input_shape)\u001b[0m\n\u001b[1;32m    347\u001b[0m         \u001b[0minput_shape\u001b[0m \u001b[0;34m=\u001b[0m \u001b[0mtuple\u001b[0m\u001b[0;34m(\u001b[0m\u001b[0minput_shape\u001b[0m\u001b[0;34m)\u001b[0m\u001b[0;34m\u001b[0m\u001b[0;34m\u001b[0m\u001b[0m\n\u001b[1;32m    348\u001b[0m         \u001b[0mself\u001b[0m\u001b[0;34m.\u001b[0m\u001b[0m_build_input_shape\u001b[0m \u001b[0;34m=\u001b[0m \u001b[0minput_shape\u001b[0m\u001b[0;34m\u001b[0m\u001b[0;34m\u001b[0m\u001b[0m\n\u001b[0;32m--> 349\u001b[0;31m         \u001b[0msuper\u001b[0m\u001b[0;34m(\u001b[0m\u001b[0mSequential\u001b[0m\u001b[0;34m,\u001b[0m \u001b[0mself\u001b[0m\u001b[0;34m)\u001b[0m\u001b[0;34m.\u001b[0m\u001b[0mbuild\u001b[0m\u001b[0;34m(\u001b[0m\u001b[0minput_shape\u001b[0m\u001b[0;34m)\u001b[0m\u001b[0;34m\u001b[0m\u001b[0;34m\u001b[0m\u001b[0m\n\u001b[0m\u001b[1;32m    350\u001b[0m     \u001b[0mself\u001b[0m\u001b[0;34m.\u001b[0m\u001b[0mbuilt\u001b[0m \u001b[0;34m=\u001b[0m \u001b[0;32mTrue\u001b[0m\u001b[0;34m\u001b[0m\u001b[0;34m\u001b[0m\u001b[0m\n\u001b[1;32m    351\u001b[0m \u001b[0;34m\u001b[0m\u001b[0m\n",
            "\u001b[0;32m/usr/local/lib/python3.7/dist-packages/keras/engine/training.py\u001b[0m in \u001b[0;36mbuild\u001b[0;34m(self, input_shape)\u001b[0m\n\u001b[1;32m    447\u001b[0m               'method accepts an `inputs` argument.')\n\u001b[1;32m    448\u001b[0m         \u001b[0;32mtry\u001b[0m\u001b[0;34m:\u001b[0m\u001b[0;34m\u001b[0m\u001b[0;34m\u001b[0m\u001b[0m\n\u001b[0;32m--> 449\u001b[0;31m           \u001b[0mself\u001b[0m\u001b[0;34m.\u001b[0m\u001b[0mcall\u001b[0m\u001b[0;34m(\u001b[0m\u001b[0mx\u001b[0m\u001b[0;34m,\u001b[0m \u001b[0;34m**\u001b[0m\u001b[0mkwargs\u001b[0m\u001b[0;34m)\u001b[0m\u001b[0;34m\u001b[0m\u001b[0;34m\u001b[0m\u001b[0m\n\u001b[0m\u001b[1;32m    450\u001b[0m         \u001b[0;32mexcept\u001b[0m \u001b[0;34m(\u001b[0m\u001b[0mtf\u001b[0m\u001b[0;34m.\u001b[0m\u001b[0merrors\u001b[0m\u001b[0;34m.\u001b[0m\u001b[0mInvalidArgumentError\u001b[0m\u001b[0;34m,\u001b[0m \u001b[0mTypeError\u001b[0m\u001b[0;34m)\u001b[0m \u001b[0;32mas\u001b[0m \u001b[0me\u001b[0m\u001b[0;34m:\u001b[0m\u001b[0;34m\u001b[0m\u001b[0;34m\u001b[0m\u001b[0m\n\u001b[1;32m    451\u001b[0m           raise ValueError('You cannot build your model by calling `build` '\n",
            "\u001b[0;32m/usr/local/lib/python3.7/dist-packages/keras/engine/sequential.py\u001b[0m in \u001b[0;36mcall\u001b[0;34m(self, inputs, training, mask)\u001b[0m\n\u001b[1;32m    386\u001b[0m         \u001b[0mkwargs\u001b[0m\u001b[0;34m[\u001b[0m\u001b[0;34m'training'\u001b[0m\u001b[0;34m]\u001b[0m \u001b[0;34m=\u001b[0m \u001b[0mtraining\u001b[0m\u001b[0;34m\u001b[0m\u001b[0;34m\u001b[0m\u001b[0m\n\u001b[1;32m    387\u001b[0m \u001b[0;34m\u001b[0m\u001b[0m\n\u001b[0;32m--> 388\u001b[0;31m       \u001b[0moutputs\u001b[0m \u001b[0;34m=\u001b[0m \u001b[0mlayer\u001b[0m\u001b[0;34m(\u001b[0m\u001b[0minputs\u001b[0m\u001b[0;34m,\u001b[0m \u001b[0;34m**\u001b[0m\u001b[0mkwargs\u001b[0m\u001b[0;34m)\u001b[0m\u001b[0;34m\u001b[0m\u001b[0;34m\u001b[0m\u001b[0m\n\u001b[0m\u001b[1;32m    389\u001b[0m \u001b[0;34m\u001b[0m\u001b[0m\n\u001b[1;32m    390\u001b[0m       \u001b[0;32mif\u001b[0m \u001b[0mlen\u001b[0m\u001b[0;34m(\u001b[0m\u001b[0mtf\u001b[0m\u001b[0;34m.\u001b[0m\u001b[0mnest\u001b[0m\u001b[0;34m.\u001b[0m\u001b[0mflatten\u001b[0m\u001b[0;34m(\u001b[0m\u001b[0moutputs\u001b[0m\u001b[0;34m)\u001b[0m\u001b[0;34m)\u001b[0m \u001b[0;34m!=\u001b[0m \u001b[0;36m1\u001b[0m\u001b[0;34m:\u001b[0m\u001b[0;34m\u001b[0m\u001b[0;34m\u001b[0m\u001b[0m\n",
            "\u001b[0;32m/usr/local/lib/python3.7/dist-packages/keras/utils/traceback_utils.py\u001b[0m in \u001b[0;36merror_handler\u001b[0;34m(*args, **kwargs)\u001b[0m\n\u001b[1;32m     65\u001b[0m     \u001b[0;32mexcept\u001b[0m \u001b[0mException\u001b[0m \u001b[0;32mas\u001b[0m \u001b[0me\u001b[0m\u001b[0;34m:\u001b[0m  \u001b[0;31m# pylint: disable=broad-except\u001b[0m\u001b[0;34m\u001b[0m\u001b[0;34m\u001b[0m\u001b[0m\n\u001b[1;32m     66\u001b[0m       \u001b[0mfiltered_tb\u001b[0m \u001b[0;34m=\u001b[0m \u001b[0m_process_traceback_frames\u001b[0m\u001b[0;34m(\u001b[0m\u001b[0me\u001b[0m\u001b[0;34m.\u001b[0m\u001b[0m__traceback__\u001b[0m\u001b[0;34m)\u001b[0m\u001b[0;34m\u001b[0m\u001b[0;34m\u001b[0m\u001b[0m\n\u001b[0;32m---> 67\u001b[0;31m       \u001b[0;32mraise\u001b[0m \u001b[0me\u001b[0m\u001b[0;34m.\u001b[0m\u001b[0mwith_traceback\u001b[0m\u001b[0;34m(\u001b[0m\u001b[0mfiltered_tb\u001b[0m\u001b[0;34m)\u001b[0m \u001b[0;32mfrom\u001b[0m \u001b[0;32mNone\u001b[0m\u001b[0;34m\u001b[0m\u001b[0;34m\u001b[0m\u001b[0m\n\u001b[0m\u001b[1;32m     68\u001b[0m     \u001b[0;32mfinally\u001b[0m\u001b[0;34m:\u001b[0m\u001b[0;34m\u001b[0m\u001b[0;34m\u001b[0m\u001b[0m\n\u001b[1;32m     69\u001b[0m       \u001b[0;32mdel\u001b[0m \u001b[0mfiltered_tb\u001b[0m\u001b[0;34m\u001b[0m\u001b[0;34m\u001b[0m\u001b[0m\n",
            "\u001b[0;32m/usr/local/lib/python3.7/dist-packages/keras/layers/convolutional/base_conv.py\u001b[0m in \u001b[0;36mcompute_output_shape\u001b[0;34m(self, input_shape)\u001b[0m\n\u001b[1;32m    306\u001b[0m     \u001b[0;32mexcept\u001b[0m \u001b[0mValueError\u001b[0m\u001b[0;34m:\u001b[0m\u001b[0;34m\u001b[0m\u001b[0;34m\u001b[0m\u001b[0m\n\u001b[1;32m    307\u001b[0m       raise ValueError(\n\u001b[0;32m--> 308\u001b[0;31m           \u001b[0;34mf'One of the dimensions in the output is <= 0 '\u001b[0m\u001b[0;34m\u001b[0m\u001b[0;34m\u001b[0m\u001b[0m\n\u001b[0m\u001b[1;32m    309\u001b[0m           \u001b[0;34mf'due to downsampling in {self.name}. Consider '\u001b[0m\u001b[0;34m\u001b[0m\u001b[0;34m\u001b[0m\u001b[0m\n\u001b[1;32m    310\u001b[0m           \u001b[0;34mf'increasing the input size. '\u001b[0m\u001b[0;34m\u001b[0m\u001b[0;34m\u001b[0m\u001b[0m\n",
            "\u001b[0;31mValueError\u001b[0m: One of the dimensions in the output is <= 0 due to downsampling in conv1d_35. Consider increasing the input size. Received input shape [1, 127, 1, 1] which would produce output shape with a zero or negative value in a dimension."
          ]
        }
      ]
    },
    {
      "cell_type": "code",
      "source": [
        "model5.compile(loss=\"categorical_crossentropy\", optimizer=custom_adam, metrics=[\"accuracy\"])"
      ],
      "metadata": {
        "id": "xDGuTus9ryvM"
      },
      "execution_count": null,
      "outputs": []
    },
    {
      "cell_type": "code",
      "source": [
        "model5.summary()"
      ],
      "metadata": {
        "colab": {
          "base_uri": "https://localhost:8080/"
        },
        "outputId": "0d96b4e8-06f8-4a90-9b74-495b457fa053",
        "id": "DEf-baTLryvM"
      },
      "execution_count": null,
      "outputs": [
        {
          "output_type": "error",
          "ename": "ValueError",
          "evalue": "ignored",
          "traceback": [
            "\u001b[0;31m---------------------------------------------------------------------------\u001b[0m",
            "\u001b[0;31mValueError\u001b[0m                                Traceback (most recent call last)",
            "\u001b[0;32m<ipython-input-144-dcd1bc47121d>\u001b[0m in \u001b[0;36m<module>\u001b[0;34m\u001b[0m\n\u001b[0;32m----> 1\u001b[0;31m \u001b[0mmodel5\u001b[0m\u001b[0;34m.\u001b[0m\u001b[0msummary\u001b[0m\u001b[0;34m(\u001b[0m\u001b[0;34m)\u001b[0m\u001b[0;34m\u001b[0m\u001b[0;34m\u001b[0m\u001b[0m\n\u001b[0m",
            "\u001b[0;32m/usr/local/lib/python3.7/dist-packages/keras/engine/training.py\u001b[0m in \u001b[0;36msummary\u001b[0;34m(self, line_length, positions, print_fn, expand_nested, show_trainable)\u001b[0m\n\u001b[1;32m   2868\u001b[0m     \u001b[0;32mif\u001b[0m \u001b[0;32mnot\u001b[0m \u001b[0mself\u001b[0m\u001b[0;34m.\u001b[0m\u001b[0mbuilt\u001b[0m\u001b[0;34m:\u001b[0m\u001b[0;34m\u001b[0m\u001b[0;34m\u001b[0m\u001b[0m\n\u001b[1;32m   2869\u001b[0m       raise ValueError(\n\u001b[0;32m-> 2870\u001b[0;31m           \u001b[0;34m'This model has not yet been built. '\u001b[0m\u001b[0;34m\u001b[0m\u001b[0;34m\u001b[0m\u001b[0m\n\u001b[0m\u001b[1;32m   2871\u001b[0m           \u001b[0;34m'Build the model first by calling `build()` or by calling '\u001b[0m\u001b[0;34m\u001b[0m\u001b[0;34m\u001b[0m\u001b[0m\n\u001b[1;32m   2872\u001b[0m           'the model on a batch of data.')\n",
            "\u001b[0;31mValueError\u001b[0m: This model has not yet been built. Build the model first by calling `build()` or by calling the model on a batch of data."
          ]
        }
      ]
    },
    {
      "cell_type": "code",
      "source": [
        "es = EarlyStopping(patience=50, restore_best_weights=True)\n",
        "history_5 = model5.fit(X_train_mmscaled, y_train, validation_split=0.3, epochs=1000, batch_size=64, callbacks=[es])"
      ],
      "metadata": {
        "colab": {
          "base_uri": "https://localhost:8080/"
        },
        "outputId": "d2f53998-0559-4a76-c49b-c3226f1c8abd",
        "id": "ZO7GbWwuryvN"
      },
      "execution_count": null,
      "outputs": [
        {
          "output_type": "stream",
          "name": "stdout",
          "text": [
            "Epoch 1/1000\n",
            "86/86 [==============================] - 2s 12ms/step - loss: 1.7924 - accuracy: 0.1674 - val_loss: 1.7915 - val_accuracy: 0.1636\n",
            "Epoch 2/1000\n",
            "86/86 [==============================] - 1s 8ms/step - loss: 1.7899 - accuracy: 0.1786 - val_loss: 1.7917 - val_accuracy: 0.1636\n",
            "Epoch 3/1000\n",
            "86/86 [==============================] - 1s 8ms/step - loss: 1.7904 - accuracy: 0.1695 - val_loss: 1.7914 - val_accuracy: 0.1636\n",
            "Epoch 4/1000\n",
            "86/86 [==============================] - 1s 7ms/step - loss: 1.7906 - accuracy: 0.1671 - val_loss: 1.7915 - val_accuracy: 0.1636\n",
            "Epoch 5/1000\n",
            "86/86 [==============================] - 1s 7ms/step - loss: 1.7899 - accuracy: 0.1786 - val_loss: 1.7915 - val_accuracy: 0.1636\n",
            "Epoch 6/1000\n",
            "86/86 [==============================] - 1s 7ms/step - loss: 1.7903 - accuracy: 0.1766 - val_loss: 1.7916 - val_accuracy: 0.1636\n",
            "Epoch 7/1000\n",
            "86/86 [==============================] - 1s 7ms/step - loss: 1.7902 - accuracy: 0.1792 - val_loss: 1.7917 - val_accuracy: 0.1636\n",
            "Epoch 8/1000\n",
            "86/86 [==============================] - 1s 7ms/step - loss: 1.7900 - accuracy: 0.1764 - val_loss: 1.7917 - val_accuracy: 0.1636\n",
            "Epoch 9/1000\n",
            "86/86 [==============================] - 1s 7ms/step - loss: 1.7900 - accuracy: 0.1772 - val_loss: 1.7916 - val_accuracy: 0.1636\n",
            "Epoch 10/1000\n",
            "86/86 [==============================] - 1s 7ms/step - loss: 1.7899 - accuracy: 0.1772 - val_loss: 1.7916 - val_accuracy: 0.1636\n",
            "Epoch 11/1000\n",
            "86/86 [==============================] - 1s 7ms/step - loss: 1.7901 - accuracy: 0.1722 - val_loss: 1.7916 - val_accuracy: 0.1636\n",
            "Epoch 12/1000\n",
            "86/86 [==============================] - 1s 7ms/step - loss: 1.7899 - accuracy: 0.1790 - val_loss: 1.7917 - val_accuracy: 0.1636\n",
            "Epoch 13/1000\n",
            "86/86 [==============================] - 1s 7ms/step - loss: 1.7901 - accuracy: 0.1764 - val_loss: 1.7917 - val_accuracy: 0.1636\n",
            "Epoch 14/1000\n",
            "86/86 [==============================] - 1s 7ms/step - loss: 1.7900 - accuracy: 0.1711 - val_loss: 1.7917 - val_accuracy: 0.1636\n",
            "Epoch 15/1000\n",
            "86/86 [==============================] - 1s 7ms/step - loss: 1.7901 - accuracy: 0.1792 - val_loss: 1.7917 - val_accuracy: 0.1636\n",
            "Epoch 16/1000\n",
            "86/86 [==============================] - 1s 7ms/step - loss: 1.7901 - accuracy: 0.1691 - val_loss: 1.7918 - val_accuracy: 0.1636\n",
            "Epoch 17/1000\n",
            "86/86 [==============================] - 1s 7ms/step - loss: 1.7901 - accuracy: 0.1847 - val_loss: 1.7917 - val_accuracy: 0.1636\n",
            "Epoch 18/1000\n",
            "86/86 [==============================] - 1s 7ms/step - loss: 1.7899 - accuracy: 0.1729 - val_loss: 1.7917 - val_accuracy: 0.1636\n",
            "Epoch 19/1000\n",
            "86/86 [==============================] - 1s 7ms/step - loss: 1.7900 - accuracy: 0.1742 - val_loss: 1.7916 - val_accuracy: 0.1636\n",
            "Epoch 20/1000\n",
            "86/86 [==============================] - 1s 7ms/step - loss: 1.7900 - accuracy: 0.1746 - val_loss: 1.7916 - val_accuracy: 0.1636\n",
            "Epoch 21/1000\n",
            "86/86 [==============================] - 1s 7ms/step - loss: 1.7902 - accuracy: 0.1781 - val_loss: 1.7916 - val_accuracy: 0.1636\n",
            "Epoch 22/1000\n",
            "86/86 [==============================] - 1s 7ms/step - loss: 1.7899 - accuracy: 0.1852 - val_loss: 1.7916 - val_accuracy: 0.1636\n",
            "Epoch 23/1000\n",
            "86/86 [==============================] - 1s 7ms/step - loss: 1.7899 - accuracy: 0.1761 - val_loss: 1.7917 - val_accuracy: 0.1636\n",
            "Epoch 24/1000\n",
            "86/86 [==============================] - 1s 7ms/step - loss: 1.7899 - accuracy: 0.1806 - val_loss: 1.7917 - val_accuracy: 0.1636\n",
            "Epoch 25/1000\n",
            "86/86 [==============================] - 1s 7ms/step - loss: 1.7899 - accuracy: 0.1715 - val_loss: 1.7917 - val_accuracy: 0.1636\n",
            "Epoch 26/1000\n",
            "86/86 [==============================] - 1s 7ms/step - loss: 1.7900 - accuracy: 0.1768 - val_loss: 1.7918 - val_accuracy: 0.1636\n",
            "Epoch 27/1000\n",
            "86/86 [==============================] - 1s 7ms/step - loss: 1.7901 - accuracy: 0.1739 - val_loss: 1.7917 - val_accuracy: 0.1636\n",
            "Epoch 28/1000\n",
            "86/86 [==============================] - 1s 7ms/step - loss: 1.7900 - accuracy: 0.1773 - val_loss: 1.7917 - val_accuracy: 0.1636\n",
            "Epoch 29/1000\n",
            "86/86 [==============================] - 1s 7ms/step - loss: 1.7900 - accuracy: 0.1755 - val_loss: 1.7917 - val_accuracy: 0.1636\n",
            "Epoch 30/1000\n",
            "86/86 [==============================] - 1s 7ms/step - loss: 1.7899 - accuracy: 0.1766 - val_loss: 1.7917 - val_accuracy: 0.1636\n",
            "Epoch 31/1000\n",
            "86/86 [==============================] - 1s 7ms/step - loss: 1.7902 - accuracy: 0.1709 - val_loss: 1.7917 - val_accuracy: 0.1636\n",
            "Epoch 32/1000\n",
            "86/86 [==============================] - 1s 7ms/step - loss: 1.7899 - accuracy: 0.1795 - val_loss: 1.7917 - val_accuracy: 0.1636\n",
            "Epoch 33/1000\n",
            "86/86 [==============================] - 1s 7ms/step - loss: 1.7900 - accuracy: 0.1766 - val_loss: 1.7917 - val_accuracy: 0.1636\n",
            "Epoch 34/1000\n",
            "86/86 [==============================] - 1s 7ms/step - loss: 1.7900 - accuracy: 0.1739 - val_loss: 1.7917 - val_accuracy: 0.1636\n",
            "Epoch 35/1000\n",
            "86/86 [==============================] - 1s 7ms/step - loss: 1.7899 - accuracy: 0.1773 - val_loss: 1.7917 - val_accuracy: 0.1636\n",
            "Epoch 36/1000\n",
            "86/86 [==============================] - 1s 7ms/step - loss: 1.7898 - accuracy: 0.1799 - val_loss: 1.7917 - val_accuracy: 0.1636\n",
            "Epoch 37/1000\n",
            "86/86 [==============================] - 1s 7ms/step - loss: 1.7901 - accuracy: 0.1772 - val_loss: 1.7916 - val_accuracy: 0.1636\n",
            "Epoch 38/1000\n",
            "86/86 [==============================] - 1s 7ms/step - loss: 1.7898 - accuracy: 0.1773 - val_loss: 1.7916 - val_accuracy: 0.1636\n",
            "Epoch 39/1000\n",
            "86/86 [==============================] - 1s 7ms/step - loss: 1.7901 - accuracy: 0.1762 - val_loss: 1.7916 - val_accuracy: 0.1636\n",
            "Epoch 40/1000\n",
            "86/86 [==============================] - 1s 7ms/step - loss: 1.7899 - accuracy: 0.1704 - val_loss: 1.7917 - val_accuracy: 0.1636\n",
            "Epoch 41/1000\n",
            "86/86 [==============================] - 1s 7ms/step - loss: 1.7902 - accuracy: 0.1805 - val_loss: 1.7916 - val_accuracy: 0.1636\n",
            "Epoch 42/1000\n",
            "86/86 [==============================] - 1s 7ms/step - loss: 1.7900 - accuracy: 0.1751 - val_loss: 1.7917 - val_accuracy: 0.1636\n",
            "Epoch 43/1000\n",
            "86/86 [==============================] - 1s 7ms/step - loss: 1.7901 - accuracy: 0.1755 - val_loss: 1.7916 - val_accuracy: 0.1636\n",
            "Epoch 44/1000\n",
            "86/86 [==============================] - 1s 7ms/step - loss: 1.7900 - accuracy: 0.1770 - val_loss: 1.7916 - val_accuracy: 0.1636\n",
            "Epoch 45/1000\n",
            "86/86 [==============================] - 1s 7ms/step - loss: 1.7902 - accuracy: 0.1724 - val_loss: 1.7916 - val_accuracy: 0.1636\n",
            "Epoch 46/1000\n",
            "86/86 [==============================] - 1s 7ms/step - loss: 1.7900 - accuracy: 0.1819 - val_loss: 1.7916 - val_accuracy: 0.1636\n",
            "Epoch 47/1000\n",
            "86/86 [==============================] - 1s 7ms/step - loss: 1.7898 - accuracy: 0.1808 - val_loss: 1.7916 - val_accuracy: 0.1636\n",
            "Epoch 48/1000\n",
            "86/86 [==============================] - 1s 7ms/step - loss: 1.7899 - accuracy: 0.1755 - val_loss: 1.7917 - val_accuracy: 0.1636\n",
            "Epoch 49/1000\n",
            "86/86 [==============================] - 1s 7ms/step - loss: 1.7899 - accuracy: 0.1761 - val_loss: 1.7917 - val_accuracy: 0.1636\n",
            "Epoch 50/1000\n",
            "86/86 [==============================] - 1s 7ms/step - loss: 1.7902 - accuracy: 0.1704 - val_loss: 1.7917 - val_accuracy: 0.1636\n",
            "Epoch 51/1000\n",
            "86/86 [==============================] - 1s 7ms/step - loss: 1.7900 - accuracy: 0.1715 - val_loss: 1.7917 - val_accuracy: 0.1636\n",
            "Epoch 52/1000\n",
            "86/86 [==============================] - 1s 7ms/step - loss: 1.7900 - accuracy: 0.1751 - val_loss: 1.7917 - val_accuracy: 0.1636\n",
            "Epoch 53/1000\n",
            "86/86 [==============================] - 1s 7ms/step - loss: 1.7899 - accuracy: 0.1794 - val_loss: 1.7918 - val_accuracy: 0.1636\n"
          ]
        }
      ]
    },
    {
      "cell_type": "code",
      "source": [
        "model5.evaluate(X_test_mmscaled, y_test)"
      ],
      "metadata": {
        "colab": {
          "base_uri": "https://localhost:8080/"
        },
        "id": "RLANRproryvO",
        "outputId": "ac4d2f54-2af9-4e99-b316-b7815657a817"
      },
      "execution_count": null,
      "outputs": [
        {
          "output_type": "stream",
          "name": "stdout",
          "text": [
            "105/105 [==============================] - 0s 3ms/step - loss: 1.7904 - accuracy: 0.1730\n"
          ]
        },
        {
          "output_type": "execute_result",
          "data": {
            "text/plain": [
              "[1.7903729677200317, 0.17296163737773895]"
            ]
          },
          "metadata": {},
          "execution_count": 146
        }
      ]
    },
    {
      "cell_type": "markdown",
      "source": [
        "## Model 6 Wave"
      ],
      "metadata": {
        "id": "zvbyZcqjsTEs"
      }
    },
    {
      "cell_type": "markdown",
      "source": [
        "This one has to be run separately, it takes up too much memory\n",
        "\n",
        "Impossible to run, abort"
      ],
      "metadata": {
        "id": "BR5et5iZ03WP"
      }
    },
    {
      "cell_type": "code",
      "source": [],
      "metadata": {
        "id": "RDXdS-PJrsTM"
      },
      "execution_count": null,
      "outputs": []
    },
    {
      "cell_type": "code",
      "source": [
        "wave = []\n",
        "\n",
        "for i in range(df.shape[0]):\n",
        "  wave.append(df['wave'][i])\n",
        "  wave[i] = np.array(wave[i])"
      ],
      "metadata": {
        "id": "SB6Zp3aesVbL"
      },
      "execution_count": null,
      "outputs": []
    },
    {
      "cell_type": "code",
      "source": [
        "total = np.array(wave)"
      ],
      "metadata": {
        "id": "4xXhzYEBsxhr"
      },
      "execution_count": null,
      "outputs": []
    },
    {
      "cell_type": "code",
      "source": [
        "X = np.array(total)\n",
        "X_train, X_test, y_train, y_test = train_test_split(X, y_cat, test_size=0.30, stratify=y)\n",
        "scaler = MinMaxScaler()\n",
        "X_train_mmscaled = scaler.fit_transform(X_train.reshape(-1, X_train.shape[-1])).reshape(X_train.shape)\n",
        "X_test_mmscaled = scaler.transform(X_test.reshape(-1, X_test.shape[-1])).reshape(X_test.shape)"
      ],
      "metadata": {
        "id": "HbGQ3Nv5sVbM"
      },
      "execution_count": null,
      "outputs": []
    },
    {
      "cell_type": "code",
      "source": [
        "X_train_mmscaled = expand_dims(X_train_mmscaled,-1)\n",
        "X_test_mmscaled = expand_dims(X_test_mmscaled,-1)"
      ],
      "metadata": {
        "id": "Isq2_THXsVbM"
      },
      "execution_count": null,
      "outputs": []
    },
    {
      "cell_type": "code",
      "source": [
        "model6 = models.Sequential()\n",
        "model6.add(layers.Masking(mask_value=0))\n",
        "model6.add(layers.Conv1D(128, kernel_size=6, strides=1, padding='valid', activation = \"relu\"))\n",
        "model6.add(layers.Conv1D(128, kernel_size=6, strides=1, padding='valid', activation = \"relu\"))\n",
        "# model6.add(layers.BatchNormalization())\n",
        "model6.add(layers.Dropout(0.5))\n",
        "# model.add(layers.MaxPooling2D(pool_size=(2,2)))\n",
        "\n",
        "model6.add(layers.Conv1D(256, kernel_size=6, strides=1, padding='valid', activation = \"relu\"))\n",
        "# model.add(layers.BatchNormalization())\n",
        "model6.add(layers.Dropout(0.5))\n",
        "model6.add(layers.Conv1D(256, kernel_size=6, strides=1, padding='valid', activation = \"relu\"))\n",
        "model6.add(layers.Dropout(0.5))\n",
        "model6.add(layers.Conv1D(256, kernel_size=6, strides=1, padding='valid', activation = \"relu\"))\n",
        "\n",
        "# model.add(layers.MaxPooling2D(pool_size=(2,2)))\n",
        "model6.add(layers.Flatten())\n",
        "\n",
        "model6.add(layers.Dense(200, activation='relu'))\n",
        "model6.add(layers.Dropout(0.5))\n",
        "model6.add(layers.Dense(100, activation='relu'))\n",
        "model6.add(layers.Dropout(0.5))\n",
        "model6.add(layers.Dense(100, activation='relu'))\n",
        "\n",
        "model6.add(layers.Dense(200, activation='relu'))\n",
        "model6.add(layers.Dropout(0.5))\n",
        "model6.add(layers.Dense(100, activation='relu'))\n",
        "model6.add(layers.Dropout(0.5))\n",
        "model6.add(layers.Dense(100, activation='relu'))\n",
        "\n",
        "model6.add(layers.Dense(6, activation='softmax'))\n"
      ],
      "metadata": {
        "id": "-DbaoWbfsVbM"
      },
      "execution_count": null,
      "outputs": []
    },
    {
      "cell_type": "code",
      "source": [
        "# model6.build((1, 1, 65000, 1))"
      ],
      "metadata": {
        "id": "CwpcRsz7sVbM"
      },
      "execution_count": null,
      "outputs": []
    },
    {
      "cell_type": "code",
      "source": [
        "model6.compile(loss=\"categorical_crossentropy\", optimizer=custom_adam, metrics=[\"accuracy\"])"
      ],
      "metadata": {
        "id": "jB_P5MqosVbM"
      },
      "execution_count": null,
      "outputs": []
    },
    {
      "cell_type": "code",
      "source": [],
      "metadata": {
        "id": "QiSS7S3a01y9"
      },
      "execution_count": null,
      "outputs": []
    },
    {
      "cell_type": "code",
      "source": [
        "# model6.summary()"
      ],
      "metadata": {
        "colab": {
          "base_uri": "https://localhost:8080/"
        },
        "outputId": "46a9db66-22f4-436e-b1f0-cf0bbc66048f",
        "id": "kWQ49FB6sVbM"
      },
      "execution_count": null,
      "outputs": [
        {
          "output_type": "error",
          "ename": "ValueError",
          "evalue": "ignored",
          "traceback": [
            "\u001b[0;31m---------------------------------------------------------------------------\u001b[0m",
            "\u001b[0;31mValueError\u001b[0m                                Traceback (most recent call last)",
            "\u001b[0;32m<ipython-input-20-9b9424b80928>\u001b[0m in \u001b[0;36m<module>\u001b[0;34m\u001b[0m\n\u001b[0;32m----> 1\u001b[0;31m \u001b[0mmodel6\u001b[0m\u001b[0;34m.\u001b[0m\u001b[0msummary\u001b[0m\u001b[0;34m(\u001b[0m\u001b[0;34m)\u001b[0m\u001b[0;34m\u001b[0m\u001b[0;34m\u001b[0m\u001b[0m\n\u001b[0m",
            "\u001b[0;32m/usr/local/lib/python3.7/dist-packages/keras/engine/training.py\u001b[0m in \u001b[0;36msummary\u001b[0;34m(self, line_length, positions, print_fn, expand_nested, show_trainable)\u001b[0m\n\u001b[1;32m   2868\u001b[0m     \u001b[0;32mif\u001b[0m \u001b[0;32mnot\u001b[0m \u001b[0mself\u001b[0m\u001b[0;34m.\u001b[0m\u001b[0mbuilt\u001b[0m\u001b[0;34m:\u001b[0m\u001b[0;34m\u001b[0m\u001b[0;34m\u001b[0m\u001b[0m\n\u001b[1;32m   2869\u001b[0m       raise ValueError(\n\u001b[0;32m-> 2870\u001b[0;31m           \u001b[0;34m'This model has not yet been built. '\u001b[0m\u001b[0;34m\u001b[0m\u001b[0;34m\u001b[0m\u001b[0m\n\u001b[0m\u001b[1;32m   2871\u001b[0m           \u001b[0;34m'Build the model first by calling `build()` or by calling '\u001b[0m\u001b[0;34m\u001b[0m\u001b[0;34m\u001b[0m\u001b[0m\n\u001b[1;32m   2872\u001b[0m           'the model on a batch of data.')\n",
            "\u001b[0;31mValueError\u001b[0m: This model has not yet been built. Build the model first by calling `build()` or by calling the model on a batch of data."
          ]
        }
      ]
    },
    {
      "cell_type": "code",
      "source": [
        "# es = EarlyStopping(patience=30, restore_best_weights=True)\n",
        "# history_6 = model6.fit(X_train_mmscaled, y_train, validation_split=0.3, epochs=1000, batch_size=32, callbacks=[es])"
      ],
      "metadata": {
        "colab": {
          "base_uri": "https://localhost:8080/"
        },
        "outputId": "c0fbe049-899c-43d5-c0b3-de3aeeffe263",
        "id": "imRYzbvgsVbM"
      },
      "execution_count": null,
      "outputs": [
        {
          "output_type": "stream",
          "name": "stdout",
          "text": [
            "Epoch 1/1000\n"
          ]
        },
        {
          "output_type": "error",
          "ename": "ResourceExhaustedError",
          "evalue": "ignored",
          "traceback": [
            "\u001b[0;31m---------------------------------------------------------------------------\u001b[0m",
            "\u001b[0;31mResourceExhaustedError\u001b[0m                    Traceback (most recent call last)",
            "\u001b[0;32m<ipython-input-21-200589006ab9>\u001b[0m in \u001b[0;36m<module>\u001b[0;34m\u001b[0m\n\u001b[1;32m      1\u001b[0m \u001b[0mes\u001b[0m \u001b[0;34m=\u001b[0m \u001b[0mEarlyStopping\u001b[0m\u001b[0;34m(\u001b[0m\u001b[0mpatience\u001b[0m\u001b[0;34m=\u001b[0m\u001b[0;36m30\u001b[0m\u001b[0;34m,\u001b[0m \u001b[0mrestore_best_weights\u001b[0m\u001b[0;34m=\u001b[0m\u001b[0;32mTrue\u001b[0m\u001b[0;34m)\u001b[0m\u001b[0;34m\u001b[0m\u001b[0;34m\u001b[0m\u001b[0m\n\u001b[0;32m----> 2\u001b[0;31m \u001b[0mhistory_6\u001b[0m \u001b[0;34m=\u001b[0m \u001b[0mmodel6\u001b[0m\u001b[0;34m.\u001b[0m\u001b[0mfit\u001b[0m\u001b[0;34m(\u001b[0m\u001b[0mX_train_mmscaled\u001b[0m\u001b[0;34m,\u001b[0m \u001b[0my_train\u001b[0m\u001b[0;34m,\u001b[0m \u001b[0mvalidation_split\u001b[0m\u001b[0;34m=\u001b[0m\u001b[0;36m0.3\u001b[0m\u001b[0;34m,\u001b[0m \u001b[0mepochs\u001b[0m\u001b[0;34m=\u001b[0m\u001b[0;36m1000\u001b[0m\u001b[0;34m,\u001b[0m \u001b[0mbatch_size\u001b[0m\u001b[0;34m=\u001b[0m\u001b[0;36m32\u001b[0m\u001b[0;34m,\u001b[0m \u001b[0mcallbacks\u001b[0m\u001b[0;34m=\u001b[0m\u001b[0;34m[\u001b[0m\u001b[0mes\u001b[0m\u001b[0;34m]\u001b[0m\u001b[0;34m)\u001b[0m\u001b[0;34m\u001b[0m\u001b[0;34m\u001b[0m\u001b[0m\n\u001b[0m",
            "\u001b[0;32m/usr/local/lib/python3.7/dist-packages/keras/utils/traceback_utils.py\u001b[0m in \u001b[0;36merror_handler\u001b[0;34m(*args, **kwargs)\u001b[0m\n\u001b[1;32m     65\u001b[0m     \u001b[0;32mexcept\u001b[0m \u001b[0mException\u001b[0m \u001b[0;32mas\u001b[0m \u001b[0me\u001b[0m\u001b[0;34m:\u001b[0m  \u001b[0;31m# pylint: disable=broad-except\u001b[0m\u001b[0;34m\u001b[0m\u001b[0;34m\u001b[0m\u001b[0m\n\u001b[1;32m     66\u001b[0m       \u001b[0mfiltered_tb\u001b[0m \u001b[0;34m=\u001b[0m \u001b[0m_process_traceback_frames\u001b[0m\u001b[0;34m(\u001b[0m\u001b[0me\u001b[0m\u001b[0;34m.\u001b[0m\u001b[0m__traceback__\u001b[0m\u001b[0;34m)\u001b[0m\u001b[0;34m\u001b[0m\u001b[0;34m\u001b[0m\u001b[0m\n\u001b[0;32m---> 67\u001b[0;31m       \u001b[0;32mraise\u001b[0m \u001b[0me\u001b[0m\u001b[0;34m.\u001b[0m\u001b[0mwith_traceback\u001b[0m\u001b[0;34m(\u001b[0m\u001b[0mfiltered_tb\u001b[0m\u001b[0;34m)\u001b[0m \u001b[0;32mfrom\u001b[0m \u001b[0;32mNone\u001b[0m\u001b[0;34m\u001b[0m\u001b[0;34m\u001b[0m\u001b[0m\n\u001b[0m\u001b[1;32m     68\u001b[0m     \u001b[0;32mfinally\u001b[0m\u001b[0;34m:\u001b[0m\u001b[0;34m\u001b[0m\u001b[0;34m\u001b[0m\u001b[0m\n\u001b[1;32m     69\u001b[0m       \u001b[0;32mdel\u001b[0m \u001b[0mfiltered_tb\u001b[0m\u001b[0;34m\u001b[0m\u001b[0;34m\u001b[0m\u001b[0m\n",
            "\u001b[0;32m/usr/local/lib/python3.7/dist-packages/tensorflow/python/framework/func_graph.py\u001b[0m in \u001b[0;36mautograph_handler\u001b[0;34m(*args, **kwargs)\u001b[0m\n\u001b[1;32m   1125\u001b[0m           \u001b[0;32mexcept\u001b[0m \u001b[0mException\u001b[0m \u001b[0;32mas\u001b[0m \u001b[0me\u001b[0m\u001b[0;34m:\u001b[0m  \u001b[0;31m# pylint:disable=broad-except\u001b[0m\u001b[0;34m\u001b[0m\u001b[0;34m\u001b[0m\u001b[0m\n\u001b[1;32m   1126\u001b[0m             \u001b[0;32mif\u001b[0m \u001b[0mhasattr\u001b[0m\u001b[0;34m(\u001b[0m\u001b[0me\u001b[0m\u001b[0;34m,\u001b[0m \u001b[0;34m\"ag_error_metadata\"\u001b[0m\u001b[0;34m)\u001b[0m\u001b[0;34m:\u001b[0m\u001b[0;34m\u001b[0m\u001b[0;34m\u001b[0m\u001b[0m\n\u001b[0;32m-> 1127\u001b[0;31m               \u001b[0;32mraise\u001b[0m \u001b[0me\u001b[0m\u001b[0;34m.\u001b[0m\u001b[0mag_error_metadata\u001b[0m\u001b[0;34m.\u001b[0m\u001b[0mto_exception\u001b[0m\u001b[0;34m(\u001b[0m\u001b[0me\u001b[0m\u001b[0;34m)\u001b[0m\u001b[0;34m\u001b[0m\u001b[0;34m\u001b[0m\u001b[0m\n\u001b[0m\u001b[1;32m   1128\u001b[0m             \u001b[0;32melse\u001b[0m\u001b[0;34m:\u001b[0m\u001b[0;34m\u001b[0m\u001b[0;34m\u001b[0m\u001b[0m\n\u001b[1;32m   1129\u001b[0m               \u001b[0;32mraise\u001b[0m\u001b[0;34m\u001b[0m\u001b[0;34m\u001b[0m\u001b[0m\n",
            "\u001b[0;31mResourceExhaustedError\u001b[0m: in user code:\n\n    File \"/usr/local/lib/python3.7/dist-packages/keras/engine/training.py\", line 1051, in train_function  *\n        return step_function(self, iterator)\n    File \"/usr/local/lib/python3.7/dist-packages/keras/engine/training.py\", line 1040, in step_function  **\n        outputs = model.distribute_strategy.run(run_step, args=(data,))\n    File \"/usr/local/lib/python3.7/dist-packages/keras/engine/training.py\", line 1030, in run_step  **\n        outputs = model.train_step(data)\n    File \"/usr/local/lib/python3.7/dist-packages/keras/engine/training.py\", line 889, in train_step\n        y_pred = self(x, training=True)\n    File \"/usr/local/lib/python3.7/dist-packages/keras/utils/traceback_utils.py\", line 67, in error_handler\n        raise e.with_traceback(filtered_tb) from None\n    File \"/usr/local/lib/python3.7/dist-packages/keras/backend.py\", line 1922, in random_uniform\n        seed=self.make_legacy_seed())\n\n    ResourceExhaustedError: Exception encountered when calling layer \"sequential\" (type Sequential).\n    \n    failed to allocate memory [Op:Mul]\n    \n    Call arguments received by layer \"sequential\" (type Sequential):\n      • inputs=tf.Tensor(shape=(None, 65000, 1), dtype=float32)\n      • training=True\n      • mask=None\n"
          ]
        }
      ]
    },
    {
      "cell_type": "code",
      "source": [
        "model6.evaluate(X_test_mmscaled, y_test)"
      ],
      "metadata": {
        "id": "cR-n5MNQsVbM"
      },
      "execution_count": null,
      "outputs": []
    },
    {
      "cell_type": "markdown",
      "source": [
        "## Model 7 Mel Spec"
      ],
      "metadata": {
        "id": "WusUmUc6t2sj"
      }
    },
    {
      "cell_type": "code",
      "source": [
        "df.columns"
      ],
      "metadata": {
        "id": "IElLLnqtrsWu"
      },
      "execution_count": null,
      "outputs": []
    },
    {
      "cell_type": "code",
      "source": [
        "mel_spec = []\n",
        "\n",
        "for i in range(df.shape[0]):\n",
        "  mel_spec.append(df['mel_spec'][i])\n",
        "  mel_spec[i] = np.array(mel_spec[i])"
      ],
      "metadata": {
        "id": "f9_XoPqqt4qf"
      },
      "execution_count": null,
      "outputs": []
    },
    {
      "cell_type": "code",
      "source": [
        "total = np.array(mel_spec)"
      ],
      "metadata": {
        "id": "0byCpfhCt4qg"
      },
      "execution_count": null,
      "outputs": []
    },
    {
      "cell_type": "code",
      "source": [
        "X = np.array(total)\n",
        "X_train, X_test, y_train, y_test = train_test_split(X, y_cat, test_size=0.30, stratify=y)\n",
        "scaler = MinMaxScaler()\n",
        "X_train_mmscaled = scaler.fit_transform(X_train.reshape(-1, X_train.shape[-1])).reshape(X_train.shape)\n",
        "X_test_mmscaled = scaler.transform(X_test.reshape(-1, X_test.shape[-1])).reshape(X_test.shape)"
      ],
      "metadata": {
        "id": "qhBfApjdt4qg"
      },
      "execution_count": null,
      "outputs": []
    },
    {
      "cell_type": "code",
      "source": [
        "X_train_mmscaled = expand_dims(X_train_mmscaled,-1)\n",
        "X_test_mmscaled = expand_dims(X_test_mmscaled,-1)"
      ],
      "metadata": {
        "id": "nkjdfjPXt4qg"
      },
      "execution_count": null,
      "outputs": []
    },
    {
      "cell_type": "code",
      "source": [
        "X_train_mmscaled.shape"
      ],
      "metadata": {
        "id": "fV1Walm06YJg"
      },
      "execution_count": null,
      "outputs": []
    },
    {
      "cell_type": "code",
      "source": [
        "model7 = models.Sequential()\n",
        "model7.add(layers.Masking(mask_value=0))\n",
        "model7.add(layers.Conv1D(128, kernel_size=6, strides=1, padding='valid', activation = \"relu\"))\n",
        "model7.add(layers.Dropout(0.5))\n",
        "model7.add(layers.Conv1D(128, kernel_size=6, strides=1, padding='valid', activation = \"relu\"))\n",
        "# model7.add(layers.BatchNormalization())\n",
        "model7.add(layers.Dropout(0.5))\n",
        "# model.add(layers.MaxPooling2D(pool_size=(2,2)))\n",
        "\n",
        "model7.add(layers.Conv1D(256, kernel_size=6, strides=1, padding='valid', activation = \"relu\"))\n",
        "# model.add(layers.BatchNormalization())\n",
        "model7.add(layers.Dropout(0.5))\n",
        "model7.add(layers.Conv1D(256, kernel_size=6, strides=1, padding='valid', activation = \"relu\"))\n",
        "model7.add(layers.Dropout(0.5))\n",
        "model7.add(layers.Conv1D(256, kernel_size=6, strides=1, padding='valid', activation = \"relu\"))\n",
        "model7.add(layers.Dropout(0.5))\n",
        "model7.add(layers.Conv1D(128, kernel_size=6, strides=1, padding='valid', activation = \"relu\"))\n",
        "model7.add(layers.Dropout(0.5))\n",
        "\n",
        "# model.add(layers.MaxPooling2D(pool_size=(2,2)))\n",
        "model7.add(layers.Flatten())\n",
        "\n",
        "model7.add(layers.Dense(50, activation='relu'))\n",
        "model7.add(layers.Dropout(0.5))\n",
        "model7.add(layers.Dense(100, activation='relu'))\n",
        "model7.add(layers.Dropout(0.5))\n",
        "model7.add(layers.Dense(100, activation='relu'))\n",
        "model7.add(layers.Dropout(0.5))\n",
        "\n",
        "# model7.add(layers.Dense(200, activation='relu'))\n",
        "# model7.add(layers.Dropout(0.5))\n",
        "# model7.add(layers.Dense(100, activation='relu'))\n",
        "# model7.add(layers.Dropout(0.5))\n",
        "# model7.add(layers.Dense(100, activation='relu'))\n",
        "\n",
        "model7.add(layers.Dense(6, activation='softmax'))\n"
      ],
      "metadata": {
        "id": "Zx90NIG_t4qg"
      },
      "execution_count": null,
      "outputs": []
    },
    {
      "cell_type": "code",
      "source": [
        "model7.build((1, 256, 127, 1))"
      ],
      "metadata": {
        "id": "wewFxfhJt4qg"
      },
      "execution_count": null,
      "outputs": []
    },
    {
      "cell_type": "code",
      "source": [
        "model7.compile(loss=\"categorical_crossentropy\", optimizer=custom_adam, metrics=[\"accuracy\"])"
      ],
      "metadata": {
        "id": "C8JmjWICt4qg"
      },
      "execution_count": null,
      "outputs": []
    },
    {
      "cell_type": "code",
      "source": [
        "model7.summary()"
      ],
      "metadata": {
        "id": "n06OAMKqt4qg"
      },
      "execution_count": null,
      "outputs": []
    },
    {
      "cell_type": "code",
      "source": [
        "es = EarlyStopping(patience=30, restore_best_weights=True)\n",
        "history_7 = model7.fit(X_train_mmscaled, y_train, validation_split=0.3, epochs=1000, batch_size=32, callbacks=[es])"
      ],
      "metadata": {
        "id": "q89wK5YLt4qh"
      },
      "execution_count": null,
      "outputs": []
    },
    {
      "cell_type": "code",
      "source": [
        "model7.evaluate(X_test_mmscaled, y_test)"
      ],
      "metadata": {
        "id": "3GOWHYlDt4qh"
      },
      "execution_count": null,
      "outputs": []
    },
    {
      "cell_type": "code",
      "source": [
        "X_train_mmscaled_LSTM = expand_dims(X_train_mmscaled,-1)\n",
        "X_test_mmscaled_LSTM = expand_dims(X_test_mmscaled,-1)"
      ],
      "metadata": {
        "id": "gsCBjZKNrsaR"
      },
      "execution_count": null,
      "outputs": []
    },
    {
      "cell_type": "code",
      "source": [
        "# Masking 0 values and using conv2d to scan through each X Y pair in tonnetz (see libosa docs)\n",
        "model = models.Sequential()\n",
        "model.add(layers.Masking(mask_value=0))\n",
        "model.add(layers.ConvLSTM2D(128, kernel_size=(2,2), strides=(1,2), padding='valid', activation = \"relu\"))\n",
        "model.add(layers.ConvLSTM2D(128, kernel_size=(2,2), strides=(1,2), padding='valid', activation = \"relu\"))\n",
        "model.add(layers.BatchNormalization())\n",
        "#model.add(layers.Dropout(0.3))\n",
        "model.add(layers.MaxPooling2D(pool_size=(2,2),padding='same'))\n",
        "\n",
        "model.add(layers.ConvLSTM2D(256, kernel_size=(2,2), strides=(1,2), padding='valid', activation = \"relu\"))\n",
        "# model.add(layers.BatchNormalization())\n",
        "model.add(layers.Dropout(0.3))\n",
        "model.add(layers.ConvLSTM2D(256, kernel_size=(2,2), strides=(1,2), padding='valid', activation = \"relu\"))\n",
        "model.add(layers.Dropout(0.3))\n",
        "# model.add(layers.Conv2D(512, kernel_size=(2,2), strides=(1,2), padding='valid', activation = \"relu\"))\n",
        "\n",
        "# model.add(layers.MaxPooling2D(pool_size=(2,2)))\n",
        "model.add(layers.Flatten())\n",
        "\n",
        "# More dense layers improved model performance 10-20%\n",
        "\n",
        "model.add(layers.Dense(100, activation='relu'))\n",
        "model.add(layers.Dense(50, activation='relu'))\n",
        "## model.add(layers.Dropout(0.3))\n",
        "# model.add(layers.Dense(50, activation='relu'))\n",
        "\n",
        "model.add(layers.Dense(200, activation='relu'))\n",
        "# model.add(layers.Dense(100, activation='relu'))\n",
        "# model.add(layers.Dropout(0.5))\n",
        "# model.add(layers.Dense(100, activation='relu'))\n",
        "\n",
        "model.add(layers.Dense(6, activation='softmax'))\n"
      ],
      "metadata": {
        "id": "iBTL3kl9rsdd"
      },
      "execution_count": null,
      "outputs": []
    },
    {
      "cell_type": "code",
      "source": [],
      "metadata": {
        "id": "p-q8ZYHW3PI5"
      },
      "execution_count": null,
      "outputs": []
    },
    {
      "cell_type": "code",
      "source": [
        "model.build((1, 256, 127, 1,1))"
      ],
      "metadata": {
        "id": "pfgMgIyfrsgF"
      },
      "execution_count": null,
      "outputs": []
    },
    {
      "cell_type": "code",
      "source": [
        "from tensorflow.keras.optimizers import Adam\n",
        "\n",
        "# Tried a few different versions, this was the best result\n",
        "custom_adam = Adam(learning_rate=0.00001)"
      ],
      "metadata": {
        "id": "Q9abiZVjk_bd"
      },
      "execution_count": null,
      "outputs": []
    },
    {
      "cell_type": "code",
      "source": [
        "model.compile(loss=\"categorical_crossentropy\", optimizer=custom_adam, metrics=[\"accuracy\"])"
      ],
      "metadata": {
        "id": "AAQ-dml6rsjL"
      },
      "execution_count": null,
      "outputs": []
    },
    {
      "cell_type": "code",
      "source": [
        "model.summary()"
      ],
      "metadata": {
        "id": "MDkUunwKrsmK"
      },
      "execution_count": null,
      "outputs": []
    },
    {
      "cell_type": "code",
      "source": [
        "es = EarlyStopping(patience=30, restore_best_weights=True)\n",
        "history_8 = model.fit(X_train_mmscaled_LSTM, y_train, validation_split=0.3, epochs=1000, batch_size=32, callbacks=[es])"
      ],
      "metadata": {
        "id": "iuEyubFKrso2"
      },
      "execution_count": null,
      "outputs": []
    },
    {
      "cell_type": "code",
      "source": [
        "model.evaluate(X_test_mmscaled_LSTM, y_test)"
      ],
      "metadata": {
        "id": "c5jsiw5PjpoO"
      },
      "execution_count": null,
      "outputs": []
    },
    {
      "cell_type": "code",
      "source": [],
      "metadata": {
        "id": "-XKcJ8HcodXe"
      },
      "execution_count": null,
      "outputs": []
    },
    {
      "cell_type": "markdown",
      "source": [
        "## Model 8: LSTM Structure"
      ],
      "metadata": {
        "id": "4a_x2DWd3_JE"
      }
    },
    {
      "cell_type": "markdown",
      "source": [
        "- one convolutional layer, \n",
        "- one batch normalization (BN) layer, \n",
        "- one exponential linear unit\n",
        "- one max-pooling layer,"
      ],
      "metadata": {
        "id": "nMfJohCD4Dx0"
      }
    },
    {
      "cell_type": "code",
      "source": [
        "X_mel = np.array(df[\"mel_spec\"].values.tolist())"
      ],
      "metadata": {
        "id": "kz8S8_hn39yv"
      },
      "execution_count": null,
      "outputs": []
    },
    {
      "cell_type": "code",
      "source": [
        "total = X_mel"
      ],
      "metadata": {
        "id": "aUoLr4uc397C"
      },
      "execution_count": null,
      "outputs": []
    },
    {
      "cell_type": "code",
      "source": [
        "X = np.array(total)\n",
        "X_train, X_test, y_train, y_test = train_test_split(X, y_cat, test_size=0.30, stratify=y)\n",
        "scaler = MinMaxScaler()\n",
        "X_train_mmscaled = scaler.fit_transform(X_train.reshape(-1, X_train.shape[-1])).reshape(X_train.shape)\n",
        "X_test_mmscaled = scaler.transform(X_test.reshape(-1, X_test.shape[-1])).reshape(X_test.shape)"
      ],
      "metadata": {
        "id": "9Lp3BzkM3-CL"
      },
      "execution_count": null,
      "outputs": []
    },
    {
      "cell_type": "code",
      "source": [
        "X_train_mmscaled = expand_dims(X_train_mmscaled,-1)\n",
        "X_test_mmscaled = expand_dims(X_test_mmscaled,-1)"
      ],
      "metadata": {
        "id": "wOCfnzeq3-IG"
      },
      "execution_count": null,
      "outputs": []
    },
    {
      "cell_type": "code",
      "source": [
        "# X_train_mmscaled = expand_dims(X_train_mmscaled,-1)\n",
        "# X_test_mmscaled = expand_dims(X_test_mmscaled,-1)"
      ],
      "metadata": {
        "id": "dqRgdYFX5cBP"
      },
      "execution_count": null,
      "outputs": []
    },
    {
      "cell_type": "code",
      "source": [
        "# Masking 0 values and using conv2d to scan through each X Y pair in tonnetz (see libosa docs)\n",
        "model8 = models.Sequential()\n",
        "\n",
        "\n",
        "model8.add(layers.Masking(mask_value=0))\n",
        "\n",
        "model8.add(layers.Conv2D(64, kernel_size=(3,3), strides=(1,1), padding='same', activation = \"relu\"))\n",
        "model8.add(layers.BatchNormalization())\n",
        "model8.add(layers.ELU())\n",
        "model8.add(layers.MaxPooling2D(pool_size=(4,4),strides=(1,1),padding='same'))\n",
        "\n",
        "model8.add(layers.Conv2D(64, kernel_size=(3,3), strides=(1,1), padding='same', activation = \"relu\"))\n",
        "model8.add(layers.BatchNormalization())\n",
        "model8.add(layers.ELU())\n",
        "model8.add(layers.MaxPooling2D(pool_size=(4,4),strides=(1,1),padding='same'))\n",
        "\n",
        "model8.add(layers.Conv2D(128, kernel_size=(3,3), strides=(1,1), padding='same', activation = \"relu\"))\n",
        "model8.add(layers.BatchNormalization())\n",
        "model8.add(layers.ELU())\n",
        "model8.add(layers.MaxPooling2D(pool_size=(4,4),strides=(1,1),padding='same'))\n",
        "\n",
        "model8.add(layers.Conv2D(128, kernel_size=(3,3), strides=(1,1), padding='same', activation = \"relu\"))\n",
        "model8.add(layers.BatchNormalization())\n",
        "model8.add(layers.ELU())\n",
        "model8.add(layers.MaxPooling2D(pool_size=(4,4),strides=(1,1),padding='same'))\n",
        "\n",
        "model8.add(layers.Reshape(( 1, 128, 1,1)))\n",
        "model8.add(layers.ConvLSTM2D(256, kernel_size=(2,2), strides=(1,1), padding='same', activation = \"relu\"))\n",
        "model8.add(layers.ConvLSTM2D(256, kernel_size=(2,2), strides=(1,1), padding='same', activation = \"relu\"))\n",
        "\n",
        "model8.add(layers.Flatten())\n",
        "\n",
        "# More dense layers improved model performance 10-20%\n",
        "model8.add(layers.Dense(50, activation='relu'))\n",
        "model8.add(layers.Dense(30, activation='relu'))\n",
        "\n",
        "model8.add(layers.Dense(6, activation='softmax'))\n"
      ],
      "metadata": {
        "id": "qs6mAUiS5cIx"
      },
      "execution_count": null,
      "outputs": []
    },
    {
      "cell_type": "code",
      "source": [
        "from tensorflow.keras.optimizers import Adam\n",
        "\n",
        "custom_adam = Adam(learning_rate=0.00005)"
      ],
      "metadata": {
        "id": "RA0M-HYeBJxb"
      },
      "execution_count": null,
      "outputs": []
    },
    {
      "cell_type": "code",
      "source": [
        "# model8.compile(loss=\"categorical_crossentropy\", optimizer=custom_adam, metrics=[[\"accuracy\"]])"
      ],
      "metadata": {
        "id": "TX9Pm5LjBJke"
      },
      "execution_count": null,
      "outputs": []
    },
    {
      "cell_type": "code",
      "source": [
        "model8.compile(loss=\"categorical_crossentropy\", optimizer='adagrad', metrics=[[\"accuracy\"]])"
      ],
      "metadata": {
        "id": "k6HlhzVmRH3I"
      },
      "execution_count": null,
      "outputs": []
    },
    {
      "cell_type": "code",
      "source": [
        "es = EarlyStopping(patience=30, restore_best_weights=True)\n",
        "history_8 = model8.fit(X_train_mmscaled, y_train, validation_split=0.3, epochs=1000, batch_size=32, callbacks=[es])"
      ],
      "metadata": {
        "colab": {
          "base_uri": "https://localhost:8080/",
          "height": 1000
        },
        "id": "gtOyRKqUBJMD",
        "outputId": "ee58cc33-4c03-45dd-d702-5b5a08a27343"
      },
      "execution_count": null,
      "outputs": [
        {
          "output_type": "stream",
          "name": "stdout",
          "text": [
            "Epoch 1/1000\n",
            "171/171 [==============================] - 27s 87ms/step - loss: 1.7842 - accuracy: 0.2220 - val_loss: 1.7916 - val_accuracy: 0.1679\n",
            "Epoch 2/1000\n",
            "171/171 [==============================] - 13s 79ms/step - loss: 1.7693 - accuracy: 0.2216 - val_loss: 1.7911 - val_accuracy: 0.1717\n",
            "Epoch 3/1000\n",
            "171/171 [==============================] - 14s 79ms/step - loss: 1.7547 - accuracy: 0.2243 - val_loss: 1.7842 - val_accuracy: 0.1940\n",
            "Epoch 4/1000\n",
            "171/171 [==============================] - 14s 79ms/step - loss: 1.7475 - accuracy: 0.2333 - val_loss: 1.7663 - val_accuracy: 0.1961\n",
            "Epoch 5/1000\n",
            "171/171 [==============================] - 13s 79ms/step - loss: 1.7416 - accuracy: 0.2267 - val_loss: 1.7560 - val_accuracy: 0.2120\n",
            "Epoch 6/1000\n",
            "171/171 [==============================] - 13s 78ms/step - loss: 1.7410 - accuracy: 0.2256 - val_loss: 1.7527 - val_accuracy: 0.2116\n",
            "Epoch 7/1000\n",
            "171/171 [==============================] - 13s 78ms/step - loss: 1.7369 - accuracy: 0.2293 - val_loss: 1.7499 - val_accuracy: 0.2120\n",
            "Epoch 8/1000\n",
            "171/171 [==============================] - 13s 79ms/step - loss: 1.7339 - accuracy: 0.2269 - val_loss: 1.7472 - val_accuracy: 0.2158\n",
            "Epoch 9/1000\n",
            "171/171 [==============================] - 13s 79ms/step - loss: 1.7266 - accuracy: 0.2350 - val_loss: 1.7442 - val_accuracy: 0.2154\n",
            "Epoch 10/1000\n",
            "171/171 [==============================] - 13s 79ms/step - loss: 1.7269 - accuracy: 0.2295 - val_loss: 1.7433 - val_accuracy: 0.2137\n",
            "Epoch 11/1000\n",
            "171/171 [==============================] - 13s 78ms/step - loss: 1.7175 - accuracy: 0.2315 - val_loss: 1.7372 - val_accuracy: 0.2167\n",
            "Epoch 12/1000\n",
            "171/171 [==============================] - 13s 79ms/step - loss: 1.7125 - accuracy: 0.2458 - val_loss: 1.7358 - val_accuracy: 0.2167\n",
            "Epoch 13/1000\n",
            "171/171 [==============================] - 13s 79ms/step - loss: 1.7056 - accuracy: 0.2625 - val_loss: 1.7262 - val_accuracy: 0.2540\n",
            "Epoch 14/1000\n",
            "171/171 [==============================] - 13s 79ms/step - loss: 1.6963 - accuracy: 0.2620 - val_loss: 1.7208 - val_accuracy: 0.2283\n",
            "Epoch 15/1000\n",
            "171/171 [==============================] - 13s 79ms/step - loss: 1.6885 - accuracy: 0.2743 - val_loss: 1.7133 - val_accuracy: 0.2707\n",
            "Epoch 16/1000\n",
            "171/171 [==============================] - 13s 79ms/step - loss: 1.6777 - accuracy: 0.2741 - val_loss: 1.7115 - val_accuracy: 0.2278\n",
            "Epoch 17/1000\n",
            "171/171 [==============================] - 13s 79ms/step - loss: 1.6677 - accuracy: 0.2726 - val_loss: 1.7054 - val_accuracy: 0.2274\n",
            "Epoch 18/1000\n",
            "171/171 [==============================] - 13s 79ms/step - loss: 1.6573 - accuracy: 0.2789 - val_loss: 1.7012 - val_accuracy: 0.2051\n",
            "Epoch 19/1000\n",
            "171/171 [==============================] - 13s 79ms/step - loss: 1.6500 - accuracy: 0.2780 - val_loss: 1.7044 - val_accuracy: 0.2030\n",
            "Epoch 20/1000\n",
            "171/171 [==============================] - 13s 79ms/step - loss: 1.6394 - accuracy: 0.2816 - val_loss: 1.6753 - val_accuracy: 0.2934\n",
            "Epoch 21/1000\n",
            "171/171 [==============================] - 13s 79ms/step - loss: 1.6362 - accuracy: 0.2893 - val_loss: 1.7029 - val_accuracy: 0.2184\n",
            "Epoch 22/1000\n",
            "171/171 [==============================] - 13s 79ms/step - loss: 1.6209 - accuracy: 0.2937 - val_loss: 1.6814 - val_accuracy: 0.2090\n",
            "Epoch 23/1000\n",
            "171/171 [==============================] - 13s 79ms/step - loss: 1.6121 - accuracy: 0.2948 - val_loss: 1.6512 - val_accuracy: 0.2921\n",
            "Epoch 24/1000\n",
            "171/171 [==============================] - 13s 79ms/step - loss: 1.6018 - accuracy: 0.3022 - val_loss: 1.6496 - val_accuracy: 0.2959\n",
            "Epoch 25/1000\n",
            "171/171 [==============================] - 13s 79ms/step - loss: 1.5957 - accuracy: 0.3079 - val_loss: 1.6559 - val_accuracy: 0.2899\n",
            "Epoch 26/1000\n",
            "171/171 [==============================] - 13s 79ms/step - loss: 1.5844 - accuracy: 0.3163 - val_loss: 1.6898 - val_accuracy: 0.2377\n",
            "Epoch 27/1000\n",
            "171/171 [==============================] - 13s 79ms/step - loss: 1.5727 - accuracy: 0.3191 - val_loss: 1.6401 - val_accuracy: 0.2981\n",
            "Epoch 28/1000\n",
            "171/171 [==============================] - 13s 78ms/step - loss: 1.5638 - accuracy: 0.3200 - val_loss: 1.6277 - val_accuracy: 0.3011\n",
            "Epoch 29/1000\n",
            "171/171 [==============================] - 13s 78ms/step - loss: 1.5499 - accuracy: 0.3286 - val_loss: 1.6400 - val_accuracy: 0.3075\n",
            "Epoch 30/1000\n",
            "171/171 [==============================] - 13s 78ms/step - loss: 1.5400 - accuracy: 0.3261 - val_loss: 1.6413 - val_accuracy: 0.2994\n",
            "Epoch 31/1000\n",
            "171/171 [==============================] - 13s 78ms/step - loss: 1.5259 - accuracy: 0.3501 - val_loss: 1.6808 - val_accuracy: 0.2201\n",
            "Epoch 32/1000\n",
            "171/171 [==============================] - 13s 78ms/step - loss: 1.5096 - accuracy: 0.3756 - val_loss: 1.6331 - val_accuracy: 0.3002\n",
            "Epoch 33/1000\n",
            "171/171 [==============================] - 13s 78ms/step - loss: 1.5034 - accuracy: 0.3780 - val_loss: 1.6069 - val_accuracy: 0.2989\n",
            "Epoch 34/1000\n",
            "171/171 [==============================] - 13s 78ms/step - loss: 1.4946 - accuracy: 0.3822 - val_loss: 1.6246 - val_accuracy: 0.3118\n",
            "Epoch 35/1000\n",
            "171/171 [==============================] - 13s 78ms/step - loss: 1.4783 - accuracy: 0.3909 - val_loss: 1.6079 - val_accuracy: 0.3024\n",
            "Epoch 36/1000\n",
            "171/171 [==============================] - 13s 78ms/step - loss: 1.4635 - accuracy: 0.3925 - val_loss: 1.7083 - val_accuracy: 0.2351\n",
            "Epoch 37/1000\n",
            "171/171 [==============================] - 13s 78ms/step - loss: 1.4518 - accuracy: 0.4004 - val_loss: 1.6499 - val_accuracy: 0.2501\n",
            "Epoch 38/1000\n",
            "171/171 [==============================] - 13s 78ms/step - loss: 1.4354 - accuracy: 0.4074 - val_loss: 1.6071 - val_accuracy: 0.3041\n",
            "Epoch 39/1000\n",
            "171/171 [==============================] - 13s 78ms/step - loss: 1.4278 - accuracy: 0.4092 - val_loss: 1.6058 - val_accuracy: 0.3019\n",
            "Epoch 40/1000\n",
            "171/171 [==============================] - 13s 78ms/step - loss: 1.4130 - accuracy: 0.4133 - val_loss: 1.6198 - val_accuracy: 0.3310\n",
            "Epoch 41/1000\n",
            "171/171 [==============================] - 13s 78ms/step - loss: 1.4012 - accuracy: 0.4155 - val_loss: 1.6203 - val_accuracy: 0.3178\n",
            "Epoch 42/1000\n",
            "171/171 [==============================] - 13s 78ms/step - loss: 1.3987 - accuracy: 0.4112 - val_loss: 1.7368 - val_accuracy: 0.2415\n",
            "Epoch 43/1000\n",
            "171/171 [==============================] - 13s 78ms/step - loss: 1.3862 - accuracy: 0.4289 - val_loss: 1.5950 - val_accuracy: 0.3756\n",
            "Epoch 44/1000\n",
            " 10/171 [>.............................] - ETA: 10s - loss: 1.3683 - accuracy: 0.4469"
          ]
        },
        {
          "output_type": "error",
          "ename": "KeyboardInterrupt",
          "evalue": "ignored",
          "traceback": [
            "\u001b[0;31m---------------------------------------------------------------------------\u001b[0m",
            "\u001b[0;31mKeyboardInterrupt\u001b[0m                         Traceback (most recent call last)",
            "\u001b[0;32m<ipython-input-20-b97f29d3ebe4>\u001b[0m in \u001b[0;36m<module>\u001b[0;34m\u001b[0m\n\u001b[1;32m      1\u001b[0m \u001b[0mes\u001b[0m \u001b[0;34m=\u001b[0m \u001b[0mEarlyStopping\u001b[0m\u001b[0;34m(\u001b[0m\u001b[0mpatience\u001b[0m\u001b[0;34m=\u001b[0m\u001b[0;36m30\u001b[0m\u001b[0;34m,\u001b[0m \u001b[0mrestore_best_weights\u001b[0m\u001b[0;34m=\u001b[0m\u001b[0;32mTrue\u001b[0m\u001b[0;34m)\u001b[0m\u001b[0;34m\u001b[0m\u001b[0;34m\u001b[0m\u001b[0m\n\u001b[0;32m----> 2\u001b[0;31m \u001b[0mhistory_8\u001b[0m \u001b[0;34m=\u001b[0m \u001b[0mmodel8\u001b[0m\u001b[0;34m.\u001b[0m\u001b[0mfit\u001b[0m\u001b[0;34m(\u001b[0m\u001b[0mX_train_mmscaled\u001b[0m\u001b[0;34m,\u001b[0m \u001b[0my_train\u001b[0m\u001b[0;34m,\u001b[0m \u001b[0mvalidation_split\u001b[0m\u001b[0;34m=\u001b[0m\u001b[0;36m0.3\u001b[0m\u001b[0;34m,\u001b[0m \u001b[0mepochs\u001b[0m\u001b[0;34m=\u001b[0m\u001b[0;36m1000\u001b[0m\u001b[0;34m,\u001b[0m \u001b[0mbatch_size\u001b[0m\u001b[0;34m=\u001b[0m\u001b[0;36m32\u001b[0m\u001b[0;34m,\u001b[0m \u001b[0mcallbacks\u001b[0m\u001b[0;34m=\u001b[0m\u001b[0;34m[\u001b[0m\u001b[0mes\u001b[0m\u001b[0;34m]\u001b[0m\u001b[0;34m)\u001b[0m\u001b[0;34m\u001b[0m\u001b[0;34m\u001b[0m\u001b[0m\n\u001b[0m",
            "\u001b[0;32m/usr/local/lib/python3.7/dist-packages/keras/utils/traceback_utils.py\u001b[0m in \u001b[0;36merror_handler\u001b[0;34m(*args, **kwargs)\u001b[0m\n\u001b[1;32m     62\u001b[0m     \u001b[0mfiltered_tb\u001b[0m \u001b[0;34m=\u001b[0m \u001b[0;32mNone\u001b[0m\u001b[0;34m\u001b[0m\u001b[0;34m\u001b[0m\u001b[0m\n\u001b[1;32m     63\u001b[0m     \u001b[0;32mtry\u001b[0m\u001b[0;34m:\u001b[0m\u001b[0;34m\u001b[0m\u001b[0;34m\u001b[0m\u001b[0m\n\u001b[0;32m---> 64\u001b[0;31m       \u001b[0;32mreturn\u001b[0m \u001b[0mfn\u001b[0m\u001b[0;34m(\u001b[0m\u001b[0;34m*\u001b[0m\u001b[0margs\u001b[0m\u001b[0;34m,\u001b[0m \u001b[0;34m**\u001b[0m\u001b[0mkwargs\u001b[0m\u001b[0;34m)\u001b[0m\u001b[0;34m\u001b[0m\u001b[0;34m\u001b[0m\u001b[0m\n\u001b[0m\u001b[1;32m     65\u001b[0m     \u001b[0;32mexcept\u001b[0m \u001b[0mException\u001b[0m \u001b[0;32mas\u001b[0m \u001b[0me\u001b[0m\u001b[0;34m:\u001b[0m  \u001b[0;31m# pylint: disable=broad-except\u001b[0m\u001b[0;34m\u001b[0m\u001b[0;34m\u001b[0m\u001b[0m\n\u001b[1;32m     66\u001b[0m       \u001b[0mfiltered_tb\u001b[0m \u001b[0;34m=\u001b[0m \u001b[0m_process_traceback_frames\u001b[0m\u001b[0;34m(\u001b[0m\u001b[0me\u001b[0m\u001b[0;34m.\u001b[0m\u001b[0m__traceback__\u001b[0m\u001b[0;34m)\u001b[0m\u001b[0;34m\u001b[0m\u001b[0;34m\u001b[0m\u001b[0m\n",
            "\u001b[0;32m/usr/local/lib/python3.7/dist-packages/keras/engine/training.py\u001b[0m in \u001b[0;36mfit\u001b[0;34m(self, x, y, batch_size, epochs, verbose, callbacks, validation_split, validation_data, shuffle, class_weight, sample_weight, initial_epoch, steps_per_epoch, validation_steps, validation_batch_size, validation_freq, max_queue_size, workers, use_multiprocessing)\u001b[0m\n\u001b[1;32m   1412\u001b[0m               \u001b[0mlogs\u001b[0m \u001b[0;34m=\u001b[0m \u001b[0mtmp_logs\u001b[0m  \u001b[0;31m# No error, now safe to assign to logs.\u001b[0m\u001b[0;34m\u001b[0m\u001b[0;34m\u001b[0m\u001b[0m\n\u001b[1;32m   1413\u001b[0m               \u001b[0mend_step\u001b[0m \u001b[0;34m=\u001b[0m \u001b[0mstep\u001b[0m \u001b[0;34m+\u001b[0m \u001b[0mdata_handler\u001b[0m\u001b[0;34m.\u001b[0m\u001b[0mstep_increment\u001b[0m\u001b[0;34m\u001b[0m\u001b[0;34m\u001b[0m\u001b[0m\n\u001b[0;32m-> 1414\u001b[0;31m               \u001b[0mcallbacks\u001b[0m\u001b[0;34m.\u001b[0m\u001b[0mon_train_batch_end\u001b[0m\u001b[0;34m(\u001b[0m\u001b[0mend_step\u001b[0m\u001b[0;34m,\u001b[0m \u001b[0mlogs\u001b[0m\u001b[0;34m)\u001b[0m\u001b[0;34m\u001b[0m\u001b[0;34m\u001b[0m\u001b[0m\n\u001b[0m\u001b[1;32m   1415\u001b[0m               \u001b[0;32mif\u001b[0m \u001b[0mself\u001b[0m\u001b[0;34m.\u001b[0m\u001b[0mstop_training\u001b[0m\u001b[0;34m:\u001b[0m\u001b[0;34m\u001b[0m\u001b[0;34m\u001b[0m\u001b[0m\n\u001b[1;32m   1416\u001b[0m                 \u001b[0;32mbreak\u001b[0m\u001b[0;34m\u001b[0m\u001b[0;34m\u001b[0m\u001b[0m\n",
            "\u001b[0;32m/usr/local/lib/python3.7/dist-packages/keras/callbacks.py\u001b[0m in \u001b[0;36mon_train_batch_end\u001b[0;34m(self, batch, logs)\u001b[0m\n\u001b[1;32m    436\u001b[0m     \"\"\"\n\u001b[1;32m    437\u001b[0m     \u001b[0;32mif\u001b[0m \u001b[0mself\u001b[0m\u001b[0;34m.\u001b[0m\u001b[0m_should_call_train_batch_hooks\u001b[0m\u001b[0;34m:\u001b[0m\u001b[0;34m\u001b[0m\u001b[0;34m\u001b[0m\u001b[0m\n\u001b[0;32m--> 438\u001b[0;31m       \u001b[0mself\u001b[0m\u001b[0;34m.\u001b[0m\u001b[0m_call_batch_hook\u001b[0m\u001b[0;34m(\u001b[0m\u001b[0mModeKeys\u001b[0m\u001b[0;34m.\u001b[0m\u001b[0mTRAIN\u001b[0m\u001b[0;34m,\u001b[0m \u001b[0;34m'end'\u001b[0m\u001b[0;34m,\u001b[0m \u001b[0mbatch\u001b[0m\u001b[0;34m,\u001b[0m \u001b[0mlogs\u001b[0m\u001b[0;34m=\u001b[0m\u001b[0mlogs\u001b[0m\u001b[0;34m)\u001b[0m\u001b[0;34m\u001b[0m\u001b[0;34m\u001b[0m\u001b[0m\n\u001b[0m\u001b[1;32m    439\u001b[0m \u001b[0;34m\u001b[0m\u001b[0m\n\u001b[1;32m    440\u001b[0m   \u001b[0;32mdef\u001b[0m \u001b[0mon_test_batch_begin\u001b[0m\u001b[0;34m(\u001b[0m\u001b[0mself\u001b[0m\u001b[0;34m,\u001b[0m \u001b[0mbatch\u001b[0m\u001b[0;34m,\u001b[0m \u001b[0mlogs\u001b[0m\u001b[0;34m=\u001b[0m\u001b[0;32mNone\u001b[0m\u001b[0;34m)\u001b[0m\u001b[0;34m:\u001b[0m\u001b[0;34m\u001b[0m\u001b[0;34m\u001b[0m\u001b[0m\n",
            "\u001b[0;32m/usr/local/lib/python3.7/dist-packages/keras/callbacks.py\u001b[0m in \u001b[0;36m_call_batch_hook\u001b[0;34m(self, mode, hook, batch, logs)\u001b[0m\n\u001b[1;32m    295\u001b[0m       \u001b[0mself\u001b[0m\u001b[0;34m.\u001b[0m\u001b[0m_call_batch_begin_hook\u001b[0m\u001b[0;34m(\u001b[0m\u001b[0mmode\u001b[0m\u001b[0;34m,\u001b[0m \u001b[0mbatch\u001b[0m\u001b[0;34m,\u001b[0m \u001b[0mlogs\u001b[0m\u001b[0;34m)\u001b[0m\u001b[0;34m\u001b[0m\u001b[0;34m\u001b[0m\u001b[0m\n\u001b[1;32m    296\u001b[0m     \u001b[0;32melif\u001b[0m \u001b[0mhook\u001b[0m \u001b[0;34m==\u001b[0m \u001b[0;34m'end'\u001b[0m\u001b[0;34m:\u001b[0m\u001b[0;34m\u001b[0m\u001b[0;34m\u001b[0m\u001b[0m\n\u001b[0;32m--> 297\u001b[0;31m       \u001b[0mself\u001b[0m\u001b[0;34m.\u001b[0m\u001b[0m_call_batch_end_hook\u001b[0m\u001b[0;34m(\u001b[0m\u001b[0mmode\u001b[0m\u001b[0;34m,\u001b[0m \u001b[0mbatch\u001b[0m\u001b[0;34m,\u001b[0m \u001b[0mlogs\u001b[0m\u001b[0;34m)\u001b[0m\u001b[0;34m\u001b[0m\u001b[0;34m\u001b[0m\u001b[0m\n\u001b[0m\u001b[1;32m    298\u001b[0m     \u001b[0;32melse\u001b[0m\u001b[0;34m:\u001b[0m\u001b[0;34m\u001b[0m\u001b[0;34m\u001b[0m\u001b[0m\n\u001b[1;32m    299\u001b[0m       raise ValueError(\n",
            "\u001b[0;32m/usr/local/lib/python3.7/dist-packages/keras/callbacks.py\u001b[0m in \u001b[0;36m_call_batch_end_hook\u001b[0;34m(self, mode, batch, logs)\u001b[0m\n\u001b[1;32m    316\u001b[0m       \u001b[0mself\u001b[0m\u001b[0;34m.\u001b[0m\u001b[0m_batch_times\u001b[0m\u001b[0;34m.\u001b[0m\u001b[0mappend\u001b[0m\u001b[0;34m(\u001b[0m\u001b[0mbatch_time\u001b[0m\u001b[0;34m)\u001b[0m\u001b[0;34m\u001b[0m\u001b[0;34m\u001b[0m\u001b[0m\n\u001b[1;32m    317\u001b[0m \u001b[0;34m\u001b[0m\u001b[0m\n\u001b[0;32m--> 318\u001b[0;31m     \u001b[0mself\u001b[0m\u001b[0;34m.\u001b[0m\u001b[0m_call_batch_hook_helper\u001b[0m\u001b[0;34m(\u001b[0m\u001b[0mhook_name\u001b[0m\u001b[0;34m,\u001b[0m \u001b[0mbatch\u001b[0m\u001b[0;34m,\u001b[0m \u001b[0mlogs\u001b[0m\u001b[0;34m)\u001b[0m\u001b[0;34m\u001b[0m\u001b[0;34m\u001b[0m\u001b[0m\n\u001b[0m\u001b[1;32m    319\u001b[0m \u001b[0;34m\u001b[0m\u001b[0m\n\u001b[1;32m    320\u001b[0m     \u001b[0;32mif\u001b[0m \u001b[0mlen\u001b[0m\u001b[0;34m(\u001b[0m\u001b[0mself\u001b[0m\u001b[0;34m.\u001b[0m\u001b[0m_batch_times\u001b[0m\u001b[0;34m)\u001b[0m \u001b[0;34m>=\u001b[0m \u001b[0mself\u001b[0m\u001b[0;34m.\u001b[0m\u001b[0m_num_batches_for_timing_check\u001b[0m\u001b[0;34m:\u001b[0m\u001b[0;34m\u001b[0m\u001b[0;34m\u001b[0m\u001b[0m\n",
            "\u001b[0;32m/usr/local/lib/python3.7/dist-packages/keras/callbacks.py\u001b[0m in \u001b[0;36m_call_batch_hook_helper\u001b[0;34m(self, hook_name, batch, logs)\u001b[0m\n\u001b[1;32m    354\u001b[0m     \u001b[0;32mfor\u001b[0m \u001b[0mcallback\u001b[0m \u001b[0;32min\u001b[0m \u001b[0mself\u001b[0m\u001b[0;34m.\u001b[0m\u001b[0mcallbacks\u001b[0m\u001b[0;34m:\u001b[0m\u001b[0;34m\u001b[0m\u001b[0;34m\u001b[0m\u001b[0m\n\u001b[1;32m    355\u001b[0m       \u001b[0mhook\u001b[0m \u001b[0;34m=\u001b[0m \u001b[0mgetattr\u001b[0m\u001b[0;34m(\u001b[0m\u001b[0mcallback\u001b[0m\u001b[0;34m,\u001b[0m \u001b[0mhook_name\u001b[0m\u001b[0;34m)\u001b[0m\u001b[0;34m\u001b[0m\u001b[0;34m\u001b[0m\u001b[0m\n\u001b[0;32m--> 356\u001b[0;31m       \u001b[0mhook\u001b[0m\u001b[0;34m(\u001b[0m\u001b[0mbatch\u001b[0m\u001b[0;34m,\u001b[0m \u001b[0mlogs\u001b[0m\u001b[0;34m)\u001b[0m\u001b[0;34m\u001b[0m\u001b[0;34m\u001b[0m\u001b[0m\n\u001b[0m\u001b[1;32m    357\u001b[0m \u001b[0;34m\u001b[0m\u001b[0m\n\u001b[1;32m    358\u001b[0m     \u001b[0;32mif\u001b[0m \u001b[0mself\u001b[0m\u001b[0;34m.\u001b[0m\u001b[0m_check_timing\u001b[0m\u001b[0;34m:\u001b[0m\u001b[0;34m\u001b[0m\u001b[0;34m\u001b[0m\u001b[0m\n",
            "\u001b[0;32m/usr/local/lib/python3.7/dist-packages/keras/callbacks.py\u001b[0m in \u001b[0;36mon_train_batch_end\u001b[0;34m(self, batch, logs)\u001b[0m\n\u001b[1;32m   1032\u001b[0m \u001b[0;34m\u001b[0m\u001b[0m\n\u001b[1;32m   1033\u001b[0m   \u001b[0;32mdef\u001b[0m \u001b[0mon_train_batch_end\u001b[0m\u001b[0;34m(\u001b[0m\u001b[0mself\u001b[0m\u001b[0;34m,\u001b[0m \u001b[0mbatch\u001b[0m\u001b[0;34m,\u001b[0m \u001b[0mlogs\u001b[0m\u001b[0;34m=\u001b[0m\u001b[0;32mNone\u001b[0m\u001b[0;34m)\u001b[0m\u001b[0;34m:\u001b[0m\u001b[0;34m\u001b[0m\u001b[0;34m\u001b[0m\u001b[0m\n\u001b[0;32m-> 1034\u001b[0;31m     \u001b[0mself\u001b[0m\u001b[0;34m.\u001b[0m\u001b[0m_batch_update_progbar\u001b[0m\u001b[0;34m(\u001b[0m\u001b[0mbatch\u001b[0m\u001b[0;34m,\u001b[0m \u001b[0mlogs\u001b[0m\u001b[0;34m)\u001b[0m\u001b[0;34m\u001b[0m\u001b[0;34m\u001b[0m\u001b[0m\n\u001b[0m\u001b[1;32m   1035\u001b[0m \u001b[0;34m\u001b[0m\u001b[0m\n\u001b[1;32m   1036\u001b[0m   \u001b[0;32mdef\u001b[0m \u001b[0mon_test_batch_end\u001b[0m\u001b[0;34m(\u001b[0m\u001b[0mself\u001b[0m\u001b[0;34m,\u001b[0m \u001b[0mbatch\u001b[0m\u001b[0;34m,\u001b[0m \u001b[0mlogs\u001b[0m\u001b[0;34m=\u001b[0m\u001b[0;32mNone\u001b[0m\u001b[0;34m)\u001b[0m\u001b[0;34m:\u001b[0m\u001b[0;34m\u001b[0m\u001b[0;34m\u001b[0m\u001b[0m\n",
            "\u001b[0;32m/usr/local/lib/python3.7/dist-packages/keras/callbacks.py\u001b[0m in \u001b[0;36m_batch_update_progbar\u001b[0;34m(self, batch, logs)\u001b[0m\n\u001b[1;32m   1104\u001b[0m     \u001b[0;32mif\u001b[0m \u001b[0mself\u001b[0m\u001b[0;34m.\u001b[0m\u001b[0mverbose\u001b[0m \u001b[0;34m==\u001b[0m \u001b[0;36m1\u001b[0m\u001b[0;34m:\u001b[0m\u001b[0;34m\u001b[0m\u001b[0;34m\u001b[0m\u001b[0m\n\u001b[1;32m   1105\u001b[0m       \u001b[0;31m# Only block async when verbose = 1.\u001b[0m\u001b[0;34m\u001b[0m\u001b[0;34m\u001b[0m\u001b[0;34m\u001b[0m\u001b[0m\n\u001b[0;32m-> 1106\u001b[0;31m       \u001b[0mlogs\u001b[0m \u001b[0;34m=\u001b[0m \u001b[0mtf_utils\u001b[0m\u001b[0;34m.\u001b[0m\u001b[0msync_to_numpy_or_python_type\u001b[0m\u001b[0;34m(\u001b[0m\u001b[0mlogs\u001b[0m\u001b[0;34m)\u001b[0m\u001b[0;34m\u001b[0m\u001b[0;34m\u001b[0m\u001b[0m\n\u001b[0m\u001b[1;32m   1107\u001b[0m       \u001b[0mself\u001b[0m\u001b[0;34m.\u001b[0m\u001b[0mprogbar\u001b[0m\u001b[0;34m.\u001b[0m\u001b[0mupdate\u001b[0m\u001b[0;34m(\u001b[0m\u001b[0mself\u001b[0m\u001b[0;34m.\u001b[0m\u001b[0mseen\u001b[0m\u001b[0;34m,\u001b[0m \u001b[0mlist\u001b[0m\u001b[0;34m(\u001b[0m\u001b[0mlogs\u001b[0m\u001b[0;34m.\u001b[0m\u001b[0mitems\u001b[0m\u001b[0;34m(\u001b[0m\u001b[0;34m)\u001b[0m\u001b[0;34m)\u001b[0m\u001b[0;34m,\u001b[0m \u001b[0mfinalize\u001b[0m\u001b[0;34m=\u001b[0m\u001b[0;32mFalse\u001b[0m\u001b[0;34m)\u001b[0m\u001b[0;34m\u001b[0m\u001b[0;34m\u001b[0m\u001b[0m\n\u001b[1;32m   1108\u001b[0m \u001b[0;34m\u001b[0m\u001b[0m\n",
            "\u001b[0;32m/usr/local/lib/python3.7/dist-packages/keras/utils/tf_utils.py\u001b[0m in \u001b[0;36msync_to_numpy_or_python_type\u001b[0;34m(tensors)\u001b[0m\n\u001b[1;32m    605\u001b[0m     \u001b[0;32mreturn\u001b[0m \u001b[0mt\u001b[0m\u001b[0;34m.\u001b[0m\u001b[0mitem\u001b[0m\u001b[0;34m(\u001b[0m\u001b[0;34m)\u001b[0m \u001b[0;32mif\u001b[0m \u001b[0mnp\u001b[0m\u001b[0;34m.\u001b[0m\u001b[0mndim\u001b[0m\u001b[0;34m(\u001b[0m\u001b[0mt\u001b[0m\u001b[0;34m)\u001b[0m \u001b[0;34m==\u001b[0m \u001b[0;36m0\u001b[0m \u001b[0;32melse\u001b[0m \u001b[0mt\u001b[0m\u001b[0;34m\u001b[0m\u001b[0;34m\u001b[0m\u001b[0m\n\u001b[1;32m    606\u001b[0m \u001b[0;34m\u001b[0m\u001b[0m\n\u001b[0;32m--> 607\u001b[0;31m   \u001b[0;32mreturn\u001b[0m \u001b[0mtf\u001b[0m\u001b[0;34m.\u001b[0m\u001b[0mnest\u001b[0m\u001b[0;34m.\u001b[0m\u001b[0mmap_structure\u001b[0m\u001b[0;34m(\u001b[0m\u001b[0m_to_single_numpy_or_python_type\u001b[0m\u001b[0;34m,\u001b[0m \u001b[0mtensors\u001b[0m\u001b[0;34m)\u001b[0m\u001b[0;34m\u001b[0m\u001b[0;34m\u001b[0m\u001b[0m\n\u001b[0m\u001b[1;32m    608\u001b[0m \u001b[0;34m\u001b[0m\u001b[0m\n\u001b[1;32m    609\u001b[0m \u001b[0;34m\u001b[0m\u001b[0m\n",
            "\u001b[0;32m/usr/local/lib/python3.7/dist-packages/tensorflow/python/util/nest.py\u001b[0m in \u001b[0;36mmap_structure\u001b[0;34m(func, *structure, **kwargs)\u001b[0m\n\u001b[1;32m    914\u001b[0m \u001b[0;34m\u001b[0m\u001b[0m\n\u001b[1;32m    915\u001b[0m   return pack_sequence_as(\n\u001b[0;32m--> 916\u001b[0;31m       \u001b[0mstructure\u001b[0m\u001b[0;34m[\u001b[0m\u001b[0;36m0\u001b[0m\u001b[0;34m]\u001b[0m\u001b[0;34m,\u001b[0m \u001b[0;34m[\u001b[0m\u001b[0mfunc\u001b[0m\u001b[0;34m(\u001b[0m\u001b[0;34m*\u001b[0m\u001b[0mx\u001b[0m\u001b[0;34m)\u001b[0m \u001b[0;32mfor\u001b[0m \u001b[0mx\u001b[0m \u001b[0;32min\u001b[0m \u001b[0mentries\u001b[0m\u001b[0;34m]\u001b[0m\u001b[0;34m,\u001b[0m\u001b[0;34m\u001b[0m\u001b[0;34m\u001b[0m\u001b[0m\n\u001b[0m\u001b[1;32m    917\u001b[0m       expand_composites=expand_composites)\n\u001b[1;32m    918\u001b[0m \u001b[0;34m\u001b[0m\u001b[0m\n",
            "\u001b[0;32m/usr/local/lib/python3.7/dist-packages/tensorflow/python/util/nest.py\u001b[0m in \u001b[0;36m<listcomp>\u001b[0;34m(.0)\u001b[0m\n\u001b[1;32m    914\u001b[0m \u001b[0;34m\u001b[0m\u001b[0m\n\u001b[1;32m    915\u001b[0m   return pack_sequence_as(\n\u001b[0;32m--> 916\u001b[0;31m       \u001b[0mstructure\u001b[0m\u001b[0;34m[\u001b[0m\u001b[0;36m0\u001b[0m\u001b[0;34m]\u001b[0m\u001b[0;34m,\u001b[0m \u001b[0;34m[\u001b[0m\u001b[0mfunc\u001b[0m\u001b[0;34m(\u001b[0m\u001b[0;34m*\u001b[0m\u001b[0mx\u001b[0m\u001b[0;34m)\u001b[0m \u001b[0;32mfor\u001b[0m \u001b[0mx\u001b[0m \u001b[0;32min\u001b[0m \u001b[0mentries\u001b[0m\u001b[0;34m]\u001b[0m\u001b[0;34m,\u001b[0m\u001b[0;34m\u001b[0m\u001b[0;34m\u001b[0m\u001b[0m\n\u001b[0m\u001b[1;32m    917\u001b[0m       expand_composites=expand_composites)\n\u001b[1;32m    918\u001b[0m \u001b[0;34m\u001b[0m\u001b[0m\n",
            "\u001b[0;32m/usr/local/lib/python3.7/dist-packages/keras/utils/tf_utils.py\u001b[0m in \u001b[0;36m_to_single_numpy_or_python_type\u001b[0;34m(t)\u001b[0m\n\u001b[1;32m    599\u001b[0m     \u001b[0;31m# Don't turn ragged or sparse tensors to NumPy.\u001b[0m\u001b[0;34m\u001b[0m\u001b[0;34m\u001b[0m\u001b[0;34m\u001b[0m\u001b[0m\n\u001b[1;32m    600\u001b[0m     \u001b[0;32mif\u001b[0m \u001b[0misinstance\u001b[0m\u001b[0;34m(\u001b[0m\u001b[0mt\u001b[0m\u001b[0;34m,\u001b[0m \u001b[0mtf\u001b[0m\u001b[0;34m.\u001b[0m\u001b[0mTensor\u001b[0m\u001b[0;34m)\u001b[0m\u001b[0;34m:\u001b[0m\u001b[0;34m\u001b[0m\u001b[0;34m\u001b[0m\u001b[0m\n\u001b[0;32m--> 601\u001b[0;31m       \u001b[0mt\u001b[0m \u001b[0;34m=\u001b[0m \u001b[0mt\u001b[0m\u001b[0;34m.\u001b[0m\u001b[0mnumpy\u001b[0m\u001b[0;34m(\u001b[0m\u001b[0;34m)\u001b[0m\u001b[0;34m\u001b[0m\u001b[0;34m\u001b[0m\u001b[0m\n\u001b[0m\u001b[1;32m    602\u001b[0m     \u001b[0;31m# Strings, ragged and sparse tensors don't have .item(). Return them as-is.\u001b[0m\u001b[0;34m\u001b[0m\u001b[0;34m\u001b[0m\u001b[0;34m\u001b[0m\u001b[0m\n\u001b[1;32m    603\u001b[0m     \u001b[0;32mif\u001b[0m \u001b[0;32mnot\u001b[0m \u001b[0misinstance\u001b[0m\u001b[0;34m(\u001b[0m\u001b[0mt\u001b[0m\u001b[0;34m,\u001b[0m \u001b[0;34m(\u001b[0m\u001b[0mnp\u001b[0m\u001b[0;34m.\u001b[0m\u001b[0mndarray\u001b[0m\u001b[0;34m,\u001b[0m \u001b[0mnp\u001b[0m\u001b[0;34m.\u001b[0m\u001b[0mgeneric\u001b[0m\u001b[0;34m)\u001b[0m\u001b[0;34m)\u001b[0m\u001b[0;34m:\u001b[0m\u001b[0;34m\u001b[0m\u001b[0;34m\u001b[0m\u001b[0m\n",
            "\u001b[0;32m/usr/local/lib/python3.7/dist-packages/tensorflow/python/framework/ops.py\u001b[0m in \u001b[0;36mnumpy\u001b[0;34m(self)\u001b[0m\n\u001b[1;32m   1157\u001b[0m     \"\"\"\n\u001b[1;32m   1158\u001b[0m     \u001b[0;31m# TODO(slebedev): Consider avoiding a copy for non-CPU or remote tensors.\u001b[0m\u001b[0;34m\u001b[0m\u001b[0;34m\u001b[0m\u001b[0;34m\u001b[0m\u001b[0m\n\u001b[0;32m-> 1159\u001b[0;31m     \u001b[0mmaybe_arr\u001b[0m \u001b[0;34m=\u001b[0m \u001b[0mself\u001b[0m\u001b[0;34m.\u001b[0m\u001b[0m_numpy\u001b[0m\u001b[0;34m(\u001b[0m\u001b[0;34m)\u001b[0m  \u001b[0;31m# pylint: disable=protected-access\u001b[0m\u001b[0;34m\u001b[0m\u001b[0;34m\u001b[0m\u001b[0m\n\u001b[0m\u001b[1;32m   1160\u001b[0m     \u001b[0;32mreturn\u001b[0m \u001b[0mmaybe_arr\u001b[0m\u001b[0;34m.\u001b[0m\u001b[0mcopy\u001b[0m\u001b[0;34m(\u001b[0m\u001b[0;34m)\u001b[0m \u001b[0;32mif\u001b[0m \u001b[0misinstance\u001b[0m\u001b[0;34m(\u001b[0m\u001b[0mmaybe_arr\u001b[0m\u001b[0;34m,\u001b[0m \u001b[0mnp\u001b[0m\u001b[0;34m.\u001b[0m\u001b[0mndarray\u001b[0m\u001b[0;34m)\u001b[0m \u001b[0;32melse\u001b[0m \u001b[0mmaybe_arr\u001b[0m\u001b[0;34m\u001b[0m\u001b[0;34m\u001b[0m\u001b[0m\n\u001b[1;32m   1161\u001b[0m \u001b[0;34m\u001b[0m\u001b[0m\n",
            "\u001b[0;32m/usr/local/lib/python3.7/dist-packages/tensorflow/python/framework/ops.py\u001b[0m in \u001b[0;36m_numpy\u001b[0;34m(self)\u001b[0m\n\u001b[1;32m   1123\u001b[0m   \u001b[0;32mdef\u001b[0m \u001b[0m_numpy\u001b[0m\u001b[0;34m(\u001b[0m\u001b[0mself\u001b[0m\u001b[0;34m)\u001b[0m\u001b[0;34m:\u001b[0m\u001b[0;34m\u001b[0m\u001b[0;34m\u001b[0m\u001b[0m\n\u001b[1;32m   1124\u001b[0m     \u001b[0;32mtry\u001b[0m\u001b[0;34m:\u001b[0m\u001b[0;34m\u001b[0m\u001b[0;34m\u001b[0m\u001b[0m\n\u001b[0;32m-> 1125\u001b[0;31m       \u001b[0;32mreturn\u001b[0m \u001b[0mself\u001b[0m\u001b[0;34m.\u001b[0m\u001b[0m_numpy_internal\u001b[0m\u001b[0;34m(\u001b[0m\u001b[0;34m)\u001b[0m\u001b[0;34m\u001b[0m\u001b[0;34m\u001b[0m\u001b[0m\n\u001b[0m\u001b[1;32m   1126\u001b[0m     \u001b[0;32mexcept\u001b[0m \u001b[0mcore\u001b[0m\u001b[0;34m.\u001b[0m\u001b[0m_NotOkStatusException\u001b[0m \u001b[0;32mas\u001b[0m \u001b[0me\u001b[0m\u001b[0;34m:\u001b[0m  \u001b[0;31m# pylint: disable=protected-access\u001b[0m\u001b[0;34m\u001b[0m\u001b[0;34m\u001b[0m\u001b[0m\n\u001b[1;32m   1127\u001b[0m       \u001b[0;32mraise\u001b[0m \u001b[0mcore\u001b[0m\u001b[0;34m.\u001b[0m\u001b[0m_status_to_exception\u001b[0m\u001b[0;34m(\u001b[0m\u001b[0me\u001b[0m\u001b[0;34m)\u001b[0m \u001b[0;32mfrom\u001b[0m \u001b[0;32mNone\u001b[0m  \u001b[0;31m# pylint: disable=protected-access\u001b[0m\u001b[0;34m\u001b[0m\u001b[0;34m\u001b[0m\u001b[0m\n",
            "\u001b[0;31mKeyboardInterrupt\u001b[0m: "
          ]
        }
      ]
    },
    {
      "cell_type": "code",
      "source": [
        "model8.evaluate(X_test_mmscaled, y_test)"
      ],
      "metadata": {
        "id": "oeg0dwkJ5cP2"
      },
      "execution_count": null,
      "outputs": []
    },
    {
      "cell_type": "code",
      "source": [],
      "metadata": {
        "id": "Oha4peC8Bj6B"
      },
      "execution_count": null,
      "outputs": []
    }
  ]
}