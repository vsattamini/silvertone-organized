{
  "nbformat": 4,
  "nbformat_minor": 0,
  "metadata": {
    "colab": {
      "provenance": []
    },
    "kernelspec": {
      "name": "python3",
      "display_name": "Python 3"
    },
    "language_info": {
      "name": "python"
    }
  },
  "cells": [
    {
      "cell_type": "code",
      "execution_count": 1,
      "metadata": {
        "colab": {
          "base_uri": "https://localhost:8080/"
        },
        "id": "oU5hZvDcScfn",
        "outputId": "415fe32c-bc09-4e9d-9823-d9b22a751212"
      },
      "outputs": [
        {
          "output_type": "stream",
          "name": "stdout",
          "text": [
            "Drive already mounted at /content/drive; to attempt to forcibly remount, call drive.mount(\"/content/drive\", force_remount=True).\n"
          ]
        }
      ],
      "source": [
        "from google.colab import drive\n",
        "drive.mount('/content/drive')\n",
        "\n",
        "from glob import glob"
      ]
    },
    {
      "cell_type": "code",
      "source": [
        "import os\n",
        "\n",
        "# os.chdir allows you to change directories, like cd in the Terminal\n",
        "os.chdir('/content/drive/MyDrive/Colab Notebooks')"
      ],
      "metadata": {
        "id": "YiF70U2UTi7Y"
      },
      "execution_count": 2,
      "outputs": []
    },
    {
      "cell_type": "code",
      "source": [
        "speech = glob(\"/content/drive/MyDrive/Emotion Datasets/Emotion Datasets/Audio/RAVDESS/Audio_Speech_Actors_01-24/*.wav\")"
      ],
      "metadata": {
        "id": "9didwufnSeyI"
      },
      "execution_count": 3,
      "outputs": []
    },
    {
      "cell_type": "code",
      "source": [
        "len(speech)"
      ],
      "metadata": {
        "colab": {
          "base_uri": "https://localhost:8080/"
        },
        "id": "BhLICnl1oIXT",
        "outputId": "6bafdf95-0458-4db6-f65a-68258f303304"
      },
      "execution_count": 4,
      "outputs": [
        {
          "output_type": "execute_result",
          "data": {
            "text/plain": [
              "1440"
            ]
          },
          "metadata": {},
          "execution_count": 4
        }
      ]
    },
    {
      "cell_type": "code",
      "source": [
        "from audio_formating import silvertone\n",
        "from glob import glob\n",
        "from google.colab import drive\n",
        "import numpy as np\n",
        "import pandas as pd\n",
        "\n",
        "from glob import glob\n",
        "from google.colab import drive\n",
        "import numpy as np\n"
      ],
      "metadata": {
        "id": "hiXLip0Bqakt"
      },
      "execution_count": 5,
      "outputs": []
    },
    {
      "cell_type": "code",
      "source": [
        "drive.mount('/content/drive', force_remount=True)"
      ],
      "metadata": {
        "colab": {
          "base_uri": "https://localhost:8080/"
        },
        "id": "2JmUdL-JqhzC",
        "outputId": "b28dd58d-194a-4c4f-a3fb-d5e583bca84f"
      },
      "execution_count": 28,
      "outputs": [
        {
          "output_type": "stream",
          "name": "stdout",
          "text": [
            "Mounted at /content/drive\n"
          ]
        }
      ]
    },
    {
      "cell_type": "code",
      "source": [
        "speech = glob(\"/content/drive/MyDrive/Emotion Datasets/Emotion Datasets/Audio/RAVDESS/Audio_Speech_Actors_01-24/*.wav\")"
      ],
      "metadata": {
        "id": "aPg1PTd5qhZD"
      },
      "execution_count": 6,
      "outputs": []
    },
    {
      "cell_type": "code",
      "source": [
        "len(speech)"
      ],
      "metadata": {
        "colab": {
          "base_uri": "https://localhost:8080/"
        },
        "id": "UJgomDUxqkOT",
        "outputId": "37f46172-8243-4b4f-8720-d7ec9aedc928"
      },
      "execution_count": 7,
      "outputs": [
        {
          "output_type": "execute_result",
          "data": {
            "text/plain": [
              "1440"
            ]
          },
          "metadata": {},
          "execution_count": 7
        }
      ]
    },
    {
      "cell_type": "code",
      "source": [
        "wave = []\n",
        "spec = []\n",
        "id = []\n",
        "spectral_centroid = []\n",
        "mfcc = []\n",
        "chroma_stft = []\n",
        "tonnetz = []\n",
        "\n",
        "for tone in np.arange(0, len(speech)):\n",
        "  tone = silvertone(speech[tone], 256)\n",
        "  spec.append(tone.S_db_mel)\n",
        "  wave.append(tone.x)\n",
        "  spectral_centroid.append(tone.spectral_centroid)\n",
        "  mfcc.append(tone.mfcc)\n",
        "  chroma_stft.append(tone.chroma_stft)\n",
        "  tonnetz.append(tone.tonnetz)\n",
        "  id.append(speech[0][-24:-4])"
      ],
      "metadata": {
        "colab": {
          "base_uri": "https://localhost:8080/"
        },
        "id": "bisyGfeuoJdr",
        "outputId": "ae8e1652-87b4-4c42-f287-9ecb295b0491"
      },
      "execution_count": 8,
      "outputs": [
        {
          "output_type": "stream",
          "name": "stderr",
          "text": [
            "/usr/local/lib/python3.7/dist-packages/librosa/core/spectrum.py:224: UserWarning: n_fft=1024 is too small for input signal of length=1012\n",
            "  n_fft, y.shape[-1]\n"
          ]
        }
      ]
    },
    {
      "cell_type": "code",
      "source": [
        "dic = {\"wave\": wave, \"id\": id, \"spec\": spec, \"spectral_centroid\": spectral_centroid, \"mfcc\": mfcc, \"chroma_stft\": chroma_stft, \"tonnetz\": tonnetz}"
      ],
      "metadata": {
        "id": "bzMKxag5qsNF"
      },
      "execution_count": 9,
      "outputs": []
    },
    {
      "cell_type": "code",
      "source": [
        "df = pd.DataFrame(dic)"
      ],
      "metadata": {
        "id": "SufLys2Gqstx"
      },
      "execution_count": 10,
      "outputs": []
    },
    {
      "cell_type": "code",
      "source": [
        "df"
      ],
      "metadata": {
        "colab": {
          "base_uri": "https://localhost:8080/",
          "height": 988
        },
        "id": "uu3-4D30qvoW",
        "outputId": "1261bdff-42f4-46b4-8e31-c464cf8e816a"
      },
      "execution_count": 11,
      "outputs": [
        {
          "output_type": "execute_result",
          "data": {
            "text/plain": [
              "                                                   wave                    id  \\\n",
              "0     [4.7146727e-07, 1.4199451e-05, 2.6480675e-05, ...  03-01-02-01-02-02-01   \n",
              "1     [-1.6893897e-06, -1.3083032e-05, -1.8255726e-0...  03-01-02-01-02-02-01   \n",
              "2     [0.0, 0.0, 0.0, 0.0, 0.0, 0.0, 0.0, 0.0, 0.0, ...  03-01-02-01-02-02-01   \n",
              "3     [-1.7202052e-06, -1.332578e-05, -6.473528e-06,...  03-01-02-01-02-02-01   \n",
              "4     [1.2860304e-05, 1.1435377e-06, -1.0969179e-06,...  03-01-02-01-02-02-01   \n",
              "...                                                 ...                   ...   \n",
              "1435  [0.0, 0.0, 0.0, 0.0, 0.0, 0.0, 0.0, 0.0, 0.0, ...  03-01-02-01-02-02-01   \n",
              "1436  [4.1613814e-07, -3.4108567e-07, 1.5506183e-07,...  03-01-02-01-02-02-01   \n",
              "1437  [-6.0855876e-11, 7.663199e-11, -7.463936e-11, ...  03-01-02-01-02-02-01   \n",
              "1438  [0.0, 0.0, 0.0, 0.0, 0.0, 0.0, 0.0, 0.0, 0.0, ...  03-01-02-01-02-02-01   \n",
              "1439  [1.6670467e-05, 4.8300764e-05, 2.003669e-05, 8...  03-01-02-01-02-02-01   \n",
              "\n",
              "                                                   spec  \\\n",
              "0     [[-80.0, -80.0, -80.0, -80.0, -80.0, -80.0, -8...   \n",
              "1     [[-80.0, -80.0, -80.0, -80.0, -80.0, -80.0, -8...   \n",
              "2     [[-80.0, -80.0, -80.0, -80.0, -80.0, -80.0, -8...   \n",
              "3     [[-80.0, -80.0, -80.0, -80.0, -80.0, -80.0, -8...   \n",
              "4     [[-80.0, -80.0, -80.0, -80.0, -80.0, -80.0, -8...   \n",
              "...                                                 ...   \n",
              "1435  [[-80.0, -80.0, -80.0, -80.0, -80.0, -80.0, -8...   \n",
              "1436  [[-80.0, -80.0, -80.0, -80.0, -80.0, -80.0, -8...   \n",
              "1437  [[-80.0, -80.0, -80.0, -80.0, -80.0, -80.0, -8...   \n",
              "1438  [[-80.0, -80.0, -80.0, -80.0, -80.0, -80.0, -8...   \n",
              "1439  [[-80.0, -80.0, -80.0, -80.0, -80.0, -80.0, -8...   \n",
              "\n",
              "                                      spectral_centroid  \\\n",
              "0     [[1702.5984855708707, 1644.1814141818554, 2437...   \n",
              "1     [[3110.180346624321, 3340.067709414354, 4255.3...   \n",
              "2     [[2622.30652746311, 2882.612298680775, 3561.44...   \n",
              "3     [[927.6569578851969, 1255.395953181058, 3597.4...   \n",
              "4     [[1812.764716485485, 791.9318731088281, 640.59...   \n",
              "...                                                 ...   \n",
              "1435  [[0.0, 0.0, 5362.042410290934, 5362.9388610221...   \n",
              "1436  [[2835.9591595176294, 3120.264933726767, 3422....   \n",
              "1437  [[390.3868497514041, 577.4434601002234, 2172.2...   \n",
              "1438  [[1172.6113341430694, 1138.615950039724, 1534....   \n",
              "1439  [[335.3246598865554, 390.92033031813577, 224.8...   \n",
              "\n",
              "                                                   mfcc  \\\n",
              "0     [[1.294149e-07, 1.0889302e-07, 1.8417815e-08, ...   \n",
              "1     [[1.8844917e-08, 5.9902154e-09, 3.5416299e-09,...   \n",
              "2     [[1.5282774e-08, 1.1273384e-08, 1.2076633e-09,...   \n",
              "3     [[1.2319944e-07, 3.4925907e-08, 1.1660343e-08,...   \n",
              "4     [[8.659444e-08, 3.451311e-07, 5.835279e-07, 1....   \n",
              "...                                                 ...   \n",
              "1435  [[0.0, 0.0, 2.1365892e-11, 2.5533303e-10, 3.06...   \n",
              "1436  [[5.7867865e-08, 2.894639e-08, 1.971912e-08, 4...   \n",
              "1437  [[1.1699997e-06, 4.4421415e-07, 5.2778258e-08,...   \n",
              "1438  [[1.4563598e-07, 2.687424e-07, 1.0488832e-07, ...   \n",
              "1439  [[2.1616722e-06, 1.6054133e-06, 5.0084172e-06,...   \n",
              "\n",
              "                                            chroma_stft  \\\n",
              "0     [[1.0, 0.9230753, 0.9102246, 0.76582, 0.809105...   \n",
              "1     [[0.8044374, 0.8005926, 0.7340823, 0.74710137,...   \n",
              "2     [[0.91027635, 0.76493794, 0.722284, 0.8314146,...   \n",
              "3     [[0.91072494, 0.9175139, 0.8621111, 0.777468, ...   \n",
              "4     [[0.7161813, 0.99982756, 0.9668784, 0.9647899,...   \n",
              "...                                                 ...   \n",
              "1435  [[0.0, 0.0, 0.9343488, 0.9316188, 0.91395205, ...   \n",
              "1436  [[0.9088477, 1.0, 1.0, 1.0, 1.0, 1.0, 1.0, 1.0...   \n",
              "1437  [[0.7361235, 0.71600676, 0.85013443, 1.0, 0.81...   \n",
              "1438  [[1.0, 1.0, 1.0, 1.0, 1.0, 0.9138862, 0.890883...   \n",
              "1439  [[0.89035374, 0.9843948, 1.0, 1.0, 1.0, 1.0, 1...   \n",
              "\n",
              "                                                tonnetz  \n",
              "0     [[-0.07708510968478206, -0.07477974001132223, ...  \n",
              "1     [[-0.16220896676048352, -0.17239464873346538, ...  \n",
              "2     [[0.0011878622853581668, -0.004104986336625696...  \n",
              "3     [[-0.014036912894213624, -0.028553372818802384...  \n",
              "4     [[-0.04519092489660211, -0.044749780024412884,...  \n",
              "...                                                 ...  \n",
              "1435  [[-0.016779084691387967, -0.012123654834226108...  \n",
              "1436  [[-0.04936248210740455, -0.044424154141441366,...  \n",
              "1437  [[-0.02513798943724798, -0.022155614535062297,...  \n",
              "1438  [[0.06138502299124286, 0.02537367881033851, 0....  \n",
              "1439  [[-0.07230716592056959, -0.06760917147162475, ...  \n",
              "\n",
              "[1440 rows x 7 columns]"
            ],
            "text/html": [
              "\n",
              "  <div id=\"df-34fd7ea4-c3d1-4e34-8b7b-7e0b2608a917\">\n",
              "    <div class=\"colab-df-container\">\n",
              "      <div>\n",
              "<style scoped>\n",
              "    .dataframe tbody tr th:only-of-type {\n",
              "        vertical-align: middle;\n",
              "    }\n",
              "\n",
              "    .dataframe tbody tr th {\n",
              "        vertical-align: top;\n",
              "    }\n",
              "\n",
              "    .dataframe thead th {\n",
              "        text-align: right;\n",
              "    }\n",
              "</style>\n",
              "<table border=\"1\" class=\"dataframe\">\n",
              "  <thead>\n",
              "    <tr style=\"text-align: right;\">\n",
              "      <th></th>\n",
              "      <th>wave</th>\n",
              "      <th>id</th>\n",
              "      <th>spec</th>\n",
              "      <th>spectral_centroid</th>\n",
              "      <th>mfcc</th>\n",
              "      <th>chroma_stft</th>\n",
              "      <th>tonnetz</th>\n",
              "    </tr>\n",
              "  </thead>\n",
              "  <tbody>\n",
              "    <tr>\n",
              "      <th>0</th>\n",
              "      <td>[4.7146727e-07, 1.4199451e-05, 2.6480675e-05, ...</td>\n",
              "      <td>03-01-02-01-02-02-01</td>\n",
              "      <td>[[-80.0, -80.0, -80.0, -80.0, -80.0, -80.0, -8...</td>\n",
              "      <td>[[1702.5984855708707, 1644.1814141818554, 2437...</td>\n",
              "      <td>[[1.294149e-07, 1.0889302e-07, 1.8417815e-08, ...</td>\n",
              "      <td>[[1.0, 0.9230753, 0.9102246, 0.76582, 0.809105...</td>\n",
              "      <td>[[-0.07708510968478206, -0.07477974001132223, ...</td>\n",
              "    </tr>\n",
              "    <tr>\n",
              "      <th>1</th>\n",
              "      <td>[-1.6893897e-06, -1.3083032e-05, -1.8255726e-0...</td>\n",
              "      <td>03-01-02-01-02-02-01</td>\n",
              "      <td>[[-80.0, -80.0, -80.0, -80.0, -80.0, -80.0, -8...</td>\n",
              "      <td>[[3110.180346624321, 3340.067709414354, 4255.3...</td>\n",
              "      <td>[[1.8844917e-08, 5.9902154e-09, 3.5416299e-09,...</td>\n",
              "      <td>[[0.8044374, 0.8005926, 0.7340823, 0.74710137,...</td>\n",
              "      <td>[[-0.16220896676048352, -0.17239464873346538, ...</td>\n",
              "    </tr>\n",
              "    <tr>\n",
              "      <th>2</th>\n",
              "      <td>[0.0, 0.0, 0.0, 0.0, 0.0, 0.0, 0.0, 0.0, 0.0, ...</td>\n",
              "      <td>03-01-02-01-02-02-01</td>\n",
              "      <td>[[-80.0, -80.0, -80.0, -80.0, -80.0, -80.0, -8...</td>\n",
              "      <td>[[2622.30652746311, 2882.612298680775, 3561.44...</td>\n",
              "      <td>[[1.5282774e-08, 1.1273384e-08, 1.2076633e-09,...</td>\n",
              "      <td>[[0.91027635, 0.76493794, 0.722284, 0.8314146,...</td>\n",
              "      <td>[[0.0011878622853581668, -0.004104986336625696...</td>\n",
              "    </tr>\n",
              "    <tr>\n",
              "      <th>3</th>\n",
              "      <td>[-1.7202052e-06, -1.332578e-05, -6.473528e-06,...</td>\n",
              "      <td>03-01-02-01-02-02-01</td>\n",
              "      <td>[[-80.0, -80.0, -80.0, -80.0, -80.0, -80.0, -8...</td>\n",
              "      <td>[[927.6569578851969, 1255.395953181058, 3597.4...</td>\n",
              "      <td>[[1.2319944e-07, 3.4925907e-08, 1.1660343e-08,...</td>\n",
              "      <td>[[0.91072494, 0.9175139, 0.8621111, 0.777468, ...</td>\n",
              "      <td>[[-0.014036912894213624, -0.028553372818802384...</td>\n",
              "    </tr>\n",
              "    <tr>\n",
              "      <th>4</th>\n",
              "      <td>[1.2860304e-05, 1.1435377e-06, -1.0969179e-06,...</td>\n",
              "      <td>03-01-02-01-02-02-01</td>\n",
              "      <td>[[-80.0, -80.0, -80.0, -80.0, -80.0, -80.0, -8...</td>\n",
              "      <td>[[1812.764716485485, 791.9318731088281, 640.59...</td>\n",
              "      <td>[[8.659444e-08, 3.451311e-07, 5.835279e-07, 1....</td>\n",
              "      <td>[[0.7161813, 0.99982756, 0.9668784, 0.9647899,...</td>\n",
              "      <td>[[-0.04519092489660211, -0.044749780024412884,...</td>\n",
              "    </tr>\n",
              "    <tr>\n",
              "      <th>...</th>\n",
              "      <td>...</td>\n",
              "      <td>...</td>\n",
              "      <td>...</td>\n",
              "      <td>...</td>\n",
              "      <td>...</td>\n",
              "      <td>...</td>\n",
              "      <td>...</td>\n",
              "    </tr>\n",
              "    <tr>\n",
              "      <th>1435</th>\n",
              "      <td>[0.0, 0.0, 0.0, 0.0, 0.0, 0.0, 0.0, 0.0, 0.0, ...</td>\n",
              "      <td>03-01-02-01-02-02-01</td>\n",
              "      <td>[[-80.0, -80.0, -80.0, -80.0, -80.0, -80.0, -8...</td>\n",
              "      <td>[[0.0, 0.0, 5362.042410290934, 5362.9388610221...</td>\n",
              "      <td>[[0.0, 0.0, 2.1365892e-11, 2.5533303e-10, 3.06...</td>\n",
              "      <td>[[0.0, 0.0, 0.9343488, 0.9316188, 0.91395205, ...</td>\n",
              "      <td>[[-0.016779084691387967, -0.012123654834226108...</td>\n",
              "    </tr>\n",
              "    <tr>\n",
              "      <th>1436</th>\n",
              "      <td>[4.1613814e-07, -3.4108567e-07, 1.5506183e-07,...</td>\n",
              "      <td>03-01-02-01-02-02-01</td>\n",
              "      <td>[[-80.0, -80.0, -80.0, -80.0, -80.0, -80.0, -8...</td>\n",
              "      <td>[[2835.9591595176294, 3120.264933726767, 3422....</td>\n",
              "      <td>[[5.7867865e-08, 2.894639e-08, 1.971912e-08, 4...</td>\n",
              "      <td>[[0.9088477, 1.0, 1.0, 1.0, 1.0, 1.0, 1.0, 1.0...</td>\n",
              "      <td>[[-0.04936248210740455, -0.044424154141441366,...</td>\n",
              "    </tr>\n",
              "    <tr>\n",
              "      <th>1437</th>\n",
              "      <td>[-6.0855876e-11, 7.663199e-11, -7.463936e-11, ...</td>\n",
              "      <td>03-01-02-01-02-02-01</td>\n",
              "      <td>[[-80.0, -80.0, -80.0, -80.0, -80.0, -80.0, -8...</td>\n",
              "      <td>[[390.3868497514041, 577.4434601002234, 2172.2...</td>\n",
              "      <td>[[1.1699997e-06, 4.4421415e-07, 5.2778258e-08,...</td>\n",
              "      <td>[[0.7361235, 0.71600676, 0.85013443, 1.0, 0.81...</td>\n",
              "      <td>[[-0.02513798943724798, -0.022155614535062297,...</td>\n",
              "    </tr>\n",
              "    <tr>\n",
              "      <th>1438</th>\n",
              "      <td>[0.0, 0.0, 0.0, 0.0, 0.0, 0.0, 0.0, 0.0, 0.0, ...</td>\n",
              "      <td>03-01-02-01-02-02-01</td>\n",
              "      <td>[[-80.0, -80.0, -80.0, -80.0, -80.0, -80.0, -8...</td>\n",
              "      <td>[[1172.6113341430694, 1138.615950039724, 1534....</td>\n",
              "      <td>[[1.4563598e-07, 2.687424e-07, 1.0488832e-07, ...</td>\n",
              "      <td>[[1.0, 1.0, 1.0, 1.0, 1.0, 0.9138862, 0.890883...</td>\n",
              "      <td>[[0.06138502299124286, 0.02537367881033851, 0....</td>\n",
              "    </tr>\n",
              "    <tr>\n",
              "      <th>1439</th>\n",
              "      <td>[1.6670467e-05, 4.8300764e-05, 2.003669e-05, 8...</td>\n",
              "      <td>03-01-02-01-02-02-01</td>\n",
              "      <td>[[-80.0, -80.0, -80.0, -80.0, -80.0, -80.0, -8...</td>\n",
              "      <td>[[335.3246598865554, 390.92033031813577, 224.8...</td>\n",
              "      <td>[[2.1616722e-06, 1.6054133e-06, 5.0084172e-06,...</td>\n",
              "      <td>[[0.89035374, 0.9843948, 1.0, 1.0, 1.0, 1.0, 1...</td>\n",
              "      <td>[[-0.07230716592056959, -0.06760917147162475, ...</td>\n",
              "    </tr>\n",
              "  </tbody>\n",
              "</table>\n",
              "<p>1440 rows × 7 columns</p>\n",
              "</div>\n",
              "      <button class=\"colab-df-convert\" onclick=\"convertToInteractive('df-34fd7ea4-c3d1-4e34-8b7b-7e0b2608a917')\"\n",
              "              title=\"Convert this dataframe to an interactive table.\"\n",
              "              style=\"display:none;\">\n",
              "        \n",
              "  <svg xmlns=\"http://www.w3.org/2000/svg\" height=\"24px\"viewBox=\"0 0 24 24\"\n",
              "       width=\"24px\">\n",
              "    <path d=\"M0 0h24v24H0V0z\" fill=\"none\"/>\n",
              "    <path d=\"M18.56 5.44l.94 2.06.94-2.06 2.06-.94-2.06-.94-.94-2.06-.94 2.06-2.06.94zm-11 1L8.5 8.5l.94-2.06 2.06-.94-2.06-.94L8.5 2.5l-.94 2.06-2.06.94zm10 10l.94 2.06.94-2.06 2.06-.94-2.06-.94-.94-2.06-.94 2.06-2.06.94z\"/><path d=\"M17.41 7.96l-1.37-1.37c-.4-.4-.92-.59-1.43-.59-.52 0-1.04.2-1.43.59L10.3 9.45l-7.72 7.72c-.78.78-.78 2.05 0 2.83L4 21.41c.39.39.9.59 1.41.59.51 0 1.02-.2 1.41-.59l7.78-7.78 2.81-2.81c.8-.78.8-2.07 0-2.86zM5.41 20L4 18.59l7.72-7.72 1.47 1.35L5.41 20z\"/>\n",
              "  </svg>\n",
              "      </button>\n",
              "      \n",
              "  <style>\n",
              "    .colab-df-container {\n",
              "      display:flex;\n",
              "      flex-wrap:wrap;\n",
              "      gap: 12px;\n",
              "    }\n",
              "\n",
              "    .colab-df-convert {\n",
              "      background-color: #E8F0FE;\n",
              "      border: none;\n",
              "      border-radius: 50%;\n",
              "      cursor: pointer;\n",
              "      display: none;\n",
              "      fill: #1967D2;\n",
              "      height: 32px;\n",
              "      padding: 0 0 0 0;\n",
              "      width: 32px;\n",
              "    }\n",
              "\n",
              "    .colab-df-convert:hover {\n",
              "      background-color: #E2EBFA;\n",
              "      box-shadow: 0px 1px 2px rgba(60, 64, 67, 0.3), 0px 1px 3px 1px rgba(60, 64, 67, 0.15);\n",
              "      fill: #174EA6;\n",
              "    }\n",
              "\n",
              "    [theme=dark] .colab-df-convert {\n",
              "      background-color: #3B4455;\n",
              "      fill: #D2E3FC;\n",
              "    }\n",
              "\n",
              "    [theme=dark] .colab-df-convert:hover {\n",
              "      background-color: #434B5C;\n",
              "      box-shadow: 0px 1px 3px 1px rgba(0, 0, 0, 0.15);\n",
              "      filter: drop-shadow(0px 1px 2px rgba(0, 0, 0, 0.3));\n",
              "      fill: #FFFFFF;\n",
              "    }\n",
              "  </style>\n",
              "\n",
              "      <script>\n",
              "        const buttonEl =\n",
              "          document.querySelector('#df-34fd7ea4-c3d1-4e34-8b7b-7e0b2608a917 button.colab-df-convert');\n",
              "        buttonEl.style.display =\n",
              "          google.colab.kernel.accessAllowed ? 'block' : 'none';\n",
              "\n",
              "        async function convertToInteractive(key) {\n",
              "          const element = document.querySelector('#df-34fd7ea4-c3d1-4e34-8b7b-7e0b2608a917');\n",
              "          const dataTable =\n",
              "            await google.colab.kernel.invokeFunction('convertToInteractive',\n",
              "                                                     [key], {});\n",
              "          if (!dataTable) return;\n",
              "\n",
              "          const docLinkHtml = 'Like what you see? Visit the ' +\n",
              "            '<a target=\"_blank\" href=https://colab.research.google.com/notebooks/data_table.ipynb>data table notebook</a>'\n",
              "            + ' to learn more about interactive tables.';\n",
              "          element.innerHTML = '';\n",
              "          dataTable['output_type'] = 'display_data';\n",
              "          await google.colab.output.renderOutput(dataTable, element);\n",
              "          const docLink = document.createElement('div');\n",
              "          docLink.innerHTML = docLinkHtml;\n",
              "          element.appendChild(docLink);\n",
              "        }\n",
              "      </script>\n",
              "    </div>\n",
              "  </div>\n",
              "  "
            ]
          },
          "metadata": {},
          "execution_count": 11
        }
      ]
    },
    {
      "cell_type": "code",
      "source": [
        "df.to_csv(\"database.csv\")"
      ],
      "metadata": {
        "id": "LWlrJQXLrnRH"
      },
      "execution_count": 14,
      "outputs": []
    },
    {
      "cell_type": "code",
      "source": [],
      "metadata": {
        "id": "C0nlv-Dfu1GC"
      },
      "execution_count": null,
      "outputs": []
    }
  ]
}