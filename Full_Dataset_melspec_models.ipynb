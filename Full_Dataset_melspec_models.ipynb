{
  "nbformat": 4,
  "nbformat_minor": 0,
  "metadata": {
    "colab": {
      "provenance": []
    },
    "kernelspec": {
      "name": "python3",
      "display_name": "Python 3"
    },
    "language_info": {
      "name": "python"
    },
    "accelerator": "GPU",
    "gpuClass": "standard"
  },
  "cells": [
    {
      "cell_type": "code",
      "source": [
        "#imports\n",
        "import numpy as np\n",
        "import pandas as pd\n",
        "import matplotlib.pyplot as plt\n",
        "import seaborn as sns\n",
        "\n",
        "import librosa\n",
        "import librosa.display\n",
        "import IPython.display as ipd\n",
        "\n",
        "from glob import glob\n",
        "import tensorflow as tf\n",
        "\n",
        "from sklearn.metrics import accuracy_score\n",
        "from sklearn.metrics import plot_confusion_matrix\n",
        "#to make plots look nice\n",
        "from itertools import cycle\n",
        "sns.set_theme(style=\"white\", palette=None)\n",
        "color_pal = plt.rcParams[\"axes.prop_cycle\"].by_key()[\"color\"]\n",
        "color_cycle = cycle(plt.rcParams[\"axes.prop_cycle\"].by_key()[\"color\"])\n",
        "\n",
        "from sklearn.preprocessing import StandardScaler,RobustScaler,MinMaxScaler\n",
        "from sklearn.preprocessing import OneHotEncoder\n",
        "\n",
        "from sklearn.model_selection import train_test_split\n",
        "from sklearn.neighbors import KNeighborsClassifier\n",
        "from sklearn.ensemble import RandomForestClassifier,GradientBoostingClassifier\n",
        "from sklearn.model_selection import cross_validate"
      ],
      "metadata": {
        "id": "UTMNu4HdkqXQ"
      },
      "execution_count": 1,
      "outputs": []
    },
    {
      "cell_type": "code",
      "source": [
        "#from google.colab import files\n",
        "\n",
        "#upload_file = files.upload()"
      ],
      "metadata": {
        "id": "_7DLDMPQktAC"
      },
      "execution_count": 4,
      "outputs": []
    },
    {
      "cell_type": "markdown",
      "source": [
        "# Reading File"
      ],
      "metadata": {
        "id": "lUqeH1DX8wDk"
      }
    },
    {
      "cell_type": "code",
      "execution_count": 2,
      "metadata": {
        "id": "rYbyWgkbz1sz"
      },
      "outputs": [],
      "source": [
        "df = pd.read_csv('drive/MyDrive/Le_wagon/mel_spec.csv')"
      ]
    },
    {
      "cell_type": "markdown",
      "source": [
        "# Working on df"
      ],
      "metadata": {
        "id": "UlFprjW37n1D"
      }
    },
    {
      "cell_type": "code",
      "source": [
        "#df"
      ],
      "metadata": {
        "id": "hGSTQIfMz38x"
      },
      "execution_count": 7,
      "outputs": []
    },
    {
      "cell_type": "code",
      "source": [
        "emo_relation = {1: 'neutral', 2: 'calm', 3: 'happy', 4: 'sad',\n",
        "            5: 'angry', 6: 'fearful', 7: 'disgust', 8: 'surprised',\n",
        "            '1': 'neutral', '2': 'calm', '3': 'happy', '4': 'sad',\n",
        "            '5': 'angry', '6': 'fearful', '7': 'disgust', '8': 'surprised'}"
      ],
      "metadata": {
        "id": "Mlmec85VrEVL"
      },
      "execution_count": 3,
      "outputs": []
    },
    {
      "cell_type": "code",
      "source": [
        "df = df.replace({'emotion':emo_relation})"
      ],
      "metadata": {
        "id": "ZwaIIQYA1Bn9"
      },
      "execution_count": 4,
      "outputs": []
    },
    {
      "cell_type": "code",
      "source": [],
      "metadata": {
        "id": "c-4GIHq9qopW"
      },
      "execution_count": 9,
      "outputs": []
    },
    {
      "cell_type": "markdown",
      "source": [
        "# Defining X and y"
      ],
      "metadata": {
        "id": "z5xKAkhH88aY"
      }
    },
    {
      "cell_type": "code",
      "source": [
        "X = df.drop(columns='emotion')\n",
        "y= df['emotion']"
      ],
      "metadata": {
        "id": "eMH3BTq1qpIi"
      },
      "execution_count": 13,
      "outputs": []
    },
    {
      "cell_type": "code",
      "source": [
        "X.shape"
      ],
      "metadata": {
        "colab": {
          "base_uri": "https://localhost:8080/"
        },
        "id": "hUBFQj-UqpR9",
        "outputId": "61048a7e-37e0-4ac4-e79a-e561537ddd83"
      },
      "execution_count": 18,
      "outputs": [
        {
          "output_type": "execute_result",
          "data": {
            "text/plain": [
              "(11962, 16256)"
            ]
          },
          "metadata": {},
          "execution_count": 18
        }
      ]
    },
    {
      "cell_type": "code",
      "source": [
        "y.shape"
      ],
      "metadata": {
        "colab": {
          "base_uri": "https://localhost:8080/"
        },
        "id": "Keb_pWNvqpYt",
        "outputId": "3760f80b-a640-4b4e-c976-7a6b5f7fe33c"
      },
      "execution_count": 19,
      "outputs": [
        {
          "output_type": "execute_result",
          "data": {
            "text/plain": [
              "(11962,)"
            ]
          },
          "metadata": {},
          "execution_count": 19
        }
      ]
    },
    {
      "cell_type": "code",
      "source": [
        "#running models whole dataset"
      ],
      "metadata": {
        "id": "Kch9SHQuqpdk"
      },
      "execution_count": null,
      "outputs": []
    },
    {
      "cell_type": "markdown",
      "source": [
        "# Running models whole dataset"
      ],
      "metadata": {
        "id": "EHZj3OdQ9L1C"
      }
    },
    {
      "cell_type": "code",
      "source": [
        "#0 adjustment"
      ],
      "metadata": {
        "id": "ciRVCOQkqpiM"
      },
      "execution_count": null,
      "outputs": []
    },
    {
      "cell_type": "markdown",
      "source": [
        "## 0 adjustment"
      ],
      "metadata": {
        "id": "fZfqiwaq9QXX"
      }
    },
    {
      "cell_type": "code",
      "source": [
        "X_train, X_test, y_train, y_test = train_test_split(X, y, test_size=0.3, random_state=42)"
      ],
      "metadata": {
        "id": "W89eOS5rqpnH"
      },
      "execution_count": 20,
      "outputs": []
    },
    {
      "cell_type": "code",
      "source": [
        "model = RandomForestClassifier(max_depth=12,min_samples_split=4,n_estimators=1000)"
      ],
      "metadata": {
        "id": "XutRu98Rqpre"
      },
      "execution_count": 21,
      "outputs": []
    },
    {
      "cell_type": "code",
      "source": [
        "model.fit(X_train,y_train)"
      ],
      "metadata": {
        "colab": {
          "base_uri": "https://localhost:8080/"
        },
        "id": "wpRupafhqpwj",
        "outputId": "daca53bf-d2a3-40ae-8e9c-19ebb9ce7c50"
      },
      "execution_count": 22,
      "outputs": [
        {
          "output_type": "execute_result",
          "data": {
            "text/plain": [
              "RandomForestClassifier(max_depth=12, min_samples_split=4, n_estimators=1000)"
            ]
          },
          "metadata": {},
          "execution_count": 22
        }
      ]
    },
    {
      "cell_type": "code",
      "source": [
        "from sklearn.metrics import accuracy_score"
      ],
      "metadata": {
        "id": "7D5_Um5osh7q"
      },
      "execution_count": 23,
      "outputs": []
    },
    {
      "cell_type": "code",
      "source": [
        "y_pred = model.predict(X_test)\n",
        "accuracy_score(y_test,y_pred)"
      ],
      "metadata": {
        "colab": {
          "base_uri": "https://localhost:8080/"
        },
        "id": "ZflWdtObsTRZ",
        "outputId": "4e4eba9b-aa55-4094-d46e-158ebb4ae002"
      },
      "execution_count": 24,
      "outputs": [
        {
          "output_type": "execute_result",
          "data": {
            "text/plain": [
              "0.5633881303984397"
            ]
          },
          "metadata": {},
          "execution_count": 24
        }
      ]
    },
    {
      "cell_type": "code",
      "source": [
        "from sklearn.metrics import plot_confusion_matrix\n",
        "plot_confusion_matrix(model,X_test,y_test)"
      ],
      "metadata": {
        "colab": {
          "base_uri": "https://localhost:8080/",
          "height": 357
        },
        "id": "oQntnVj-wA94",
        "outputId": "cde9d7f0-d1c4-4f54-eead-5db834981ea3"
      },
      "execution_count": 28,
      "outputs": [
        {
          "output_type": "stream",
          "name": "stderr",
          "text": [
            "/usr/local/lib/python3.7/dist-packages/sklearn/utils/deprecation.py:87: FutureWarning: Function plot_confusion_matrix is deprecated; Function `plot_confusion_matrix` is deprecated in 1.0 and will be removed in 1.2. Use one of the class methods: ConfusionMatrixDisplay.from_predictions or ConfusionMatrixDisplay.from_estimator.\n",
            "  warnings.warn(msg, category=FutureWarning)\n"
          ]
        },
        {
          "output_type": "execute_result",
          "data": {
            "text/plain": [
              "<sklearn.metrics._plot.confusion_matrix.ConfusionMatrixDisplay at 0x7ff9b7ceb950>"
            ]
          },
          "metadata": {},
          "execution_count": 28
        },
        {
          "output_type": "display_data",
          "data": {
            "text/plain": [
              "<Figure size 432x288 with 2 Axes>"
            ],
            "image/png": "[encoded data removed]"
          },
          "metadata": {}
        }
      ]
    },
    {
      "cell_type": "code",
      "source": [
        "#saving pickle\n",
        "#import pickle\n",
        "#filename = 'model_full.sav'\n",
        "#pickle.dump(model, open(filename, 'wb'))"
      ],
      "metadata": {
        "id": "3DH9pLiesTt4"
      },
      "execution_count": 25,
      "outputs": []
    },
    {
      "cell_type": "code",
      "source": [
        "#dropping calm and surprised"
      ],
      "metadata": {
        "id": "k0i3pXs_sT14"
      },
      "execution_count": null,
      "outputs": []
    },
    {
      "cell_type": "markdown",
      "source": [
        "# Model dropping calm and surprised"
      ],
      "metadata": {
        "id": "yZlR1jZ29XuB"
      }
    },
    {
      "cell_type": "code",
      "source": [
        "df['emotion'].value_counts()"
      ],
      "metadata": {
        "colab": {
          "base_uri": "https://localhost:8080/"
        },
        "id": "jLLFN_8WsT_-",
        "outputId": "82aae79c-8948-4d38-b6f9-894b79eaf54a"
      },
      "execution_count": 5,
      "outputs": [
        {
          "output_type": "execute_result",
          "data": {
            "text/plain": [
              "fearful      1923\n",
              "angry        1923\n",
              "disgust      1923\n",
              "happy        1923\n",
              "sad          1723\n",
              "neutral      1703\n",
              "surprised     652\n",
              "calm          192\n",
              "Name: emotion, dtype: int64"
            ]
          },
          "metadata": {},
          "execution_count": 5
        }
      ]
    },
    {
      "cell_type": "code",
      "source": [
        "df2 = df[df['emotion']!='calm']\n",
        "df2 = df2[df2['emotion']!='surprised']\n",
        "df2['emotion'].value_counts()"
      ],
      "metadata": {
        "colab": {
          "base_uri": "https://localhost:8080/"
        },
        "id": "OM5PyuBgv0rR",
        "outputId": "4c4b480b-f33a-411f-a605-ef1f5bb2c577"
      },
      "execution_count": 6,
      "outputs": [
        {
          "output_type": "execute_result",
          "data": {
            "text/plain": [
              "fearful    1923\n",
              "angry      1923\n",
              "disgust    1923\n",
              "happy      1923\n",
              "sad        1723\n",
              "neutral    1703\n",
              "Name: emotion, dtype: int64"
            ]
          },
          "metadata": {},
          "execution_count": 6
        }
      ]
    },
    {
      "cell_type": "code",
      "source": [
        "X2 = df2.drop(columns='emotion')\n",
        "y2= df2['emotion']"
      ],
      "metadata": {
        "id": "RcLQu4hYwpD6"
      },
      "execution_count": 7,
      "outputs": []
    },
    {
      "cell_type": "code",
      "source": [
        "X_train2, X_test2, y_train2, y_test2 = train_test_split(X2, y2, test_size=0.3, random_state=42)"
      ],
      "metadata": {
        "id": "Vvu5XXPExjrS"
      },
      "execution_count": 8,
      "outputs": []
    },
    {
      "cell_type": "code",
      "source": [
        "model = RandomForestClassifier(max_depth=12,min_samples_split=4,n_estimators=1000)"
      ],
      "metadata": {
        "id": "um-2riQRxqFc"
      },
      "execution_count": 9,
      "outputs": []
    },
    {
      "cell_type": "code",
      "source": [
        "model.fit(X_train2,y_train2)"
      ],
      "metadata": {
        "colab": {
          "base_uri": "https://localhost:8080/"
        },
        "id": "TgBrnl2Ixs-O",
        "outputId": "4df18595-39e4-464e-abea-8e3c6ebb7e80"
      },
      "execution_count": 10,
      "outputs": [
        {
          "output_type": "execute_result",
          "data": {
            "text/plain": [
              "RandomForestClassifier(max_depth=12, min_samples_split=4, n_estimators=1000)"
            ]
          },
          "metadata": {},
          "execution_count": 10
        }
      ]
    },
    {
      "cell_type": "code",
      "source": [
        "y_pred2 = model.predict(X_test2)\n",
        "accuracy_score(y_test2,y_pred2)"
      ],
      "metadata": {
        "colab": {
          "base_uri": "https://localhost:8080/"
        },
        "id": "bH9tA8p2xwtk",
        "outputId": "80cd105a-f751-4422-b365-c88e8da2888f"
      },
      "execution_count": 13,
      "outputs": [
        {
          "output_type": "execute_result",
          "data": {
            "text/plain": [
              "0.5638489208633094"
            ]
          },
          "metadata": {},
          "execution_count": 13
        }
      ]
    },
    {
      "cell_type": "code",
      "source": [
        "y_pred2 = model.predict(X_test2)\n",
        "accuracy_score(y_test2,y_pred2)"
      ],
      "metadata": {
        "colab": {
          "base_uri": "https://localhost:8080/"
        },
        "id": "XketwV8jx75j",
        "outputId": "930f8ccb-181d-4fa8-8291-0845478126cf"
      },
      "execution_count": 14,
      "outputs": [
        {
          "output_type": "execute_result",
          "data": {
            "text/plain": [
              "0.5638489208633094"
            ]
          },
          "metadata": {},
          "execution_count": 14
        }
      ]
    },
    {
      "cell_type": "code",
      "source": [
        "plot_confusion_matrix(model,X_test2,y_test2)"
      ],
      "metadata": {
        "colab": {
          "base_uri": "https://localhost:8080/",
          "height": 357
        },
        "id": "HDqcyGjox-_B",
        "outputId": "7f6b1eab-d9a6-43f4-8c2a-552f6b5ff9be"
      },
      "execution_count": 16,
      "outputs": [
        {
          "output_type": "stream",
          "name": "stderr",
          "text": [
            "/usr/local/lib/python3.7/dist-packages/sklearn/utils/deprecation.py:87: FutureWarning: Function plot_confusion_matrix is deprecated; Function `plot_confusion_matrix` is deprecated in 1.0 and will be removed in 1.2. Use one of the class methods: ConfusionMatrixDisplay.from_predictions or ConfusionMatrixDisplay.from_estimator.\n",
            "  warnings.warn(msg, category=FutureWarning)\n"
          ]
        },
        {
          "output_type": "execute_result",
          "data": {
            "text/plain": [
              "<sklearn.metrics._plot.confusion_matrix.ConfusionMatrixDisplay at 0x7f118dc4ba10>"
            ]
          },
          "metadata": {},
          "execution_count": 16
        },
        {
          "output_type": "display_data",
          "data": {
            "text/plain": [
              "<Figure size 432x288 with 2 Axes>"
            ],
            "image/png": "[encoded data removed]"
          },
          "metadata": {}
        }
      ]
    },
    {
      "cell_type": "code",
      "source": [
        "#saving pickle\n",
        "#import pickle\n",
        "#filename = 'model_full_calmless_surpriseless.sav'\n",
        "#pickle.dump(model, open(filename, 'wb'))"
      ],
      "metadata": {
        "id": "5kKHQrheyCOG"
      },
      "execution_count": 15,
      "outputs": []
    },
    {
      "cell_type": "code",
      "source": [
        "#getting savee out"
      ],
      "metadata": {
        "id": "nw_WDdKSyC3Y"
      },
      "execution_count": null,
      "outputs": []
    },
    {
      "cell_type": "markdown",
      "source": [
        "# Model Dropping savee database (480 british entries)"
      ],
      "metadata": {
        "id": "0sjW-lkm9d4E"
      }
    },
    {
      "cell_type": "code",
      "source": [
        "#savee has 480 files from the original dataset\n",
        "#1920 ravdess e savee\n",
        "#ou seja do 1920 até -480 = [1441:1920]"
      ],
      "metadata": {
        "id": "OhcnDgzOyDBw"
      },
      "execution_count": null,
      "outputs": []
    },
    {
      "cell_type": "code",
      "source": [
        "#df.iloc[0:1440].concat(df.iloc[1921:])\n",
        "df3 = pd.concat([df.iloc[0:1440],df.iloc[1921:]])\n",
        "df3 = df3[df3['emotion']!='calm']\n",
        "df3 = df3[df3['emotion']!='surprised']\n",
        "df3['emotion'].value_counts()\n"
      ],
      "metadata": {
        "colab": {
          "base_uri": "https://localhost:8080/"
        },
        "id": "sU7sV0jqyDIZ",
        "outputId": "54dd79bd-580c-4ed2-fc4e-6f6c8c619f5f"
      },
      "execution_count": 7,
      "outputs": [
        {
          "output_type": "execute_result",
          "data": {
            "text/plain": [
              "fearful    1863\n",
              "disgust    1863\n",
              "happy      1863\n",
              "angry      1862\n",
              "sad        1663\n",
              "neutral    1583\n",
              "Name: emotion, dtype: int64"
            ]
          },
          "metadata": {},
          "execution_count": 7
        }
      ]
    },
    {
      "cell_type": "code",
      "source": [],
      "metadata": {
        "id": "9El8rfXX5dZx"
      },
      "execution_count": null,
      "outputs": []
    },
    {
      "cell_type": "code",
      "source": [
        "df3['emotion'].value_counts()"
      ],
      "metadata": {
        "colab": {
          "base_uri": "https://localhost:8080/"
        },
        "id": "vpYJxdruyDOq",
        "outputId": "886c6b5c-f3a4-430e-a267-4b851178b08b"
      },
      "execution_count": 8,
      "outputs": [
        {
          "output_type": "execute_result",
          "data": {
            "text/plain": [
              "fearful    1863\n",
              "disgust    1863\n",
              "happy      1863\n",
              "angry      1862\n",
              "sad        1663\n",
              "neutral    1583\n",
              "Name: emotion, dtype: int64"
            ]
          },
          "metadata": {},
          "execution_count": 8
        }
      ]
    },
    {
      "cell_type": "code",
      "source": [
        "X3 = df3.drop(columns='emotion')\n",
        "y3= df3['emotion']"
      ],
      "metadata": {
        "id": "iHG4e5vzyDU2"
      },
      "execution_count": 8,
      "outputs": []
    },
    {
      "cell_type": "code",
      "source": [
        "X_train3, X_test3, y_train3, y_test3 = train_test_split(X3, y3, test_size=0.3, random_state=42)"
      ],
      "metadata": {
        "id": "1-DEoFeByDaD"
      },
      "execution_count": 9,
      "outputs": []
    },
    {
      "cell_type": "code",
      "source": [
        "model = RandomForestClassifier(max_depth=12,min_samples_split=4,n_estimators=1000)"
      ],
      "metadata": {
        "id": "79jMN6VCyDgQ"
      },
      "execution_count": 10,
      "outputs": []
    },
    {
      "cell_type": "code",
      "source": [
        "model.fit(X_train3,y_train3)"
      ],
      "metadata": {
        "colab": {
          "base_uri": "https://localhost:8080/"
        },
        "id": "cjOeUVLGyDm8",
        "outputId": "239eea25-75a4-492e-d9fd-b24ae4f38c53"
      },
      "execution_count": 11,
      "outputs": [
        {
          "output_type": "execute_result",
          "data": {
            "text/plain": [
              "RandomForestClassifier(max_depth=12, min_samples_split=4, n_estimators=1000)"
            ]
          },
          "metadata": {},
          "execution_count": 11
        }
      ]
    },
    {
      "cell_type": "code",
      "source": [
        "y_pred3 = model.predict(X_test3)\n",
        "accuracy_score(y_test3,y_pred3)"
      ],
      "metadata": {
        "colab": {
          "base_uri": "https://localhost:8080/"
        },
        "id": "2fgFda-b50Cb",
        "outputId": "d96a4357-3fad-4e63-90b0-e46a973ecb14"
      },
      "execution_count": 12,
      "outputs": [
        {
          "output_type": "execute_result",
          "data": {
            "text/plain": [
              "0.5816199376947041"
            ]
          },
          "metadata": {},
          "execution_count": 12
        }
      ]
    },
    {
      "cell_type": "code",
      "source": [
        "plot_confusion_matrix(model,X_test3,y_test3)"
      ],
      "metadata": {
        "colab": {
          "base_uri": "https://localhost:8080/",
          "height": 357
        },
        "id": "zVJcULTndwzF",
        "outputId": "b4ea5291-ab81-41a5-a50e-2efc7e1a52f5"
      },
      "execution_count": 13,
      "outputs": [
        {
          "output_type": "stream",
          "name": "stderr",
          "text": [
            "/usr/local/lib/python3.7/dist-packages/sklearn/utils/deprecation.py:87: FutureWarning: Function plot_confusion_matrix is deprecated; Function `plot_confusion_matrix` is deprecated in 1.0 and will be removed in 1.2. Use one of the class methods: ConfusionMatrixDisplay.from_predictions or ConfusionMatrixDisplay.from_estimator.\n",
            "  warnings.warn(msg, category=FutureWarning)\n"
          ]
        },
        {
          "output_type": "execute_result",
          "data": {
            "text/plain": [
              "<sklearn.metrics._plot.confusion_matrix.ConfusionMatrixDisplay at 0x7fa12cc11cd0>"
            ]
          },
          "metadata": {},
          "execution_count": 13
        },
        {
          "output_type": "display_data",
          "data": {
            "text/plain": [
              "<Figure size 432x288 with 2 Axes>"
            ],
            "image/png": "[encoded data removed]"
          },
          "metadata": {}
        }
      ]
    },
    {
      "cell_type": "code",
      "source": [
        "#saving pickle\n",
        "#import pickle\n",
        "#filename = 'model_saveeless_calmless_surpriseless.sav'\n",
        "#pickle.dump(model, open(filename, 'wb'))"
      ],
      "metadata": {
        "id": "JJvs3TCf55ev"
      },
      "execution_count": 14,
      "outputs": []
    },
    {
      "cell_type": "markdown",
      "source": [
        "# Model dropping more emotions"
      ],
      "metadata": {
        "id": "g-Mm25h09mV2"
      }
    },
    {
      "cell_type": "code",
      "source": [
        "#df4 = pd.concat([df.iloc[0:1440],df.iloc[1921:]]) #dropping savee\n",
        "df4 = df #without dropping savee\n",
        "df4 = df4[df4['emotion']!='fearful']\n",
        "df4 = df4[df4['emotion']!='disgust']\n",
        "df4 = df4[df4['emotion']!='calm']\n",
        "df4 = df4[df4['emotion']!='surprised']\n",
        "df4['emotion'].value_counts()"
      ],
      "metadata": {
        "colab": {
          "base_uri": "https://localhost:8080/"
        },
        "id": "3QM8hPzf8L31",
        "outputId": "e0e2bd3d-bbf4-4da2-f95e-7bc1b4da0e3b"
      },
      "execution_count": 19,
      "outputs": [
        {
          "output_type": "execute_result",
          "data": {
            "text/plain": [
              "angry      1923\n",
              "happy      1923\n",
              "sad        1723\n",
              "neutral    1703\n",
              "Name: emotion, dtype: int64"
            ]
          },
          "metadata": {},
          "execution_count": 19
        }
      ]
    },
    {
      "cell_type": "code",
      "source": [
        "X4 = df4.drop(columns='emotion')\n",
        "y4= df4['emotion']"
      ],
      "metadata": {
        "id": "oq3Jk1SNgcRh"
      },
      "execution_count": 20,
      "outputs": []
    },
    {
      "cell_type": "code",
      "source": [
        "X_train4, X_test4, y_train4, y_test4 = train_test_split(X4, y4, test_size=0.3, random_state=42)"
      ],
      "metadata": {
        "id": "IIUtSyvYgwiD"
      },
      "execution_count": 21,
      "outputs": []
    },
    {
      "cell_type": "code",
      "source": [
        "model = RandomForestClassifier(max_depth=16,min_samples_split=2,n_estimators=1000)\n",
        "model.fit(X_train4,y_train4)\n",
        "y_pred4 = model.predict(X_test4)\n",
        "accuracy_score(y_test4,y_pred4)"
      ],
      "metadata": {
        "colab": {
          "base_uri": "https://localhost:8080/"
        },
        "id": "okUVpgJvg4xB",
        "outputId": "aae5c9d2-a094-45bd-c222-2236562761e1"
      },
      "execution_count": 22,
      "outputs": [
        {
          "output_type": "execute_result",
          "data": {
            "text/plain": [
              "0.7296058661778185"
            ]
          },
          "metadata": {},
          "execution_count": 22
        }
      ]
    },
    {
      "cell_type": "code",
      "source": [
        "plot_confusion_matrix(model,X_test4,y_test4)"
      ],
      "metadata": {
        "colab": {
          "base_uri": "https://localhost:8080/",
          "height": 357
        },
        "id": "EvRYLX7rhCy1",
        "outputId": "0bc430ce-68eb-42bf-c73f-c7b5d5f8e2ef"
      },
      "execution_count": 23,
      "outputs": [
        {
          "output_type": "stream",
          "name": "stderr",
          "text": [
            "/usr/local/lib/python3.7/dist-packages/sklearn/utils/deprecation.py:87: FutureWarning: Function plot_confusion_matrix is deprecated; Function `plot_confusion_matrix` is deprecated in 1.0 and will be removed in 1.2. Use one of the class methods: ConfusionMatrixDisplay.from_predictions or ConfusionMatrixDisplay.from_estimator.\n",
            "  warnings.warn(msg, category=FutureWarning)\n"
          ]
        },
        {
          "output_type": "execute_result",
          "data": {
            "text/plain": [
              "<sklearn.metrics._plot.confusion_matrix.ConfusionMatrixDisplay at 0x7f7a1158ef50>"
            ]
          },
          "metadata": {},
          "execution_count": 23
        },
        {
          "output_type": "display_data",
          "data": {
            "text/plain": [
              "<Figure size 432x288 with 2 Axes>"
            ],
            "image/png": "[encoded data removed]"
          },
          "metadata": {}
        }
      ]
    },
    {
      "cell_type": "code",
      "source": [
        "#saving pickle\n",
        "import pickle\n",
        "filename = 'model_four_emotions_72,96.sav'\n",
        "pickle.dump(model, open(filename, 'wb'))"
      ],
      "metadata": {
        "id": "k7DxISbbhFrF"
      },
      "execution_count": 24,
      "outputs": []
    },
    {
      "cell_type": "code",
      "source": [
        "#what if we try out conv2d model"
      ],
      "metadata": {
        "id": "1Ljuxw3xlCDf"
      },
      "execution_count": 12,
      "outputs": []
    },
    {
      "cell_type": "markdown",
      "source": [
        "# Conv2d model"
      ],
      "metadata": {
        "id": "s1_eXfqD9vso"
      }
    },
    {
      "cell_type": "code",
      "source": [
        "X4.shape"
      ],
      "metadata": {
        "colab": {
          "base_uri": "https://localhost:8080/"
        },
        "id": "oMc28_Rtlemv",
        "outputId": "06ec9b10-5429-47db-8678-af8f53fa96a8"
      },
      "execution_count": 14,
      "outputs": [
        {
          "output_type": "execute_result",
          "data": {
            "text/plain": [
              "(6971, 16256)"
            ]
          },
          "metadata": {},
          "execution_count": 14
        }
      ]
    },
    {
      "cell_type": "code",
      "source": [
        "X4 = np.array(X4)"
      ],
      "metadata": {
        "id": "gOAv5PZnnamt"
      },
      "execution_count": 13,
      "outputs": []
    },
    {
      "cell_type": "code",
      "source": [
        "X_conv = X4.reshape(X4.shape[0],128,127)\n",
        "X_conv = np.expand_dims(X_conv,axis=3)\n",
        "#y_conv=y4"
      ],
      "metadata": {
        "id": "YwAqG4nklfAj"
      },
      "execution_count": 14,
      "outputs": []
    },
    {
      "cell_type": "code",
      "source": [],
      "metadata": {
        "colab": {
          "base_uri": "https://localhost:8080/"
        },
        "id": "PeeV6jqsoxB6",
        "outputId": "ed7a4f71-ff07-4df0-e09a-80ccd52e384f"
      },
      "execution_count": 32,
      "outputs": [
        {
          "output_type": "execute_result",
          "data": {
            "text/plain": [
              "(6971, 4)"
            ]
          },
          "metadata": {},
          "execution_count": 32
        }
      ]
    },
    {
      "cell_type": "code",
      "source": [
        "encoder = OneHotEncoder()\n",
        "a =encoder.fit_transform(df4[['emotion']])\n",
        "y_conv = a.toarray()\n",
        "y_conv.shape"
      ],
      "metadata": {
        "colab": {
          "base_uri": "https://localhost:8080/"
        },
        "id": "ych_tC2noJum",
        "outputId": "543e7d83-9f03-4cff-c8d8-99517ce30c9e"
      },
      "execution_count": 15,
      "outputs": [
        {
          "output_type": "execute_result",
          "data": {
            "text/plain": [
              "(6971, 4)"
            ]
          },
          "metadata": {},
          "execution_count": 15
        }
      ]
    },
    {
      "cell_type": "code",
      "source": [
        "X_train5, X_test5, y_train5, y_test5 = train_test_split(X_conv, y_conv, test_size=0.3, random_state=42)"
      ],
      "metadata": {
        "id": "gqyvuLvxnFYp"
      },
      "execution_count": 16,
      "outputs": []
    },
    {
      "cell_type": "code",
      "source": [
        "X_train5.shape"
      ],
      "metadata": {
        "colab": {
          "base_uri": "https://localhost:8080/"
        },
        "id": "ZvH4DXVNni2Y",
        "outputId": "b9752c47-3830-43a6-b9ff-e8f09031ac91"
      },
      "execution_count": 17,
      "outputs": [
        {
          "output_type": "execute_result",
          "data": {
            "text/plain": [
              "(4879, 128, 127, 1)"
            ]
          },
          "metadata": {},
          "execution_count": 17
        }
      ]
    },
    {
      "cell_type": "code",
      "source": [
        "y_conv.shape"
      ],
      "metadata": {
        "colab": {
          "base_uri": "https://localhost:8080/"
        },
        "id": "SEI94kZyn3sp",
        "outputId": "0a4e569a-7ebf-40c7-f43c-9f7868fe6684"
      },
      "execution_count": 18,
      "outputs": [
        {
          "output_type": "execute_result",
          "data": {
            "text/plain": [
              "(6971, 4)"
            ]
          },
          "metadata": {},
          "execution_count": 18
        }
      ]
    },
    {
      "cell_type": "code",
      "source": [
        "from tensorflow.keras.models import Sequential\n",
        "from tensorflow.keras.layers import Conv2D, Dense, Flatten,MaxPool2D,Dropout\n",
        "\n",
        "model = Sequential()\n",
        "model.add(Conv2D(16, (3,3), activation='relu', input_shape=(128, 127, 1)))\n",
        "model.add(MaxPool2D(pool_size=(2,2)))\n",
        "model.add(Conv2D(12, (3,3), activation='relu'))\n",
        "model.add(MaxPool2D(pool_size=(2,2)))\n",
        "model.add(Conv2D(8, (3,3), activation='relu'))\n",
        "model.add(MaxPool2D(pool_size=(2,2)))\n",
        "model.add(Conv2D(4, (3,3), activation='relu'))\n",
        "model.add(MaxPool2D(pool_size=(2,2)))\n",
        "model.add(Flatten())\n",
        "#model.add(Dense(16, activation='relu'))\n",
        "#model.add(Dense(8, activation='relu'))\n",
        "#model.add(Dense(8, activation='relu'))\n",
        "model.add(Dense(4, activation='softmax'))"
      ],
      "metadata": {
        "id": "IpnHPtAblfKR"
      },
      "execution_count": 94,
      "outputs": []
    },
    {
      "cell_type": "code",
      "source": [
        "model.compile(optimizer='Adam', loss='CategoricalCrossentropy', metrics=['accuracy'])"
      ],
      "metadata": {
        "id": "GskxAuv5lfPK"
      },
      "execution_count": 95,
      "outputs": []
    },
    {
      "cell_type": "code",
      "source": [
        "from tensorflow.keras.callbacks import EarlyStopping\n",
        "\n",
        "es = EarlyStopping(patience=5,restore_best_weights=True)\n",
        "\n",
        "model.fit(X_train5,\n",
        "          y_train5,validation_split=0.3,epochs=50,batch_size=32,callbacks=[es])\n"
      ],
      "metadata": {
        "colab": {
          "base_uri": "https://localhost:8080/"
        },
        "id": "FPCa-2Wemt_0",
        "outputId": "72ac5fb9-f231-4650-a26b-dc8c30393a33"
      },
      "execution_count": 96,
      "outputs": [
        {
          "output_type": "stream",
          "name": "stdout",
          "text": [
            "Epoch 1/50\n",
            "107/107 [==============================] - 2s 15ms/step - loss: 1.9330 - accuracy: 0.3625 - val_loss: 1.2846 - val_accuracy: 0.4686\n",
            "Epoch 2/50\n",
            "107/107 [==============================] - 1s 12ms/step - loss: 1.2510 - accuracy: 0.4899 - val_loss: 1.2682 - val_accuracy: 0.4768\n",
            "Epoch 3/50\n",
            "107/107 [==============================] - 1s 12ms/step - loss: 1.1784 - accuracy: 0.4878 - val_loss: 1.2181 - val_accuracy: 0.4570\n",
            "Epoch 4/50\n",
            "107/107 [==============================] - 1s 11ms/step - loss: 1.1227 - accuracy: 0.4823 - val_loss: 1.1665 - val_accuracy: 0.4932\n",
            "Epoch 5/50\n",
            "107/107 [==============================] - 1s 12ms/step - loss: 1.0910 - accuracy: 0.5019 - val_loss: 1.1663 - val_accuracy: 0.4781\n",
            "Epoch 6/50\n",
            "107/107 [==============================] - 1s 12ms/step - loss: 1.0633 - accuracy: 0.5151 - val_loss: 1.1982 - val_accuracy: 0.4713\n",
            "Epoch 7/50\n",
            "107/107 [==============================] - 1s 10ms/step - loss: 1.0425 - accuracy: 0.5271 - val_loss: 1.2023 - val_accuracy: 0.4761\n",
            "Epoch 8/50\n",
            "107/107 [==============================] - 1s 11ms/step - loss: 1.0404 - accuracy: 0.5274 - val_loss: 1.1782 - val_accuracy: 0.5143\n",
            "Epoch 9/50\n",
            "107/107 [==============================] - 1s 12ms/step - loss: 1.0144 - accuracy: 0.5476 - val_loss: 1.1502 - val_accuracy: 0.5478\n",
            "Epoch 10/50\n",
            "107/107 [==============================] - 1s 12ms/step - loss: 1.0015 - accuracy: 0.5608 - val_loss: 1.1438 - val_accuracy: 0.5471\n",
            "Epoch 11/50\n",
            "107/107 [==============================] - 1s 12ms/step - loss: 0.9739 - accuracy: 0.5780 - val_loss: 1.1408 - val_accuracy: 0.5020\n",
            "Epoch 12/50\n",
            "107/107 [==============================] - 1s 11ms/step - loss: 0.9566 - accuracy: 0.5827 - val_loss: 1.1987 - val_accuracy: 0.4993\n",
            "Epoch 13/50\n",
            "107/107 [==============================] - 1s 12ms/step - loss: 0.9743 - accuracy: 0.5654 - val_loss: 1.1925 - val_accuracy: 0.5178\n",
            "Epoch 14/50\n",
            "107/107 [==============================] - 1s 10ms/step - loss: 0.9440 - accuracy: 0.5766 - val_loss: 1.1444 - val_accuracy: 0.5587\n",
            "Epoch 15/50\n",
            "107/107 [==============================] - 1s 11ms/step - loss: 0.9324 - accuracy: 0.5906 - val_loss: 1.1349 - val_accuracy: 0.5423\n",
            "Epoch 16/50\n",
            "107/107 [==============================] - 1s 12ms/step - loss: 0.9144 - accuracy: 0.5991 - val_loss: 1.1402 - val_accuracy: 0.5458\n",
            "Epoch 17/50\n",
            "107/107 [==============================] - 1s 11ms/step - loss: 0.9018 - accuracy: 0.6026 - val_loss: 1.1289 - val_accuracy: 0.5765\n",
            "Epoch 18/50\n",
            "107/107 [==============================] - 1s 11ms/step - loss: 0.8889 - accuracy: 0.6135 - val_loss: 1.1149 - val_accuracy: 0.5779\n",
            "Epoch 19/50\n",
            "107/107 [==============================] - 1s 12ms/step - loss: 0.8695 - accuracy: 0.6252 - val_loss: 1.1900 - val_accuracy: 0.5827\n",
            "Epoch 20/50\n",
            "107/107 [==============================] - 1s 11ms/step - loss: 0.8887 - accuracy: 0.6187 - val_loss: 1.1185 - val_accuracy: 0.5642\n",
            "Epoch 21/50\n",
            "107/107 [==============================] - 1s 10ms/step - loss: 0.8813 - accuracy: 0.6223 - val_loss: 1.1894 - val_accuracy: 0.5710\n",
            "Epoch 22/50\n",
            "107/107 [==============================] - 1s 11ms/step - loss: 0.8681 - accuracy: 0.6290 - val_loss: 1.1590 - val_accuracy: 0.5840\n",
            "Epoch 23/50\n",
            "107/107 [==============================] - 1s 12ms/step - loss: 0.8629 - accuracy: 0.6234 - val_loss: 1.0959 - val_accuracy: 0.5949\n",
            "Epoch 24/50\n",
            "107/107 [==============================] - 1s 10ms/step - loss: 0.8242 - accuracy: 0.6413 - val_loss: 1.0832 - val_accuracy: 0.5929\n",
            "Epoch 25/50\n",
            "107/107 [==============================] - 1s 11ms/step - loss: 0.8152 - accuracy: 0.6460 - val_loss: 1.0817 - val_accuracy: 0.5922\n",
            "Epoch 26/50\n",
            "107/107 [==============================] - 1s 12ms/step - loss: 0.8547 - accuracy: 0.6346 - val_loss: 1.0795 - val_accuracy: 0.5683\n",
            "Epoch 27/50\n",
            "107/107 [==============================] - 1s 13ms/step - loss: 0.8057 - accuracy: 0.6495 - val_loss: 1.0855 - val_accuracy: 0.6011\n",
            "Epoch 28/50\n",
            "107/107 [==============================] - 2s 16ms/step - loss: 0.8329 - accuracy: 0.6524 - val_loss: 1.1326 - val_accuracy: 0.5929\n",
            "Epoch 29/50\n",
            "107/107 [==============================] - 2s 16ms/step - loss: 0.7969 - accuracy: 0.6594 - val_loss: 1.1015 - val_accuracy: 0.6127\n",
            "Epoch 30/50\n",
            "107/107 [==============================] - 1s 12ms/step - loss: 0.7823 - accuracy: 0.6717 - val_loss: 1.1938 - val_accuracy: 0.6086\n",
            "Epoch 31/50\n",
            "107/107 [==============================] - 1s 12ms/step - loss: 0.8473 - accuracy: 0.6580 - val_loss: 1.0675 - val_accuracy: 0.6120\n",
            "Epoch 32/50\n",
            "107/107 [==============================] - 1s 11ms/step - loss: 0.8010 - accuracy: 0.6653 - val_loss: 1.0821 - val_accuracy: 0.5949\n",
            "Epoch 33/50\n",
            "107/107 [==============================] - 1s 11ms/step - loss: 0.7648 - accuracy: 0.6817 - val_loss: 1.1139 - val_accuracy: 0.6230\n",
            "Epoch 34/50\n",
            "107/107 [==============================] - 1s 12ms/step - loss: 0.7552 - accuracy: 0.6934 - val_loss: 1.1460 - val_accuracy: 0.6230\n",
            "Epoch 35/50\n",
            "107/107 [==============================] - 1s 12ms/step - loss: 0.7675 - accuracy: 0.6887 - val_loss: 1.1321 - val_accuracy: 0.6393\n",
            "Epoch 36/50\n",
            "107/107 [==============================] - 1s 12ms/step - loss: 0.7382 - accuracy: 0.7031 - val_loss: 1.2560 - val_accuracy: 0.6346\n"
          ]
        },
        {
          "output_type": "execute_result",
          "data": {
            "text/plain": [
              "<keras.callbacks.History at 0x7f82ab6296d0>"
            ]
          },
          "metadata": {},
          "execution_count": 96
        }
      ]
    },
    {
      "cell_type": "code",
      "source": [
        "y_pred5 = model.predict(X_test5)\n",
        "#y_pred5[1]"
      ],
      "metadata": {
        "colab": {
          "base_uri": "https://localhost:8080/"
        },
        "id": "KxQFrW9PlfSO",
        "outputId": "f4da488e-a6e2-4e20-938d-38d6bcd10673"
      },
      "execution_count": 97,
      "outputs": [
        {
          "output_type": "stream",
          "name": "stdout",
          "text": [
            "66/66 [==============================] - 0s 4ms/step\n"
          ]
        }
      ]
    },
    {
      "cell_type": "code",
      "source": [],
      "metadata": {
        "id": "Bt0RWunQqrzq"
      },
      "execution_count": 97,
      "outputs": []
    },
    {
      "cell_type": "code",
      "source": [
        "y_pred_final =[]\n",
        "for pred in y_pred5:\n",
        "  if pred[0]>pred[1] and pred[0]>pred[2] and pred[0]>pred[3]:\n",
        "    y_pred_final.append(np.array([1.,0.,0.,0.]))\n",
        "  elif pred[1]>pred[2] and pred[1]>pred[3]:\n",
        "    y_pred_final.append(np.array([0.,1.,0.,0.]))\n",
        "  elif pred[2]>pred[3]:\n",
        "    y_pred_final.append(np.array([0.,0.,1.,0.]))\n",
        "  else:\n",
        "    y_pred_final.append(np.array([0.,0.,0.,1.]))"
      ],
      "metadata": {
        "id": "yvm3NaYWlfUy"
      },
      "execution_count": 98,
      "outputs": []
    },
    {
      "cell_type": "code",
      "source": [
        "#y_pred_final"
      ],
      "metadata": {
        "id": "7GDBfA7WseZP"
      },
      "execution_count": 99,
      "outputs": []
    },
    {
      "cell_type": "code",
      "source": [
        "accuracy_score(y_test5,y_pred_final)"
      ],
      "metadata": {
        "colab": {
          "base_uri": "https://localhost:8080/"
        },
        "id": "I5XVRqv4lfX1",
        "outputId": "e7b1c6a8-3ae3-4e76-85bb-6a26d128e116"
      },
      "execution_count": 100,
      "outputs": [
        {
          "output_type": "execute_result",
          "data": {
            "text/plain": [
              "0.6147227533460803"
            ]
          },
          "metadata": {},
          "execution_count": 100
        }
      ]
    },
    {
      "cell_type": "code",
      "source": [],
      "metadata": {
        "id": "hkRWvYzalfaf"
      },
      "execution_count": null,
      "outputs": []
    },
    {
      "cell_type": "code",
      "source": [],
      "metadata": {
        "id": "_t1p_-CulfdC"
      },
      "execution_count": null,
      "outputs": []
    }
  ]
}