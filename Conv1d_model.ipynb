{
 "cells": [
  {
   "cell_type": "code",
   "execution_count": 49,
   "id": "16f28cc8",
   "metadata": {},
   "outputs": [],
   "source": [
    "import pandas as pd\n",
    "import numpy as np\n",
    "from sklearn.preprocessing import MinMaxScaler\n",
    "from sklearn.metrics import accuracy_score\n",
    "from sklearn.model_selection import train_test_split\n",
    "from tensorflow.keras.preprocessing.sequence import pad_sequences\n",
    "from tensorflow.keras import layers\n",
    "from tensorflow.keras import models\n",
    "from tensorflow.keras.callbacks import EarlyStopping\n",
    "from sklearn.preprocessing import LabelEncoder\n",
    "from keras.utils import np_utils, to_categorical"
   ]
  },
  {
   "cell_type": "code",
   "execution_count": 2,
   "id": "26a6c69b",
   "metadata": {},
   "outputs": [],
   "source": [
    "df = pd.read_csv(\"database_mscc.csv\")"
   ]
  },
  {
   "cell_type": "code",
   "execution_count": 3,
   "id": "5970ecc2",
   "metadata": {},
   "outputs": [],
   "source": [
    "df.drop(columns = \"Unnamed: 0\", inplace=True)"
   ]
  },
  {
   "cell_type": "code",
   "execution_count": 4,
   "id": "968bbde2",
   "metadata": {},
   "outputs": [
    {
     "name": "stderr",
     "output_type": "stream",
     "text": [
      "/tmp/ipykernel_17276/4108488883.py:2: SettingWithCopyWarning: \n",
      "A value is trying to be set on a copy of a slice from a DataFrame\n",
      "\n",
      "See the caveats in the documentation: https://pandas.pydata.org/pandas-docs/stable/user_guide/indexing.html#returning-a-view-versus-a-copy\n",
      "  df[\"y\"][row] = df[\"y\"][row][7:]\n"
     ]
    }
   ],
   "source": [
    "for row in np.arange(0,df.shape[0]):\n",
    "    df[\"y\"][row] = df[\"y\"][row][7:]"
   ]
  },
  {
   "cell_type": "code",
   "execution_count": 5,
   "id": "2f121017",
   "metadata": {},
   "outputs": [
    {
     "data": {
      "text/plain": [
       "y         0\n",
       "0         0\n",
       "1         0\n",
       "2         0\n",
       "3         0\n",
       "       ... \n",
       "224    1439\n",
       "225    1439\n",
       "226    1439\n",
       "227    1439\n",
       "228    1440\n",
       "Length: 230, dtype: int64"
      ]
     },
     "execution_count": 5,
     "metadata": {},
     "output_type": "execute_result"
    }
   ],
   "source": [
    "df.isna().sum()"
   ]
  },
  {
   "cell_type": "code",
   "execution_count": 6,
   "id": "eca5668c",
   "metadata": {},
   "outputs": [],
   "source": [
    "df = df.fillna(0)"
   ]
  },
  {
   "cell_type": "code",
   "execution_count": 11,
   "id": "23b264bc",
   "metadata": {},
   "outputs": [
    {
     "data": {
      "text/plain": [
       "0     surprised\n",
       "1       fearful\n",
       "2       disgust\n",
       "14        happy\n",
       "15         calm\n",
       "18      neutral\n",
       "34          sad\n",
       "35        angry\n",
       "Name: y, dtype: object"
      ]
     },
     "execution_count": 11,
     "metadata": {},
     "output_type": "execute_result"
    }
   ],
   "source": [
    "df[\"y\"].drop_duplicates()"
   ]
  },
  {
   "cell_type": "code",
   "execution_count": 40,
   "id": "199b76cd",
   "metadata": {},
   "outputs": [],
   "source": [
    "y = df[\"y\"]\n",
    "X = df.drop(columns=\"y\")"
   ]
  },
  {
   "cell_type": "code",
   "execution_count": 41,
   "id": "42ae63f0",
   "metadata": {},
   "outputs": [],
   "source": [
    "X_train, X_test, y_train, y_test = train_test_split(X, y, test_size=0.30, random_state=1405, stratify=y)"
   ]
  },
  {
   "cell_type": "code",
   "execution_count": 42,
   "id": "f5c4b676",
   "metadata": {},
   "outputs": [],
   "source": [
    "lb = LabelEncoder()\n",
    "y_train_cat = np_utils.to_categorical(lb.fit_transform(y_train))\n",
    "y_test_cat = np_utils.to_categorical(lb.fit_transform(y_test))"
   ]
  },
  {
   "cell_type": "code",
   "execution_count": 43,
   "id": "35c7dd15",
   "metadata": {},
   "outputs": [],
   "source": [
    "scaler = MinMaxScaler()\n",
    "scaler.fit(X_train)\n",
    "X_train_scaled = scaler.transform(X_train)\n",
    "X_test_scaled = scaler.transform(X_test)"
   ]
  },
  {
   "cell_type": "code",
   "execution_count": 44,
   "id": "fe482984",
   "metadata": {},
   "outputs": [],
   "source": [
    "X_train_scaled_array = np.array(X_train_scaled)\n",
    "X_test_scaled_array = np.array(X_test_scaled)\n",
    "y_train_array = np.array(y_train_cat)\n",
    "y_test_array = np.array(y_test_cat)"
   ]
  },
  {
   "cell_type": "code",
   "execution_count": 45,
   "id": "5cef30f9",
   "metadata": {},
   "outputs": [],
   "source": [
    "X_train_expanded_dims = np.expand_dims(X_train_scaled_array, axis=2)\n",
    "X_test_expanded_dims = np.expand_dims(X_test_scaled_array, axis=2)"
   ]
  },
  {
   "cell_type": "code",
   "execution_count": 85,
   "id": "415aa053",
   "metadata": {},
   "outputs": [],
   "source": [
    "model = models.Sequential()\n",
    "model.add(layers.Conv1D(256, 8, padding=\"same\", input_shape=(X_train_expanded_dims.shape[1],1), activation = \"tanh\"))\n",
    "model.add(layers.Conv1D(256, 8, padding='same', activation = \"relu\"))\n",
    "# model.add(layers.BatchNormalization())\n",
    "model.add(layers.Dropout(0.25))\n",
    "model.add(layers.MaxPooling1D(pool_size=(8)))\n",
    "model.add(layers.Conv1D(128, 8, padding='same', activation = \"relu\"))\n",
    "model.add(layers.Conv1D(128, 8, padding='same', activation = \"relu\"))\n",
    "model.add(layers.Conv1D(128, 8, padding='same', activation = \"relu\"))\n",
    "model.add(layers.Conv1D(128, 8, padding='same', activation = \"relu\"))\n",
    "# model.add(layers.BatchNormalization())\n",
    "model.add(layers.Dropout(0.25))\n",
    "model.add(layers.MaxPooling1D(pool_size=(8)))\n",
    "model.add(layers.Conv1D(64, 8, padding='same', activation = \"relu\"))\n",
    "model.add(layers.Conv1D(64, 8, padding='same', activation = \"relu\"))\n",
    "model.add(layers.Flatten())\n",
    "model.add(layers.Dense(8, activation = \"softmax\"))\n",
    "model.compile(loss=\"categorical_crossentropy\", optimizer=\"adam\", metrics=[\"accuracy\"])"
   ]
  },
  {
   "cell_type": "code",
   "execution_count": 82,
   "id": "ec3a5f72",
   "metadata": {},
   "outputs": [
    {
     "name": "stdout",
     "output_type": "stream",
     "text": [
      "Model: \"sequential_9\"\n",
      "_________________________________________________________________\n",
      " Layer (type)                Output Shape              Param #   \n",
      "=================================================================\n",
      " conv1d_64 (Conv1D)          (None, 230, 256)          2304      \n",
      "                                                                 \n",
      " conv1d_65 (Conv1D)          (None, 230, 256)          524544    \n",
      "                                                                 \n",
      " dropout_16 (Dropout)        (None, 230, 256)          0         \n",
      "                                                                 \n",
      " max_pooling1d_16 (MaxPoolin  (None, 28, 256)          0         \n",
      " g1D)                                                            \n",
      "                                                                 \n",
      " conv1d_66 (Conv1D)          (None, 28, 128)           262272    \n",
      "                                                                 \n",
      " conv1d_67 (Conv1D)          (None, 28, 128)           131200    \n",
      "                                                                 \n",
      " conv1d_68 (Conv1D)          (None, 28, 128)           131200    \n",
      "                                                                 \n",
      " conv1d_69 (Conv1D)          (None, 28, 128)           131200    \n",
      "                                                                 \n",
      " dropout_17 (Dropout)        (None, 28, 128)           0         \n",
      "                                                                 \n",
      " max_pooling1d_17 (MaxPoolin  (None, 3, 128)           0         \n",
      " g1D)                                                            \n",
      "                                                                 \n",
      " conv1d_70 (Conv1D)          (None, 3, 64)             65600     \n",
      "                                                                 \n",
      " conv1d_71 (Conv1D)          (None, 3, 64)             32832     \n",
      "                                                                 \n",
      " flatten_8 (Flatten)         (None, 192)               0         \n",
      "                                                                 \n",
      " dense_8 (Dense)             (None, 8)                 1544      \n",
      "                                                                 \n",
      "=================================================================\n",
      "Total params: 1,282,696\n",
      "Trainable params: 1,282,696\n",
      "Non-trainable params: 0\n",
      "_________________________________________________________________\n"
     ]
    }
   ],
   "source": [
    "model.summary()"
   ]
  },
  {
   "cell_type": "code",
   "execution_count": 86,
   "id": "85c2329a",
   "metadata": {},
   "outputs": [
    {
     "name": "stdout",
     "output_type": "stream",
     "text": [
      "Epoch 1/500\n",
      "23/23 [==============================] - 14s 319ms/step - loss: 2.0695 - accuracy: 0.1348 - val_loss: 2.0735 - val_accuracy: 0.1089\n",
      "Epoch 2/500\n",
      "23/23 [==============================] - 6s 251ms/step - loss: 2.0557 - accuracy: 0.1589 - val_loss: 2.0391 - val_accuracy: 0.1617\n",
      "Epoch 3/500\n",
      "23/23 [==============================] - 6s 254ms/step - loss: 2.0048 - accuracy: 0.1986 - val_loss: 1.9707 - val_accuracy: 0.2508\n",
      "Epoch 4/500\n",
      "23/23 [==============================] - 6s 242ms/step - loss: 1.9553 - accuracy: 0.2170 - val_loss: 1.8925 - val_accuracy: 0.2475\n",
      "Epoch 5/500\n",
      "23/23 [==============================] - 5s 239ms/step - loss: 1.8767 - accuracy: 0.2752 - val_loss: 1.8560 - val_accuracy: 0.2442\n",
      "Epoch 6/500\n",
      "23/23 [==============================] - 7s 310ms/step - loss: 1.8480 - accuracy: 0.2610 - val_loss: 1.8403 - val_accuracy: 0.2805\n",
      "Epoch 7/500\n",
      "23/23 [==============================] - 7s 292ms/step - loss: 1.8797 - accuracy: 0.2752 - val_loss: 1.8854 - val_accuracy: 0.2442\n",
      "Epoch 8/500\n",
      "23/23 [==============================] - 6s 263ms/step - loss: 1.8696 - accuracy: 0.2454 - val_loss: 1.8561 - val_accuracy: 0.3036\n",
      "Epoch 9/500\n",
      "23/23 [==============================] - 6s 254ms/step - loss: 1.8098 - accuracy: 0.2809 - val_loss: 1.8404 - val_accuracy: 0.2904\n",
      "Epoch 10/500\n",
      "23/23 [==============================] - 6s 260ms/step - loss: 1.8240 - accuracy: 0.2908 - val_loss: 1.9413 - val_accuracy: 0.2442\n",
      "Epoch 11/500\n",
      "23/23 [==============================] - 6s 247ms/step - loss: 1.9641 - accuracy: 0.2369 - val_loss: 1.9670 - val_accuracy: 0.2244\n",
      "Epoch 12/500\n",
      "23/23 [==============================] - 6s 244ms/step - loss: 1.9009 - accuracy: 0.2553 - val_loss: 1.9471 - val_accuracy: 0.2871\n",
      "Epoch 13/500\n",
      "23/23 [==============================] - 6s 278ms/step - loss: 1.8173 - accuracy: 0.2879 - val_loss: 1.8726 - val_accuracy: 0.2871\n",
      "Epoch 14/500\n",
      "23/23 [==============================] - 6s 253ms/step - loss: 1.8807 - accuracy: 0.2567 - val_loss: 1.9013 - val_accuracy: 0.2343\n",
      "Epoch 15/500\n",
      "23/23 [==============================] - 6s 247ms/step - loss: 1.8286 - accuracy: 0.2922 - val_loss: 1.8010 - val_accuracy: 0.3036\n",
      "Epoch 16/500\n",
      "23/23 [==============================] - 6s 256ms/step - loss: 1.7951 - accuracy: 0.2809 - val_loss: 1.8916 - val_accuracy: 0.2904\n",
      "Epoch 17/500\n",
      "23/23 [==============================] - 6s 257ms/step - loss: 1.7965 - accuracy: 0.2766 - val_loss: 1.8557 - val_accuracy: 0.2640\n",
      "Epoch 18/500\n",
      "23/23 [==============================] - 6s 244ms/step - loss: 1.7605 - accuracy: 0.3021 - val_loss: 1.8113 - val_accuracy: 0.2409\n",
      "Epoch 19/500\n",
      "23/23 [==============================] - 6s 269ms/step - loss: 1.7380 - accuracy: 0.3092 - val_loss: 1.8046 - val_accuracy: 0.2475\n",
      "Epoch 20/500\n",
      "23/23 [==============================] - 6s 260ms/step - loss: 1.7205 - accuracy: 0.3319 - val_loss: 1.8244 - val_accuracy: 0.3135\n",
      "Epoch 21/500\n",
      "23/23 [==============================] - 6s 245ms/step - loss: 1.7767 - accuracy: 0.2809 - val_loss: 1.7943 - val_accuracy: 0.2442\n",
      "Epoch 22/500\n",
      "23/23 [==============================] - 6s 278ms/step - loss: 1.7620 - accuracy: 0.3092 - val_loss: 1.7907 - val_accuracy: 0.2937\n",
      "Epoch 23/500\n",
      "23/23 [==============================] - 6s 250ms/step - loss: 1.7171 - accuracy: 0.3348 - val_loss: 1.7957 - val_accuracy: 0.2937\n",
      "Epoch 24/500\n",
      "23/23 [==============================] - 6s 245ms/step - loss: 1.8761 - accuracy: 0.2426 - val_loss: 1.7567 - val_accuracy: 0.3300\n",
      "Epoch 25/500\n",
      "23/23 [==============================] - 6s 244ms/step - loss: 1.6944 - accuracy: 0.3092 - val_loss: 1.7268 - val_accuracy: 0.3003\n",
      "Epoch 26/500\n",
      "23/23 [==============================] - 6s 254ms/step - loss: 1.6416 - accuracy: 0.3532 - val_loss: 1.7476 - val_accuracy: 0.3102\n",
      "Epoch 27/500\n",
      "23/23 [==============================] - 6s 263ms/step - loss: 1.7152 - accuracy: 0.3163 - val_loss: 1.7650 - val_accuracy: 0.3069\n",
      "Epoch 28/500\n",
      "23/23 [==============================] - 6s 250ms/step - loss: 1.6892 - accuracy: 0.3277 - val_loss: 1.7222 - val_accuracy: 0.2904\n",
      "Epoch 29/500\n",
      "23/23 [==============================] - 6s 253ms/step - loss: 1.5824 - accuracy: 0.3858 - val_loss: 1.6869 - val_accuracy: 0.3465\n",
      "Epoch 30/500\n",
      "23/23 [==============================] - 6s 264ms/step - loss: 1.7099 - accuracy: 0.3305 - val_loss: 1.6836 - val_accuracy: 0.3366\n",
      "Epoch 31/500\n",
      "23/23 [==============================] - 6s 248ms/step - loss: 1.6265 - accuracy: 0.3631 - val_loss: 1.6036 - val_accuracy: 0.4191\n",
      "Epoch 32/500\n",
      "23/23 [==============================] - 6s 260ms/step - loss: 1.5291 - accuracy: 0.3901 - val_loss: 1.5238 - val_accuracy: 0.4455\n",
      "Epoch 33/500\n",
      "23/23 [==============================] - 6s 248ms/step - loss: 1.3962 - accuracy: 0.4397 - val_loss: 1.1915 - val_accuracy: 0.5215\n",
      "Epoch 34/500\n",
      "23/23 [==============================] - 6s 263ms/step - loss: 1.1096 - accuracy: 0.5461 - val_loss: 1.0856 - val_accuracy: 0.5644\n",
      "Epoch 35/500\n",
      "23/23 [==============================] - 6s 251ms/step - loss: 0.9086 - accuracy: 0.6199 - val_loss: 1.0590 - val_accuracy: 0.5743\n",
      "Epoch 36/500\n",
      "23/23 [==============================] - 6s 281ms/step - loss: 1.0768 - accuracy: 0.5660 - val_loss: 0.9911 - val_accuracy: 0.6172\n",
      "Epoch 37/500\n",
      "23/23 [==============================] - 6s 258ms/step - loss: 0.7798 - accuracy: 0.6794 - val_loss: 0.9146 - val_accuracy: 0.5347\n",
      "Epoch 38/500\n",
      "23/23 [==============================] - 6s 257ms/step - loss: 0.8789 - accuracy: 0.6241 - val_loss: 0.8541 - val_accuracy: 0.6634\n",
      "Epoch 39/500\n",
      "23/23 [==============================] - 6s 251ms/step - loss: 0.7308 - accuracy: 0.6837 - val_loss: 0.8370 - val_accuracy: 0.6139\n",
      "Epoch 40/500\n",
      "23/23 [==============================] - 5s 236ms/step - loss: 0.5869 - accuracy: 0.7631 - val_loss: 0.6188 - val_accuracy: 0.7129\n",
      "Epoch 41/500\n",
      "23/23 [==============================] - 5s 239ms/step - loss: 0.6641 - accuracy: 0.7504 - val_loss: 0.7441 - val_accuracy: 0.6766\n",
      "Epoch 42/500\n",
      "23/23 [==============================] - 6s 246ms/step - loss: 0.5263 - accuracy: 0.7702 - val_loss: 0.6072 - val_accuracy: 0.7162\n",
      "Epoch 43/500\n",
      "23/23 [==============================] - 6s 256ms/step - loss: 0.5382 - accuracy: 0.7773 - val_loss: 0.4873 - val_accuracy: 0.8878\n",
      "Epoch 44/500\n",
      "23/23 [==============================] - 6s 244ms/step - loss: 0.7656 - accuracy: 0.7177 - val_loss: 0.6947 - val_accuracy: 0.7624\n",
      "Epoch 45/500\n",
      "23/23 [==============================] - 6s 249ms/step - loss: 0.8162 - accuracy: 0.6652 - val_loss: 0.6973 - val_accuracy: 0.6997\n",
      "Epoch 46/500\n",
      "23/23 [==============================] - 6s 259ms/step - loss: 0.7865 - accuracy: 0.6610 - val_loss: 0.7924 - val_accuracy: 0.7195\n",
      "Epoch 47/500\n",
      "23/23 [==============================] - 6s 250ms/step - loss: 0.6326 - accuracy: 0.7418 - val_loss: 0.5405 - val_accuracy: 0.8416\n",
      "Epoch 48/500\n",
      "23/23 [==============================] - 6s 248ms/step - loss: 0.3674 - accuracy: 0.8440 - val_loss: 0.9685 - val_accuracy: 0.5743\n",
      "Epoch 49/500\n",
      "23/23 [==============================] - 6s 247ms/step - loss: 0.5374 - accuracy: 0.7773 - val_loss: 0.5106 - val_accuracy: 0.7888\n",
      "Epoch 50/500\n",
      "23/23 [==============================] - 7s 285ms/step - loss: 0.2909 - accuracy: 0.8894 - val_loss: 0.3119 - val_accuracy: 0.9241\n",
      "Epoch 51/500\n",
      "23/23 [==============================] - 6s 271ms/step - loss: 0.2413 - accuracy: 0.8993 - val_loss: 0.3128 - val_accuracy: 0.9274\n",
      "Epoch 52/500\n",
      "23/23 [==============================] - 7s 286ms/step - loss: 0.2808 - accuracy: 0.8950 - val_loss: 0.3542 - val_accuracy: 0.8284\n",
      "Epoch 53/500\n",
      "23/23 [==============================] - 6s 263ms/step - loss: 0.2384 - accuracy: 0.9035 - val_loss: 0.1976 - val_accuracy: 0.9637\n",
      "Epoch 54/500\n",
      "23/23 [==============================] - 6s 261ms/step - loss: 0.1983 - accuracy: 0.9234 - val_loss: 0.5765 - val_accuracy: 0.7558\n",
      "Epoch 55/500\n",
      "23/23 [==============================] - 6s 266ms/step - loss: 0.2438 - accuracy: 0.9021 - val_loss: 0.2951 - val_accuracy: 0.9175\n",
      "Epoch 56/500\n",
      "23/23 [==============================] - 6s 255ms/step - loss: 0.2937 - accuracy: 0.8851 - val_loss: 0.2230 - val_accuracy: 0.9736\n",
      "Epoch 57/500\n",
      "23/23 [==============================] - 6s 278ms/step - loss: 0.1711 - accuracy: 0.9404 - val_loss: 0.1437 - val_accuracy: 0.9802\n"
     ]
    },
    {
     "name": "stdout",
     "output_type": "stream",
     "text": [
      "Epoch 58/500\n",
      "23/23 [==============================] - 6s 262ms/step - loss: 0.2472 - accuracy: 0.9035 - val_loss: 0.1932 - val_accuracy: 0.9538\n",
      "Epoch 59/500\n",
      "23/23 [==============================] - 6s 257ms/step - loss: 0.1723 - accuracy: 0.9404 - val_loss: 0.1706 - val_accuracy: 0.9637\n",
      "Epoch 60/500\n",
      "23/23 [==============================] - 6s 254ms/step - loss: 0.2013 - accuracy: 0.9191 - val_loss: 0.7225 - val_accuracy: 0.6634\n",
      "Epoch 61/500\n",
      "23/23 [==============================] - 6s 250ms/step - loss: 0.4686 - accuracy: 0.8227 - val_loss: 0.3342 - val_accuracy: 0.9307\n",
      "Epoch 62/500\n",
      "23/23 [==============================] - 6s 253ms/step - loss: 0.1643 - accuracy: 0.9489 - val_loss: 0.2938 - val_accuracy: 0.9076\n",
      "Epoch 63/500\n",
      "23/23 [==============================] - 6s 257ms/step - loss: 0.3419 - accuracy: 0.8667 - val_loss: 0.7847 - val_accuracy: 0.6304\n",
      "Epoch 64/500\n",
      "23/23 [==============================] - 6s 261ms/step - loss: 0.8884 - accuracy: 0.7121 - val_loss: 0.6056 - val_accuracy: 0.8185\n",
      "Epoch 65/500\n",
      "23/23 [==============================] - 6s 241ms/step - loss: 0.2981 - accuracy: 0.9078 - val_loss: 0.4250 - val_accuracy: 0.8548\n",
      "Epoch 66/500\n",
      "23/23 [==============================] - 6s 245ms/step - loss: 0.2952 - accuracy: 0.8837 - val_loss: 0.3147 - val_accuracy: 0.9076\n",
      "Epoch 67/500\n",
      "23/23 [==============================] - 6s 255ms/step - loss: 0.1771 - accuracy: 0.9461 - val_loss: 0.2357 - val_accuracy: 0.9274\n"
     ]
    },
    {
     "data": {
      "text/plain": [
       "<keras.callbacks.History at 0x7f53ef53b460>"
      ]
     },
     "execution_count": 86,
     "metadata": {},
     "output_type": "execute_result"
    }
   ],
   "source": [
    "es = EarlyStopping(patience=10, restore_best_weights=True)\n",
    "model.fit(X_train_expanded_dims, y_train_array, validation_split=0.3, epochs=500, batch_size=32, callbacks=[es])"
   ]
  },
  {
   "cell_type": "code",
   "execution_count": 87,
   "id": "9a263ccd",
   "metadata": {},
   "outputs": [
    {
     "name": "stdout",
     "output_type": "stream",
     "text": [
      "14/14 [==============================] - 1s 55ms/step - loss: 0.2386 - accuracy: 0.9630\n"
     ]
    },
    {
     "data": {
      "text/plain": [
       "[0.23858296871185303, 0.9629629850387573]"
      ]
     },
     "execution_count": 87,
     "metadata": {},
     "output_type": "execute_result"
    }
   ],
   "source": [
    "model.evaluate(X_test_expanded_dims, y_test_array)"
   ]
  },
  {
   "cell_type": "code",
   "execution_count": null,
   "id": "bf5227bc",
   "metadata": {},
   "outputs": [],
   "source": []
  }
 ],
 "metadata": {
  "kernelspec": {
   "display_name": "Python 3 (ipykernel)",
   "language": "python",
   "name": "python3"
  },
  "language_info": {
   "codemirror_mode": {
    "name": "ipython",
    "version": 3
   },
   "file_extension": ".py",
   "mimetype": "text/x-python",
   "name": "python",
   "nbconvert_exporter": "python",
   "pygments_lexer": "ipython3",
   "version": "3.8.12"
  },
  "nbTranslate": {
   "displayLangs": [
    "*"
   ],
   "hotkey": "alt-t",
   "langInMainMenu": true,
   "sourceLang": "en",
   "targetLang": "fr",
   "useGoogleTranslate": true
  },
  "toc": {
   "base_numbering": 1,
   "nav_menu": {},
   "number_sections": true,
   "sideBar": true,
   "skip_h1_title": false,
   "title_cell": "Table of Contents",
   "title_sidebar": "Contents",
   "toc_cell": false,
   "toc_position": {},
   "toc_section_display": true,
   "toc_window_display": false
  }
 },
 "nbformat": 4,
 "nbformat_minor": 5
}
