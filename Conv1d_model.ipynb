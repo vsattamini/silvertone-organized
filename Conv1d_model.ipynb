{
 "cells": [
  {
   "cell_type": "code",
   "execution_count": 1,
   "id": "16f28cc8",
   "metadata": {},
   "outputs": [
    {
     "name": "stderr",
     "output_type": "stream",
     "text": [
      "2022-11-23 09:34:20.034242: I tensorflow/core/platform/cpu_feature_guard.cc:193] This TensorFlow binary is optimized with oneAPI Deep Neural Network Library (oneDNN) to use the following CPU instructions in performance-critical operations:  AVX2 FMA\n",
      "To enable them in other operations, rebuild TensorFlow with the appropriate compiler flags.\n",
      "2022-11-23 09:34:20.587312: W tensorflow/compiler/xla/stream_executor/platform/default/dso_loader.cc:64] Could not load dynamic library 'libcudart.so.11.0'; dlerror: libcudart.so.11.0: cannot open shared object file: No such file or directory\n",
      "2022-11-23 09:34:20.587396: I tensorflow/compiler/xla/stream_executor/cuda/cudart_stub.cc:29] Ignore above cudart dlerror if you do not have a GPU set up on your machine.\n",
      "2022-11-23 09:34:22.914791: W tensorflow/compiler/xla/stream_executor/platform/default/dso_loader.cc:64] Could not load dynamic library 'libnvinfer.so.7'; dlerror: libnvinfer.so.7: cannot open shared object file: No such file or directory\n",
      "2022-11-23 09:34:22.915226: W tensorflow/compiler/xla/stream_executor/platform/default/dso_loader.cc:64] Could not load dynamic library 'libnvinfer_plugin.so.7'; dlerror: libnvinfer_plugin.so.7: cannot open shared object file: No such file or directory\n",
      "2022-11-23 09:34:22.915246: W tensorflow/compiler/tf2tensorrt/utils/py_utils.cc:38] TF-TRT Warning: Cannot dlopen some TensorRT libraries. If you would like to use Nvidia GPU with TensorRT, please make sure the missing libraries mentioned above are installed properly.\n"
     ]
    }
   ],
   "source": [
    "import pandas as pd\n",
    "import numpy as np\n",
    "from sklearn.preprocessing import MinMaxScaler\n",
    "from sklearn.metrics import accuracy_score\n",
    "from sklearn.model_selection import train_test_split\n",
    "from tensorflow.keras.preprocessing.sequence import pad_sequences\n",
    "from tensorflow.keras import layers\n",
    "from tensorflow.keras import models\n",
    "from tensorflow.keras.callbacks import EarlyStopping\n",
    "from sklearn.preprocessing import LabelEncoder\n",
    "from keras.utils import np_utils, to_categorical"
   ]
  },
  {
   "cell_type": "code",
   "execution_count": 3,
   "id": "26a6c69b",
   "metadata": {},
   "outputs": [],
   "source": [
    "df = pd.read_csv(\"database_mscc.csv\")"
   ]
  },
  {
   "cell_type": "code",
   "execution_count": 4,
   "id": "5970ecc2",
   "metadata": {},
   "outputs": [],
   "source": [
    "df.drop(columns = \"Unnamed: 0\", inplace=True)"
   ]
  },
  {
   "cell_type": "code",
   "execution_count": 5,
   "id": "968bbde2",
   "metadata": {},
   "outputs": [
    {
     "name": "stderr",
     "output_type": "stream",
     "text": [
      "/tmp/ipykernel_4583/4108488883.py:2: SettingWithCopyWarning: \n",
      "A value is trying to be set on a copy of a slice from a DataFrame\n",
      "\n",
      "See the caveats in the documentation: https://pandas.pydata.org/pandas-docs/stable/user_guide/indexing.html#returning-a-view-versus-a-copy\n",
      "  df[\"y\"][row] = df[\"y\"][row][7:]\n"
     ]
    }
   ],
   "source": [
    "for row in np.arange(0,df.shape[0]):\n",
    "    df[\"y\"][row] = df[\"y\"][row][7:]"
   ]
  },
  {
   "cell_type": "code",
   "execution_count": 6,
   "id": "2f121017",
   "metadata": {},
   "outputs": [
    {
     "data": {
      "text/plain": [
       "y         0\n",
       "0         0\n",
       "1         0\n",
       "2         0\n",
       "3         0\n",
       "       ... \n",
       "224    1439\n",
       "225    1439\n",
       "226    1439\n",
       "227    1439\n",
       "228    1440\n",
       "Length: 230, dtype: int64"
      ]
     },
     "execution_count": 6,
     "metadata": {},
     "output_type": "execute_result"
    }
   ],
   "source": [
    "df.isna().sum()"
   ]
  },
  {
   "cell_type": "code",
   "execution_count": 7,
   "id": "eca5668c",
   "metadata": {},
   "outputs": [],
   "source": [
    "df = df.fillna(0)"
   ]
  },
  {
   "cell_type": "code",
   "execution_count": 8,
   "id": "23b264bc",
   "metadata": {},
   "outputs": [
    {
     "data": {
      "text/plain": [
       "0     surprised\n",
       "1       fearful\n",
       "2       disgust\n",
       "14        happy\n",
       "15         calm\n",
       "18      neutral\n",
       "34          sad\n",
       "35        angry\n",
       "Name: y, dtype: object"
      ]
     },
     "execution_count": 8,
     "metadata": {},
     "output_type": "execute_result"
    }
   ],
   "source": [
    "df[\"y\"].drop_duplicates()"
   ]
  },
  {
   "cell_type": "code",
   "execution_count": 9,
   "id": "199b76cd",
   "metadata": {},
   "outputs": [],
   "source": [
    "y = df[\"y\"]\n",
    "X = df.drop(columns=\"y\")"
   ]
  },
  {
   "cell_type": "code",
   "execution_count": 10,
   "id": "42ae63f0",
   "metadata": {},
   "outputs": [],
   "source": [
    "X_train, X_test, y_train, y_test = train_test_split(X, y, test_size=0.30, random_state=1405, stratify=y)"
   ]
  },
  {
   "cell_type": "code",
   "execution_count": 11,
   "id": "f5c4b676",
   "metadata": {},
   "outputs": [],
   "source": [
    "lb = LabelEncoder()\n",
    "y_train_cat = np_utils.to_categorical(lb.fit_transform(y_train))\n",
    "y_test_cat = np_utils.to_categorical(lb.fit_transform(y_test))"
   ]
  },
  {
   "cell_type": "code",
   "execution_count": 12,
   "id": "35c7dd15",
   "metadata": {},
   "outputs": [],
   "source": [
    "scaler = MinMaxScaler()\n",
    "scaler.fit(X_train)\n",
    "X_train_scaled = scaler.transform(X_train)\n",
    "X_test_scaled = scaler.transform(X_test)"
   ]
  },
  {
   "cell_type": "code",
   "execution_count": 13,
   "id": "fe482984",
   "metadata": {},
   "outputs": [],
   "source": [
    "X_train_scaled_array = np.array(X_train_scaled)\n",
    "X_test_scaled_array = np.array(X_test_scaled)\n",
    "y_train_array = np.array(y_train_cat)\n",
    "y_test_array = np.array(y_test_cat)"
   ]
  },
  {
   "cell_type": "code",
   "execution_count": 14,
   "id": "5cef30f9",
   "metadata": {},
   "outputs": [],
   "source": [
    "X_train_expanded_dims = np.expand_dims(X_train_scaled_array, axis=2)\n",
    "X_test_expanded_dims = np.expand_dims(X_test_scaled_array, axis=2)"
   ]
  },
  {
   "cell_type": "code",
   "execution_count": 15,
   "id": "415aa053",
   "metadata": {},
   "outputs": [
    {
     "name": "stderr",
     "output_type": "stream",
     "text": [
      "2022-11-23 09:36:04.316327: W tensorflow/compiler/xla/stream_executor/platform/default/dso_loader.cc:64] Could not load dynamic library 'libcuda.so.1'; dlerror: libcuda.so.1: cannot open shared object file: No such file or directory\n",
      "2022-11-23 09:36:04.316445: W tensorflow/compiler/xla/stream_executor/cuda/cuda_driver.cc:265] failed call to cuInit: UNKNOWN ERROR (303)\n",
      "2022-11-23 09:36:04.316491: I tensorflow/compiler/xla/stream_executor/cuda/cuda_diagnostics.cc:156] kernel driver does not appear to be running on this host (DESKTOP-23E8V41): /proc/driver/nvidia/version does not exist\n",
      "2022-11-23 09:36:04.322241: I tensorflow/core/platform/cpu_feature_guard.cc:193] This TensorFlow binary is optimized with oneAPI Deep Neural Network Library (oneDNN) to use the following CPU instructions in performance-critical operations:  AVX2 FMA\n",
      "To enable them in other operations, rebuild TensorFlow with the appropriate compiler flags.\n"
     ]
    }
   ],
   "source": [
    "model = models.Sequential()\n",
    "model.add(layers.Conv1D(256, 8, padding=\"same\", input_shape=(X_train_expanded_dims.shape[1],1), activation = \"tanh\"))\n",
    "model.add(layers.Conv1D(256, 8, padding='same', activation = \"relu\"))\n",
    "# model.add(layers.BatchNormalization())\n",
    "model.add(layers.Dropout(0.25))\n",
    "model.add(layers.MaxPooling1D(pool_size=(8)))\n",
    "model.add(layers.Conv1D(128, 8, padding='same', activation = \"relu\"))\n",
    "model.add(layers.Conv1D(128, 8, padding='same', activation = \"relu\"))\n",
    "model.add(layers.Conv1D(128, 8, padding='same', activation = \"relu\"))\n",
    "model.add(layers.Conv1D(128, 8, padding='same', activation = \"relu\"))\n",
    "# model.add(layers.BatchNormalization())\n",
    "model.add(layers.Dropout(0.25))\n",
    "model.add(layers.MaxPooling1D(pool_size=(8)))\n",
    "model.add(layers.Conv1D(64, 8, padding='same', activation = \"relu\"))\n",
    "model.add(layers.Conv1D(64, 8, padding='same', activation = \"relu\"))\n",
    "model.add(layers.Flatten())\n",
    "model.add(layers.Dense(8, activation = \"softmax\"))\n",
    "model.compile(loss=\"categorical_crossentropy\", optimizer=\"adam\", metrics=[\"accuracy\"])"
   ]
  },
  {
   "cell_type": "code",
   "execution_count": 16,
   "id": "ec3a5f72",
   "metadata": {},
   "outputs": [
    {
     "name": "stdout",
     "output_type": "stream",
     "text": [
      "Model: \"sequential\"\n",
      "_________________________________________________________________\n",
      " Layer (type)                Output Shape              Param #   \n",
      "=================================================================\n",
      " conv1d (Conv1D)             (None, 229, 256)          2304      \n",
      "                                                                 \n",
      " conv1d_1 (Conv1D)           (None, 229, 256)          524544    \n",
      "                                                                 \n",
      " dropout (Dropout)           (None, 229, 256)          0         \n",
      "                                                                 \n",
      " max_pooling1d (MaxPooling1D  (None, 28, 256)          0         \n",
      " )                                                               \n",
      "                                                                 \n",
      " conv1d_2 (Conv1D)           (None, 28, 128)           262272    \n",
      "                                                                 \n",
      " conv1d_3 (Conv1D)           (None, 28, 128)           131200    \n",
      "                                                                 \n",
      " conv1d_4 (Conv1D)           (None, 28, 128)           131200    \n",
      "                                                                 \n",
      " conv1d_5 (Conv1D)           (None, 28, 128)           131200    \n",
      "                                                                 \n",
      " dropout_1 (Dropout)         (None, 28, 128)           0         \n",
      "                                                                 \n",
      " max_pooling1d_1 (MaxPooling  (None, 3, 128)           0         \n",
      " 1D)                                                             \n",
      "                                                                 \n",
      " conv1d_6 (Conv1D)           (None, 3, 64)             65600     \n",
      "                                                                 \n",
      " conv1d_7 (Conv1D)           (None, 3, 64)             32832     \n",
      "                                                                 \n",
      " flatten (Flatten)           (None, 192)               0         \n",
      "                                                                 \n",
      " dense (Dense)               (None, 8)                 1544      \n",
      "                                                                 \n",
      "=================================================================\n",
      "Total params: 1,282,696\n",
      "Trainable params: 1,282,696\n",
      "Non-trainable params: 0\n",
      "_________________________________________________________________\n"
     ]
    }
   ],
   "source": [
    "model.summary()"
   ]
  },
  {
   "cell_type": "code",
   "execution_count": 30,
   "id": "85c2329a",
   "metadata": {},
   "outputs": [
    {
     "name": "stdout",
     "output_type": "stream",
     "text": [
      "Epoch 1/500\n",
      "23/23 [==============================] - 12s 508ms/step - loss: 0.8195 - accuracy: 0.6738 - val_loss: 1.9986 - val_accuracy: 0.3267\n",
      "Epoch 2/500\n",
      "23/23 [==============================] - 11s 470ms/step - loss: 0.8041 - accuracy: 0.6879 - val_loss: 2.0805 - val_accuracy: 0.3333\n",
      "Epoch 3/500\n",
      "23/23 [==============================] - 10s 451ms/step - loss: 1.1570 - accuracy: 0.5702 - val_loss: 1.9721 - val_accuracy: 0.3168\n",
      "Epoch 4/500\n",
      "23/23 [==============================] - 10s 439ms/step - loss: 0.9046 - accuracy: 0.6482 - val_loss: 2.0019 - val_accuracy: 0.3498\n",
      "Epoch 5/500\n",
      "23/23 [==============================] - 11s 460ms/step - loss: 0.7372 - accuracy: 0.7135 - val_loss: 2.2820 - val_accuracy: 0.3168\n",
      "Epoch 6/500\n",
      "23/23 [==============================] - 13s 552ms/step - loss: 0.6203 - accuracy: 0.7574 - val_loss: 2.3560 - val_accuracy: 0.3597\n",
      "Epoch 7/500\n",
      "23/23 [==============================] - 12s 515ms/step - loss: 1.6195 - accuracy: 0.4057 - val_loss: 1.9208 - val_accuracy: 0.2673\n",
      "Epoch 8/500\n",
      "23/23 [==============================] - 12s 514ms/step - loss: 1.6677 - accuracy: 0.3504 - val_loss: 1.8760 - val_accuracy: 0.2673\n",
      "Epoch 9/500\n",
      "23/23 [==============================] - 12s 511ms/step - loss: 1.3425 - accuracy: 0.4865 - val_loss: 1.8587 - val_accuracy: 0.2937\n",
      "Epoch 10/500\n",
      "23/23 [==============================] - 12s 511ms/step - loss: 1.1238 - accuracy: 0.5546 - val_loss: 1.9429 - val_accuracy: 0.3597\n",
      "Epoch 11/500\n",
      "23/23 [==============================] - 13s 549ms/step - loss: 0.9009 - accuracy: 0.6681 - val_loss: 2.1143 - val_accuracy: 0.3465\n",
      "Epoch 12/500\n",
      "23/23 [==============================] - 12s 525ms/step - loss: 0.9247 - accuracy: 0.6482 - val_loss: 2.0767 - val_accuracy: 0.3168\n",
      "Epoch 13/500\n",
      "23/23 [==============================] - 12s 523ms/step - loss: 0.7851 - accuracy: 0.7078 - val_loss: 2.2407 - val_accuracy: 0.2607\n",
      "Epoch 14/500\n",
      "23/23 [==============================] - 12s 539ms/step - loss: 0.6248 - accuracy: 0.7574 - val_loss: 2.3286 - val_accuracy: 0.3201\n",
      "Epoch 15/500\n",
      "23/23 [==============================] - 12s 535ms/step - loss: 0.5411 - accuracy: 0.8085 - val_loss: 2.4166 - val_accuracy: 0.3399\n",
      "Epoch 16/500\n",
      "23/23 [==============================] - 13s 555ms/step - loss: 0.4554 - accuracy: 0.8355 - val_loss: 2.5671 - val_accuracy: 0.3102\n",
      "Epoch 17/500\n",
      "23/23 [==============================] - 12s 535ms/step - loss: 0.4788 - accuracy: 0.8227 - val_loss: 2.5080 - val_accuracy: 0.3036\n",
      "Epoch 18/500\n",
      "23/23 [==============================] - 12s 515ms/step - loss: 0.3954 - accuracy: 0.8511 - val_loss: 2.9933 - val_accuracy: 0.3399\n",
      "Epoch 19/500\n",
      "23/23 [==============================] - 12s 523ms/step - loss: 0.3617 - accuracy: 0.8823 - val_loss: 2.8003 - val_accuracy: 0.3102\n"
     ]
    },
    {
     "data": {
      "text/plain": [
       "<keras.callbacks.History at 0x7fda5c7decd0>"
      ]
     },
     "execution_count": 30,
     "metadata": {},
     "output_type": "execute_result"
    }
   ],
   "source": [
    "es = EarlyStopping(patience=10, restore_best_weights=True)\n",
    "model.fit(X_train_expanded_dims, y_train_array, validation_split=0.3, epochs=500, batch_size=32, callbacks=[es])"
   ]
  },
  {
   "cell_type": "code",
   "execution_count": 31,
   "id": "9a263ccd",
   "metadata": {},
   "outputs": [
    {
     "name": "stdout",
     "output_type": "stream",
     "text": [
      "14/14 [==============================] - 2s 112ms/step - loss: 2.0218 - accuracy: 0.2917\n"
     ]
    },
    {
     "data": {
      "text/plain": [
       "[2.021777629852295, 0.2916666567325592]"
      ]
     },
     "execution_count": 31,
     "metadata": {},
     "output_type": "execute_result"
    }
   ],
   "source": [
    "model.evaluate(X_test_expanded_dims, y_test_array)"
   ]
  },
  {
   "cell_type": "code",
   "execution_count": null,
   "id": "bf5227bc",
   "metadata": {},
   "outputs": [],
   "source": []
  }
 ],
 "metadata": {
  "kernelspec": {
   "display_name": "Python 3 (ipykernel)",
   "language": "python",
   "name": "python3"
  },
  "language_info": {
   "codemirror_mode": {
    "name": "ipython",
    "version": 3
   },
   "file_extension": ".py",
   "mimetype": "text/x-python",
   "name": "python",
   "nbconvert_exporter": "python",
   "pygments_lexer": "ipython3",
   "version": "3.8.12"
  },
  "nbTranslate": {
   "displayLangs": [
    "*"
   ],
   "hotkey": "alt-t",
   "langInMainMenu": true,
   "sourceLang": "en",
   "targetLang": "fr",
   "useGoogleTranslate": true
  },
  "toc": {
   "base_numbering": 1,
   "nav_menu": {},
   "number_sections": true,
   "sideBar": true,
   "skip_h1_title": false,
   "title_cell": "Table of Contents",
   "title_sidebar": "Contents",
   "toc_cell": false,
   "toc_position": {},
   "toc_section_display": true,
   "toc_window_display": false
  }
 },
 "nbformat": 4,
 "nbformat_minor": 5
}
