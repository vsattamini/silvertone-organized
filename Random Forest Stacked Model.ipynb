{
 "cells": [
  {
   "cell_type": "code",
   "execution_count": 1,
   "id": "f48bef98",
   "metadata": {},
   "outputs": [
    {
     "name": "stderr",
     "output_type": "stream",
     "text": [
      "2022-11-25 15:25:56.862737: W tensorflow/stream_executor/platform/default/dso_loader.cc:64] Could not load dynamic library 'libcudart.so.11.0'; dlerror: libcudart.so.11.0: cannot open shared object file: No such file or directory\n",
      "2022-11-25 15:25:56.862880: I tensorflow/stream_executor/cuda/cudart_stub.cc:29] Ignore above cudart dlerror if you do not have a GPU set up on your machine.\n"
     ]
    }
   ],
   "source": [
    "#imports\n",
    "import numpy as np\n",
    "import pandas as pd\n",
    "import matplotlib.pyplot as plt\n",
    "import seaborn as sns\n",
    "\n",
    "import librosa\n",
    "import librosa.display\n",
    "import IPython.display as ipd\n",
    "\n",
    "from glob import glob\n",
    "import tensorflow as tf\n",
    "\n",
    "#to make plots look nice\n",
    "from itertools import cycle\n",
    "sns.set_theme(style=\"white\", palette=None)\n",
    "color_pal = plt.rcParams[\"axes.prop_cycle\"].by_key()[\"color\"]\n",
    "color_cycle = cycle(plt.rcParams[\"axes.prop_cycle\"].by_key()[\"color\"])\n",
    "\n",
    "from sklearn.preprocessing import StandardScaler,RobustScaler,MinMaxScaler\n",
    "from sklearn.preprocessing import OneHotEncoder\n",
    "\n",
    "from sklearn.model_selection import train_test_split\n",
    "from sklearn.neighbors import KNeighborsClassifier\n",
    "from sklearn.ensemble import RandomForestClassifier,GradientBoostingClassifier\n",
    "from sklearn.model_selection import cross_validate"
   ]
  },
  {
   "cell_type": "markdown",
   "id": "0244353d",
   "metadata": {},
   "source": [
    "# Importing audio files"
   ]
  },
  {
   "cell_type": "code",
   "execution_count": 2,
   "id": "934328fa",
   "metadata": {},
   "outputs": [],
   "source": [
    "audio_files = glob(\"data/Emotion_Dataset/*/*.wav\")"
   ]
  },
  {
   "cell_type": "markdown",
   "id": "6e24e997",
   "metadata": {},
   "source": [
    "# Preprocessing"
   ]
  },
  {
   "cell_type": "markdown",
   "id": "dedfe9d9",
   "metadata": {},
   "source": [
    "- vectorizing every files with librosa load\n",
    "- trimming the blank spaces\n",
    "- padding (is it relevant with random forest?)\n",
    "- melspectrogram\n",
    "- appending to a list\n",
    "- making it a numpy array"
   ]
  },
  {
   "cell_type": "code",
   "execution_count": 3,
   "id": "be4217cb",
   "metadata": {},
   "outputs": [
    {
     "name": "stderr",
     "output_type": "stream",
     "text": [
      "2022-11-25 15:26:08.954740: W tensorflow/stream_executor/platform/default/dso_loader.cc:64] Could not load dynamic library 'libcuda.so.1'; dlerror: libcuda.so.1: cannot open shared object file: No such file or directory\n",
      "2022-11-25 15:26:08.954946: W tensorflow/stream_executor/cuda/cuda_driver.cc:269] failed call to cuInit: UNKNOWN ERROR (303)\n",
      "2022-11-25 15:26:08.955037: I tensorflow/stream_executor/cuda/cuda_diagnostics.cc:156] kernel driver does not appear to be running on this host (DESKTOP-23E8V41): /proc/driver/nvidia/version does not exist\n",
      "2022-11-25 15:26:08.974840: I tensorflow/core/platform/cpu_feature_guard.cc:151] This TensorFlow binary is optimized with oneAPI Deep Neural Network Library (oneDNN) to use the following CPU instructions in performance-critical operations:  AVX2 FMA\n",
      "To enable them in other operations, rebuild TensorFlow with the appropriate compiler flags.\n"
     ]
    }
   ],
   "source": [
    "spectrograms = []\n",
    "for item in audio_files:\n",
    "    X, sr = librosa.load(item) #vectorizing\n",
    "    X_trim = librosa.effects.trim(X,top_db=35) #trimming data\n",
    "    \n",
    "    #padding\n",
    "    if X_trim[0].shape[0] >= 65000:\n",
    "        X_final = X_trim[0][:65000]\n",
    "        X_final = tf.convert_to_tensor(X_final).numpy()\n",
    "    else:\n",
    "        zero_padding = tf.zeros([65000]-tf.shape(X_trim[0]),dtype=tf.float32)\n",
    "        X_final = tf.concat([X_trim[0],zero_padding],0).numpy()\n",
    "        \n",
    "    #mel spectogram\n",
    "    S = librosa.feature.melspectrogram(y=X_final,\n",
    "                                   sr=sr,\n",
    "                                   n_mels=128,)\n",
    "    \n",
    "    #S = tf.expand_dims(S, axis=2)\n",
    "    spectrograms.append(S)"
   ]
  },
  {
   "cell_type": "code",
   "execution_count": 134,
   "id": "6a3adb99",
   "metadata": {},
   "outputs": [],
   "source": [
    "X= np.array(spectrograms)\n",
    "X1= np.array(spectrograms)"
   ]
  },
  {
   "cell_type": "code",
   "execution_count": 5,
   "id": "014a8cd4",
   "metadata": {},
   "outputs": [
    {
     "data": {
      "text/plain": [
       "(1440, 128, 127)"
      ]
     },
     "execution_count": 5,
     "metadata": {},
     "output_type": "execute_result"
    }
   ],
   "source": [
    "X.shape"
   ]
  },
  {
   "cell_type": "markdown",
   "id": "dccf0f60",
   "metadata": {},
   "source": [
    "# Target Encoding"
   ]
  },
  {
   "cell_type": "code",
   "execution_count": 103,
   "id": "83a2884e",
   "metadata": {},
   "outputs": [],
   "source": [
    "ids=[]\n",
    "for audio in audio_files:\n",
    "    ids.append(audio[30:-4])\n",
    "\n",
    "new_df = pd.DataFrame(ids)\n",
    "new_df.rename(columns={0: \"titulo\"},inplace=True)\n",
    "new_df['emotion'] = new_df.apply(lambda x: x[0].split(\"-\")[2], axis=1)\n",
    "y = new_df['emotion']"
   ]
  },
  {
   "cell_type": "code",
   "execution_count": 7,
   "id": "d2a5faa9",
   "metadata": {},
   "outputs": [
    {
     "data": {
      "text/html": [
       "<div>\n",
       "<style scoped>\n",
       "    .dataframe tbody tr th:only-of-type {\n",
       "        vertical-align: middle;\n",
       "    }\n",
       "\n",
       "    .dataframe tbody tr th {\n",
       "        vertical-align: top;\n",
       "    }\n",
       "\n",
       "    .dataframe thead th {\n",
       "        text-align: right;\n",
       "    }\n",
       "</style>\n",
       "<table border=\"1\" class=\"dataframe\">\n",
       "  <thead>\n",
       "    <tr style=\"text-align: right;\">\n",
       "      <th></th>\n",
       "      <th>emotion</th>\n",
       "    </tr>\n",
       "  </thead>\n",
       "  <tbody>\n",
       "    <tr>\n",
       "      <th>0</th>\n",
       "      <td>01</td>\n",
       "    </tr>\n",
       "    <tr>\n",
       "      <th>1</th>\n",
       "      <td>06</td>\n",
       "    </tr>\n",
       "    <tr>\n",
       "      <th>2</th>\n",
       "      <td>08</td>\n",
       "    </tr>\n",
       "    <tr>\n",
       "      <th>3</th>\n",
       "      <td>05</td>\n",
       "    </tr>\n",
       "    <tr>\n",
       "      <th>4</th>\n",
       "      <td>06</td>\n",
       "    </tr>\n",
       "    <tr>\n",
       "      <th>...</th>\n",
       "      <td>...</td>\n",
       "    </tr>\n",
       "    <tr>\n",
       "      <th>1435</th>\n",
       "      <td>02</td>\n",
       "    </tr>\n",
       "    <tr>\n",
       "      <th>1436</th>\n",
       "      <td>06</td>\n",
       "    </tr>\n",
       "    <tr>\n",
       "      <th>1437</th>\n",
       "      <td>04</td>\n",
       "    </tr>\n",
       "    <tr>\n",
       "      <th>1438</th>\n",
       "      <td>08</td>\n",
       "    </tr>\n",
       "    <tr>\n",
       "      <th>1439</th>\n",
       "      <td>08</td>\n",
       "    </tr>\n",
       "  </tbody>\n",
       "</table>\n",
       "<p>1440 rows × 1 columns</p>\n",
       "</div>"
      ],
      "text/plain": [
       "     emotion\n",
       "0         01\n",
       "1         06\n",
       "2         08\n",
       "3         05\n",
       "4         06\n",
       "...      ...\n",
       "1435      02\n",
       "1436      06\n",
       "1437      04\n",
       "1438      08\n",
       "1439      08\n",
       "\n",
       "[1440 rows x 1 columns]"
      ]
     },
     "execution_count": 7,
     "metadata": {},
     "output_type": "execute_result"
    }
   ],
   "source": [
    "pd.DataFrame(y)"
   ]
  },
  {
   "cell_type": "markdown",
   "id": "0b3e2286",
   "metadata": {},
   "source": [
    "# Splitting train test"
   ]
  },
  {
   "cell_type": "code",
   "execution_count": 8,
   "id": "648400f4",
   "metadata": {},
   "outputs": [],
   "source": [
    "X_train, X_test, y_train, y_test = train_test_split(X, y, test_size=0.3, random_state=42)"
   ]
  },
  {
   "cell_type": "markdown",
   "id": "64415506",
   "metadata": {},
   "source": [
    "# Modeling Random Forest"
   ]
  },
  {
   "cell_type": "markdown",
   "id": "73700ce2",
   "metadata": {},
   "source": [
    "## flattening the spectogram"
   ]
  },
  {
   "cell_type": "code",
   "execution_count": null,
   "id": "b220df37",
   "metadata": {},
   "outputs": [],
   "source": []
  },
  {
   "cell_type": "code",
   "execution_count": 9,
   "id": "b0381a44",
   "metadata": {},
   "outputs": [],
   "source": [
    "X_flat=X_train.reshape(1008,128*127)"
   ]
  },
  {
   "cell_type": "code",
   "execution_count": 10,
   "id": "36f47d70",
   "metadata": {},
   "outputs": [
    {
     "data": {
      "text/plain": [
       "(1008,)"
      ]
     },
     "execution_count": 10,
     "metadata": {},
     "output_type": "execute_result"
    }
   ],
   "source": [
    "y_train.shape"
   ]
  },
  {
   "cell_type": "code",
   "execution_count": 11,
   "id": "79e4f890",
   "metadata": {},
   "outputs": [
    {
     "data": {
      "text/plain": [
       "(1008, 16256)"
      ]
     },
     "execution_count": 11,
     "metadata": {},
     "output_type": "execute_result"
    }
   ],
   "source": [
    "X_flat.shape"
   ]
  },
  {
   "cell_type": "code",
   "execution_count": null,
   "id": "26e9e3b3",
   "metadata": {},
   "outputs": [],
   "source": []
  },
  {
   "cell_type": "markdown",
   "id": "9cd7f613",
   "metadata": {},
   "source": [
    "## random forest"
   ]
  },
  {
   "cell_type": "code",
   "execution_count": 12,
   "id": "049eabe5",
   "metadata": {},
   "outputs": [
    {
     "data": {
      "text/html": [
       "<style>#sk-container-id-1 {color: black;background-color: white;}#sk-container-id-1 pre{padding: 0;}#sk-container-id-1 div.sk-toggleable {background-color: white;}#sk-container-id-1 label.sk-toggleable__label {cursor: pointer;display: block;width: 100%;margin-bottom: 0;padding: 0.3em;box-sizing: border-box;text-align: center;}#sk-container-id-1 label.sk-toggleable__label-arrow:before {content: \"▸\";float: left;margin-right: 0.25em;color: #696969;}#sk-container-id-1 label.sk-toggleable__label-arrow:hover:before {color: black;}#sk-container-id-1 div.sk-estimator:hover label.sk-toggleable__label-arrow:before {color: black;}#sk-container-id-1 div.sk-toggleable__content {max-height: 0;max-width: 0;overflow: hidden;text-align: left;background-color: #f0f8ff;}#sk-container-id-1 div.sk-toggleable__content pre {margin: 0.2em;color: black;border-radius: 0.25em;background-color: #f0f8ff;}#sk-container-id-1 input.sk-toggleable__control:checked~div.sk-toggleable__content {max-height: 200px;max-width: 100%;overflow: auto;}#sk-container-id-1 input.sk-toggleable__control:checked~label.sk-toggleable__label-arrow:before {content: \"▾\";}#sk-container-id-1 div.sk-estimator input.sk-toggleable__control:checked~label.sk-toggleable__label {background-color: #d4ebff;}#sk-container-id-1 div.sk-label input.sk-toggleable__control:checked~label.sk-toggleable__label {background-color: #d4ebff;}#sk-container-id-1 input.sk-hidden--visually {border: 0;clip: rect(1px 1px 1px 1px);clip: rect(1px, 1px, 1px, 1px);height: 1px;margin: -1px;overflow: hidden;padding: 0;position: absolute;width: 1px;}#sk-container-id-1 div.sk-estimator {font-family: monospace;background-color: #f0f8ff;border: 1px dotted black;border-radius: 0.25em;box-sizing: border-box;margin-bottom: 0.5em;}#sk-container-id-1 div.sk-estimator:hover {background-color: #d4ebff;}#sk-container-id-1 div.sk-parallel-item::after {content: \"\";width: 100%;border-bottom: 1px solid gray;flex-grow: 1;}#sk-container-id-1 div.sk-label:hover label.sk-toggleable__label {background-color: #d4ebff;}#sk-container-id-1 div.sk-serial::before {content: \"\";position: absolute;border-left: 1px solid gray;box-sizing: border-box;top: 0;bottom: 0;left: 50%;z-index: 0;}#sk-container-id-1 div.sk-serial {display: flex;flex-direction: column;align-items: center;background-color: white;padding-right: 0.2em;padding-left: 0.2em;position: relative;}#sk-container-id-1 div.sk-item {position: relative;z-index: 1;}#sk-container-id-1 div.sk-parallel {display: flex;align-items: stretch;justify-content: center;background-color: white;position: relative;}#sk-container-id-1 div.sk-item::before, #sk-container-id-1 div.sk-parallel-item::before {content: \"\";position: absolute;border-left: 1px solid gray;box-sizing: border-box;top: 0;bottom: 0;left: 50%;z-index: -1;}#sk-container-id-1 div.sk-parallel-item {display: flex;flex-direction: column;z-index: 1;position: relative;background-color: white;}#sk-container-id-1 div.sk-parallel-item:first-child::after {align-self: flex-end;width: 50%;}#sk-container-id-1 div.sk-parallel-item:last-child::after {align-self: flex-start;width: 50%;}#sk-container-id-1 div.sk-parallel-item:only-child::after {width: 0;}#sk-container-id-1 div.sk-dashed-wrapped {border: 1px dashed gray;margin: 0 0.4em 0.5em 0.4em;box-sizing: border-box;padding-bottom: 0.4em;background-color: white;}#sk-container-id-1 div.sk-label label {font-family: monospace;font-weight: bold;display: inline-block;line-height: 1.2em;}#sk-container-id-1 div.sk-label-container {text-align: center;}#sk-container-id-1 div.sk-container {/* jupyter's `normalize.less` sets `[hidden] { display: none; }` but bootstrap.min.css set `[hidden] { display: none !important; }` so we also need the `!important` here to be able to override the default hidden behavior on the sphinx rendered scikit-learn.org. See: https://github.com/scikit-learn/scikit-learn/issues/21755 */display: inline-block !important;position: relative;}#sk-container-id-1 div.sk-text-repr-fallback {display: none;}</style><div id=\"sk-container-id-1\" class=\"sk-top-container\"><div class=\"sk-text-repr-fallback\"><pre>RandomForestClassifier(max_depth=10, n_estimators=1000)</pre><b>In a Jupyter environment, please rerun this cell to show the HTML representation or trust the notebook. <br />On GitHub, the HTML representation is unable to render, please try loading this page with nbviewer.org.</b></div><div class=\"sk-container\" hidden><div class=\"sk-item\"><div class=\"sk-estimator sk-toggleable\"><input class=\"sk-toggleable__control sk-hidden--visually\" id=\"sk-estimator-id-1\" type=\"checkbox\" checked><label for=\"sk-estimator-id-1\" class=\"sk-toggleable__label sk-toggleable__label-arrow\">RandomForestClassifier</label><div class=\"sk-toggleable__content\"><pre>RandomForestClassifier(max_depth=10, n_estimators=1000)</pre></div></div></div></div></div>"
      ],
      "text/plain": [
       "RandomForestClassifier(max_depth=10, n_estimators=1000)"
      ]
     },
     "execution_count": 12,
     "metadata": {},
     "output_type": "execute_result"
    }
   ],
   "source": [
    "clf = RandomForestClassifier(max_depth=10,n_estimators=1000)\n",
    "clf.fit(X_flat,y_train)"
   ]
  },
  {
   "cell_type": "markdown",
   "id": "68b1b023",
   "metadata": {},
   "source": [
    "## Prediction and metrics"
   ]
  },
  {
   "cell_type": "code",
   "execution_count": 13,
   "id": "fac87f44",
   "metadata": {},
   "outputs": [],
   "source": [
    "y_pred=clf.predict(X_test.reshape(432,128*127))\n",
    "#cross_validate(clf,y_test,y_pred,scoring='accuracy')"
   ]
  },
  {
   "cell_type": "code",
   "execution_count": 14,
   "id": "3b1f75e8",
   "metadata": {},
   "outputs": [
    {
     "data": {
      "text/plain": [
       "0.5439814814814815"
      ]
     },
     "execution_count": 14,
     "metadata": {},
     "output_type": "execute_result"
    }
   ],
   "source": [
    "from sklearn.metrics import accuracy_score\n",
    "accuracy_score(y_test,y_pred)"
   ]
  },
  {
   "cell_type": "code",
   "execution_count": 15,
   "id": "41deb478",
   "metadata": {},
   "outputs": [],
   "source": [
    "df1 = pd.DataFrame(y_test).reset_index()\n",
    "df2 = pd.DataFrame(y_pred)"
   ]
  },
  {
   "cell_type": "code",
   "execution_count": 16,
   "id": "9e3d4938",
   "metadata": {},
   "outputs": [
    {
     "data": {
      "text/html": [
       "<div>\n",
       "<style scoped>\n",
       "    .dataframe tbody tr th:only-of-type {\n",
       "        vertical-align: middle;\n",
       "    }\n",
       "\n",
       "    .dataframe tbody tr th {\n",
       "        vertical-align: top;\n",
       "    }\n",
       "\n",
       "    .dataframe thead th {\n",
       "        text-align: right;\n",
       "    }\n",
       "</style>\n",
       "<table border=\"1\" class=\"dataframe\">\n",
       "  <thead>\n",
       "    <tr style=\"text-align: right;\">\n",
       "      <th></th>\n",
       "      <th>0</th>\n",
       "    </tr>\n",
       "  </thead>\n",
       "  <tbody>\n",
       "    <tr>\n",
       "      <th>0</th>\n",
       "      <td>03</td>\n",
       "    </tr>\n",
       "    <tr>\n",
       "      <th>1</th>\n",
       "      <td>07</td>\n",
       "    </tr>\n",
       "    <tr>\n",
       "      <th>2</th>\n",
       "      <td>07</td>\n",
       "    </tr>\n",
       "    <tr>\n",
       "      <th>3</th>\n",
       "      <td>05</td>\n",
       "    </tr>\n",
       "    <tr>\n",
       "      <th>4</th>\n",
       "      <td>06</td>\n",
       "    </tr>\n",
       "    <tr>\n",
       "      <th>...</th>\n",
       "      <td>...</td>\n",
       "    </tr>\n",
       "    <tr>\n",
       "      <th>427</th>\n",
       "      <td>08</td>\n",
       "    </tr>\n",
       "    <tr>\n",
       "      <th>428</th>\n",
       "      <td>08</td>\n",
       "    </tr>\n",
       "    <tr>\n",
       "      <th>429</th>\n",
       "      <td>03</td>\n",
       "    </tr>\n",
       "    <tr>\n",
       "      <th>430</th>\n",
       "      <td>07</td>\n",
       "    </tr>\n",
       "    <tr>\n",
       "      <th>431</th>\n",
       "      <td>02</td>\n",
       "    </tr>\n",
       "  </tbody>\n",
       "</table>\n",
       "<p>432 rows × 1 columns</p>\n",
       "</div>"
      ],
      "text/plain": [
       "      0\n",
       "0    03\n",
       "1    07\n",
       "2    07\n",
       "3    05\n",
       "4    06\n",
       "..   ..\n",
       "427  08\n",
       "428  08\n",
       "429  03\n",
       "430  07\n",
       "431  02\n",
       "\n",
       "[432 rows x 1 columns]"
      ]
     },
     "execution_count": 16,
     "metadata": {},
     "output_type": "execute_result"
    }
   ],
   "source": [
    "df2"
   ]
  },
  {
   "cell_type": "code",
   "execution_count": 17,
   "id": "6f8b83ee",
   "metadata": {},
   "outputs": [
    {
     "data": {
      "text/html": [
       "<div>\n",
       "<style scoped>\n",
       "    .dataframe tbody tr th:only-of-type {\n",
       "        vertical-align: middle;\n",
       "    }\n",
       "\n",
       "    .dataframe tbody tr th {\n",
       "        vertical-align: top;\n",
       "    }\n",
       "\n",
       "    .dataframe thead th {\n",
       "        text-align: right;\n",
       "    }\n",
       "</style>\n",
       "<table border=\"1\" class=\"dataframe\">\n",
       "  <thead>\n",
       "    <tr style=\"text-align: right;\">\n",
       "      <th></th>\n",
       "      <th>index</th>\n",
       "      <th>emotion</th>\n",
       "      <th>pred</th>\n",
       "    </tr>\n",
       "  </thead>\n",
       "  <tbody>\n",
       "    <tr>\n",
       "      <th>0</th>\n",
       "      <td>168</td>\n",
       "      <td>03</td>\n",
       "      <td>03</td>\n",
       "    </tr>\n",
       "    <tr>\n",
       "      <th>1</th>\n",
       "      <td>605</td>\n",
       "      <td>07</td>\n",
       "      <td>07</td>\n",
       "    </tr>\n",
       "    <tr>\n",
       "      <th>2</th>\n",
       "      <td>548</td>\n",
       "      <td>04</td>\n",
       "      <td>07</td>\n",
       "    </tr>\n",
       "    <tr>\n",
       "      <th>3</th>\n",
       "      <td>65</td>\n",
       "      <td>03</td>\n",
       "      <td>05</td>\n",
       "    </tr>\n",
       "    <tr>\n",
       "      <th>4</th>\n",
       "      <td>628</td>\n",
       "      <td>06</td>\n",
       "      <td>06</td>\n",
       "    </tr>\n",
       "    <tr>\n",
       "      <th>...</th>\n",
       "      <td>...</td>\n",
       "      <td>...</td>\n",
       "      <td>...</td>\n",
       "    </tr>\n",
       "    <tr>\n",
       "      <th>427</th>\n",
       "      <td>591</td>\n",
       "      <td>05</td>\n",
       "      <td>08</td>\n",
       "    </tr>\n",
       "    <tr>\n",
       "      <th>428</th>\n",
       "      <td>1133</td>\n",
       "      <td>05</td>\n",
       "      <td>08</td>\n",
       "    </tr>\n",
       "    <tr>\n",
       "      <th>429</th>\n",
       "      <td>1190</td>\n",
       "      <td>03</td>\n",
       "      <td>03</td>\n",
       "    </tr>\n",
       "    <tr>\n",
       "      <th>430</th>\n",
       "      <td>438</td>\n",
       "      <td>07</td>\n",
       "      <td>07</td>\n",
       "    </tr>\n",
       "    <tr>\n",
       "      <th>431</th>\n",
       "      <td>672</td>\n",
       "      <td>04</td>\n",
       "      <td>02</td>\n",
       "    </tr>\n",
       "  </tbody>\n",
       "</table>\n",
       "<p>432 rows × 3 columns</p>\n",
       "</div>"
      ],
      "text/plain": [
       "     index emotion pred\n",
       "0      168      03   03\n",
       "1      605      07   07\n",
       "2      548      04   07\n",
       "3       65      03   05\n",
       "4      628      06   06\n",
       "..     ...     ...  ...\n",
       "427    591      05   08\n",
       "428   1133      05   08\n",
       "429   1190      03   03\n",
       "430    438      07   07\n",
       "431    672      04   02\n",
       "\n",
       "[432 rows x 3 columns]"
      ]
     },
     "execution_count": 17,
     "metadata": {},
     "output_type": "execute_result"
    }
   ],
   "source": [
    "df_check = df1.join(df2)\n",
    "df_check.rename(columns={0:'pred'})"
   ]
  },
  {
   "cell_type": "code",
   "execution_count": 18,
   "id": "77cbca12",
   "metadata": {},
   "outputs": [
    {
     "name": "stderr",
     "output_type": "stream",
     "text": [
      "/home/lucas/.pyenv/versions/3.8.12/envs/lewagon/lib/python3.8/site-packages/xgboost/compat.py:36: FutureWarning: pandas.Int64Index is deprecated and will be removed from pandas in a future version. Use pandas.Index with the appropriate dtype instead.\n",
      "  from pandas import MultiIndex, Int64Index\n"
     ]
    }
   ],
   "source": [
    "import xgboost as xgb\n",
    "from xgboost import XGBClassifier"
   ]
  },
  {
   "cell_type": "code",
   "execution_count": 19,
   "id": "32bc3e33",
   "metadata": {},
   "outputs": [],
   "source": [
    "model_xgb=XGBClassifier(n_estimators=1000,max_depth=12,n_jobs=-1) #max_depth=12,"
   ]
  },
  {
   "cell_type": "code",
   "execution_count": 20,
   "id": "c8babf20",
   "metadata": {},
   "outputs": [],
   "source": [
    "#model_xgb.fit(X_flat,y_train)"
   ]
  },
  {
   "cell_type": "code",
   "execution_count": 21,
   "id": "54c5609d",
   "metadata": {},
   "outputs": [],
   "source": [
    "#y_pred=model_xgb.predict(X_test.reshape(432,128*127))\n",
    "#accuracy_score(y_test,y_pred)\n",
    "#0.5162"
   ]
  },
  {
   "cell_type": "markdown",
   "id": "6b291b90",
   "metadata": {},
   "source": [
    "# Getting more audio - Savee"
   ]
  },
  {
   "cell_type": "markdown",
   "id": "80c8540e",
   "metadata": {},
   "source": [
    "## getting audio"
   ]
  },
  {
   "cell_type": "code",
   "execution_count": 22,
   "id": "e745c0c0",
   "metadata": {},
   "outputs": [],
   "source": [
    "audio_files_2 = glob(\"data/Savee/*.wav\")"
   ]
  },
  {
   "cell_type": "code",
   "execution_count": 23,
   "id": "76204f1e",
   "metadata": {},
   "outputs": [
    {
     "data": {
      "text/plain": [
       "['data/Savee/DC_f01.wav',\n",
       " 'data/Savee/JE_d06.wav',\n",
       " 'data/Savee/KL_d07.wav',\n",
       " 'data/Savee/DC_n20.wav',\n",
       " 'data/Savee/JK_h10.wav',\n",
       " 'data/Savee/KL_h02.wav',\n",
       " 'data/Savee/JE_h12.wav',\n",
       " 'data/Savee/JE_sa06.wav',\n",
       " 'data/Savee/JE_su03.wav',\n",
       " 'data/Savee/KL_sa01.wav',\n",
       " 'data/Savee/DC_d05.wav',\n",
       " 'data/Savee/KL_n14.wav',\n",
       " 'data/Savee/JE_a13.wav',\n",
       " 'data/Savee/KL_n25.wav',\n",
       " 'data/Savee/JE_n17.wav',\n",
       " 'data/Savee/JK_sa13.wav',\n",
       " 'data/Savee/KL_sa04.wav',\n",
       " 'data/Savee/JE_n20.wav',\n",
       " 'data/Savee/DC_a13.wav',\n",
       " 'data/Savee/JE_h05.wav',\n",
       " 'data/Savee/JE_n04.wav',\n",
       " 'data/Savee/JE_su14.wav',\n",
       " 'data/Savee/DC_d11.wav',\n",
       " 'data/Savee/KL_a06.wav',\n",
       " 'data/Savee/DC_su10.wav',\n",
       " 'data/Savee/DC_n24.wav',\n",
       " 'data/Savee/JE_n06.wav',\n",
       " 'data/Savee/DC_d10.wav',\n",
       " 'data/Savee/DC_su14.wav',\n",
       " 'data/Savee/JE_n24.wav',\n",
       " 'data/Savee/KL_sa05.wav',\n",
       " 'data/Savee/KL_f10.wav',\n",
       " 'data/Savee/DC_h09.wav',\n",
       " 'data/Savee/JK_a08.wav',\n",
       " 'data/Savee/JE_f10.wav',\n",
       " 'data/Savee/JE_sa01.wav',\n",
       " 'data/Savee/KL_f04.wav',\n",
       " 'data/Savee/KL_f02.wav',\n",
       " 'data/Savee/KL_n09.wav',\n",
       " 'data/Savee/JK_sa15.wav',\n",
       " 'data/Savee/JK_h15.wav',\n",
       " 'data/Savee/KL_d08.wav',\n",
       " 'data/Savee/JE_f04.wav',\n",
       " 'data/Savee/JK_n08.wav',\n",
       " 'data/Savee/DC_d13.wav',\n",
       " 'data/Savee/JK_h09.wav',\n",
       " 'data/Savee/JE_n13.wav',\n",
       " 'data/Savee/JK_d15.wav',\n",
       " 'data/Savee/KL_n01.wav',\n",
       " 'data/Savee/JE_sa14.wav',\n",
       " 'data/Savee/KL_a01.wav',\n",
       " 'data/Savee/JK_d06.wav',\n",
       " 'data/Savee/DC_n02.wav',\n",
       " 'data/Savee/JK_sa07.wav',\n",
       " 'data/Savee/KL_h07.wav',\n",
       " 'data/Savee/JE_f14.wav',\n",
       " 'data/Savee/JK_d01.wav',\n",
       " 'data/Savee/KL_n23.wav',\n",
       " 'data/Savee/DC_a07.wav',\n",
       " 'data/Savee/JK_sa04.wav',\n",
       " 'data/Savee/DC_su11.wav',\n",
       " 'data/Savee/DC_h01.wav',\n",
       " 'data/Savee/JK_n29.wav',\n",
       " 'data/Savee/JK_a07.wav',\n",
       " 'data/Savee/JK_f06.wav',\n",
       " 'data/Savee/KL_su05.wav',\n",
       " 'data/Savee/JK_a02.wav',\n",
       " 'data/Savee/DC_sa03.wav',\n",
       " 'data/Savee/DC_su08.wav',\n",
       " 'data/Savee/JE_n10.wav',\n",
       " 'data/Savee/KL_f01.wav',\n",
       " 'data/Savee/DC_h03.wav',\n",
       " 'data/Savee/JK_h05.wav',\n",
       " 'data/Savee/DC_f11.wav',\n",
       " 'data/Savee/DC_n12.wav',\n",
       " 'data/Savee/KL_sa03.wav',\n",
       " 'data/Savee/JE_su09.wav',\n",
       " 'data/Savee/JK_sa14.wav',\n",
       " 'data/Savee/JK_f07.wav',\n",
       " 'data/Savee/JE_f08.wav',\n",
       " 'data/Savee/JK_d08.wav',\n",
       " 'data/Savee/KL_h10.wav',\n",
       " 'data/Savee/DC_n23.wav',\n",
       " 'data/Savee/JE_f15.wav',\n",
       " 'data/Savee/JE_su08.wav',\n",
       " 'data/Savee/KL_n28.wav',\n",
       " 'data/Savee/DC_d14.wav',\n",
       " 'data/Savee/KL_a05.wav',\n",
       " 'data/Savee/KL_sa07.wav',\n",
       " 'data/Savee/JK_f14.wav',\n",
       " 'data/Savee/DC_sa12.wav',\n",
       " 'data/Savee/KL_su02.wav',\n",
       " 'data/Savee/JE_h01.wav',\n",
       " 'data/Savee/JK_su10.wav',\n",
       " 'data/Savee/KL_h01.wav',\n",
       " 'data/Savee/JK_su01.wav',\n",
       " 'data/Savee/JK_n30.wav',\n",
       " 'data/Savee/JE_d07.wav',\n",
       " 'data/Savee/JK_su08.wav',\n",
       " 'data/Savee/JK_su09.wav',\n",
       " 'data/Savee/JE_a12.wav',\n",
       " 'data/Savee/KL_h11.wav',\n",
       " 'data/Savee/DC_n07.wav',\n",
       " 'data/Savee/JK_sa09.wav',\n",
       " 'data/Savee/JK_a15.wav',\n",
       " 'data/Savee/JE_su04.wav',\n",
       " 'data/Savee/KL_n21.wav',\n",
       " 'data/Savee/JE_a04.wav',\n",
       " 'data/Savee/JE_d02.wav',\n",
       " 'data/Savee/JE_sa04.wav',\n",
       " 'data/Savee/KL_a08.wav',\n",
       " 'data/Savee/KL_n29.wav',\n",
       " 'data/Savee/DC_h13.wav',\n",
       " 'data/Savee/JE_a09.wav',\n",
       " 'data/Savee/JK_f02.wav',\n",
       " 'data/Savee/JE_d09.wav',\n",
       " 'data/Savee/JK_sa06.wav',\n",
       " 'data/Savee/KL_sa02.wav',\n",
       " 'data/Savee/JK_n28.wav',\n",
       " 'data/Savee/JK_d05.wav',\n",
       " 'data/Savee/JK_su06.wav',\n",
       " 'data/Savee/KL_d01.wav',\n",
       " 'data/Savee/JE_n02.wav',\n",
       " 'data/Savee/JK_su12.wav',\n",
       " 'data/Savee/JK_f10.wav',\n",
       " 'data/Savee/JE_n05.wav',\n",
       " 'data/Savee/JE_su13.wav',\n",
       " 'data/Savee/JK_n24.wav',\n",
       " 'data/Savee/KL_h04.wav',\n",
       " 'data/Savee/KL_su15.wav',\n",
       " 'data/Savee/JE_su10.wav',\n",
       " 'data/Savee/JE_n14.wav',\n",
       " 'data/Savee/JE_sa15.wav',\n",
       " 'data/Savee/JE_n18.wav',\n",
       " 'data/Savee/JK_n09.wav',\n",
       " 'data/Savee/DC_d06.wav',\n",
       " 'data/Savee/KL_d11.wav',\n",
       " 'data/Savee/JE_h10.wav',\n",
       " 'data/Savee/KL_f12.wav',\n",
       " 'data/Savee/DC_su03.wav',\n",
       " 'data/Savee/JE_f11.wav',\n",
       " 'data/Savee/DC_su12.wav',\n",
       " 'data/Savee/DC_f06.wav',\n",
       " 'data/Savee/JE_d05.wav',\n",
       " 'data/Savee/JE_h15.wav',\n",
       " 'data/Savee/KL_sa08.wav',\n",
       " 'data/Savee/DC_sa07.wav',\n",
       " 'data/Savee/KL_h13.wav',\n",
       " 'data/Savee/KL_n12.wav',\n",
       " 'data/Savee/JE_h04.wav',\n",
       " 'data/Savee/DC_sa09.wav',\n",
       " 'data/Savee/JK_a05.wav',\n",
       " 'data/Savee/JK_f05.wav',\n",
       " 'data/Savee/KL_n19.wav',\n",
       " 'data/Savee/JE_n27.wav',\n",
       " 'data/Savee/DC_h14.wav',\n",
       " 'data/Savee/DC_d07.wav',\n",
       " 'data/Savee/JE_n07.wav',\n",
       " 'data/Savee/KL_a07.wav',\n",
       " 'data/Savee/KL_a13.wav',\n",
       " 'data/Savee/DC_h04.wav',\n",
       " 'data/Savee/DC_f04.wav',\n",
       " 'data/Savee/JK_su15.wav',\n",
       " 'data/Savee/JE_f09.wav',\n",
       " 'data/Savee/JE_n08.wav',\n",
       " 'data/Savee/JE_sa03.wav',\n",
       " 'data/Savee/KL_h05.wav',\n",
       " 'data/Savee/JE_a03.wav',\n",
       " 'data/Savee/JK_d11.wav',\n",
       " 'data/Savee/JE_su02.wav',\n",
       " 'data/Savee/KL_a15.wav',\n",
       " 'data/Savee/KL_d06.wav',\n",
       " 'data/Savee/KL_su10.wav',\n",
       " 'data/Savee/JE_su12.wav',\n",
       " 'data/Savee/KL_su06.wav',\n",
       " 'data/Savee/KL_sa13.wav',\n",
       " 'data/Savee/DC_a01.wav',\n",
       " 'data/Savee/JE_su11.wav',\n",
       " 'data/Savee/DC_h08.wav',\n",
       " 'data/Savee/KL_su04.wav',\n",
       " 'data/Savee/JK_h06.wav',\n",
       " 'data/Savee/DC_d01.wav',\n",
       " 'data/Savee/DC_h02.wav',\n",
       " 'data/Savee/JE_h11.wav',\n",
       " 'data/Savee/JK_f09.wav',\n",
       " 'data/Savee/DC_d08.wav',\n",
       " 'data/Savee/DC_n04.wav',\n",
       " 'data/Savee/KL_h03.wav',\n",
       " 'data/Savee/KL_su08.wav',\n",
       " 'data/Savee/JE_n22.wav',\n",
       " 'data/Savee/DC_n16.wav',\n",
       " 'data/Savee/JK_f11.wav',\n",
       " 'data/Savee/JK_a10.wav',\n",
       " 'data/Savee/JK_f04.wav',\n",
       " 'data/Savee/DC_h06.wav',\n",
       " 'data/Savee/DC_a04.wav',\n",
       " 'data/Savee/KL_h15.wav',\n",
       " 'data/Savee/JK_a12.wav',\n",
       " 'data/Savee/DC_a06.wav',\n",
       " 'data/Savee/JK_su11.wav',\n",
       " 'data/Savee/KL_n03.wav',\n",
       " 'data/Savee/JK_n14.wav',\n",
       " 'data/Savee/DC_a10.wav',\n",
       " 'data/Savee/JK_h08.wav',\n",
       " 'data/Savee/JK_h11.wav',\n",
       " 'data/Savee/JK_su07.wav',\n",
       " 'data/Savee/JE_n30.wav',\n",
       " 'data/Savee/KL_d05.wav',\n",
       " 'data/Savee/JK_n25.wav',\n",
       " 'data/Savee/JE_h02.wav',\n",
       " 'data/Savee/KL_d04.wav',\n",
       " 'data/Savee/KL_sa10.wav',\n",
       " 'data/Savee/KL_h14.wav',\n",
       " 'data/Savee/JE_n11.wav',\n",
       " 'data/Savee/KL_d14.wav',\n",
       " 'data/Savee/DC_n01.wav',\n",
       " 'data/Savee/DC_a15.wav',\n",
       " 'data/Savee/DC_d12.wav',\n",
       " 'data/Savee/DC_sa11.wav',\n",
       " 'data/Savee/KL_su07.wav',\n",
       " 'data/Savee/DC_su02.wav',\n",
       " 'data/Savee/JE_h14.wav',\n",
       " 'data/Savee/JK_h07.wav',\n",
       " 'data/Savee/JK_d07.wav',\n",
       " 'data/Savee/DC_sa08.wav',\n",
       " 'data/Savee/JE_n16.wav',\n",
       " 'data/Savee/DC_f13.wav',\n",
       " 'data/Savee/JE_n12.wav',\n",
       " 'data/Savee/JE_a08.wav',\n",
       " 'data/Savee/KL_f03.wav',\n",
       " 'data/Savee/KL_sa06.wav',\n",
       " 'data/Savee/JK_n13.wav',\n",
       " 'data/Savee/JK_a11.wav',\n",
       " 'data/Savee/JE_su06.wav',\n",
       " 'data/Savee/KL_a03.wav',\n",
       " 'data/Savee/JE_sa09.wav',\n",
       " 'data/Savee/JK_n15.wav',\n",
       " 'data/Savee/KL_n11.wav',\n",
       " 'data/Savee/JE_n01.wav',\n",
       " 'data/Savee/JE_n29.wav',\n",
       " 'data/Savee/DC_n30.wav',\n",
       " 'data/Savee/DC_n15.wav',\n",
       " 'data/Savee/JK_a03.wav',\n",
       " 'data/Savee/KL_n13.wav',\n",
       " 'data/Savee/JK_n20.wav',\n",
       " 'data/Savee/DC_n19.wav',\n",
       " 'data/Savee/JK_n03.wav',\n",
       " 'data/Savee/KL_sa09.wav',\n",
       " 'data/Savee/DC_h15.wav',\n",
       " 'data/Savee/KL_n27.wav',\n",
       " 'data/Savee/DC_sa10.wav',\n",
       " 'data/Savee/JK_n01.wav',\n",
       " 'data/Savee/JK_n22.wav',\n",
       " 'data/Savee/KL_d12.wav',\n",
       " 'data/Savee/DC_n05.wav',\n",
       " 'data/Savee/JK_a06.wav',\n",
       " 'data/Savee/JK_n12.wav',\n",
       " 'data/Savee/JE_sa05.wav',\n",
       " 'data/Savee/JE_n09.wav',\n",
       " 'data/Savee/JK_su05.wav',\n",
       " 'data/Savee/KL_su09.wav',\n",
       " 'data/Savee/KL_n30.wav',\n",
       " 'data/Savee/JK_d12.wav',\n",
       " 'data/Savee/DC_f05.wav',\n",
       " 'data/Savee/KL_sa15.wav',\n",
       " 'data/Savee/KL_f15.wav',\n",
       " 'data/Savee/JE_su01.wav',\n",
       " 'data/Savee/KL_d09.wav',\n",
       " 'data/Savee/JK_sa11.wav',\n",
       " 'data/Savee/DC_f07.wav',\n",
       " 'data/Savee/JK_sa02.wav',\n",
       " 'data/Savee/JK_n16.wav',\n",
       " 'data/Savee/JE_a14.wav',\n",
       " 'data/Savee/JK_n23.wav',\n",
       " 'data/Savee/KL_a09.wav',\n",
       " 'data/Savee/DC_f09.wav',\n",
       " 'data/Savee/JE_d04.wav',\n",
       " 'data/Savee/JK_sa05.wav',\n",
       " 'data/Savee/KL_f05.wav',\n",
       " 'data/Savee/KL_h06.wav',\n",
       " 'data/Savee/JE_n26.wav',\n",
       " 'data/Savee/KL_n16.wav',\n",
       " 'data/Savee/DC_sa05.wav',\n",
       " 'data/Savee/KL_su14.wav',\n",
       " 'data/Savee/DC_h11.wav',\n",
       " 'data/Savee/JK_a04.wav',\n",
       " 'data/Savee/KL_f11.wav',\n",
       " 'data/Savee/JK_su14.wav',\n",
       " 'data/Savee/KL_d10.wav',\n",
       " 'data/Savee/DC_f12.wav',\n",
       " 'data/Savee/KL_d13.wav',\n",
       " 'data/Savee/KL_sa11.wav',\n",
       " 'data/Savee/DC_d03.wav',\n",
       " 'data/Savee/JE_n28.wav',\n",
       " 'data/Savee/KL_su11.wav',\n",
       " 'data/Savee/DC_su09.wav',\n",
       " 'data/Savee/JK_h14.wav',\n",
       " 'data/Savee/DC_d02.wav',\n",
       " 'data/Savee/JE_f02.wav',\n",
       " 'data/Savee/DC_f14.wav',\n",
       " 'data/Savee/JE_d08.wav',\n",
       " 'data/Savee/DC_n21.wav',\n",
       " 'data/Savee/KL_h09.wav',\n",
       " 'data/Savee/DC_sa13.wav',\n",
       " 'data/Savee/KL_sa14.wav',\n",
       " 'data/Savee/KL_n10.wav',\n",
       " 'data/Savee/DC_su15.wav',\n",
       " 'data/Savee/JK_f08.wav',\n",
       " 'data/Savee/KL_h08.wav',\n",
       " 'data/Savee/JK_d03.wav',\n",
       " 'data/Savee/JE_sa08.wav',\n",
       " 'data/Savee/JK_d02.wav',\n",
       " 'data/Savee/DC_f10.wav',\n",
       " 'data/Savee/JE_su07.wav',\n",
       " 'data/Savee/JE_f03.wav',\n",
       " 'data/Savee/JE_a05.wav',\n",
       " 'data/Savee/JE_a10.wav',\n",
       " 'data/Savee/DC_n27.wav',\n",
       " 'data/Savee/KL_f09.wav',\n",
       " 'data/Savee/JK_h02.wav',\n",
       " 'data/Savee/JK_n11.wav',\n",
       " 'data/Savee/JK_n17.wav',\n",
       " 'data/Savee/DC_a11.wav',\n",
       " 'data/Savee/JK_a01.wav',\n",
       " 'data/Savee/JK_n10.wav',\n",
       " 'data/Savee/JE_a15.wav',\n",
       " 'data/Savee/JE_f01.wav',\n",
       " 'data/Savee/KL_f08.wav',\n",
       " 'data/Savee/JE_f06.wav',\n",
       " 'data/Savee/JK_n27.wav',\n",
       " 'data/Savee/DC_h10.wav',\n",
       " 'data/Savee/JK_h03.wav',\n",
       " 'data/Savee/JK_a13.wav',\n",
       " 'data/Savee/KL_a11.wav',\n",
       " 'data/Savee/DC_n17.wav',\n",
       " 'data/Savee/JK_sa10.wav',\n",
       " 'data/Savee/JE_n03.wav',\n",
       " 'data/Savee/JK_f15.wav',\n",
       " 'data/Savee/JE_f13.wav',\n",
       " 'data/Savee/JE_h09.wav',\n",
       " 'data/Savee/JK_a09.wav',\n",
       " 'data/Savee/JK_f13.wav',\n",
       " 'data/Savee/JK_d14.wav',\n",
       " 'data/Savee/KL_f13.wav',\n",
       " 'data/Savee/DC_f08.wav',\n",
       " 'data/Savee/JK_h04.wav',\n",
       " 'data/Savee/JE_a06.wav',\n",
       " 'data/Savee/JE_sa02.wav',\n",
       " 'data/Savee/KL_n04.wav',\n",
       " 'data/Savee/JK_f01.wav',\n",
       " 'data/Savee/JK_n04.wav',\n",
       " 'data/Savee/KL_su03.wav',\n",
       " 'data/Savee/DC_sa04.wav',\n",
       " 'data/Savee/JE_d14.wav',\n",
       " 'data/Savee/KL_n15.wav',\n",
       " 'data/Savee/DC_n09.wav',\n",
       " 'data/Savee/DC_su01.wav',\n",
       " 'data/Savee/DC_a09.wav',\n",
       " 'data/Savee/JK_sa08.wav',\n",
       " 'data/Savee/DC_n08.wav',\n",
       " 'data/Savee/KL_a12.wav',\n",
       " 'data/Savee/DC_a12.wav',\n",
       " 'data/Savee/JE_d11.wav',\n",
       " 'data/Savee/KL_sa12.wav',\n",
       " 'data/Savee/JE_d10.wav',\n",
       " 'data/Savee/DC_d09.wav',\n",
       " 'data/Savee/KL_n24.wav',\n",
       " 'data/Savee/DC_a14.wav',\n",
       " 'data/Savee/DC_sa02.wav',\n",
       " 'data/Savee/DC_su04.wav',\n",
       " 'data/Savee/JK_sa01.wav',\n",
       " 'data/Savee/DC_n14.wav',\n",
       " 'data/Savee/KL_su01.wav',\n",
       " 'data/Savee/DC_su13.wav',\n",
       " 'data/Savee/DC_n28.wav',\n",
       " 'data/Savee/JE_a02.wav',\n",
       " 'data/Savee/JK_su03.wav',\n",
       " 'data/Savee/KL_n06.wav',\n",
       " 'data/Savee/JE_n25.wav',\n",
       " 'data/Savee/JK_d04.wav',\n",
       " 'data/Savee/JK_n21.wav',\n",
       " 'data/Savee/JE_a07.wav',\n",
       " 'data/Savee/JE_d01.wav',\n",
       " 'data/Savee/KL_n22.wav',\n",
       " 'data/Savee/KL_f14.wav',\n",
       " 'data/Savee/JE_sa10.wav',\n",
       " 'data/Savee/JE_d13.wav',\n",
       " 'data/Savee/JK_n05.wav',\n",
       " 'data/Savee/JK_h13.wav',\n",
       " 'data/Savee/KL_d03.wav',\n",
       " 'data/Savee/KL_n02.wav',\n",
       " 'data/Savee/JE_a11.wav',\n",
       " 'data/Savee/KL_a10.wav',\n",
       " 'data/Savee/JE_n23.wav',\n",
       " 'data/Savee/DC_n06.wav',\n",
       " 'data/Savee/DC_f15.wav',\n",
       " 'data/Savee/KL_f07.wav',\n",
       " 'data/Savee/DC_n10.wav',\n",
       " 'data/Savee/JE_h03.wav',\n",
       " 'data/Savee/JK_f12.wav',\n",
       " 'data/Savee/DC_sa15.wav',\n",
       " 'data/Savee/JK_sa12.wav',\n",
       " 'data/Savee/JK_n02.wav',\n",
       " 'data/Savee/JK_d10.wav',\n",
       " 'data/Savee/JE_f05.wav',\n",
       " 'data/Savee/DC_h12.wav',\n",
       " 'data/Savee/DC_su06.wav',\n",
       " 'data/Savee/JE_h08.wav',\n",
       " 'data/Savee/DC_n03.wav',\n",
       " 'data/Savee/JK_n19.wav',\n",
       " 'data/Savee/KL_f06.wav',\n",
       " 'data/Savee/DC_a03.wav',\n",
       " 'data/Savee/KL_n17.wav',\n",
       " 'data/Savee/JE_a01.wav',\n",
       " 'data/Savee/DC_n22.wav',\n",
       " 'data/Savee/JK_d09.wav',\n",
       " 'data/Savee/DC_f03.wav',\n",
       " 'data/Savee/JE_f12.wav',\n",
       " 'data/Savee/JE_d15.wav',\n",
       " 'data/Savee/DC_n26.wav',\n",
       " 'data/Savee/DC_sa01.wav',\n",
       " 'data/Savee/JK_su13.wav',\n",
       " 'data/Savee/DC_a02.wav',\n",
       " 'data/Savee/DC_su07.wav',\n",
       " 'data/Savee/KL_d02.wav',\n",
       " 'data/Savee/DC_a05.wav',\n",
       " 'data/Savee/JE_su15.wav',\n",
       " 'data/Savee/DC_sa06.wav',\n",
       " 'data/Savee/JE_n19.wav',\n",
       " 'data/Savee/KL_su13.wav',\n",
       " 'data/Savee/JE_d12.wav',\n",
       " 'data/Savee/JE_su05.wav',\n",
       " 'data/Savee/DC_n13.wav',\n",
       " 'data/Savee/JE_f07.wav',\n",
       " 'data/Savee/JK_n06.wav',\n",
       " 'data/Savee/DC_sa14.wav',\n",
       " 'data/Savee/JE_h06.wav',\n",
       " 'data/Savee/DC_d15.wav',\n",
       " 'data/Savee/JK_sa03.wav',\n",
       " 'data/Savee/DC_f02.wav',\n",
       " 'data/Savee/JK_n07.wav',\n",
       " 'data/Savee/JK_su02.wav',\n",
       " 'data/Savee/KL_n07.wav',\n",
       " 'data/Savee/JE_n15.wav',\n",
       " 'data/Savee/KL_n20.wav',\n",
       " 'data/Savee/KL_n18.wav',\n",
       " 'data/Savee/JK_h12.wav',\n",
       " 'data/Savee/JK_f03.wav',\n",
       " 'data/Savee/JK_n26.wav',\n",
       " 'data/Savee/JE_d03.wav',\n",
       " 'data/Savee/JE_sa11.wav',\n",
       " 'data/Savee/JK_h01.wav',\n",
       " 'data/Savee/KL_a04.wav',\n",
       " 'data/Savee/KL_n08.wav',\n",
       " 'data/Savee/KL_su12.wav',\n",
       " 'data/Savee/JK_n18.wav',\n",
       " 'data/Savee/KL_h12.wav',\n",
       " 'data/Savee/JE_sa12.wav',\n",
       " 'data/Savee/JE_h13.wav',\n",
       " 'data/Savee/DC_h07.wav',\n",
       " 'data/Savee/KL_n05.wav',\n",
       " 'data/Savee/KL_a02.wav',\n",
       " 'data/Savee/DC_n25.wav',\n",
       " 'data/Savee/JK_d13.wav',\n",
       " 'data/Savee/DC_a08.wav',\n",
       " 'data/Savee/DC_n11.wav',\n",
       " 'data/Savee/JE_sa07.wav',\n",
       " 'data/Savee/JK_su04.wav',\n",
       " 'data/Savee/KL_d15.wav',\n",
       " 'data/Savee/DC_n29.wav',\n",
       " 'data/Savee/KL_a14.wav',\n",
       " 'data/Savee/DC_h05.wav',\n",
       " 'data/Savee/KL_n26.wav',\n",
       " 'data/Savee/JE_sa13.wav',\n",
       " 'data/Savee/DC_n18.wav',\n",
       " 'data/Savee/DC_d04.wav',\n",
       " 'data/Savee/JK_a14.wav',\n",
       " 'data/Savee/DC_su05.wav',\n",
       " 'data/Savee/JE_n21.wav',\n",
       " 'data/Savee/JE_h07.wav']"
      ]
     },
     "execution_count": 23,
     "metadata": {},
     "output_type": "execute_result"
    }
   ],
   "source": [
    "audio_files_2"
   ]
  },
  {
   "cell_type": "code",
   "execution_count": 24,
   "id": "ecaed5b6",
   "metadata": {},
   "outputs": [
    {
     "data": {
      "text/plain": [
       "'f'"
      ]
     },
     "execution_count": 24,
     "metadata": {},
     "output_type": "execute_result"
    }
   ],
   "source": [
    "audio_files_2[0][14:-6]"
   ]
  },
  {
   "cell_type": "markdown",
   "id": "a7488fc8",
   "metadata": {},
   "source": [
    "## targeting"
   ]
  },
  {
   "cell_type": "code",
   "execution_count": 25,
   "id": "9d14bd0a",
   "metadata": {},
   "outputs": [],
   "source": [
    "ids=[]\n",
    "for audio in audio_files_2:\n",
    "    ids.append(audio[14:-6])\n",
    "\n",
    "new_df = pd.DataFrame(ids)\n",
    "new_df.rename(columns={0: \"emotion\"},inplace=True)\n",
    "#new_df['emotion'] = new_df.apply(lambda x: x[0].split(\"-\")[2], axis=1)\n",
    "#y2 = new_df['emotion']\n",
    "#y2"
   ]
  },
  {
   "cell_type": "code",
   "execution_count": 26,
   "id": "c12a0a3d",
   "metadata": {},
   "outputs": [
    {
     "data": {
      "text/html": [
       "<div>\n",
       "<style scoped>\n",
       "    .dataframe tbody tr th:only-of-type {\n",
       "        vertical-align: middle;\n",
       "    }\n",
       "\n",
       "    .dataframe tbody tr th {\n",
       "        vertical-align: top;\n",
       "    }\n",
       "\n",
       "    .dataframe thead th {\n",
       "        text-align: right;\n",
       "    }\n",
       "</style>\n",
       "<table border=\"1\" class=\"dataframe\">\n",
       "  <thead>\n",
       "    <tr style=\"text-align: right;\">\n",
       "      <th></th>\n",
       "      <th>emotion</th>\n",
       "    </tr>\n",
       "  </thead>\n",
       "  <tbody>\n",
       "    <tr>\n",
       "      <th>0</th>\n",
       "      <td>f</td>\n",
       "    </tr>\n",
       "    <tr>\n",
       "      <th>1</th>\n",
       "      <td>d</td>\n",
       "    </tr>\n",
       "    <tr>\n",
       "      <th>2</th>\n",
       "      <td>d</td>\n",
       "    </tr>\n",
       "    <tr>\n",
       "      <th>3</th>\n",
       "      <td>n</td>\n",
       "    </tr>\n",
       "    <tr>\n",
       "      <th>4</th>\n",
       "      <td>h</td>\n",
       "    </tr>\n",
       "    <tr>\n",
       "      <th>...</th>\n",
       "      <td>...</td>\n",
       "    </tr>\n",
       "    <tr>\n",
       "      <th>475</th>\n",
       "      <td>d</td>\n",
       "    </tr>\n",
       "    <tr>\n",
       "      <th>476</th>\n",
       "      <td>a</td>\n",
       "    </tr>\n",
       "    <tr>\n",
       "      <th>477</th>\n",
       "      <td>su</td>\n",
       "    </tr>\n",
       "    <tr>\n",
       "      <th>478</th>\n",
       "      <td>n</td>\n",
       "    </tr>\n",
       "    <tr>\n",
       "      <th>479</th>\n",
       "      <td>h</td>\n",
       "    </tr>\n",
       "  </tbody>\n",
       "</table>\n",
       "<p>480 rows × 1 columns</p>\n",
       "</div>"
      ],
      "text/plain": [
       "    emotion\n",
       "0         f\n",
       "1         d\n",
       "2         d\n",
       "3         n\n",
       "4         h\n",
       "..      ...\n",
       "475       d\n",
       "476       a\n",
       "477      su\n",
       "478       n\n",
       "479       h\n",
       "\n",
       "[480 rows x 1 columns]"
      ]
     },
     "execution_count": 26,
     "metadata": {},
     "output_type": "execute_result"
    }
   ],
   "source": [
    "new_df"
   ]
  },
  {
   "cell_type": "code",
   "execution_count": 28,
   "id": "50aad22f",
   "metadata": {},
   "outputs": [],
   "source": [
    "#savee\n",
    "#'a' = 'anger'\n",
    "#'d' = 'disgust'\n",
    "#'f' = 'fear'\n",
    "#'h' = 'happiness'\n",
    "#'n' = 'neutral'\n",
    "#'sa' = 'sadness'\n",
    "#'su' = 'surprise'"
   ]
  },
  {
   "cell_type": "code",
   "execution_count": 31,
   "id": "69514eb8",
   "metadata": {},
   "outputs": [],
   "source": [
    "#ravdess\n",
    "#Emotion (01 = neutral, 02 = calm, 03 = happy, 04 = sad, 05 = angry, 06 = fearful, 07 = disgust, 08 = surprised)."
   ]
  },
  {
   "cell_type": "code",
   "execution_count": 32,
   "id": "e7d4a1a9",
   "metadata": {},
   "outputs": [],
   "source": [
    "translate_emotion = {\n",
    "    'a':'05',\n",
    "    'd':'07',\n",
    "    'f':'06',\n",
    "    'h':'03',\n",
    "    'n':'01',\n",
    "    'sa':'04',\n",
    "    'su':'08'    \n",
    "}"
   ]
  },
  {
   "cell_type": "code",
   "execution_count": null,
   "id": "b89a0ed9",
   "metadata": {},
   "outputs": [],
   "source": []
  },
  {
   "cell_type": "code",
   "execution_count": 33,
   "id": "66a0a391",
   "metadata": {},
   "outputs": [
    {
     "data": {
      "text/plain": [
       "0      06\n",
       "1      07\n",
       "2      07\n",
       "3      01\n",
       "4      03\n",
       "       ..\n",
       "475    07\n",
       "476    05\n",
       "477    08\n",
       "478    01\n",
       "479    03\n",
       "Name: emotion, Length: 480, dtype: object"
      ]
     },
     "execution_count": 33,
     "metadata": {},
     "output_type": "execute_result"
    }
   ],
   "source": [
    "new_df = new_df.replace({'emotion':translate_emotion})\n",
    "y2 = new_df['emotion']\n",
    "y2"
   ]
  },
  {
   "cell_type": "markdown",
   "id": "2179d9b2",
   "metadata": {},
   "source": [
    "## finding X2"
   ]
  },
  {
   "cell_type": "code",
   "execution_count": 34,
   "id": "83b6ac8f",
   "metadata": {},
   "outputs": [],
   "source": [
    "spectrograms_2 = []\n",
    "for item in audio_files_2:\n",
    "    X, sr = librosa.load(item) #vectorizing\n",
    "    X_trim = librosa.effects.trim(X,top_db=35) #trimming data\n",
    "    \n",
    "    #padding\n",
    "    if X_trim[0].shape[0] >= 65000:\n",
    "        X_final = X_trim[0][:65000]\n",
    "        X_final = tf.convert_to_tensor(X_final).numpy()\n",
    "    else:\n",
    "        zero_padding = tf.zeros([65000]-tf.shape(X_trim[0]),dtype=tf.float32)\n",
    "        X_final = tf.concat([X_trim[0],zero_padding],0).numpy()\n",
    "        \n",
    "    #mel spectogram\n",
    "    S = librosa.feature.melspectrogram(y=X_final,\n",
    "                                   sr=sr,\n",
    "                                   n_mels=128,)\n",
    "    \n",
    "    #S = tf.expand_dims(S, axis=2)\n",
    "    spectrograms_2.append(S)"
   ]
  },
  {
   "cell_type": "code",
   "execution_count": 35,
   "id": "9a80b007",
   "metadata": {},
   "outputs": [],
   "source": [
    "X2= np.array(spectrograms_2)"
   ]
  },
  {
   "cell_type": "code",
   "execution_count": 36,
   "id": "b2dc55ae",
   "metadata": {},
   "outputs": [
    {
     "data": {
      "text/plain": [
       "(480, 128, 127)"
      ]
     },
     "execution_count": 36,
     "metadata": {},
     "output_type": "execute_result"
    }
   ],
   "source": [
    "X2.shape"
   ]
  },
  {
   "cell_type": "code",
   "execution_count": 37,
   "id": "8640e10b",
   "metadata": {},
   "outputs": [
    {
     "data": {
      "text/plain": [
       "(480,)"
      ]
     },
     "execution_count": 37,
     "metadata": {},
     "output_type": "execute_result"
    }
   ],
   "source": [
    "y2.shape"
   ]
  },
  {
   "cell_type": "markdown",
   "id": "6b6c3cf3",
   "metadata": {},
   "source": [
    "## accuracy testing"
   ]
  },
  {
   "cell_type": "code",
   "execution_count": 38,
   "id": "32c1795a",
   "metadata": {},
   "outputs": [],
   "source": [
    "# load the model from disk\n",
    "import pickle\n",
    "filename = 'models/54,6_model.sav'\n",
    "loaded_model = pickle.load(open(filename, 'rb'))\n"
   ]
  },
  {
   "cell_type": "code",
   "execution_count": 39,
   "id": "8a007663",
   "metadata": {},
   "outputs": [
    {
     "data": {
      "text/plain": [
       "0.13958333333333334"
      ]
     },
     "execution_count": 39,
     "metadata": {},
     "output_type": "execute_result"
    }
   ],
   "source": [
    "y_pred=loaded_model.predict(X2.reshape(480,128*127))\n",
    "accuracy_score(y2,y_pred)"
   ]
  },
  {
   "cell_type": "markdown",
   "id": "6272f258",
   "metadata": {},
   "source": [
    "## Confusion Matrix"
   ]
  },
  {
   "cell_type": "code",
   "execution_count": 40,
   "id": "fa31cf5e",
   "metadata": {},
   "outputs": [
    {
     "name": "stderr",
     "output_type": "stream",
     "text": [
      "/home/lucas/.pyenv/versions/3.8.12/envs/lewagon/lib/python3.8/site-packages/sklearn/utils/deprecation.py:87: FutureWarning: Function plot_confusion_matrix is deprecated; Function `plot_confusion_matrix` is deprecated in 1.0 and will be removed in 1.2. Use one of the class methods: ConfusionMatrixDisplay.from_predictions or ConfusionMatrixDisplay.from_estimator.\n",
      "  warnings.warn(msg, category=FutureWarning)\n"
     ]
    },
    {
     "data": {
      "text/plain": [
       "<sklearn.metrics._plot.confusion_matrix.ConfusionMatrixDisplay at 0x7f58dc7345e0>"
      ]
     },
     "execution_count": 40,
     "metadata": {},
     "output_type": "execute_result"
    },
    {
     "data": {
      "image/png": "[encoded data removed]",
      "text/plain": [
       "<Figure size 432x288 with 2 Axes>"
      ]
     },
     "metadata": {},
     "output_type": "display_data"
    }
   ],
   "source": [
    "from sklearn.metrics import plot_confusion_matrix\n",
    "plot_confusion_matrix(loaded_model,X2.reshape(480,128*127),y2)"
   ]
  },
  {
   "cell_type": "markdown",
   "id": "f87abcb6",
   "metadata": {},
   "source": [
    "# Training new model - Savee+ravdess"
   ]
  },
  {
   "cell_type": "markdown",
   "id": "7f486b0d",
   "metadata": {},
   "source": [
    "## X and y"
   ]
  },
  {
   "cell_type": "code",
   "execution_count": 41,
   "id": "34a6fa7f",
   "metadata": {},
   "outputs": [
    {
     "data": {
      "text/plain": [
       "(1920, 128, 127)"
      ]
     },
     "execution_count": 41,
     "metadata": {},
     "output_type": "execute_result"
    }
   ],
   "source": [
    "#X_all = np.append(X_train,X_test,axis=0)\n",
    "X_all = np.append(X1,X2,axis=0)\n",
    "X_all.shape"
   ]
  },
  {
   "cell_type": "code",
   "execution_count": 42,
   "id": "53f4fe8f",
   "metadata": {},
   "outputs": [
    {
     "data": {
      "text/plain": [
       "(1920,)"
      ]
     },
     "execution_count": 42,
     "metadata": {},
     "output_type": "execute_result"
    }
   ],
   "source": [
    "y_all = np.append(y,y2,axis=0)\n",
    "y_all.shape"
   ]
  },
  {
   "cell_type": "markdown",
   "id": "dcb89b86",
   "metadata": {},
   "source": [
    "## split and flat"
   ]
  },
  {
   "cell_type": "code",
   "execution_count": 43,
   "id": "89bfcfad",
   "metadata": {},
   "outputs": [],
   "source": [
    "X_train2, X_test2, y_train2, y_test2 = train_test_split(X_all, y_all, test_size=0.3, random_state=42)"
   ]
  },
  {
   "cell_type": "code",
   "execution_count": 44,
   "id": "4bd7dc3d",
   "metadata": {},
   "outputs": [
    {
     "data": {
      "text/plain": [
       "(1344, 128, 127)"
      ]
     },
     "execution_count": 44,
     "metadata": {},
     "output_type": "execute_result"
    }
   ],
   "source": [
    "X_train2.shape"
   ]
  },
  {
   "cell_type": "code",
   "execution_count": 45,
   "id": "17784e99",
   "metadata": {},
   "outputs": [],
   "source": [
    "X_flat2=X_train2.reshape(1344,128*127)"
   ]
  },
  {
   "cell_type": "markdown",
   "id": "1ad231f8",
   "metadata": {},
   "source": [
    "## creating model and testing"
   ]
  },
  {
   "cell_type": "code",
   "execution_count": 46,
   "id": "c62f8517",
   "metadata": {},
   "outputs": [
    {
     "data": {
      "text/html": [
       "<style>#sk-container-id-2 {color: black;background-color: white;}#sk-container-id-2 pre{padding: 0;}#sk-container-id-2 div.sk-toggleable {background-color: white;}#sk-container-id-2 label.sk-toggleable__label {cursor: pointer;display: block;width: 100%;margin-bottom: 0;padding: 0.3em;box-sizing: border-box;text-align: center;}#sk-container-id-2 label.sk-toggleable__label-arrow:before {content: \"▸\";float: left;margin-right: 0.25em;color: #696969;}#sk-container-id-2 label.sk-toggleable__label-arrow:hover:before {color: black;}#sk-container-id-2 div.sk-estimator:hover label.sk-toggleable__label-arrow:before {color: black;}#sk-container-id-2 div.sk-toggleable__content {max-height: 0;max-width: 0;overflow: hidden;text-align: left;background-color: #f0f8ff;}#sk-container-id-2 div.sk-toggleable__content pre {margin: 0.2em;color: black;border-radius: 0.25em;background-color: #f0f8ff;}#sk-container-id-2 input.sk-toggleable__control:checked~div.sk-toggleable__content {max-height: 200px;max-width: 100%;overflow: auto;}#sk-container-id-2 input.sk-toggleable__control:checked~label.sk-toggleable__label-arrow:before {content: \"▾\";}#sk-container-id-2 div.sk-estimator input.sk-toggleable__control:checked~label.sk-toggleable__label {background-color: #d4ebff;}#sk-container-id-2 div.sk-label input.sk-toggleable__control:checked~label.sk-toggleable__label {background-color: #d4ebff;}#sk-container-id-2 input.sk-hidden--visually {border: 0;clip: rect(1px 1px 1px 1px);clip: rect(1px, 1px, 1px, 1px);height: 1px;margin: -1px;overflow: hidden;padding: 0;position: absolute;width: 1px;}#sk-container-id-2 div.sk-estimator {font-family: monospace;background-color: #f0f8ff;border: 1px dotted black;border-radius: 0.25em;box-sizing: border-box;margin-bottom: 0.5em;}#sk-container-id-2 div.sk-estimator:hover {background-color: #d4ebff;}#sk-container-id-2 div.sk-parallel-item::after {content: \"\";width: 100%;border-bottom: 1px solid gray;flex-grow: 1;}#sk-container-id-2 div.sk-label:hover label.sk-toggleable__label {background-color: #d4ebff;}#sk-container-id-2 div.sk-serial::before {content: \"\";position: absolute;border-left: 1px solid gray;box-sizing: border-box;top: 0;bottom: 0;left: 50%;z-index: 0;}#sk-container-id-2 div.sk-serial {display: flex;flex-direction: column;align-items: center;background-color: white;padding-right: 0.2em;padding-left: 0.2em;position: relative;}#sk-container-id-2 div.sk-item {position: relative;z-index: 1;}#sk-container-id-2 div.sk-parallel {display: flex;align-items: stretch;justify-content: center;background-color: white;position: relative;}#sk-container-id-2 div.sk-item::before, #sk-container-id-2 div.sk-parallel-item::before {content: \"\";position: absolute;border-left: 1px solid gray;box-sizing: border-box;top: 0;bottom: 0;left: 50%;z-index: -1;}#sk-container-id-2 div.sk-parallel-item {display: flex;flex-direction: column;z-index: 1;position: relative;background-color: white;}#sk-container-id-2 div.sk-parallel-item:first-child::after {align-self: flex-end;width: 50%;}#sk-container-id-2 div.sk-parallel-item:last-child::after {align-self: flex-start;width: 50%;}#sk-container-id-2 div.sk-parallel-item:only-child::after {width: 0;}#sk-container-id-2 div.sk-dashed-wrapped {border: 1px dashed gray;margin: 0 0.4em 0.5em 0.4em;box-sizing: border-box;padding-bottom: 0.4em;background-color: white;}#sk-container-id-2 div.sk-label label {font-family: monospace;font-weight: bold;display: inline-block;line-height: 1.2em;}#sk-container-id-2 div.sk-label-container {text-align: center;}#sk-container-id-2 div.sk-container {/* jupyter's `normalize.less` sets `[hidden] { display: none; }` but bootstrap.min.css set `[hidden] { display: none !important; }` so we also need the `!important` here to be able to override the default hidden behavior on the sphinx rendered scikit-learn.org. See: https://github.com/scikit-learn/scikit-learn/issues/21755 */display: inline-block !important;position: relative;}#sk-container-id-2 div.sk-text-repr-fallback {display: none;}</style><div id=\"sk-container-id-2\" class=\"sk-top-container\"><div class=\"sk-text-repr-fallback\"><pre>RandomForestClassifier(max_depth=12, min_samples_split=4, n_estimators=1000)</pre><b>In a Jupyter environment, please rerun this cell to show the HTML representation or trust the notebook. <br />On GitHub, the HTML representation is unable to render, please try loading this page with nbviewer.org.</b></div><div class=\"sk-container\" hidden><div class=\"sk-item\"><div class=\"sk-estimator sk-toggleable\"><input class=\"sk-toggleable__control sk-hidden--visually\" id=\"sk-estimator-id-2\" type=\"checkbox\" checked><label for=\"sk-estimator-id-2\" class=\"sk-toggleable__label sk-toggleable__label-arrow\">RandomForestClassifier</label><div class=\"sk-toggleable__content\"><pre>RandomForestClassifier(max_depth=12, min_samples_split=4, n_estimators=1000)</pre></div></div></div></div></div>"
      ],
      "text/plain": [
       "RandomForestClassifier(max_depth=12, min_samples_split=4, n_estimators=1000)"
      ]
     },
     "execution_count": 46,
     "metadata": {},
     "output_type": "execute_result"
    }
   ],
   "source": [
    "model_tuned = RandomForestClassifier(max_depth=12,min_samples_split=4,n_estimators=1000)\n",
    "model_tuned.fit(X_flat2,y_train2)"
   ]
  },
  {
   "cell_type": "code",
   "execution_count": 47,
   "id": "a76f9eb0",
   "metadata": {},
   "outputs": [
    {
     "data": {
      "text/plain": [
       "0.18055555555555555"
      ]
     },
     "execution_count": 47,
     "metadata": {},
     "output_type": "execute_result"
    }
   ],
   "source": [
    "y_pred2=model_tuned.predict(X_test2.reshape(X_test2.shape[0],128*127))\n",
    "accuracy_score(y_test2,y_pred2)"
   ]
  },
  {
   "cell_type": "code",
   "execution_count": 48,
   "id": "7c25a429",
   "metadata": {},
   "outputs": [
    {
     "name": "stderr",
     "output_type": "stream",
     "text": [
      "/home/lucas/.pyenv/versions/3.8.12/envs/lewagon/lib/python3.8/site-packages/sklearn/utils/deprecation.py:87: FutureWarning: Function plot_confusion_matrix is deprecated; Function `plot_confusion_matrix` is deprecated in 1.0 and will be removed in 1.2. Use one of the class methods: ConfusionMatrixDisplay.from_predictions or ConfusionMatrixDisplay.from_estimator.\n",
      "  warnings.warn(msg, category=FutureWarning)\n"
     ]
    },
    {
     "data": {
      "text/plain": [
       "<sklearn.metrics._plot.confusion_matrix.ConfusionMatrixDisplay at 0x7f58dbff0d00>"
      ]
     },
     "execution_count": 48,
     "metadata": {},
     "output_type": "execute_result"
    },
    {
     "data": {
      "image/png": "[encoded data removed]",
      "text/plain": [
       "<Figure size 432x288 with 2 Axes>"
      ]
     },
     "metadata": {},
     "output_type": "display_data"
    }
   ],
   "source": [
    "plot_confusion_matrix(model_tuned,X_test2.reshape(X_test2.shape[0],128*127),y_test2)"
   ]
  },
  {
   "cell_type": "markdown",
   "id": "4d416b30",
   "metadata": {},
   "source": [
    "# Getting even more audio (tess)"
   ]
  },
  {
   "cell_type": "markdown",
   "id": "c6f3a9c4",
   "metadata": {},
   "source": [
    "## getting audio"
   ]
  },
  {
   "cell_type": "code",
   "execution_count": 75,
   "id": "66688605",
   "metadata": {},
   "outputs": [],
   "source": [
    "audio_files_3 = glob(\"data/Tess/*.wav\")"
   ]
  },
  {
   "cell_type": "code",
   "execution_count": 50,
   "id": "6023cb21",
   "metadata": {},
   "outputs": [
    {
     "data": {
      "text/plain": [
       "['data/Tess/YAF_wife_angry.wav',\n",
       " 'data/Tess/YAF_search_ps.wav',\n",
       " 'data/Tess/OAF_calm_fear.wav',\n",
       " 'data/Tess/YAF_germ_happy.wav',\n",
       " 'data/Tess/YAF_such_disgust.wav',\n",
       " 'data/Tess/YAF_third_angry.wav',\n",
       " 'data/Tess/YAF_bar_happy.wav',\n",
       " 'data/Tess/OAF_keen_sad.wav',\n",
       " 'data/Tess/YAF_kick_fear.wav',\n",
       " 'data/Tess/OAF_lore_neutral.wav',\n",
       " 'data/Tess/YAF_door_ps.wav',\n",
       " 'data/Tess/YAF_date_happy.wav',\n",
       " 'data/Tess/OAF_phone_angry.wav',\n",
       " 'data/Tess/OAF_lean_ps.wav',\n",
       " 'data/Tess/YAF_pick_neutral.wav',\n",
       " 'data/Tess/OAF_long_disgust.wav',\n",
       " 'data/Tess/OAF_bar_fear.wav',\n",
       " 'data/Tess/YAF_bean_fear.wav',\n",
       " 'data/Tess/OAF_match_happy.wav',\n",
       " 'data/Tess/YAF_keg_disgust.wav',\n",
       " 'data/Tess/OAF_room_happy.wav',\n",
       " 'data/Tess/YAF_get_disgust.wav',\n",
       " 'data/Tess/OAF_mill_angry.wav',\n",
       " 'data/Tess/YAF_chat_fear.wav',\n",
       " 'data/Tess/OAF_road_sad.wav',\n",
       " 'data/Tess/YAF_laud_neutral.wav',\n",
       " 'data/Tess/OAF_page_sad.wav',\n",
       " 'data/Tess/OAF_shall_sad.wav',\n",
       " 'data/Tess/OAF_take_disgust.wav',\n",
       " 'data/Tess/OAF_cab_neutral.wav',\n",
       " 'data/Tess/OAF_door_sad.wav',\n",
       " 'data/Tess/OAF_sub_ps.wav',\n",
       " 'data/Tess/YAF_love_angry.wav',\n",
       " 'data/Tess/OAF_back_disgust.wav',\n",
       " 'data/Tess/YAF_long_disgust.wav',\n",
       " 'data/Tess/OAF_dog_sad.wav',\n",
       " 'data/Tess/OAF_nag_ps.wav',\n",
       " 'data/Tess/OAF_good_sad.wav',\n",
       " 'data/Tess/OAF_pick_happy.wav',\n",
       " 'data/Tess/YAF_which_fear.wav',\n",
       " 'data/Tess/YAF_match_angry.wav',\n",
       " 'data/Tess/OAF_white_happy.wav',\n",
       " 'data/Tess/YAF_mill_fear.wav',\n",
       " 'data/Tess/OAF_lot_disgust.wav',\n",
       " 'data/Tess/YAF_yes_ps.wav',\n",
       " 'data/Tess/OAF_deep_neutral.wav',\n",
       " 'data/Tess/YAF_yearn_fear.wav',\n",
       " 'data/Tess/YAF_gun_happy.wav',\n",
       " 'data/Tess/OAF_pool_ps.wav',\n",
       " 'data/Tess/YAF_king_ps.wav',\n",
       " 'data/Tess/OAF_ton_angry.wav',\n",
       " 'data/Tess/OAF_learn_angry.wav',\n",
       " 'data/Tess/OAF_sheep_neutral.wav',\n",
       " 'data/Tess/OAF_dodge_fear.wav',\n",
       " 'data/Tess/YAF_kite_ps.wav',\n",
       " 'data/Tess/OAF_numb_angry.wav',\n",
       " 'data/Tess/OAF_third_fear.wav',\n",
       " 'data/Tess/YAF_note_disgust.wav',\n",
       " 'data/Tess/OAF_food_ps.wav',\n",
       " 'data/Tess/OAF_rose_angry.wav',\n",
       " 'data/Tess/OAF_tell_fear.wav',\n",
       " 'data/Tess/OAF_rot_neutral.wav',\n",
       " 'data/Tess/OAF_mill_fear.wav',\n",
       " 'data/Tess/OAF_soap_sad.wav',\n",
       " 'data/Tess/OAF_have_ps.wav',\n",
       " 'data/Tess/OAF_cheek_disgust.wav',\n",
       " 'data/Tess/OAF_yearn_happy.wav',\n",
       " 'data/Tess/OAF_fail_angry.wav',\n",
       " 'data/Tess/OAF_wash_angry.wav',\n",
       " 'data/Tess/YAF_beg_ps.wav',\n",
       " 'data/Tess/OAF_life_disgust.wav',\n",
       " 'data/Tess/YAF_hurl_ps.wav',\n",
       " 'data/Tess/OAF_wash_fear.wav',\n",
       " 'data/Tess/YAF_tire_fear.wav',\n",
       " 'data/Tess/OAF_young_happy.wav',\n",
       " 'data/Tess/OAF_hush_neutral.wav',\n",
       " 'data/Tess/YAF_fit_angry.wav',\n",
       " 'data/Tess/OAF_king_disgust.wav',\n",
       " 'data/Tess/OAF_wag_sad.wav',\n",
       " 'data/Tess/OAF_void_happy.wav',\n",
       " 'data/Tess/OAF_thin_neutral.wav',\n",
       " 'data/Tess/YAF_learn_happy.wav',\n",
       " 'data/Tess/OAF_chief_angry.wav',\n",
       " 'data/Tess/OAF_tool_angry.wav',\n",
       " 'data/Tess/YAF_name_happy.wav',\n",
       " 'data/Tess/OAF_tire_neutral.wav',\n",
       " 'data/Tess/YAF_jar_angry.wav',\n",
       " 'data/Tess/OAF_pad_neutral.wav',\n",
       " 'data/Tess/OAF_pike_disgust.wav',\n",
       " 'data/Tess/YAF_dab_fear.wav',\n",
       " 'data/Tess/YAF_red_happy.wav',\n",
       " 'data/Tess/YAF_dead_happy.wav',\n",
       " 'data/Tess/OAF_young_neutral.wav',\n",
       " 'data/Tess/OAF_dab_disgust.wav',\n",
       " 'data/Tess/YAF_whip_angry.wav',\n",
       " 'data/Tess/YAF_thumb_fear.wav',\n",
       " 'data/Tess/YAF_peg_ps.wav',\n",
       " 'data/Tess/OAF_kick_happy.wav',\n",
       " 'data/Tess/OAF_burn_angry.wav',\n",
       " 'data/Tess/OAF_sheep_ps.wav',\n",
       " 'data/Tess/YAF_king_happy.wav',\n",
       " 'data/Tess/YAF_make_fear.wav',\n",
       " 'data/Tess/OAF_lose_fear.wav',\n",
       " 'data/Tess/OAF_bar_happy.wav',\n",
       " 'data/Tess/OAF_wife_disgust.wav',\n",
       " 'data/Tess/YAF_jail_ps.wav',\n",
       " 'data/Tess/OAF_walk_disgust.wav',\n",
       " 'data/Tess/OAF_dab_angry.wav',\n",
       " 'data/Tess/OAF_soap_fear.wav',\n",
       " 'data/Tess/OAF_boat_angry.wav',\n",
       " 'data/Tess/YAF_rough_neutral.wav',\n",
       " 'data/Tess/YAF_note_angry.wav',\n",
       " 'data/Tess/OAF_live_angry.wav',\n",
       " 'data/Tess/OAF_gap_sad.wav',\n",
       " 'data/Tess/YAF_fail_angry.wav',\n",
       " 'data/Tess/OAF_rush_neutral.wav',\n",
       " 'data/Tess/YAF_chat_neutral.wav',\n",
       " 'data/Tess/OAF_which_fear.wav',\n",
       " 'data/Tess/OAF_deep_disgust.wav',\n",
       " 'data/Tess/OAF_kite_neutral.wav',\n",
       " 'data/Tess/YAF_lot_fear.wav',\n",
       " 'data/Tess/YAF_white_happy.wav',\n",
       " 'data/Tess/YAF_nag_disgust.wav',\n",
       " 'data/Tess/YAF_live_ps.wav',\n",
       " 'data/Tess/YAF_hush_angry.wav',\n",
       " 'data/Tess/OAF_pad_sad.wav',\n",
       " 'data/Tess/OAF_five_angry.wav',\n",
       " 'data/Tess/OAF_hit_disgust.wav',\n",
       " 'data/Tess/YAF_cheek_disgust.wav',\n",
       " 'data/Tess/YAF_tell_angry.wav',\n",
       " 'data/Tess/YAF_dead_ps.wav',\n",
       " 'data/Tess/OAF_yearn_ps.wav',\n",
       " 'data/Tess/YAF_moon_angry.wav',\n",
       " 'data/Tess/YAF_came_fear.wav',\n",
       " 'data/Tess/OAF_pike_sad.wav',\n",
       " 'data/Tess/OAF_rot_fear.wav',\n",
       " 'data/Tess/YAF_kill_neutral.wav',\n",
       " 'data/Tess/YAF_jail_fear.wav',\n",
       " 'data/Tess/YAF_take_fear.wav',\n",
       " 'data/Tess/OAF_yes_fear.wav',\n",
       " 'data/Tess/YAF_shirt_ps.wav',\n",
       " 'data/Tess/YAF_boat_ps.wav',\n",
       " 'data/Tess/OAF_gin_disgust.wav',\n",
       " 'data/Tess/OAF_calm_angry.wav',\n",
       " 'data/Tess/OAF_germ_angry.wav',\n",
       " 'data/Tess/OAF_bought_neutral.wav',\n",
       " 'data/Tess/OAF_note_angry.wav',\n",
       " 'data/Tess/OAF_bone_fear.wav',\n",
       " 'data/Tess/OAF_jar_fear.wav',\n",
       " 'data/Tess/YAF_raise_angry.wav',\n",
       " 'data/Tess/YAF_date_disgust.wav',\n",
       " 'data/Tess/OAF_size_ps.wav',\n",
       " 'data/Tess/OAF_hush_fear.wav',\n",
       " 'data/Tess/YAF_burn_ps.wav',\n",
       " 'data/Tess/YAF_void_happy.wav',\n",
       " 'data/Tess/OAF_peg_angry.wav',\n",
       " 'data/Tess/OAF_name_neutral.wav',\n",
       " 'data/Tess/YAF_perch_neutral.wav',\n",
       " 'data/Tess/YAF_cab_happy.wav',\n",
       " 'data/Tess/YAF_name_fear.wav',\n",
       " 'data/Tess/OAF_moon_disgust.wav',\n",
       " 'data/Tess/OAF_such_neutral.wav',\n",
       " 'data/Tess/OAF_lean_sad.wav',\n",
       " 'data/Tess/YAF_gap_happy.wav',\n",
       " 'data/Tess/YAF_bath_neutral.wav',\n",
       " 'data/Tess/OAF_team_neutral.wav',\n",
       " 'data/Tess/YAF_laud_disgust.wav',\n",
       " 'data/Tess/YAF_red_angry.wav',\n",
       " 'data/Tess/YAF_calm_fear.wav',\n",
       " 'data/Tess/YAF_good_angry.wav',\n",
       " 'data/Tess/YAF_mode_neutral.wav',\n",
       " 'data/Tess/OAF_pick_ps.wav',\n",
       " 'data/Tess/OAF_lot_fear.wav',\n",
       " 'data/Tess/YAF_thought_neutral.wav',\n",
       " 'data/Tess/YAF_chair_ps.wav',\n",
       " 'data/Tess/OAF_doll_ps.wav',\n",
       " 'data/Tess/OAF_moon_angry.wav',\n",
       " 'data/Tess/OAF_tell_neutral.wav',\n",
       " 'data/Tess/OAF_dead_angry.wav',\n",
       " 'data/Tess/YAF_keen_angry.wav',\n",
       " 'data/Tess/YAF_shirt_neutral.wav',\n",
       " 'data/Tess/OAF_late_angry.wav',\n",
       " 'data/Tess/YAF_pass_ps.wav',\n",
       " 'data/Tess/OAF_wash_happy.wav',\n",
       " 'data/Tess/OAF_lore_fear.wav',\n",
       " 'data/Tess/OAF_said_happy.wav',\n",
       " 'data/Tess/YAF_size_ps.wav',\n",
       " 'data/Tess/OAF_choice_happy.wav',\n",
       " 'data/Tess/YAF_sure_ps.wav',\n",
       " 'data/Tess/OAF_fit_fear.wav',\n",
       " 'data/Tess/OAF_fall_neutral.wav',\n",
       " 'data/Tess/YAF_kite_neutral.wav',\n",
       " 'data/Tess/OAF_dab_neutral.wav',\n",
       " 'data/Tess/YAF_dime_angry.wav',\n",
       " 'data/Tess/OAF_kick_angry.wav',\n",
       " 'data/Tess/OAF_sail_angry.wav',\n",
       " 'data/Tess/YAF_rough_fear.wav',\n",
       " 'data/Tess/OAF_sell_sad.wav',\n",
       " 'data/Tess/YAF_chief_angry.wav',\n",
       " 'data/Tess/OAF_size_neutral.wav',\n",
       " 'data/Tess/YAF_rag_angry.wav',\n",
       " 'data/Tess/YAF_soup_angry.wav',\n",
       " 'data/Tess/YAF_pick_angry.wav',\n",
       " 'data/Tess/OAF_loaf_ps.wav',\n",
       " 'data/Tess/OAF_lid_neutral.wav',\n",
       " 'data/Tess/YAF_when_angry.wav',\n",
       " 'data/Tess/YAF_kill_angry.wav',\n",
       " 'data/Tess/YAF_half_angry.wav',\n",
       " 'data/Tess/YAF_match_fear.wav',\n",
       " 'data/Tess/YAF_knock_happy.wav',\n",
       " 'data/Tess/YAF_numb_fear.wav',\n",
       " 'data/Tess/OAF_perch_ps.wav',\n",
       " 'data/Tess/OAF_late_happy.wav',\n",
       " 'data/Tess/OAF_mill_happy.wav',\n",
       " 'data/Tess/YAF_ring_angry.wav',\n",
       " 'data/Tess/YAF_lease_neutral.wav',\n",
       " 'data/Tess/YAF_turn_fear.wav',\n",
       " 'data/Tess/OAF_time_happy.wav',\n",
       " 'data/Tess/YAF_dead_neutral.wav',\n",
       " 'data/Tess/YAF_dime_disgust.wav',\n",
       " 'data/Tess/YAF_gap_angry.wav',\n",
       " 'data/Tess/YAF_shawl_disgust.wav',\n",
       " 'data/Tess/OAF_said_ps.wav',\n",
       " 'data/Tess/YAF_ring_happy.wav',\n",
       " 'data/Tess/YAF_make_disgust.wav',\n",
       " 'data/Tess/YAF_shout_neutral.wav',\n",
       " 'data/Tess/OAF_dime_ps.wav',\n",
       " 'data/Tess/OAF_limb_neutral.wav',\n",
       " 'data/Tess/OAF_rose_disgust.wav',\n",
       " 'data/Tess/OAF_pain_ps.wav',\n",
       " 'data/Tess/OAF_week_disgust.wav',\n",
       " 'data/Tess/OAF_week_happy.wav',\n",
       " 'data/Tess/YAF_gaze_neutral.wav',\n",
       " 'data/Tess/YAF_numb_neutral.wav',\n",
       " 'data/Tess/OAF_said_fear.wav',\n",
       " 'data/Tess/YAF_jail_neutral.wav',\n",
       " 'data/Tess/OAF_whip_disgust.wav',\n",
       " 'data/Tess/OAF_rush_ps.wav',\n",
       " 'data/Tess/YAF_lose_ps.wav',\n",
       " 'data/Tess/OAF_south_fear.wav',\n",
       " 'data/Tess/YAF_late_ps.wav',\n",
       " 'data/Tess/OAF_tire_fear.wav',\n",
       " 'data/Tess/OAF_fall_ps.wav',\n",
       " 'data/Tess/OAF_should_happy.wav',\n",
       " 'data/Tess/OAF_cheek_neutral.wav',\n",
       " 'data/Tess/YAF_chief_neutral.wav',\n",
       " 'data/Tess/OAF_week_sad.wav',\n",
       " 'data/Tess/YAF_wag_ps.wav',\n",
       " 'data/Tess/OAF_wife_sad.wav',\n",
       " 'data/Tess/OAF_sail_disgust.wav',\n",
       " 'data/Tess/YAF_hole_neutral.wav',\n",
       " 'data/Tess/YAF_base_ps.wav',\n",
       " 'data/Tess/OAF_rush_angry.wav',\n",
       " 'data/Tess/OAF_nag_happy.wav',\n",
       " 'data/Tess/OAF_take_ps.wav',\n",
       " 'data/Tess/YAF_fall_ps.wav',\n",
       " 'data/Tess/OAF_keep_angry.wav',\n",
       " 'data/Tess/YAF_south_disgust.wav',\n",
       " 'data/Tess/OAF_dog_angry.wav',\n",
       " 'data/Tess/OAF_hole_neutral.wav',\n",
       " 'data/Tess/YAF_mop_fear.wav',\n",
       " 'data/Tess/OAF_white_disgust.wav',\n",
       " 'data/Tess/YAF_tire_happy.wav',\n",
       " 'data/Tess/YAF_doll_fear.wav',\n",
       " 'data/Tess/OAF_raid_neutral.wav',\n",
       " 'data/Tess/YAF_chalk_angry.wav',\n",
       " 'data/Tess/OAF_jail_neutral.wav',\n",
       " 'data/Tess/YAF_hurl_neutral.wav',\n",
       " 'data/Tess/OAF_have_sad.wav',\n",
       " 'data/Tess/OAF_sub_sad.wav',\n",
       " 'data/Tess/OAF_bath_sad.wav',\n",
       " 'data/Tess/YAF_ring_disgust.wav',\n",
       " 'data/Tess/YAF_chalk_disgust.wav',\n",
       " 'data/Tess/YAF_pick_happy.wav',\n",
       " 'data/Tess/OAF_ton_disgust.wav',\n",
       " 'data/Tess/YAF_cheek_ps.wav',\n",
       " 'data/Tess/YAF_food_fear.wav',\n",
       " 'data/Tess/OAF_join_neutral.wav',\n",
       " 'data/Tess/YAF_merge_fear.wav',\n",
       " 'data/Tess/YAF_five_fear.wav',\n",
       " 'data/Tess/OAF_kick_disgust.wav',\n",
       " 'data/Tess/OAF_chain_fear.wav',\n",
       " 'data/Tess/OAF_book_fear.wav',\n",
       " 'data/Tess/OAF_far_fear.wav',\n",
       " 'data/Tess/OAF_fall_fear.wav',\n",
       " 'data/Tess/YAF_learn_angry.wav',\n",
       " 'data/Tess/OAF_dead_sad.wav',\n",
       " 'data/Tess/OAF_pool_happy.wav',\n",
       " 'data/Tess/OAF_talk_angry.wav',\n",
       " 'data/Tess/YAF_yearn_angry.wav',\n",
       " 'data/Tess/YAF_rain_neutral.wav',\n",
       " 'data/Tess/YAF_lose_neutral.wav',\n",
       " 'data/Tess/OAF_chair_fear.wav',\n",
       " 'data/Tess/OAF_mouse_disgust.wav',\n",
       " 'data/Tess/YAF_pad_happy.wav',\n",
       " 'data/Tess/YAF_mob_neutral.wav',\n",
       " 'data/Tess/YAF_hall_ps.wav',\n",
       " 'data/Tess/YAF_wife_fear.wav',\n",
       " 'data/Tess/YAF_love_fear.wav',\n",
       " 'data/Tess/OAF_kill_neutral.wav',\n",
       " 'data/Tess/YAF_rose_angry.wav',\n",
       " 'data/Tess/YAF_cool_fear.wav',\n",
       " 'data/Tess/OAF_ditch_neutral.wav',\n",
       " 'data/Tess/OAF_whip_neutral.wav',\n",
       " 'data/Tess/OAF_tell_ps.wav',\n",
       " 'data/Tess/OAF_fall_sad.wav',\n",
       " 'data/Tess/OAF_beg_ps.wav',\n",
       " 'data/Tess/OAF_doll_disgust.wav',\n",
       " 'data/Tess/YAF_hurl_angry.wav',\n",
       " 'data/Tess/OAF_wag_disgust.wav',\n",
       " 'data/Tess/YAF_rough_disgust.wav',\n",
       " 'data/Tess/OAF_ripe_happy.wav',\n",
       " 'data/Tess/YAF_ditch_disgust.wav',\n",
       " 'data/Tess/YAF_kite_fear.wav',\n",
       " 'data/Tess/YAF_pike_happy.wav',\n",
       " 'data/Tess/OAF_tape_sad.wav',\n",
       " 'data/Tess/YAF_turn_ps.wav',\n",
       " 'data/Tess/OAF_lease_fear.wav',\n",
       " 'data/Tess/OAF_ripe_neutral.wav',\n",
       " 'data/Tess/OAF_hate_sad.wav',\n",
       " 'data/Tess/OAF_numb_disgust.wav',\n",
       " 'data/Tess/OAF_mess_neutral.wav',\n",
       " 'data/Tess/YAF_chain_happy.wav',\n",
       " 'data/Tess/YAF_jar_happy.wav',\n",
       " 'data/Tess/OAF_kill_sad.wav',\n",
       " 'data/Tess/YAF_rush_neutral.wav',\n",
       " 'data/Tess/YAF_puff_neutral.wav',\n",
       " 'data/Tess/YAF_dip_neutral.wav',\n",
       " 'data/Tess/OAF_tape_angry.wav',\n",
       " 'data/Tess/OAF_cab_disgust.wav',\n",
       " 'data/Tess/YAF_kill_disgust.wav',\n",
       " 'data/Tess/OAF_limb_ps.wav',\n",
       " 'data/Tess/OAF_dab_fear.wav',\n",
       " 'data/Tess/OAF_pass_sad.wav',\n",
       " 'data/Tess/YAF_nice_disgust.wav',\n",
       " 'data/Tess/YAF_vote_fear.wav',\n",
       " 'data/Tess/OAF_sell_disgust.wav',\n",
       " 'data/Tess/YAF_thin_fear.wav',\n",
       " 'data/Tess/OAF_take_happy.wav',\n",
       " 'data/Tess/YAF_wheat_ps.wav',\n",
       " 'data/Tess/OAF_puff_disgust.wav',\n",
       " 'data/Tess/OAF_walk_happy.wav',\n",
       " 'data/Tess/YAF_mob_happy.wav',\n",
       " 'data/Tess/YAF_numb_happy.wav',\n",
       " 'data/Tess/OAF_lot_sad.wav',\n",
       " 'data/Tess/OAF_witch_fear.wav',\n",
       " 'data/Tess/OAF_half_angry.wav',\n",
       " 'data/Tess/YAF_when_fear.wav',\n",
       " 'data/Tess/OAF_cheek_angry.wav',\n",
       " 'data/Tess/OAF_raid_ps.wav',\n",
       " 'data/Tess/OAF_mouse_happy.wav',\n",
       " 'data/Tess/YAF_loaf_disgust.wav',\n",
       " 'data/Tess/OAF_thin_fear.wav',\n",
       " 'data/Tess/YAF_sell_fear.wav',\n",
       " 'data/Tess/YAF_kill_fear.wav',\n",
       " 'data/Tess/YAF_long_ps.wav',\n",
       " 'data/Tess/YAF_luck_happy.wav',\n",
       " 'data/Tess/YAF_tool_fear.wav',\n",
       " 'data/Tess/YAF_dip_happy.wav',\n",
       " 'data/Tess/OAF_doll_sad.wav',\n",
       " 'data/Tess/YAF_shack_disgust.wav',\n",
       " 'data/Tess/YAF_cheek_angry.wav',\n",
       " 'data/Tess/OAF_goose_angry.wav',\n",
       " 'data/Tess/OAF_choice_angry.wav',\n",
       " 'data/Tess/YAF_wash_fear.wav',\n",
       " 'data/Tess/YAF_search_disgust.wav',\n",
       " 'data/Tess/OAF_knock_angry.wav',\n",
       " 'data/Tess/YAF_love_happy.wav',\n",
       " 'data/Tess/OAF_moon_fear.wav',\n",
       " 'data/Tess/OAF_bone_sad.wav',\n",
       " 'data/Tess/OAF_moon_neutral.wav',\n",
       " 'data/Tess/OAF_half_neutral.wav',\n",
       " 'data/Tess/OAF_kite_happy.wav',\n",
       " 'data/Tess/YAF_voice_fear.wav',\n",
       " 'data/Tess/OAF_home_happy.wav',\n",
       " 'data/Tess/OAF_five_neutral.wav',\n",
       " 'data/Tess/YAF_keep_neutral.wav',\n",
       " 'data/Tess/OAF_nag_disgust.wav',\n",
       " 'data/Tess/YAF_pick_ps.wav',\n",
       " 'data/Tess/OAF_join_disgust.wav',\n",
       " 'data/Tess/OAF_search_sad.wav',\n",
       " 'data/Tess/OAF_gap_disgust.wav',\n",
       " 'data/Tess/OAF_team_happy.wav',\n",
       " 'data/Tess/YAF_mob_fear.wav',\n",
       " 'data/Tess/OAF_chat_happy.wav',\n",
       " 'data/Tess/YAF_fat_ps.wav',\n",
       " 'data/Tess/OAF_road_angry.wav',\n",
       " 'data/Tess/YAF_came_disgust.wav',\n",
       " 'data/Tess/OAF_team_ps.wav',\n",
       " 'data/Tess/OAF_shack_neutral.wav',\n",
       " 'data/Tess/OAF_met_neutral.wav',\n",
       " 'data/Tess/OAF_gin_sad.wav',\n",
       " 'data/Tess/OAF_vine_sad.wav',\n",
       " 'data/Tess/YAF_hash_happy.wav',\n",
       " 'data/Tess/OAF_jug_angry.wav',\n",
       " 'data/Tess/OAF_far_disgust.wav',\n",
       " 'data/Tess/OAF_shirt_happy.wav',\n",
       " 'data/Tess/OAF_which_disgust.wav',\n",
       " 'data/Tess/YAF_soap_fear.wav',\n",
       " 'data/Tess/YAF_tool_ps.wav',\n",
       " 'data/Tess/OAF_tell_disgust.wav',\n",
       " 'data/Tess/OAF_perch_fear.wav',\n",
       " 'data/Tess/OAF_rose_neutral.wav',\n",
       " 'data/Tess/OAF_fit_angry.wav',\n",
       " 'data/Tess/OAF_tell_happy.wav',\n",
       " 'data/Tess/OAF_ripe_angry.wav',\n",
       " 'data/Tess/YAF_reach_fear.wav',\n",
       " 'data/Tess/OAF_whip_fear.wav',\n",
       " 'data/Tess/YAF_loaf_fear.wav',\n",
       " 'data/Tess/OAF_jail_sad.wav',\n",
       " 'data/Tess/YAF_hate_happy.wav',\n",
       " 'data/Tess/OAF_hurl_neutral.wav',\n",
       " 'data/Tess/OAF_learn_happy.wav',\n",
       " 'data/Tess/YAF_rose_fear.wav',\n",
       " 'data/Tess/OAF_wag_fear.wav',\n",
       " 'data/Tess/YAF_lease_disgust.wav',\n",
       " 'data/Tess/OAF_chain_happy.wav',\n",
       " 'data/Tess/OAF_base_angry.wav',\n",
       " 'data/Tess/OAF_bone_angry.wav',\n",
       " 'data/Tess/OAF_chalk_ps.wav',\n",
       " 'data/Tess/OAF_such_ps.wav',\n",
       " 'data/Tess/YAF_tire_disgust.wav',\n",
       " 'data/Tess/YAF_name_ps.wav',\n",
       " 'data/Tess/YAF_rain_angry.wav',\n",
       " 'data/Tess/OAF_germ_ps.wav',\n",
       " 'data/Tess/OAF_pole_neutral.wav',\n",
       " 'data/Tess/YAF_tip_fear.wav',\n",
       " 'data/Tess/YAF_luck_ps.wav',\n",
       " 'data/Tess/YAF_late_neutral.wav',\n",
       " 'data/Tess/YAF_hash_ps.wav',\n",
       " 'data/Tess/OAF_puff_sad.wav',\n",
       " 'data/Tess/OAF_void_ps.wav',\n",
       " 'data/Tess/YAF_choice_fear.wav',\n",
       " 'data/Tess/OAF_nag_fear.wav',\n",
       " 'data/Tess/OAF_name_ps.wav',\n",
       " 'data/Tess/OAF_wash_sad.wav',\n",
       " 'data/Tess/OAF_raise_fear.wav',\n",
       " 'data/Tess/YAF_boat_angry.wav',\n",
       " 'data/Tess/OAF_shirt_neutral.wav',\n",
       " 'data/Tess/OAF_lean_disgust.wav',\n",
       " 'data/Tess/YAF_lease_fear.wav',\n",
       " 'data/Tess/YAF_page_disgust.wav',\n",
       " 'data/Tess/OAF_rose_happy.wav',\n",
       " 'data/Tess/OAF_far_ps.wav',\n",
       " 'data/Tess/YAF_met_neutral.wav',\n",
       " 'data/Tess/OAF_mess_angry.wav',\n",
       " 'data/Tess/OAF_dog_neutral.wav',\n",
       " 'data/Tess/OAF_vote_fear.wav',\n",
       " 'data/Tess/YAF_hit_fear.wav',\n",
       " 'data/Tess/OAF_yes_neutral.wav',\n",
       " 'data/Tess/YAF_fit_neutral.wav',\n",
       " 'data/Tess/OAF_puff_neutral.wav',\n",
       " 'data/Tess/OAF_youth_disgust.wav',\n",
       " 'data/Tess/OAF_deep_fear.wav',\n",
       " 'data/Tess/YAF_limb_happy.wav',\n",
       " 'data/Tess/OAF_jail_angry.wav',\n",
       " 'data/Tess/OAF_dead_neutral.wav',\n",
       " 'data/Tess/OAF_bone_ps.wav',\n",
       " 'data/Tess/OAF_judge_angry.wav',\n",
       " 'data/Tess/YAF_keen_ps.wav',\n",
       " 'data/Tess/YAF_gap_neutral.wav',\n",
       " 'data/Tess/YAF_mop_neutral.wav',\n",
       " 'data/Tess/YAF_wash_neutral.wav',\n",
       " 'data/Tess/YAF_wire_happy.wav',\n",
       " 'data/Tess/OAF_perch_neutral.wav',\n",
       " 'data/Tess/OAF_sour_angry.wav',\n",
       " 'data/Tess/YAF_base_disgust.wav',\n",
       " 'data/Tess/OAF_yes_disgust.wav',\n",
       " 'data/Tess/YAF_live_angry.wav',\n",
       " 'data/Tess/OAF_near_sad.wav',\n",
       " 'data/Tess/OAF_hit_angry.wav',\n",
       " 'data/Tess/OAF_tape_happy.wav',\n",
       " 'data/Tess/OAF_juice_neutral.wav',\n",
       " 'data/Tess/OAF_check_fear.wav',\n",
       " 'data/Tess/OAF_sub_fear.wav',\n",
       " 'data/Tess/OAF_knock_ps.wav',\n",
       " 'data/Tess/OAF_take_neutral.wav',\n",
       " 'data/Tess/OAF_which_ps.wav',\n",
       " 'data/Tess/OAF_youth_neutral.wav',\n",
       " 'data/Tess/YAF_get_fear.wav',\n",
       " 'data/Tess/YAF_hush_happy.wav',\n",
       " 'data/Tess/OAF_should_fear.wav',\n",
       " 'data/Tess/OAF_jail_happy.wav',\n",
       " 'data/Tess/YAF_lease_ps.wav',\n",
       " 'data/Tess/YAF_sure_disgust.wav',\n",
       " 'data/Tess/YAF_fall_disgust.wav',\n",
       " 'data/Tess/YAF_neat_angry.wav',\n",
       " 'data/Tess/YAF_rain_ps.wav',\n",
       " 'data/Tess/OAF_dip_happy.wav',\n",
       " 'data/Tess/OAF_pain_neutral.wav',\n",
       " 'data/Tess/YAF_far_disgust.wav',\n",
       " 'data/Tess/YAF_read_neutral.wav',\n",
       " 'data/Tess/YAF_dodge_ps.wav',\n",
       " 'data/Tess/YAF_juice_disgust.wav',\n",
       " 'data/Tess/YAF_germ_ps.wav',\n",
       " 'data/Tess/OAF_gun_disgust.wav',\n",
       " 'data/Tess/OAF_tough_angry.wav',\n",
       " 'data/Tess/OAF_lean_angry.wav',\n",
       " 'data/Tess/OAF_jug_ps.wav',\n",
       " 'data/Tess/OAF_wag_angry.wav',\n",
       " 'data/Tess/OAF_hole_angry.wav',\n",
       " 'data/Tess/YAF_pike_angry.wav',\n",
       " 'data/Tess/OAF_hush_sad.wav',\n",
       " 'data/Tess/OAF_sail_sad.wav',\n",
       " 'data/Tess/OAF_tire_angry.wav',\n",
       " 'data/Tess/YAF_tough_neutral.wav',\n",
       " 'data/Tess/OAF_good_neutral.wav',\n",
       " 'data/Tess/OAF_cab_fear.wav',\n",
       " 'data/Tess/YAF_loaf_happy.wav',\n",
       " 'data/Tess/OAF_judge_sad.wav',\n",
       " 'data/Tess/YAF_back_disgust.wav',\n",
       " 'data/Tess/OAF_ton_sad.wav',\n",
       " 'data/Tess/YAF_pearl_neutral.wav',\n",
       " 'data/Tess/OAF_food_happy.wav',\n",
       " 'data/Tess/OAF_burn_happy.wav',\n",
       " 'data/Tess/YAF_nice_ps.wav',\n",
       " 'data/Tess/OAF_young_sad.wav',\n",
       " 'data/Tess/YAF_book_angry.wav',\n",
       " 'data/Tess/OAF_juice_ps.wav',\n",
       " 'data/Tess/OAF_book_sad.wav',\n",
       " 'data/Tess/OAF_home_angry.wav',\n",
       " 'data/Tess/YAF_raid_ps.wav',\n",
       " 'data/Tess/OAF_rag_happy.wav',\n",
       " 'data/Tess/YAF_nag_happy.wav',\n",
       " 'data/Tess/YAF_shall_angry.wav',\n",
       " 'data/Tess/YAF_turn_neutral.wav',\n",
       " 'data/Tess/YAF_rat_fear.wav',\n",
       " 'data/Tess/YAF_shall_neutral.wav',\n",
       " 'data/Tess/OAF_base_sad.wav',\n",
       " 'data/Tess/OAF_kick_fear.wav',\n",
       " 'data/Tess/OAF_name_fear.wav',\n",
       " 'data/Tess/YAF_pearl_happy.wav',\n",
       " 'data/Tess/YAF_shawl_happy.wav',\n",
       " 'data/Tess/OAF_soup_disgust.wav',\n",
       " 'data/Tess/OAF_ton_fear.wav',\n",
       " 'data/Tess/YAF_check_disgust.wav',\n",
       " 'data/Tess/YAF_search_fear.wav',\n",
       " 'data/Tess/OAF_fall_happy.wav',\n",
       " 'data/Tess/OAF_match_sad.wav',\n",
       " 'data/Tess/YAF_young_ps.wav',\n",
       " 'data/Tess/OAF_learn_neutral.wav',\n",
       " 'data/Tess/YAF_gaze_angry.wav',\n",
       " 'data/Tess/YAF_boat_happy.wav',\n",
       " 'data/Tess/OAF_hush_disgust.wav',\n",
       " 'data/Tess/OAF_merge_fear.wav',\n",
       " 'data/Tess/YAF_mess_fear.wav',\n",
       " 'data/Tess/OAF_doll_angry.wav',\n",
       " 'data/Tess/OAF_base_disgust.wav',\n",
       " 'data/Tess/YAF_youth_disgust.wav',\n",
       " 'data/Tess/YAF_said_fear.wav',\n",
       " 'data/Tess/OAF_judge_neutral.wav',\n",
       " 'data/Tess/OAF_gaze_angry.wav',\n",
       " 'data/Tess/YAF_team_angry.wav',\n",
       " 'data/Tess/YAF_goal_happy.wav',\n",
       " 'data/Tess/YAF_pick_fear.wav',\n",
       " 'data/Tess/YAF_choice_happy.wav',\n",
       " 'data/Tess/YAF_long_happy.wav',\n",
       " 'data/Tess/YAF_boat_neutral.wav',\n",
       " 'data/Tess/OAF_cheek_happy.wav',\n",
       " 'data/Tess/OAF_pass_neutral.wav',\n",
       " 'data/Tess/OAF_beg_angry.wav',\n",
       " 'data/Tess/OAF_phone_disgust.wav',\n",
       " 'data/Tess/YAF_chain_ps.wav',\n",
       " 'data/Tess/YAF_dead_angry.wav',\n",
       " 'data/Tess/OAF_food_sad.wav',\n",
       " 'data/Tess/YAF_death_happy.wav',\n",
       " 'data/Tess/OAF_ring_angry.wav',\n",
       " 'data/Tess/YAF_neat_fear.wav',\n",
       " 'data/Tess/OAF_size_angry.wav',\n",
       " 'data/Tess/OAF_death_happy.wav',\n",
       " 'data/Tess/OAF_lore_disgust.wav',\n",
       " 'data/Tess/YAF_bought_fear.wav',\n",
       " 'data/Tess/OAF_pearl_happy.wav',\n",
       " 'data/Tess/OAF_bought_sad.wav',\n",
       " 'data/Tess/OAF_home_sad.wav',\n",
       " 'data/Tess/YAF_gun_neutral.wav',\n",
       " 'data/Tess/OAF_wife_ps.wav',\n",
       " 'data/Tess/OAF_cheek_ps.wav',\n",
       " 'data/Tess/OAF_kick_sad.wav',\n",
       " 'data/Tess/YAF_hire_neutral.wav',\n",
       " 'data/Tess/YAF_dog_fear.wav',\n",
       " 'data/Tess/OAF_knock_neutral.wav',\n",
       " 'data/Tess/YAF_bath_disgust.wav',\n",
       " 'data/Tess/YAF_rough_angry.wav',\n",
       " 'data/Tess/OAF_name_happy.wav',\n",
       " 'data/Tess/YAF_keep_ps.wav',\n",
       " 'data/Tess/OAF_juice_disgust.wav',\n",
       " 'data/Tess/YAF_tip_disgust.wav',\n",
       " 'data/Tess/YAF_hole_fear.wav',\n",
       " 'data/Tess/YAF_burn_angry.wav',\n",
       " 'data/Tess/OAF_gas_fear.wav',\n",
       " 'data/Tess/OAF_knock_disgust.wav',\n",
       " 'data/Tess/OAF_sheep_fear.wav',\n",
       " 'data/Tess/OAF_shack_happy.wav',\n",
       " 'data/Tess/OAF_witch_ps.wav',\n",
       " 'data/Tess/OAF_mop_happy.wav',\n",
       " 'data/Tess/OAF_beg_happy.wav',\n",
       " 'data/Tess/OAF_fit_sad.wav',\n",
       " 'data/Tess/YAF_kick_happy.wav',\n",
       " 'data/Tess/YAF_keen_neutral.wav',\n",
       " 'data/Tess/OAF_check_disgust.wav',\n",
       " 'data/Tess/YAF_chain_angry.wav',\n",
       " 'data/Tess/YAF_sub_angry.wav',\n",
       " 'data/Tess/YAF_shawl_ps.wav',\n",
       " 'data/Tess/OAF_read_fear.wav',\n",
       " 'data/Tess/YAF_hall_disgust.wav',\n",
       " 'data/Tess/OAF_yearn_angry.wav',\n",
       " 'data/Tess/YAF_tool_disgust.wav',\n",
       " 'data/Tess/YAF_knock_fear.wav',\n",
       " 'data/Tess/OAF_search_angry.wav',\n",
       " 'data/Tess/OAF_void_disgust.wav',\n",
       " 'data/Tess/OAF_note_sad.wav',\n",
       " 'data/Tess/YAF_hole_ps.wav',\n",
       " 'data/Tess/YAF_laud_happy.wav',\n",
       " 'data/Tess/YAF_fall_neutral.wav',\n",
       " 'data/Tess/OAF_dead_fear.wav',\n",
       " 'data/Tess/OAF_fail_sad.wav',\n",
       " 'data/Tess/OAF_thin_angry.wav',\n",
       " 'data/Tess/YAF_soap_angry.wav',\n",
       " 'data/Tess/YAF_pick_disgust.wav',\n",
       " 'data/Tess/OAF_lean_neutral.wav',\n",
       " 'data/Tess/YAF_near_neutral.wav',\n",
       " 'data/Tess/YAF_pole_angry.wav',\n",
       " 'data/Tess/OAF_date_ps.wav',\n",
       " 'data/Tess/OAF_goose_fear.wav',\n",
       " 'data/Tess/OAF_yearn_neutral.wav',\n",
       " 'data/Tess/OAF_shall_angry.wav',\n",
       " 'data/Tess/YAF_far_fear.wav',\n",
       " 'data/Tess/YAF_late_disgust.wav',\n",
       " 'data/Tess/OAF_long_neutral.wav',\n",
       " 'data/Tess/OAF_goose_neutral.wav',\n",
       " 'data/Tess/YAF_thought_angry.wav',\n",
       " 'data/Tess/OAF_keep_neutral.wav',\n",
       " 'data/Tess/YAF_cause_fear.wav',\n",
       " 'data/Tess/OAF_bought_fear.wav',\n",
       " 'data/Tess/OAF_hall_disgust.wav',\n",
       " 'data/Tess/YAF_calm_angry.wav',\n",
       " 'data/Tess/OAF_pike_neutral.wav',\n",
       " 'data/Tess/OAF_hash_disgust.wav',\n",
       " 'data/Tess/OAF_limb_sad.wav',\n",
       " 'data/Tess/YAF_time_disgust.wav',\n",
       " 'data/Tess/YAF_wire_fear.wav',\n",
       " 'data/Tess/OAF_road_fear.wav',\n",
       " 'data/Tess/OAF_sheep_angry.wav',\n",
       " 'data/Tess/OAF_peg_sad.wav',\n",
       " 'data/Tess/YAF_mode_disgust.wav',\n",
       " 'data/Tess/YAF_pike_fear.wav',\n",
       " 'data/Tess/OAF_have_neutral.wav',\n",
       " 'data/Tess/OAF_whip_sad.wav',\n",
       " 'data/Tess/OAF_shack_fear.wav',\n",
       " 'data/Tess/OAF_hate_fear.wav',\n",
       " 'data/Tess/OAF_far_sad.wav',\n",
       " 'data/Tess/OAF_fit_disgust.wav',\n",
       " 'data/Tess/YAF_ton_fear.wav',\n",
       " 'data/Tess/YAF_size_disgust.wav',\n",
       " 'data/Tess/YAF_sour_disgust.wav',\n",
       " 'data/Tess/YAF_rag_fear.wav',\n",
       " 'data/Tess/YAF_pole_ps.wav',\n",
       " 'data/Tess/OAF_hash_happy.wav',\n",
       " 'data/Tess/OAF_team_fear.wav',\n",
       " 'data/Tess/YAF_food_disgust.wav',\n",
       " 'data/Tess/YAF_white_disgust.wav',\n",
       " 'data/Tess/OAF_goose_sad.wav',\n",
       " 'data/Tess/OAF_late_disgust.wav',\n",
       " 'data/Tess/YAF_doll_neutral.wav',\n",
       " 'data/Tess/OAF_wife_neutral.wav',\n",
       " 'data/Tess/YAF_calm_ps.wav',\n",
       " 'data/Tess/YAF_match_disgust.wav',\n",
       " 'data/Tess/OAF_dodge_neutral.wav',\n",
       " 'data/Tess/YAF_base_fear.wav',\n",
       " 'data/Tess/YAF_gun_disgust.wav',\n",
       " 'data/Tess/OAF_lose_neutral.wav',\n",
       " 'data/Tess/OAF_said_neutral.wav',\n",
       " 'data/Tess/YAF_tell_neutral.wav',\n",
       " 'data/Tess/YAF_road_angry.wav',\n",
       " 'data/Tess/YAF_learn_disgust.wav',\n",
       " 'data/Tess/YAF_thumb_angry.wav',\n",
       " 'data/Tess/YAF_room_disgust.wav',\n",
       " 'data/Tess/YAF_mouse_neutral.wav',\n",
       " 'data/Tess/YAF_mouse_disgust.wav',\n",
       " 'data/Tess/OAF_match_fear.wav',\n",
       " 'data/Tess/OAF_half_fear.wav',\n",
       " 'data/Tess/OAF_mood_disgust.wav',\n",
       " 'data/Tess/YAF_tough_happy.wav',\n",
       " 'data/Tess/YAF_young_fear.wav',\n",
       " 'data/Tess/OAF_read_neutral.wav',\n",
       " 'data/Tess/YAF_rain_fear.wav',\n",
       " 'data/Tess/YAF_mill_neutral.wav',\n",
       " 'data/Tess/OAF_nag_neutral.wav',\n",
       " 'data/Tess/OAF_lid_ps.wav',\n",
       " 'data/Tess/OAF_tough_disgust.wav',\n",
       " 'data/Tess/OAF_nag_angry.wav',\n",
       " 'data/Tess/YAF_sure_happy.wav',\n",
       " 'data/Tess/OAF_wheat_sad.wav',\n",
       " 'data/Tess/YAF_thin_happy.wav',\n",
       " 'data/Tess/OAF_kite_disgust.wav',\n",
       " 'data/Tess/OAF_lease_happy.wav',\n",
       " 'data/Tess/YAF_have_disgust.wav',\n",
       " 'data/Tess/YAF_note_happy.wav',\n",
       " 'data/Tess/YAF_thumb_ps.wav',\n",
       " 'data/Tess/OAF_wire_fear.wav',\n",
       " 'data/Tess/OAF_rough_fear.wav',\n",
       " 'data/Tess/OAF_bar_neutral.wav',\n",
       " 'data/Tess/OAF_turn_disgust.wav',\n",
       " 'data/Tess/OAF_join_fear.wav',\n",
       " 'data/Tess/YAF_soup_ps.wav',\n",
       " 'data/Tess/YAF_laud_fear.wav',\n",
       " 'data/Tess/OAF_sail_ps.wav',\n",
       " 'data/Tess/YAF_cool_happy.wav',\n",
       " 'data/Tess/YAF_mill_disgust.wav',\n",
       " 'data/Tess/OAF_deep_angry.wav',\n",
       " 'data/Tess/OAF_rag_ps.wav',\n",
       " 'data/Tess/OAF_luck_happy.wav',\n",
       " 'data/Tess/OAF_death_ps.wav',\n",
       " 'data/Tess/YAF_gin_angry.wav',\n",
       " 'data/Tess/OAF_goal_disgust.wav',\n",
       " 'data/Tess/OAF_rough_angry.wav',\n",
       " 'data/Tess/YAF_seize_ps.wav',\n",
       " 'data/Tess/YAF_phone_fear.wav',\n",
       " 'data/Tess/YAF_vote_angry.wav',\n",
       " 'data/Tess/OAF_mess_disgust.wav',\n",
       " 'data/Tess/OAF_shout_fear.wav',\n",
       " 'data/Tess/OAF_team_sad.wav',\n",
       " 'data/Tess/OAF_sail_fear.wav',\n",
       " 'data/Tess/YAF_gas_ps.wav',\n",
       " 'data/Tess/YAF_limb_ps.wav',\n",
       " 'data/Tess/YAF_book_neutral.wav',\n",
       " 'data/Tess/OAF_week_ps.wav',\n",
       " 'data/Tess/OAF_wife_angry.wav',\n",
       " 'data/Tess/YAF_knock_disgust.wav',\n",
       " 'data/Tess/YAF_size_angry.wav',\n",
       " 'data/Tess/YAF_third_fear.wav',\n",
       " 'data/Tess/YAF_nag_fear.wav',\n",
       " 'data/Tess/OAF_puff_happy.wav',\n",
       " 'data/Tess/YAF_ring_ps.wav',\n",
       " 'data/Tess/YAF_rat_disgust.wav',\n",
       " 'data/Tess/OAF_dime_sad.wav',\n",
       " 'data/Tess/YAF_bite_angry.wav',\n",
       " 'data/Tess/OAF_dime_happy.wav',\n",
       " 'data/Tess/OAF_love_ps.wav',\n",
       " 'data/Tess/OAF_ring_ps.wav',\n",
       " 'data/Tess/YAF_deep_neutral.wav',\n",
       " 'data/Tess/OAF_whip_ps.wav',\n",
       " 'data/Tess/YAF_chat_ps.wav',\n",
       " 'data/Tess/YAF_fail_disgust.wav',\n",
       " 'data/Tess/OAF_such_disgust.wav',\n",
       " 'data/Tess/OAF_ditch_sad.wav',\n",
       " 'data/Tess/OAF_long_happy.wav',\n",
       " 'data/Tess/YAF_kick_ps.wav',\n",
       " 'data/Tess/OAF_pick_sad.wav',\n",
       " 'data/Tess/OAF_tip_disgust.wav',\n",
       " 'data/Tess/OAF_raise_disgust.wav',\n",
       " 'data/Tess/YAF_keg_angry.wav',\n",
       " 'data/Tess/YAF_raid_disgust.wav',\n",
       " 'data/Tess/YAF_wheat_angry.wav',\n",
       " 'data/Tess/YAF_sail_neutral.wav',\n",
       " 'data/Tess/YAF_tip_angry.wav',\n",
       " 'data/Tess/YAF_hate_disgust.wav',\n",
       " 'data/Tess/YAF_ton_ps.wav',\n",
       " 'data/Tess/YAF_tool_happy.wav',\n",
       " 'data/Tess/YAF_moon_disgust.wav',\n",
       " 'data/Tess/OAF_witch_happy.wav',\n",
       " 'data/Tess/YAF_sail_happy.wav',\n",
       " 'data/Tess/YAF_shout_ps.wav',\n",
       " 'data/Tess/YAF_date_angry.wav',\n",
       " 'data/Tess/OAF_seize_happy.wav',\n",
       " 'data/Tess/YAF_keg_fear.wav',\n",
       " 'data/Tess/YAF_met_ps.wav',\n",
       " 'data/Tess/OAF_jar_disgust.wav',\n",
       " 'data/Tess/OAF_tough_neutral.wav',\n",
       " 'data/Tess/OAF_pole_disgust.wav',\n",
       " 'data/Tess/OAF_witch_disgust.wav',\n",
       " 'data/Tess/OAF_voice_disgust.wav',\n",
       " 'data/Tess/YAF_pass_happy.wav',\n",
       " 'data/Tess/YAF_live_disgust.wav',\n",
       " 'data/Tess/YAF_which_happy.wav',\n",
       " 'data/Tess/OAF_dead_disgust.wav',\n",
       " 'data/Tess/YAF_lore_disgust.wav',\n",
       " 'data/Tess/OAF_road_ps.wav',\n",
       " 'data/Tess/YAF_cab_angry.wav',\n",
       " 'data/Tess/YAF_merge_happy.wav',\n",
       " 'data/Tess/YAF_tell_disgust.wav',\n",
       " 'data/Tess/OAF_food_angry.wav',\n",
       " 'data/Tess/OAF_shack_disgust.wav',\n",
       " 'data/Tess/YAF_sheep_neutral.wav',\n",
       " 'data/Tess/OAF_walk_fear.wav',\n",
       " 'data/Tess/OAF_ditch_happy.wav',\n",
       " 'data/Tess/YAF_ditch_neutral.wav',\n",
       " 'data/Tess/OAF_rag_sad.wav',\n",
       " 'data/Tess/YAF_death_fear.wav',\n",
       " 'data/Tess/OAF_five_sad.wav',\n",
       " 'data/Tess/OAF_fat_fear.wav',\n",
       " 'data/Tess/OAF_lore_happy.wav',\n",
       " 'data/Tess/OAF_cause_fear.wav',\n",
       " 'data/Tess/OAF_gas_angry.wav',\n",
       " 'data/Tess/OAF_learn_ps.wav',\n",
       " 'data/Tess/YAF_witch_happy.wav',\n",
       " 'data/Tess/YAF_dab_angry.wav',\n",
       " 'data/Tess/OAF_mill_disgust.wav',\n",
       " 'data/Tess/YAF_road_happy.wav',\n",
       " 'data/Tess/YAF_pass_neutral.wav',\n",
       " 'data/Tess/OAF_yes_sad.wav',\n",
       " 'data/Tess/YAF_lid_happy.wav',\n",
       " 'data/Tess/OAF_dodge_disgust.wav',\n",
       " 'data/Tess/OAF_yearn_disgust.wav',\n",
       " 'data/Tess/OAF_luck_ps.wav',\n",
       " 'data/Tess/YAF_pain_angry.wav',\n",
       " 'data/Tess/OAF_loaf_angry.wav',\n",
       " 'data/Tess/YAF_when_happy.wav',\n",
       " 'data/Tess/YAF_whip_fear.wav',\n",
       " 'data/Tess/OAF_wash_neutral.wav',\n",
       " 'data/Tess/OAF_keen_happy.wav',\n",
       " 'data/Tess/OAF_mess_sad.wav',\n",
       " 'data/Tess/YAF_walk_angry.wav',\n",
       " 'data/Tess/YAF_five_disgust.wav',\n",
       " 'data/Tess/OAF_sub_happy.wav',\n",
       " 'data/Tess/YAF_sure_fear.wav',\n",
       " 'data/Tess/OAF_dime_fear.wav',\n",
       " 'data/Tess/OAF_lore_angry.wav',\n",
       " 'data/Tess/YAF_chat_happy.wav',\n",
       " 'data/Tess/OAF_near_neutral.wav',\n",
       " 'data/Tess/YAF_hit_happy.wav',\n",
       " 'data/Tess/YAF_search_happy.wav',\n",
       " 'data/Tess/OAF_search_disgust.wav',\n",
       " 'data/Tess/YAF_rush_fear.wav',\n",
       " 'data/Tess/OAF_dead_happy.wav',\n",
       " 'data/Tess/OAF_third_angry.wav',\n",
       " 'data/Tess/OAF_back_fear.wav',\n",
       " 'data/Tess/OAF_phone_fear.wav',\n",
       " 'data/Tess/YAF_long_angry.wav',\n",
       " 'data/Tess/OAF_rough_neutral.wav',\n",
       " 'data/Tess/YAF_bean_angry.wav',\n",
       " 'data/Tess/OAF_bean_disgust.wav',\n",
       " 'data/Tess/OAF_gas_ps.wav',\n",
       " 'data/Tess/OAF_shout_neutral.wav',\n",
       " 'data/Tess/OAF_hole_fear.wav',\n",
       " 'data/Tess/OAF_base_happy.wav',\n",
       " 'data/Tess/YAF_match_ps.wav',\n",
       " 'data/Tess/OAF_turn_fear.wav',\n",
       " 'data/Tess/YAF_pole_happy.wav',\n",
       " 'data/Tess/OAF_haze_ps.wav',\n",
       " 'data/Tess/YAF_lid_ps.wav',\n",
       " 'data/Tess/YAF_cheek_happy.wav',\n",
       " 'data/Tess/YAF_road_disgust.wav',\n",
       " 'data/Tess/YAF_mode_angry.wav',\n",
       " 'data/Tess/OAF_deep_sad.wav',\n",
       " 'data/Tess/OAF_limb_angry.wav',\n",
       " 'data/Tess/OAF_tape_disgust.wav',\n",
       " 'data/Tess/OAF_ripe_sad.wav',\n",
       " 'data/Tess/YAF_lose_fear.wav',\n",
       " 'data/Tess/OAF_vote_disgust.wav',\n",
       " 'data/Tess/YAF_long_neutral.wav',\n",
       " 'data/Tess/YAF_bite_disgust.wav',\n",
       " 'data/Tess/YAF_doll_ps.wav',\n",
       " 'data/Tess/OAF_wheat_disgust.wav',\n",
       " 'data/Tess/YAF_have_ps.wav',\n",
       " 'data/Tess/YAF_far_happy.wav',\n",
       " 'data/Tess/YAF_hate_angry.wav',\n",
       " 'data/Tess/OAF_wheat_angry.wav',\n",
       " 'data/Tess/YAF_hate_neutral.wav',\n",
       " 'data/Tess/YAF_thin_neutral.wav',\n",
       " 'data/Tess/YAF_white_angry.wav',\n",
       " 'data/Tess/OAF_ripe_ps.wav',\n",
       " 'data/Tess/OAF_white_angry.wav',\n",
       " 'data/Tess/YAF_gin_happy.wav',\n",
       " 'data/Tess/YAF_pool_disgust.wav',\n",
       " 'data/Tess/YAF_time_fear.wav',\n",
       " 'data/Tess/OAF_raid_fear.wav',\n",
       " 'data/Tess/OAF_witch_sad.wav',\n",
       " 'data/Tess/OAF_hole_sad.wav',\n",
       " 'data/Tess/YAF_kill_ps.wav',\n",
       " 'data/Tess/YAF_wash_angry.wav',\n",
       " 'data/Tess/YAF_hash_disgust.wav',\n",
       " 'data/Tess/OAF_chat_angry.wav',\n",
       " 'data/Tess/OAF_love_disgust.wav',\n",
       " 'data/Tess/YAF_hash_fear.wav',\n",
       " 'data/Tess/YAF_week_angry.wav',\n",
       " 'data/Tess/YAF_dead_disgust.wav',\n",
       " 'data/Tess/YAF_gin_fear.wav',\n",
       " 'data/Tess/OAF_when_sad.wav',\n",
       " 'data/Tess/YAF_door_fear.wav',\n",
       " 'data/Tess/YAF_ton_neutral.wav',\n",
       " 'data/Tess/OAF_laud_angry.wav',\n",
       " 'data/Tess/YAF_witch_fear.wav',\n",
       " 'data/Tess/OAF_food_fear.wav',\n",
       " 'data/Tess/OAF_luck_angry.wav',\n",
       " 'data/Tess/OAF_near_ps.wav',\n",
       " 'data/Tess/YAF_mill_happy.wav',\n",
       " 'data/Tess/YAF_when_ps.wav',\n",
       " 'data/Tess/OAF_dog_disgust.wav',\n",
       " 'data/Tess/YAF_yearn_disgust.wav',\n",
       " 'data/Tess/YAF_bar_ps.wav',\n",
       " 'data/Tess/OAF_hire_fear.wav',\n",
       " 'data/Tess/YAF_king_neutral.wav',\n",
       " 'data/Tess/OAF_merge_neutral.wav',\n",
       " 'data/Tess/YAF_pike_disgust.wav',\n",
       " 'data/Tess/YAF_tip_ps.wav',\n",
       " 'data/Tess/YAF_sheep_disgust.wav',\n",
       " 'data/Tess/OAF_bite_sad.wav',\n",
       " 'data/Tess/OAF_learn_sad.wav',\n",
       " 'data/Tess/OAF_dab_happy.wav',\n",
       " 'data/Tess/OAF_perch_sad.wav',\n",
       " 'data/Tess/YAF_tape_disgust.wav',\n",
       " 'data/Tess/YAF_bone_disgust.wav',\n",
       " 'data/Tess/OAF_came_ps.wav',\n",
       " 'data/Tess/YAF_lot_happy.wav',\n",
       " 'data/Tess/OAF_get_neutral.wav',\n",
       " 'data/Tess/YAF_goose_ps.wav',\n",
       " 'data/Tess/YAF_raise_neutral.wav',\n",
       " 'data/Tess/OAF_met_sad.wav',\n",
       " 'data/Tess/OAF_soup_ps.wav',\n",
       " 'data/Tess/OAF_cause_sad.wav',\n",
       " 'data/Tess/OAF_room_fear.wav',\n",
       " 'data/Tess/OAF_young_disgust.wav',\n",
       " 'data/Tess/OAF_chat_disgust.wav',\n",
       " 'data/Tess/YAF_gas_fear.wav',\n",
       " 'data/Tess/YAF_sell_ps.wav',\n",
       " 'data/Tess/YAF_when_neutral.wav',\n",
       " 'data/Tess/OAF_pad_ps.wav',\n",
       " 'data/Tess/YAF_sail_angry.wav',\n",
       " 'data/Tess/OAF_book_happy.wav',\n",
       " 'data/Tess/OAF_germ_happy.wav',\n",
       " 'data/Tess/YAF_burn_fear.wav',\n",
       " 'data/Tess/YAF_raid_fear.wav',\n",
       " 'data/Tess/OAF_choice_fear.wav',\n",
       " 'data/Tess/OAF_beg_disgust.wav',\n",
       " 'data/Tess/OAF_yearn_sad.wav',\n",
       " 'data/Tess/YAF_chief_disgust.wav',\n",
       " 'data/Tess/YAF_third_ps.wav',\n",
       " 'data/Tess/OAF_dodge_sad.wav',\n",
       " 'data/Tess/YAF_join_neutral.wav',\n",
       " 'data/Tess/YAF_size_fear.wav',\n",
       " 'data/Tess/YAF_wag_happy.wav',\n",
       " 'data/Tess/YAF_live_neutral.wav',\n",
       " 'data/Tess/OAF_bar_sad.wav',\n",
       " 'data/Tess/OAF_talk_disgust.wav',\n",
       " 'data/Tess/OAF_mob_angry.wav',\n",
       " 'data/Tess/YAF_sour_happy.wav',\n",
       " 'data/Tess/YAF_rough_ps.wav',\n",
       " 'data/Tess/YAF_read_ps.wav',\n",
       " 'data/Tess/YAF_youth_neutral.wav',\n",
       " 'data/Tess/OAF_mouse_fear.wav',\n",
       " 'data/Tess/OAF_bath_disgust.wav',\n",
       " 'data/Tess/OAF_mop_angry.wav',\n",
       " 'data/Tess/OAF_check_sad.wav',\n",
       " 'data/Tess/YAF_sheep_happy.wav',\n",
       " 'data/Tess/YAF_kick_disgust.wav',\n",
       " 'data/Tess/OAF_home_neutral.wav',\n",
       " 'data/Tess/OAF_lose_angry.wav',\n",
       " 'data/Tess/OAF_south_sad.wav',\n",
       " 'data/Tess/OAF_base_ps.wav',\n",
       " 'data/Tess/OAF_gun_happy.wav',\n",
       " 'data/Tess/OAF_mood_fear.wav',\n",
       " 'data/Tess/OAF_home_fear.wav',\n",
       " 'data/Tess/OAF_cause_disgust.wav',\n",
       " 'data/Tess/YAF_said_happy.wav',\n",
       " 'data/Tess/YAF_keen_happy.wav',\n",
       " 'data/Tess/YAF_lean_ps.wav',\n",
       " 'data/Tess/YAF_cool_disgust.wav',\n",
       " 'data/Tess/YAF_shout_fear.wav',\n",
       " 'data/Tess/YAF_mop_happy.wav',\n",
       " 'data/Tess/OAF_name_sad.wav',\n",
       " 'data/Tess/OAF_time_ps.wav',\n",
       " 'data/Tess/YAF_sheep_fear.wav',\n",
       " 'data/Tess/OAF_vote_ps.wav',\n",
       " 'data/Tess/YAF_turn_disgust.wav',\n",
       " 'data/Tess/YAF_wheat_fear.wav',\n",
       " 'data/Tess/OAF_such_sad.wav',\n",
       " 'data/Tess/OAF_pad_fear.wav',\n",
       " 'data/Tess/OAF_dip_sad.wav',\n",
       " 'data/Tess/OAF_have_fear.wav',\n",
       " 'data/Tess/OAF_food_neutral.wav',\n",
       " 'data/Tess/YAF_void_neutral.wav',\n",
       " 'data/Tess/YAF_lore_fear.wav',\n",
       " 'data/Tess/OAF_moon_happy.wav',\n",
       " 'data/Tess/YAF_vine_fear.wav',\n",
       " 'data/Tess/OAF_hurl_disgust.wav',\n",
       " 'data/Tess/OAF_cool_sad.wav',\n",
       " 'data/Tess/YAF_choice_disgust.wav',\n",
       " 'data/Tess/OAF_match_angry.wav',\n",
       " 'data/Tess/YAF_hire_disgust.wav',\n",
       " 'data/Tess/OAF_keg_ps.wav',\n",
       " 'data/Tess/YAF_sour_ps.wav',\n",
       " 'data/Tess/OAF_kick_neutral.wav',\n",
       " 'data/Tess/OAF_chief_fear.wav',\n",
       " 'data/Tess/OAF_youth_ps.wav',\n",
       " 'data/Tess/YAF_get_neutral.wav',\n",
       " 'data/Tess/YAF_doll_disgust.wav',\n",
       " 'data/Tess/YAF_bone_angry.wav',\n",
       " 'data/Tess/YAF_void_disgust.wav',\n",
       " 'data/Tess/YAF_yes_angry.wav',\n",
       " 'data/Tess/OAF_near_happy.wav',\n",
       " 'data/Tess/OAF_raid_sad.wav',\n",
       " 'data/Tess/YAF_fall_happy.wav',\n",
       " 'data/Tess/OAF_hate_angry.wav',\n",
       " 'data/Tess/OAF_team_disgust.wav',\n",
       " 'data/Tess/YAF_time_angry.wav',\n",
       " 'data/Tess/YAF_rat_neutral.wav',\n",
       " 'data/Tess/YAF_dodge_happy.wav',\n",
       " 'data/Tess/YAF_ditch_fear.wav',\n",
       " ...]"
      ]
     },
     "execution_count": 50,
     "metadata": {},
     "output_type": "execute_result"
    }
   ],
   "source": [
    "audio_files_3"
   ]
  },
  {
   "cell_type": "markdown",
   "id": "dc2986f1",
   "metadata": {},
   "source": [
    "## targeting y"
   ]
  },
  {
   "cell_type": "code",
   "execution_count": 51,
   "id": "76dc47ed",
   "metadata": {},
   "outputs": [
    {
     "data": {
      "text/plain": [
       "'angry'"
      ]
     },
     "execution_count": 51,
     "metadata": {},
     "output_type": "execute_result"
    }
   ],
   "source": [
    "audio_files_3[0].split(\"_\")[-1][:-4]"
   ]
  },
  {
   "cell_type": "code",
   "execution_count": 52,
   "id": "b4f66778",
   "metadata": {},
   "outputs": [],
   "source": [
    "ids=[]\n",
    "for audio in audio_files_3:\n",
    "    ids.append(audio.split(\"_\")[-1][:-4])\n",
    "\n",
    "tess_df = pd.DataFrame(ids)\n",
    "tess_df.rename(columns={0: \"emotion\"},inplace=True)"
   ]
  },
  {
   "cell_type": "code",
   "execution_count": 53,
   "id": "1985bd96",
   "metadata": {},
   "outputs": [
    {
     "data": {
      "text/plain": [
       "emotion\n",
       "angry      400\n",
       "disgust    400\n",
       "fear       400\n",
       "happy      400\n",
       "neutral    400\n",
       "ps         400\n",
       "sad        200\n",
       "dtype: int64"
      ]
     },
     "execution_count": 53,
     "metadata": {},
     "output_type": "execute_result"
    }
   ],
   "source": [
    "tess_df.value_counts()"
   ]
  },
  {
   "cell_type": "code",
   "execution_count": 54,
   "id": "068c6524",
   "metadata": {},
   "outputs": [],
   "source": [
    "emo_relation ={\n",
    "    'angry':'05',\n",
    "    'disgust':'07',\n",
    "    'fear':'06',\n",
    "    'happy':'03',\n",
    "    'neutral':'01',\n",
    "    'ps':'08',\n",
    "    'sad':'04'\n",
    "}\n",
    "#Emotion (01 = neutral, 02 = calm, 03 = happy, 04 = sad, 05 = angry, 06 = fearful, 07 = disgust, 08 = surprised)."
   ]
  },
  {
   "cell_type": "code",
   "execution_count": 55,
   "id": "f37cf436",
   "metadata": {},
   "outputs": [
    {
     "data": {
      "text/html": [
       "<div>\n",
       "<style scoped>\n",
       "    .dataframe tbody tr th:only-of-type {\n",
       "        vertical-align: middle;\n",
       "    }\n",
       "\n",
       "    .dataframe tbody tr th {\n",
       "        vertical-align: top;\n",
       "    }\n",
       "\n",
       "    .dataframe thead th {\n",
       "        text-align: right;\n",
       "    }\n",
       "</style>\n",
       "<table border=\"1\" class=\"dataframe\">\n",
       "  <thead>\n",
       "    <tr style=\"text-align: right;\">\n",
       "      <th></th>\n",
       "      <th>emotion</th>\n",
       "    </tr>\n",
       "  </thead>\n",
       "  <tbody>\n",
       "    <tr>\n",
       "      <th>0</th>\n",
       "      <td>05</td>\n",
       "    </tr>\n",
       "    <tr>\n",
       "      <th>1</th>\n",
       "      <td>08</td>\n",
       "    </tr>\n",
       "    <tr>\n",
       "      <th>2</th>\n",
       "      <td>06</td>\n",
       "    </tr>\n",
       "    <tr>\n",
       "      <th>3</th>\n",
       "      <td>03</td>\n",
       "    </tr>\n",
       "    <tr>\n",
       "      <th>4</th>\n",
       "      <td>07</td>\n",
       "    </tr>\n",
       "    <tr>\n",
       "      <th>...</th>\n",
       "      <td>...</td>\n",
       "    </tr>\n",
       "    <tr>\n",
       "      <th>2595</th>\n",
       "      <td>07</td>\n",
       "    </tr>\n",
       "    <tr>\n",
       "      <th>2596</th>\n",
       "      <td>07</td>\n",
       "    </tr>\n",
       "    <tr>\n",
       "      <th>2597</th>\n",
       "      <td>03</td>\n",
       "    </tr>\n",
       "    <tr>\n",
       "      <th>2598</th>\n",
       "      <td>06</td>\n",
       "    </tr>\n",
       "    <tr>\n",
       "      <th>2599</th>\n",
       "      <td>08</td>\n",
       "    </tr>\n",
       "  </tbody>\n",
       "</table>\n",
       "<p>2600 rows × 1 columns</p>\n",
       "</div>"
      ],
      "text/plain": [
       "     emotion\n",
       "0         05\n",
       "1         08\n",
       "2         06\n",
       "3         03\n",
       "4         07\n",
       "...      ...\n",
       "2595      07\n",
       "2596      07\n",
       "2597      03\n",
       "2598      06\n",
       "2599      08\n",
       "\n",
       "[2600 rows x 1 columns]"
      ]
     },
     "execution_count": 55,
     "metadata": {},
     "output_type": "execute_result"
    }
   ],
   "source": [
    "tess_df = tess_df.replace({'emotion':emo_relation})\n",
    "tess_df"
   ]
  },
  {
   "cell_type": "code",
   "execution_count": 56,
   "id": "e6870b54",
   "metadata": {},
   "outputs": [
    {
     "data": {
      "text/plain": [
       "0       05\n",
       "1       08\n",
       "2       06\n",
       "3       03\n",
       "4       07\n",
       "        ..\n",
       "2595    07\n",
       "2596    07\n",
       "2597    03\n",
       "2598    06\n",
       "2599    08\n",
       "Name: emotion, Length: 2600, dtype: object"
      ]
     },
     "execution_count": 56,
     "metadata": {},
     "output_type": "execute_result"
    }
   ],
   "source": [
    "y3=tess_df[\"emotion\"]\n",
    "y3"
   ]
  },
  {
   "cell_type": "code",
   "execution_count": null,
   "id": "b4c16cc7",
   "metadata": {},
   "outputs": [],
   "source": []
  },
  {
   "cell_type": "markdown",
   "id": "33f71498",
   "metadata": {},
   "source": [
    "## finding X3"
   ]
  },
  {
   "cell_type": "code",
   "execution_count": 57,
   "id": "28fdce12",
   "metadata": {},
   "outputs": [],
   "source": [
    "spectrograms_3 = []\n",
    "for item in audio_files_3:\n",
    "    X, sr = librosa.load(item) #vectorizing\n",
    "    X_trim = librosa.effects.trim(X,top_db=35) #trimming data\n",
    "    \n",
    "    #padding\n",
    "    if X_trim[0].shape[0] >= 65000:\n",
    "        X_final = X_trim[0][:65000]\n",
    "        X_final = tf.convert_to_tensor(X_final).numpy()\n",
    "    else:\n",
    "        zero_padding = tf.zeros([65000]-tf.shape(X_trim[0]),dtype=tf.float32)\n",
    "        X_final = tf.concat([X_trim[0],zero_padding],0).numpy()\n",
    "        \n",
    "    #mel spectogram\n",
    "    S = librosa.feature.melspectrogram(y=X_final,\n",
    "                                   sr=sr,\n",
    "                                   n_mels=128,)\n",
    "    \n",
    "    #S = tf.expand_dims(S, axis=2)\n",
    "    spectrograms_3.append(S)"
   ]
  },
  {
   "cell_type": "code",
   "execution_count": 58,
   "id": "8693867a",
   "metadata": {},
   "outputs": [],
   "source": [
    "X3= np.array(spectrograms_3)"
   ]
  },
  {
   "cell_type": "code",
   "execution_count": 59,
   "id": "686927da",
   "metadata": {},
   "outputs": [
    {
     "data": {
      "text/plain": [
       "(2600, 128, 127)"
      ]
     },
     "execution_count": 59,
     "metadata": {},
     "output_type": "execute_result"
    }
   ],
   "source": [
    "X3.shape"
   ]
  },
  {
   "cell_type": "markdown",
   "id": "836d7429",
   "metadata": {},
   "source": [
    "## testing on best model"
   ]
  },
  {
   "cell_type": "code",
   "execution_count": 60,
   "id": "904c7b4b",
   "metadata": {},
   "outputs": [],
   "source": [
    "import pickle\n",
    "filename = 'models/54,6_model.sav'\n",
    "loaded_model = pickle.load(open(filename, 'rb'))\n"
   ]
  },
  {
   "cell_type": "code",
   "execution_count": 61,
   "id": "f674eb05",
   "metadata": {},
   "outputs": [],
   "source": [
    "from sklearn.metrics import accuracy_score"
   ]
  },
  {
   "cell_type": "code",
   "execution_count": 62,
   "id": "125cd026",
   "metadata": {},
   "outputs": [
    {
     "data": {
      "text/plain": [
       "0.2623076923076923"
      ]
     },
     "execution_count": 62,
     "metadata": {},
     "output_type": "execute_result"
    }
   ],
   "source": [
    "y_pred=loaded_model.predict(X3.reshape(2600,128*127))\n",
    "accuracy_score(y3,y_pred)"
   ]
  },
  {
   "cell_type": "code",
   "execution_count": 63,
   "id": "c43ea0f3",
   "metadata": {},
   "outputs": [
    {
     "name": "stderr",
     "output_type": "stream",
     "text": [
      "/home/lucas/.pyenv/versions/3.8.12/envs/lewagon/lib/python3.8/site-packages/sklearn/utils/deprecation.py:87: FutureWarning: Function plot_confusion_matrix is deprecated; Function `plot_confusion_matrix` is deprecated in 1.0 and will be removed in 1.2. Use one of the class methods: ConfusionMatrixDisplay.from_predictions or ConfusionMatrixDisplay.from_estimator.\n",
      "  warnings.warn(msg, category=FutureWarning)\n"
     ]
    },
    {
     "data": {
      "text/plain": [
       "<sklearn.metrics._plot.confusion_matrix.ConfusionMatrixDisplay at 0x7f58dc3dedf0>"
      ]
     },
     "execution_count": 63,
     "metadata": {},
     "output_type": "execute_result"
    },
    {
     "data": {
      "image/png": "[encoded data removed]",
      "text/plain": [
       "<Figure size 432x288 with 2 Axes>"
      ]
     },
     "metadata": {},
     "output_type": "display_data"
    }
   ],
   "source": [
    "from sklearn.metrics import plot_confusion_matrix\n",
    "plot_confusion_matrix(loaded_model,X3.reshape(2600,128*127),y3)"
   ]
  },
  {
   "cell_type": "markdown",
   "id": "f38e9f40",
   "metadata": {},
   "source": [
    "## Training new model"
   ]
  },
  {
   "cell_type": "code",
   "execution_count": 64,
   "id": "3a53f37b",
   "metadata": {},
   "outputs": [],
   "source": [
    "X_train3, X_test3, y_train3, y_test3 = train_test_split(X3, y3, test_size=0.3, random_state=42)"
   ]
  },
  {
   "cell_type": "code",
   "execution_count": 65,
   "id": "0dcbdd5f",
   "metadata": {},
   "outputs": [],
   "source": [
    "X_flat3=X_train3.reshape(X_train3.shape[0],128*127)"
   ]
  },
  {
   "cell_type": "code",
   "execution_count": 66,
   "id": "3e1c18a1",
   "metadata": {},
   "outputs": [
    {
     "data": {
      "text/html": [
       "<style>#sk-container-id-3 {color: black;background-color: white;}#sk-container-id-3 pre{padding: 0;}#sk-container-id-3 div.sk-toggleable {background-color: white;}#sk-container-id-3 label.sk-toggleable__label {cursor: pointer;display: block;width: 100%;margin-bottom: 0;padding: 0.3em;box-sizing: border-box;text-align: center;}#sk-container-id-3 label.sk-toggleable__label-arrow:before {content: \"▸\";float: left;margin-right: 0.25em;color: #696969;}#sk-container-id-3 label.sk-toggleable__label-arrow:hover:before {color: black;}#sk-container-id-3 div.sk-estimator:hover label.sk-toggleable__label-arrow:before {color: black;}#sk-container-id-3 div.sk-toggleable__content {max-height: 0;max-width: 0;overflow: hidden;text-align: left;background-color: #f0f8ff;}#sk-container-id-3 div.sk-toggleable__content pre {margin: 0.2em;color: black;border-radius: 0.25em;background-color: #f0f8ff;}#sk-container-id-3 input.sk-toggleable__control:checked~div.sk-toggleable__content {max-height: 200px;max-width: 100%;overflow: auto;}#sk-container-id-3 input.sk-toggleable__control:checked~label.sk-toggleable__label-arrow:before {content: \"▾\";}#sk-container-id-3 div.sk-estimator input.sk-toggleable__control:checked~label.sk-toggleable__label {background-color: #d4ebff;}#sk-container-id-3 div.sk-label input.sk-toggleable__control:checked~label.sk-toggleable__label {background-color: #d4ebff;}#sk-container-id-3 input.sk-hidden--visually {border: 0;clip: rect(1px 1px 1px 1px);clip: rect(1px, 1px, 1px, 1px);height: 1px;margin: -1px;overflow: hidden;padding: 0;position: absolute;width: 1px;}#sk-container-id-3 div.sk-estimator {font-family: monospace;background-color: #f0f8ff;border: 1px dotted black;border-radius: 0.25em;box-sizing: border-box;margin-bottom: 0.5em;}#sk-container-id-3 div.sk-estimator:hover {background-color: #d4ebff;}#sk-container-id-3 div.sk-parallel-item::after {content: \"\";width: 100%;border-bottom: 1px solid gray;flex-grow: 1;}#sk-container-id-3 div.sk-label:hover label.sk-toggleable__label {background-color: #d4ebff;}#sk-container-id-3 div.sk-serial::before {content: \"\";position: absolute;border-left: 1px solid gray;box-sizing: border-box;top: 0;bottom: 0;left: 50%;z-index: 0;}#sk-container-id-3 div.sk-serial {display: flex;flex-direction: column;align-items: center;background-color: white;padding-right: 0.2em;padding-left: 0.2em;position: relative;}#sk-container-id-3 div.sk-item {position: relative;z-index: 1;}#sk-container-id-3 div.sk-parallel {display: flex;align-items: stretch;justify-content: center;background-color: white;position: relative;}#sk-container-id-3 div.sk-item::before, #sk-container-id-3 div.sk-parallel-item::before {content: \"\";position: absolute;border-left: 1px solid gray;box-sizing: border-box;top: 0;bottom: 0;left: 50%;z-index: -1;}#sk-container-id-3 div.sk-parallel-item {display: flex;flex-direction: column;z-index: 1;position: relative;background-color: white;}#sk-container-id-3 div.sk-parallel-item:first-child::after {align-self: flex-end;width: 50%;}#sk-container-id-3 div.sk-parallel-item:last-child::after {align-self: flex-start;width: 50%;}#sk-container-id-3 div.sk-parallel-item:only-child::after {width: 0;}#sk-container-id-3 div.sk-dashed-wrapped {border: 1px dashed gray;margin: 0 0.4em 0.5em 0.4em;box-sizing: border-box;padding-bottom: 0.4em;background-color: white;}#sk-container-id-3 div.sk-label label {font-family: monospace;font-weight: bold;display: inline-block;line-height: 1.2em;}#sk-container-id-3 div.sk-label-container {text-align: center;}#sk-container-id-3 div.sk-container {/* jupyter's `normalize.less` sets `[hidden] { display: none; }` but bootstrap.min.css set `[hidden] { display: none !important; }` so we also need the `!important` here to be able to override the default hidden behavior on the sphinx rendered scikit-learn.org. See: https://github.com/scikit-learn/scikit-learn/issues/21755 */display: inline-block !important;position: relative;}#sk-container-id-3 div.sk-text-repr-fallback {display: none;}</style><div id=\"sk-container-id-3\" class=\"sk-top-container\"><div class=\"sk-text-repr-fallback\"><pre>RandomForestClassifier(max_depth=12, min_samples_split=4, n_estimators=1000)</pre><b>In a Jupyter environment, please rerun this cell to show the HTML representation or trust the notebook. <br />On GitHub, the HTML representation is unable to render, please try loading this page with nbviewer.org.</b></div><div class=\"sk-container\" hidden><div class=\"sk-item\"><div class=\"sk-estimator sk-toggleable\"><input class=\"sk-toggleable__control sk-hidden--visually\" id=\"sk-estimator-id-3\" type=\"checkbox\" checked><label for=\"sk-estimator-id-3\" class=\"sk-toggleable__label sk-toggleable__label-arrow\">RandomForestClassifier</label><div class=\"sk-toggleable__content\"><pre>RandomForestClassifier(max_depth=12, min_samples_split=4, n_estimators=1000)</pre></div></div></div></div></div>"
      ],
      "text/plain": [
       "RandomForestClassifier(max_depth=12, min_samples_split=4, n_estimators=1000)"
      ]
     },
     "execution_count": 66,
     "metadata": {},
     "output_type": "execute_result"
    }
   ],
   "source": [
    "model_tuned_2 = RandomForestClassifier(max_depth=12,min_samples_split=4,n_estimators=1000)\n",
    "model_tuned_2.fit(X_flat3,y_train3)"
   ]
  },
  {
   "cell_type": "code",
   "execution_count": 67,
   "id": "c7906b11",
   "metadata": {},
   "outputs": [
    {
     "data": {
      "text/plain": [
       "0.9807692307692307"
      ]
     },
     "execution_count": 67,
     "metadata": {},
     "output_type": "execute_result"
    }
   ],
   "source": [
    "y_pred3=model_tuned_2.predict(X_test3.reshape(X_test3.shape[0],128*127))\n",
    "accuracy_score(y_test3,y_pred3)"
   ]
  },
  {
   "cell_type": "code",
   "execution_count": 68,
   "id": "1636edef",
   "metadata": {},
   "outputs": [
    {
     "name": "stderr",
     "output_type": "stream",
     "text": [
      "/home/lucas/.pyenv/versions/3.8.12/envs/lewagon/lib/python3.8/site-packages/sklearn/utils/deprecation.py:87: FutureWarning: Function plot_confusion_matrix is deprecated; Function `plot_confusion_matrix` is deprecated in 1.0 and will be removed in 1.2. Use one of the class methods: ConfusionMatrixDisplay.from_predictions or ConfusionMatrixDisplay.from_estimator.\n",
      "  warnings.warn(msg, category=FutureWarning)\n"
     ]
    },
    {
     "data": {
      "text/plain": [
       "<sklearn.metrics._plot.confusion_matrix.ConfusionMatrixDisplay at 0x7f58dbf20e20>"
      ]
     },
     "execution_count": 68,
     "metadata": {},
     "output_type": "execute_result"
    },
    {
     "data": {
      "image/png": "[encoded data removed]",
      "text/plain": [
       "<Figure size 432x288 with 2 Axes>"
      ]
     },
     "metadata": {},
     "output_type": "display_data"
    }
   ],
   "source": [
    "plot_confusion_matrix(model_tuned_2,X_test3.reshape(X_test3.shape[0],128*127),y_test3)"
   ]
  },
  {
   "cell_type": "code",
   "execution_count": 69,
   "id": "ece545b3",
   "metadata": {},
   "outputs": [],
   "source": [
    "#filename = 'tess_model.sav'\n",
    "#pickle.dump(model_tuned_2, open(filename, 'wb'))"
   ]
  },
  {
   "cell_type": "markdown",
   "id": "f0cc2d1f",
   "metadata": {},
   "source": [
    "## testing tess model with other datasets"
   ]
  },
  {
   "cell_type": "code",
   "execution_count": 71,
   "id": "28793a99",
   "metadata": {},
   "outputs": [
    {
     "data": {
      "text/plain": [
       "0.13819444444444445"
      ]
     },
     "execution_count": 71,
     "metadata": {},
     "output_type": "execute_result"
    }
   ],
   "source": [
    "X_ravdess = np.append(X_train,X_test,axis=0)\n",
    "y_pred=model_tuned_2.predict(X_ravdess.reshape(X_ravdess.shape[0],128*127))\n",
    "accuracy_score(y,y_pred)"
   ]
  },
  {
   "cell_type": "code",
   "execution_count": 72,
   "id": "e5c0c5f0",
   "metadata": {},
   "outputs": [],
   "source": [
    "#It doesnt generalize well"
   ]
  },
  {
   "cell_type": "markdown",
   "id": "e2b13604",
   "metadata": {},
   "source": [
    "# Crema dataset"
   ]
  },
  {
   "cell_type": "code",
   "execution_count": 74,
   "id": "53d2ea64",
   "metadata": {},
   "outputs": [],
   "source": [
    "audio_files_4 = glob(\"data/Crema/*.wav\")"
   ]
  },
  {
   "cell_type": "code",
   "execution_count": 83,
   "id": "29e1a73d",
   "metadata": {},
   "outputs": [
    {
     "data": {
      "text/plain": [
       "'data/Crema/1075_IEO_ANG_HI.wav'"
      ]
     },
     "execution_count": 83,
     "metadata": {},
     "output_type": "execute_result"
    }
   ],
   "source": [
    "audio_files_4[-1]"
   ]
  },
  {
   "cell_type": "code",
   "execution_count": 88,
   "id": "9245c72e",
   "metadata": {},
   "outputs": [],
   "source": [
    "ids=[]\n",
    "for audio in audio_files_4:\n",
    "    ids.append(audio[20:-7])\n",
    "\n",
    "new_df = pd.DataFrame(ids)\n",
    "new_df.rename(columns={0: \"emotion\"},inplace=True)"
   ]
  },
  {
   "cell_type": "code",
   "execution_count": 90,
   "id": "b94e3da0",
   "metadata": {},
   "outputs": [
    {
     "data": {
      "text/plain": [
       "emotion\n",
       "ANG        1271\n",
       "DIS        1271\n",
       "FEA        1271\n",
       "HAP        1271\n",
       "SAD        1271\n",
       "NEU        1087\n",
       "dtype: int64"
      ]
     },
     "execution_count": 90,
     "metadata": {},
     "output_type": "execute_result"
    }
   ],
   "source": [
    "new_df.value_counts()"
   ]
  },
  {
   "cell_type": "code",
   "execution_count": 91,
   "id": "426bfd86",
   "metadata": {},
   "outputs": [],
   "source": [
    "emo_relation ={\n",
    "    'ANG':'05',\n",
    "    'DIS':'07',\n",
    "    'FEA':'06',\n",
    "    'HAP':'03',\n",
    "    'NEU':'01',\n",
    "    'SAD':'04'\n",
    "}\n",
    "#Emotion (01 = neutral, 02 = calm, 03 = happy, 04 = sad, 05 = angry, 06 = fearful, 07 = disgust, 08 = surprised)."
   ]
  },
  {
   "cell_type": "code",
   "execution_count": 92,
   "id": "bd08fe49",
   "metadata": {},
   "outputs": [
    {
     "data": {
      "text/html": [
       "<div>\n",
       "<style scoped>\n",
       "    .dataframe tbody tr th:only-of-type {\n",
       "        vertical-align: middle;\n",
       "    }\n",
       "\n",
       "    .dataframe tbody tr th {\n",
       "        vertical-align: top;\n",
       "    }\n",
       "\n",
       "    .dataframe thead th {\n",
       "        text-align: right;\n",
       "    }\n",
       "</style>\n",
       "<table border=\"1\" class=\"dataframe\">\n",
       "  <thead>\n",
       "    <tr style=\"text-align: right;\">\n",
       "      <th></th>\n",
       "      <th>emotion</th>\n",
       "    </tr>\n",
       "  </thead>\n",
       "  <tbody>\n",
       "    <tr>\n",
       "      <th>0</th>\n",
       "      <td>04</td>\n",
       "    </tr>\n",
       "    <tr>\n",
       "      <th>1</th>\n",
       "      <td>06</td>\n",
       "    </tr>\n",
       "    <tr>\n",
       "      <th>2</th>\n",
       "      <td>07</td>\n",
       "    </tr>\n",
       "    <tr>\n",
       "      <th>3</th>\n",
       "      <td>04</td>\n",
       "    </tr>\n",
       "    <tr>\n",
       "      <th>4</th>\n",
       "      <td>03</td>\n",
       "    </tr>\n",
       "    <tr>\n",
       "      <th>...</th>\n",
       "      <td>...</td>\n",
       "    </tr>\n",
       "    <tr>\n",
       "      <th>7437</th>\n",
       "      <td>04</td>\n",
       "    </tr>\n",
       "    <tr>\n",
       "      <th>7438</th>\n",
       "      <td>07</td>\n",
       "    </tr>\n",
       "    <tr>\n",
       "      <th>7439</th>\n",
       "      <td>06</td>\n",
       "    </tr>\n",
       "    <tr>\n",
       "      <th>7440</th>\n",
       "      <td>07</td>\n",
       "    </tr>\n",
       "    <tr>\n",
       "      <th>7441</th>\n",
       "      <td>05</td>\n",
       "    </tr>\n",
       "  </tbody>\n",
       "</table>\n",
       "<p>7442 rows × 1 columns</p>\n",
       "</div>"
      ],
      "text/plain": [
       "     emotion\n",
       "0         04\n",
       "1         06\n",
       "2         07\n",
       "3         04\n",
       "4         03\n",
       "...      ...\n",
       "7437      04\n",
       "7438      07\n",
       "7439      06\n",
       "7440      07\n",
       "7441      05\n",
       "\n",
       "[7442 rows x 1 columns]"
      ]
     },
     "execution_count": 92,
     "metadata": {},
     "output_type": "execute_result"
    }
   ],
   "source": [
    "new_df = new_df.replace({'emotion':emo_relation})\n",
    "new_df"
   ]
  },
  {
   "cell_type": "code",
   "execution_count": 96,
   "id": "bb40bfd5",
   "metadata": {},
   "outputs": [],
   "source": [
    "y4=new_df['emotion']"
   ]
  },
  {
   "cell_type": "code",
   "execution_count": 94,
   "id": "5d1c24b6",
   "metadata": {},
   "outputs": [],
   "source": [
    "spectrograms_4 = []\n",
    "for item in audio_files_4:\n",
    "    X, sr = librosa.load(item) #vectorizing\n",
    "    X_trim = librosa.effects.trim(X,top_db=35) #trimming data\n",
    "    \n",
    "    #padding\n",
    "    if X_trim[0].shape[0] >= 65000:\n",
    "        X_final = X_trim[0][:65000]\n",
    "        X_final = tf.convert_to_tensor(X_final).numpy()\n",
    "    else:\n",
    "        zero_padding = tf.zeros([65000]-tf.shape(X_trim[0]),dtype=tf.float32)\n",
    "        X_final = tf.concat([X_trim[0],zero_padding],0).numpy()\n",
    "        \n",
    "    #mel spectogram\n",
    "    S = librosa.feature.melspectrogram(y=X_final,\n",
    "                                   sr=sr,\n",
    "                                   n_mels=128,)\n",
    "    \n",
    "    #S = tf.expand_dims(S, axis=2)\n",
    "    spectrograms_4.append(S)"
   ]
  },
  {
   "cell_type": "code",
   "execution_count": 95,
   "id": "66fc2791",
   "metadata": {},
   "outputs": [
    {
     "data": {
      "text/plain": [
       "(7442, 128, 127)"
      ]
     },
     "execution_count": 95,
     "metadata": {},
     "output_type": "execute_result"
    }
   ],
   "source": [
    "X4= np.array(spectrograms_4)\n",
    "X4.shape"
   ]
  },
  {
   "cell_type": "markdown",
   "id": "2fe82d8f",
   "metadata": {},
   "source": [
    "## testing on previous models"
   ]
  },
  {
   "cell_type": "code",
   "execution_count": 97,
   "id": "b577e2c9",
   "metadata": {},
   "outputs": [
    {
     "data": {
      "text/plain": [
       "0.20169309325450147"
      ]
     },
     "execution_count": 97,
     "metadata": {},
     "output_type": "execute_result"
    }
   ],
   "source": [
    "y_pred=model_tuned_2.predict(X4.reshape(X4.shape[0],128*127))\n",
    "accuracy_score(y4,y_pred)"
   ]
  },
  {
   "cell_type": "code",
   "execution_count": 98,
   "id": "1a167adb",
   "metadata": {},
   "outputs": [
    {
     "data": {
      "text/plain": [
       "0.21835528083848427"
      ]
     },
     "execution_count": 98,
     "metadata": {},
     "output_type": "execute_result"
    }
   ],
   "source": [
    "y_pred=loaded_model.predict(X4.reshape(X4.shape[0],128*127))\n",
    "accuracy_score(y4,y_pred)"
   ]
  },
  {
   "cell_type": "markdown",
   "id": "74051d86",
   "metadata": {},
   "source": [
    "## training new model"
   ]
  },
  {
   "cell_type": "code",
   "execution_count": 99,
   "id": "8b56e6d1",
   "metadata": {},
   "outputs": [],
   "source": [
    "X_train4, X_test4, y_train4, y_test4 = train_test_split(X4, y4, test_size=0.3, random_state=42)"
   ]
  },
  {
   "cell_type": "code",
   "execution_count": 100,
   "id": "53cdc25b",
   "metadata": {},
   "outputs": [],
   "source": [
    "X_flat4=X_train4.reshape(X_train4.shape[0],128*127)"
   ]
  },
  {
   "cell_type": "code",
   "execution_count": 101,
   "id": "d2ec0375",
   "metadata": {},
   "outputs": [
    {
     "data": {
      "text/html": [
       "<style>#sk-container-id-4 {color: black;background-color: white;}#sk-container-id-4 pre{padding: 0;}#sk-container-id-4 div.sk-toggleable {background-color: white;}#sk-container-id-4 label.sk-toggleable__label {cursor: pointer;display: block;width: 100%;margin-bottom: 0;padding: 0.3em;box-sizing: border-box;text-align: center;}#sk-container-id-4 label.sk-toggleable__label-arrow:before {content: \"▸\";float: left;margin-right: 0.25em;color: #696969;}#sk-container-id-4 label.sk-toggleable__label-arrow:hover:before {color: black;}#sk-container-id-4 div.sk-estimator:hover label.sk-toggleable__label-arrow:before {color: black;}#sk-container-id-4 div.sk-toggleable__content {max-height: 0;max-width: 0;overflow: hidden;text-align: left;background-color: #f0f8ff;}#sk-container-id-4 div.sk-toggleable__content pre {margin: 0.2em;color: black;border-radius: 0.25em;background-color: #f0f8ff;}#sk-container-id-4 input.sk-toggleable__control:checked~div.sk-toggleable__content {max-height: 200px;max-width: 100%;overflow: auto;}#sk-container-id-4 input.sk-toggleable__control:checked~label.sk-toggleable__label-arrow:before {content: \"▾\";}#sk-container-id-4 div.sk-estimator input.sk-toggleable__control:checked~label.sk-toggleable__label {background-color: #d4ebff;}#sk-container-id-4 div.sk-label input.sk-toggleable__control:checked~label.sk-toggleable__label {background-color: #d4ebff;}#sk-container-id-4 input.sk-hidden--visually {border: 0;clip: rect(1px 1px 1px 1px);clip: rect(1px, 1px, 1px, 1px);height: 1px;margin: -1px;overflow: hidden;padding: 0;position: absolute;width: 1px;}#sk-container-id-4 div.sk-estimator {font-family: monospace;background-color: #f0f8ff;border: 1px dotted black;border-radius: 0.25em;box-sizing: border-box;margin-bottom: 0.5em;}#sk-container-id-4 div.sk-estimator:hover {background-color: #d4ebff;}#sk-container-id-4 div.sk-parallel-item::after {content: \"\";width: 100%;border-bottom: 1px solid gray;flex-grow: 1;}#sk-container-id-4 div.sk-label:hover label.sk-toggleable__label {background-color: #d4ebff;}#sk-container-id-4 div.sk-serial::before {content: \"\";position: absolute;border-left: 1px solid gray;box-sizing: border-box;top: 0;bottom: 0;left: 50%;z-index: 0;}#sk-container-id-4 div.sk-serial {display: flex;flex-direction: column;align-items: center;background-color: white;padding-right: 0.2em;padding-left: 0.2em;position: relative;}#sk-container-id-4 div.sk-item {position: relative;z-index: 1;}#sk-container-id-4 div.sk-parallel {display: flex;align-items: stretch;justify-content: center;background-color: white;position: relative;}#sk-container-id-4 div.sk-item::before, #sk-container-id-4 div.sk-parallel-item::before {content: \"\";position: absolute;border-left: 1px solid gray;box-sizing: border-box;top: 0;bottom: 0;left: 50%;z-index: -1;}#sk-container-id-4 div.sk-parallel-item {display: flex;flex-direction: column;z-index: 1;position: relative;background-color: white;}#sk-container-id-4 div.sk-parallel-item:first-child::after {align-self: flex-end;width: 50%;}#sk-container-id-4 div.sk-parallel-item:last-child::after {align-self: flex-start;width: 50%;}#sk-container-id-4 div.sk-parallel-item:only-child::after {width: 0;}#sk-container-id-4 div.sk-dashed-wrapped {border: 1px dashed gray;margin: 0 0.4em 0.5em 0.4em;box-sizing: border-box;padding-bottom: 0.4em;background-color: white;}#sk-container-id-4 div.sk-label label {font-family: monospace;font-weight: bold;display: inline-block;line-height: 1.2em;}#sk-container-id-4 div.sk-label-container {text-align: center;}#sk-container-id-4 div.sk-container {/* jupyter's `normalize.less` sets `[hidden] { display: none; }` but bootstrap.min.css set `[hidden] { display: none !important; }` so we also need the `!important` here to be able to override the default hidden behavior on the sphinx rendered scikit-learn.org. See: https://github.com/scikit-learn/scikit-learn/issues/21755 */display: inline-block !important;position: relative;}#sk-container-id-4 div.sk-text-repr-fallback {display: none;}</style><div id=\"sk-container-id-4\" class=\"sk-top-container\"><div class=\"sk-text-repr-fallback\"><pre>RandomForestClassifier(max_depth=12, min_samples_split=4, n_estimators=1000)</pre><b>In a Jupyter environment, please rerun this cell to show the HTML representation or trust the notebook. <br />On GitHub, the HTML representation is unable to render, please try loading this page with nbviewer.org.</b></div><div class=\"sk-container\" hidden><div class=\"sk-item\"><div class=\"sk-estimator sk-toggleable\"><input class=\"sk-toggleable__control sk-hidden--visually\" id=\"sk-estimator-id-4\" type=\"checkbox\" checked><label for=\"sk-estimator-id-4\" class=\"sk-toggleable__label sk-toggleable__label-arrow\">RandomForestClassifier</label><div class=\"sk-toggleable__content\"><pre>RandomForestClassifier(max_depth=12, min_samples_split=4, n_estimators=1000)</pre></div></div></div></div></div>"
      ],
      "text/plain": [
       "RandomForestClassifier(max_depth=12, min_samples_split=4, n_estimators=1000)"
      ]
     },
     "execution_count": 101,
     "metadata": {},
     "output_type": "execute_result"
    }
   ],
   "source": [
    "model_crema = RandomForestClassifier(max_depth=12,min_samples_split=4,n_estimators=1000)\n",
    "model_crema.fit(X_flat4,y_train4)"
   ]
  },
  {
   "cell_type": "code",
   "execution_count": 102,
   "id": "4e3a7e09",
   "metadata": {},
   "outputs": [
    {
     "data": {
      "text/plain": [
       "0.45499328257948946"
      ]
     },
     "execution_count": 102,
     "metadata": {},
     "output_type": "execute_result"
    }
   ],
   "source": [
    "y_pred4=model_crema.predict(X_test4.reshape(X_test4.shape[0],128*127))\n",
    "accuracy_score(y_test4,y_pred4)"
   ]
  },
  {
   "cell_type": "code",
   "execution_count": 107,
   "id": "a8c69f6f",
   "metadata": {},
   "outputs": [
    {
     "name": "stderr",
     "output_type": "stream",
     "text": [
      "/home/lucas/.pyenv/versions/3.8.12/envs/lewagon/lib/python3.8/site-packages/sklearn/utils/deprecation.py:87: FutureWarning: Function plot_confusion_matrix is deprecated; Function `plot_confusion_matrix` is deprecated in 1.0 and will be removed in 1.2. Use one of the class methods: ConfusionMatrixDisplay.from_predictions or ConfusionMatrixDisplay.from_estimator.\n",
      "  warnings.warn(msg, category=FutureWarning)\n"
     ]
    },
    {
     "data": {
      "text/plain": [
       "<sklearn.metrics._plot.confusion_matrix.ConfusionMatrixDisplay at 0x7f58db665070>"
      ]
     },
     "execution_count": 107,
     "metadata": {},
     "output_type": "execute_result"
    },
    {
     "data": {
      "image/png": "[encoded data removed]",
      "text/plain": [
       "<Figure size 432x288 with 2 Axes>"
      ]
     },
     "metadata": {},
     "output_type": "display_data"
    }
   ],
   "source": [
    "plot_confusion_matrix(model_crema,X_test4.reshape(X_test4.shape[0],128*127),y_test4)"
   ]
  },
  {
   "cell_type": "markdown",
   "id": "e3d0bd4c",
   "metadata": {},
   "source": [
    "## test them on the other datasets"
   ]
  },
  {
   "cell_type": "code",
   "execution_count": 104,
   "id": "b557289f",
   "metadata": {},
   "outputs": [
    {
     "data": {
      "text/plain": [
       "0.12986111111111112"
      ]
     },
     "execution_count": 104,
     "metadata": {},
     "output_type": "execute_result"
    }
   ],
   "source": [
    "#ravdess\n",
    "y_pred=model_crema.predict(np.append(X_train,X_test,axis=0).reshape(np.append(X_train,X_test,axis=0).shape[0],128*127))\n",
    "accuracy_score(y,y_pred)"
   ]
  },
  {
   "cell_type": "code",
   "execution_count": 105,
   "id": "4241ec97",
   "metadata": {},
   "outputs": [
    {
     "data": {
      "text/plain": [
       "0.17291666666666666"
      ]
     },
     "execution_count": 105,
     "metadata": {},
     "output_type": "execute_result"
    }
   ],
   "source": [
    "#savee\n",
    "y_pred=model_crema.predict(X2.reshape(X2.shape[0],128*127))\n",
    "accuracy_score(y2,y_pred)"
   ]
  },
  {
   "cell_type": "code",
   "execution_count": 106,
   "id": "9d106ecc",
   "metadata": {},
   "outputs": [
    {
     "data": {
      "text/plain": [
       "0.20846153846153845"
      ]
     },
     "execution_count": 106,
     "metadata": {},
     "output_type": "execute_result"
    }
   ],
   "source": [
    "#tess\n",
    "y_pred=model_crema.predict(X3.reshape(X3.shape[0],128*127))\n",
    "accuracy_score(y3,y_pred)"
   ]
  },
  {
   "cell_type": "code",
   "execution_count": 110,
   "id": "e005d0e2",
   "metadata": {},
   "outputs": [],
   "source": [
    "#lets try to save the variable in a pickle model\n",
    "#filename = 'X4.sav'\n",
    "#pickle.dump(X4, open(filename, 'wb'))\n"
   ]
  },
  {
   "cell_type": "code",
   "execution_count": null,
   "id": "4f0ce75b",
   "metadata": {},
   "outputs": [],
   "source": []
  },
  {
   "cell_type": "markdown",
   "id": "7797b3bd",
   "metadata": {},
   "source": [
    "# Stacking everything together"
   ]
  },
  {
   "cell_type": "markdown",
   "id": "da37b912",
   "metadata": {},
   "source": [
    "- lets train all data and try to figure out a general model.\n",
    "- lets stack all Xs and all Ys together\n",
    "- lets drop some emotions to make it easy for our model"
   ]
  },
  {
   "cell_type": "markdown",
   "id": "8a886286",
   "metadata": {},
   "source": [
    "## X and y"
   ]
  },
  {
   "cell_type": "code",
   "execution_count": 120,
   "id": "e40e1175",
   "metadata": {},
   "outputs": [
    {
     "data": {
      "text/plain": [
       "(11962,)"
      ]
     },
     "execution_count": 120,
     "metadata": {},
     "output_type": "execute_result"
    }
   ],
   "source": [
    "#y+y2+y3+y4\n",
    "temp = np.append(y,y2,axis=0)\n",
    "temp = np.append(temp,y3,axis=0)\n",
    "y_stacked = np.append(temp,y4,axis=0)\n",
    "temp =[]\n",
    "y_stacked.shape"
   ]
  },
  {
   "cell_type": "code",
   "execution_count": null,
   "id": "47836aa6",
   "metadata": {},
   "outputs": [],
   "source": [
    "new_df = pd.DataFrame(y_stacked)\n",
    "new_df.rename(columns={0: \"emotion\"},inplace=True)\n",
    "y_stacked = new_df['emotion']"
   ]
  },
  {
   "cell_type": "code",
   "execution_count": null,
   "id": "9b0ec906",
   "metadata": {},
   "outputs": [],
   "source": [
    "#X2+X3+X4+X_train+X_test\n",
    "#temp = np.append(X_train,X_test,axis=0)\n",
    "temp = np.append(X1,X2,axis=0)\n",
    "temp = np.append(temp,X3,axis=0)\n",
    "X_stacked = np.append(temp,X4,axis=0)\n",
    "temp = []\n",
    "X_stacked.shape"
   ]
  },
  {
   "cell_type": "code",
   "execution_count": null,
   "id": "b5ff56eb",
   "metadata": {},
   "outputs": [],
   "source": []
  },
  {
   "cell_type": "code",
   "execution_count": 133,
   "id": "9f866f2d",
   "metadata": {},
   "outputs": [
    {
     "data": {
      "text/html": [
       "<div>\n",
       "<style scoped>\n",
       "    .dataframe tbody tr th:only-of-type {\n",
       "        vertical-align: middle;\n",
       "    }\n",
       "\n",
       "    .dataframe tbody tr th {\n",
       "        vertical-align: top;\n",
       "    }\n",
       "\n",
       "    .dataframe thead th {\n",
       "        text-align: right;\n",
       "    }\n",
       "</style>\n",
       "<table border=\"1\" class=\"dataframe\">\n",
       "  <thead>\n",
       "    <tr style=\"text-align: right;\">\n",
       "      <th></th>\n",
       "      <th>0</th>\n",
       "      <th>0</th>\n",
       "      <th>1</th>\n",
       "      <th>2</th>\n",
       "      <th>3</th>\n",
       "      <th>4</th>\n",
       "      <th>5</th>\n",
       "      <th>6</th>\n",
       "      <th>7</th>\n",
       "      <th>8</th>\n",
       "      <th>...</th>\n",
       "      <th>16246</th>\n",
       "      <th>16247</th>\n",
       "      <th>16248</th>\n",
       "      <th>16249</th>\n",
       "      <th>16250</th>\n",
       "      <th>16251</th>\n",
       "      <th>16252</th>\n",
       "      <th>16253</th>\n",
       "      <th>16254</th>\n",
       "      <th>16255</th>\n",
       "    </tr>\n",
       "  </thead>\n",
       "  <tbody>\n",
       "    <tr>\n",
       "      <th>0</th>\n",
       "      <td>01</td>\n",
       "      <td>2.203027e-03</td>\n",
       "      <td>1.170251e-02</td>\n",
       "      <td>4.455282e-01</td>\n",
       "      <td>3.819107e+00</td>\n",
       "      <td>2.298981e+01</td>\n",
       "      <td>101.363251</td>\n",
       "      <td>135.918549</td>\n",
       "      <td>96.590721</td>\n",
       "      <td>6.577298e+01</td>\n",
       "      <td>...</td>\n",
       "      <td>0.000000e+00</td>\n",
       "      <td>0.000000e+00</td>\n",
       "      <td>0.000000e+00</td>\n",
       "      <td>0.000000e+00</td>\n",
       "      <td>0.000000e+00</td>\n",
       "      <td>0.000000e+00</td>\n",
       "      <td>0.000000e+00</td>\n",
       "      <td>0.000000e+00</td>\n",
       "      <td>0.000000e+00</td>\n",
       "      <td>0.000000e+00</td>\n",
       "    </tr>\n",
       "    <tr>\n",
       "      <th>1</th>\n",
       "      <td>06</td>\n",
       "      <td>1.060637e-07</td>\n",
       "      <td>2.946360e-07</td>\n",
       "      <td>1.580506e-06</td>\n",
       "      <td>4.227112e-05</td>\n",
       "      <td>5.170397e-04</td>\n",
       "      <td>0.000904</td>\n",
       "      <td>0.000852</td>\n",
       "      <td>0.001354</td>\n",
       "      <td>2.152896e-03</td>\n",
       "      <td>...</td>\n",
       "      <td>0.000000e+00</td>\n",
       "      <td>0.000000e+00</td>\n",
       "      <td>0.000000e+00</td>\n",
       "      <td>0.000000e+00</td>\n",
       "      <td>0.000000e+00</td>\n",
       "      <td>0.000000e+00</td>\n",
       "      <td>0.000000e+00</td>\n",
       "      <td>0.000000e+00</td>\n",
       "      <td>0.000000e+00</td>\n",
       "      <td>0.000000e+00</td>\n",
       "    </tr>\n",
       "    <tr>\n",
       "      <th>2</th>\n",
       "      <td>08</td>\n",
       "      <td>2.738150e-07</td>\n",
       "      <td>1.728752e-07</td>\n",
       "      <td>2.758381e-07</td>\n",
       "      <td>3.049385e-07</td>\n",
       "      <td>8.543942e-07</td>\n",
       "      <td>0.000001</td>\n",
       "      <td>0.000001</td>\n",
       "      <td>0.000001</td>\n",
       "      <td>7.316910e-07</td>\n",
       "      <td>...</td>\n",
       "      <td>0.000000e+00</td>\n",
       "      <td>0.000000e+00</td>\n",
       "      <td>0.000000e+00</td>\n",
       "      <td>0.000000e+00</td>\n",
       "      <td>0.000000e+00</td>\n",
       "      <td>0.000000e+00</td>\n",
       "      <td>0.000000e+00</td>\n",
       "      <td>0.000000e+00</td>\n",
       "      <td>0.000000e+00</td>\n",
       "      <td>0.000000e+00</td>\n",
       "    </tr>\n",
       "    <tr>\n",
       "      <th>3</th>\n",
       "      <td>05</td>\n",
       "      <td>1.115933e-04</td>\n",
       "      <td>1.910397e-04</td>\n",
       "      <td>1.771309e-04</td>\n",
       "      <td>7.495625e-04</td>\n",
       "      <td>1.435968e-03</td>\n",
       "      <td>0.001809</td>\n",
       "      <td>0.000911</td>\n",
       "      <td>0.000362</td>\n",
       "      <td>3.548892e-04</td>\n",
       "      <td>...</td>\n",
       "      <td>0.000000e+00</td>\n",
       "      <td>0.000000e+00</td>\n",
       "      <td>0.000000e+00</td>\n",
       "      <td>0.000000e+00</td>\n",
       "      <td>0.000000e+00</td>\n",
       "      <td>0.000000e+00</td>\n",
       "      <td>0.000000e+00</td>\n",
       "      <td>0.000000e+00</td>\n",
       "      <td>0.000000e+00</td>\n",
       "      <td>0.000000e+00</td>\n",
       "    </tr>\n",
       "    <tr>\n",
       "      <th>4</th>\n",
       "      <td>06</td>\n",
       "      <td>2.002969e-02</td>\n",
       "      <td>2.110533e-02</td>\n",
       "      <td>1.365672e-02</td>\n",
       "      <td>7.612080e-03</td>\n",
       "      <td>5.840269e-03</td>\n",
       "      <td>0.003148</td>\n",
       "      <td>0.002874</td>\n",
       "      <td>0.006182</td>\n",
       "      <td>1.110904e-02</td>\n",
       "      <td>...</td>\n",
       "      <td>1.073457e-06</td>\n",
       "      <td>6.810404e-07</td>\n",
       "      <td>5.144891e-07</td>\n",
       "      <td>4.907216e-07</td>\n",
       "      <td>4.705525e-07</td>\n",
       "      <td>2.588886e-07</td>\n",
       "      <td>1.686486e-07</td>\n",
       "      <td>1.148671e-07</td>\n",
       "      <td>5.107877e-08</td>\n",
       "      <td>8.781977e-08</td>\n",
       "    </tr>\n",
       "    <tr>\n",
       "      <th>...</th>\n",
       "      <td>...</td>\n",
       "      <td>...</td>\n",
       "      <td>...</td>\n",
       "      <td>...</td>\n",
       "      <td>...</td>\n",
       "      <td>...</td>\n",
       "      <td>...</td>\n",
       "      <td>...</td>\n",
       "      <td>...</td>\n",
       "      <td>...</td>\n",
       "      <td>...</td>\n",
       "      <td>...</td>\n",
       "      <td>...</td>\n",
       "      <td>...</td>\n",
       "      <td>...</td>\n",
       "      <td>...</td>\n",
       "      <td>...</td>\n",
       "      <td>...</td>\n",
       "      <td>...</td>\n",
       "      <td>...</td>\n",
       "      <td>...</td>\n",
       "    </tr>\n",
       "    <tr>\n",
       "      <th>11957</th>\n",
       "      <td>04</td>\n",
       "      <td>6.228230e-02</td>\n",
       "      <td>8.644083e-02</td>\n",
       "      <td>2.944090e-02</td>\n",
       "      <td>5.123207e-02</td>\n",
       "      <td>2.080762e-01</td>\n",
       "      <td>0.277888</td>\n",
       "      <td>0.167008</td>\n",
       "      <td>0.024872</td>\n",
       "      <td>3.766369e-02</td>\n",
       "      <td>...</td>\n",
       "      <td>0.000000e+00</td>\n",
       "      <td>0.000000e+00</td>\n",
       "      <td>0.000000e+00</td>\n",
       "      <td>0.000000e+00</td>\n",
       "      <td>0.000000e+00</td>\n",
       "      <td>0.000000e+00</td>\n",
       "      <td>0.000000e+00</td>\n",
       "      <td>0.000000e+00</td>\n",
       "      <td>0.000000e+00</td>\n",
       "      <td>0.000000e+00</td>\n",
       "    </tr>\n",
       "    <tr>\n",
       "      <th>11958</th>\n",
       "      <td>07</td>\n",
       "      <td>5.546933e-02</td>\n",
       "      <td>1.267934e-01</td>\n",
       "      <td>7.931565e-02</td>\n",
       "      <td>8.544661e-02</td>\n",
       "      <td>1.009162e-01</td>\n",
       "      <td>0.061718</td>\n",
       "      <td>0.064153</td>\n",
       "      <td>0.075251</td>\n",
       "      <td>4.684797e-02</td>\n",
       "      <td>...</td>\n",
       "      <td>0.000000e+00</td>\n",
       "      <td>0.000000e+00</td>\n",
       "      <td>0.000000e+00</td>\n",
       "      <td>0.000000e+00</td>\n",
       "      <td>0.000000e+00</td>\n",
       "      <td>0.000000e+00</td>\n",
       "      <td>0.000000e+00</td>\n",
       "      <td>0.000000e+00</td>\n",
       "      <td>0.000000e+00</td>\n",
       "      <td>0.000000e+00</td>\n",
       "    </tr>\n",
       "    <tr>\n",
       "      <th>11959</th>\n",
       "      <td>06</td>\n",
       "      <td>3.290078e-02</td>\n",
       "      <td>1.835278e-01</td>\n",
       "      <td>2.439672e-01</td>\n",
       "      <td>1.318054e-01</td>\n",
       "      <td>8.092763e-02</td>\n",
       "      <td>0.057761</td>\n",
       "      <td>0.095689</td>\n",
       "      <td>0.115898</td>\n",
       "      <td>4.815014e-02</td>\n",
       "      <td>...</td>\n",
       "      <td>7.680029e-17</td>\n",
       "      <td>7.587674e-17</td>\n",
       "      <td>8.036695e-17</td>\n",
       "      <td>7.670479e-17</td>\n",
       "      <td>5.166662e-17</td>\n",
       "      <td>5.895734e-17</td>\n",
       "      <td>4.922118e-17</td>\n",
       "      <td>6.648612e-17</td>\n",
       "      <td>5.373811e-13</td>\n",
       "      <td>8.026702e-08</td>\n",
       "    </tr>\n",
       "    <tr>\n",
       "      <th>11960</th>\n",
       "      <td>07</td>\n",
       "      <td>5.993700e-03</td>\n",
       "      <td>1.968046e-02</td>\n",
       "      <td>6.207709e-02</td>\n",
       "      <td>8.394147e-02</td>\n",
       "      <td>4.549056e-02</td>\n",
       "      <td>0.021034</td>\n",
       "      <td>0.011145</td>\n",
       "      <td>0.031406</td>\n",
       "      <td>1.145009e-01</td>\n",
       "      <td>...</td>\n",
       "      <td>5.438509e-17</td>\n",
       "      <td>6.966741e-17</td>\n",
       "      <td>1.007127e-16</td>\n",
       "      <td>7.689359e-17</td>\n",
       "      <td>4.879705e-17</td>\n",
       "      <td>1.258012e-15</td>\n",
       "      <td>7.132818e-14</td>\n",
       "      <td>8.846649e-14</td>\n",
       "      <td>4.198881e-15</td>\n",
       "      <td>0.000000e+00</td>\n",
       "    </tr>\n",
       "    <tr>\n",
       "      <th>11961</th>\n",
       "      <td>05</td>\n",
       "      <td>9.155823e-03</td>\n",
       "      <td>3.071533e-02</td>\n",
       "      <td>4.968899e-02</td>\n",
       "      <td>4.658072e-02</td>\n",
       "      <td>4.695423e-02</td>\n",
       "      <td>0.033942</td>\n",
       "      <td>0.016899</td>\n",
       "      <td>0.033977</td>\n",
       "      <td>9.423094e-02</td>\n",
       "      <td>...</td>\n",
       "      <td>0.000000e+00</td>\n",
       "      <td>0.000000e+00</td>\n",
       "      <td>0.000000e+00</td>\n",
       "      <td>0.000000e+00</td>\n",
       "      <td>0.000000e+00</td>\n",
       "      <td>0.000000e+00</td>\n",
       "      <td>0.000000e+00</td>\n",
       "      <td>0.000000e+00</td>\n",
       "      <td>0.000000e+00</td>\n",
       "      <td>0.000000e+00</td>\n",
       "    </tr>\n",
       "  </tbody>\n",
       "</table>\n",
       "<p>11962 rows × 16257 columns</p>\n",
       "</div>"
      ],
      "text/plain": [
       "       0             0             1             2             3      \\\n",
       "0         01  2.203027e-03  1.170251e-02  4.455282e-01  3.819107e+00   \n",
       "1         06  1.060637e-07  2.946360e-07  1.580506e-06  4.227112e-05   \n",
       "2         08  2.738150e-07  1.728752e-07  2.758381e-07  3.049385e-07   \n",
       "3         05  1.115933e-04  1.910397e-04  1.771309e-04  7.495625e-04   \n",
       "4         06  2.002969e-02  2.110533e-02  1.365672e-02  7.612080e-03   \n",
       "...      ...           ...           ...           ...           ...   \n",
       "11957     04  6.228230e-02  8.644083e-02  2.944090e-02  5.123207e-02   \n",
       "11958     07  5.546933e-02  1.267934e-01  7.931565e-02  8.544661e-02   \n",
       "11959     06  3.290078e-02  1.835278e-01  2.439672e-01  1.318054e-01   \n",
       "11960     07  5.993700e-03  1.968046e-02  6.207709e-02  8.394147e-02   \n",
       "11961     05  9.155823e-03  3.071533e-02  4.968899e-02  4.658072e-02   \n",
       "\n",
       "              4           5           6          7             8      ...  \\\n",
       "0      2.298981e+01  101.363251  135.918549  96.590721  6.577298e+01  ...   \n",
       "1      5.170397e-04    0.000904    0.000852   0.001354  2.152896e-03  ...   \n",
       "2      8.543942e-07    0.000001    0.000001   0.000001  7.316910e-07  ...   \n",
       "3      1.435968e-03    0.001809    0.000911   0.000362  3.548892e-04  ...   \n",
       "4      5.840269e-03    0.003148    0.002874   0.006182  1.110904e-02  ...   \n",
       "...             ...         ...         ...        ...           ...  ...   \n",
       "11957  2.080762e-01    0.277888    0.167008   0.024872  3.766369e-02  ...   \n",
       "11958  1.009162e-01    0.061718    0.064153   0.075251  4.684797e-02  ...   \n",
       "11959  8.092763e-02    0.057761    0.095689   0.115898  4.815014e-02  ...   \n",
       "11960  4.549056e-02    0.021034    0.011145   0.031406  1.145009e-01  ...   \n",
       "11961  4.695423e-02    0.033942    0.016899   0.033977  9.423094e-02  ...   \n",
       "\n",
       "              16246         16247         16248         16249         16250  \\\n",
       "0      0.000000e+00  0.000000e+00  0.000000e+00  0.000000e+00  0.000000e+00   \n",
       "1      0.000000e+00  0.000000e+00  0.000000e+00  0.000000e+00  0.000000e+00   \n",
       "2      0.000000e+00  0.000000e+00  0.000000e+00  0.000000e+00  0.000000e+00   \n",
       "3      0.000000e+00  0.000000e+00  0.000000e+00  0.000000e+00  0.000000e+00   \n",
       "4      1.073457e-06  6.810404e-07  5.144891e-07  4.907216e-07  4.705525e-07   \n",
       "...             ...           ...           ...           ...           ...   \n",
       "11957  0.000000e+00  0.000000e+00  0.000000e+00  0.000000e+00  0.000000e+00   \n",
       "11958  0.000000e+00  0.000000e+00  0.000000e+00  0.000000e+00  0.000000e+00   \n",
       "11959  7.680029e-17  7.587674e-17  8.036695e-17  7.670479e-17  5.166662e-17   \n",
       "11960  5.438509e-17  6.966741e-17  1.007127e-16  7.689359e-17  4.879705e-17   \n",
       "11961  0.000000e+00  0.000000e+00  0.000000e+00  0.000000e+00  0.000000e+00   \n",
       "\n",
       "              16251         16252         16253         16254         16255  \n",
       "0      0.000000e+00  0.000000e+00  0.000000e+00  0.000000e+00  0.000000e+00  \n",
       "1      0.000000e+00  0.000000e+00  0.000000e+00  0.000000e+00  0.000000e+00  \n",
       "2      0.000000e+00  0.000000e+00  0.000000e+00  0.000000e+00  0.000000e+00  \n",
       "3      0.000000e+00  0.000000e+00  0.000000e+00  0.000000e+00  0.000000e+00  \n",
       "4      2.588886e-07  1.686486e-07  1.148671e-07  5.107877e-08  8.781977e-08  \n",
       "...             ...           ...           ...           ...           ...  \n",
       "11957  0.000000e+00  0.000000e+00  0.000000e+00  0.000000e+00  0.000000e+00  \n",
       "11958  0.000000e+00  0.000000e+00  0.000000e+00  0.000000e+00  0.000000e+00  \n",
       "11959  5.895734e-17  4.922118e-17  6.648612e-17  5.373811e-13  8.026702e-08  \n",
       "11960  1.258012e-15  7.132818e-14  8.846649e-14  4.198881e-15  0.000000e+00  \n",
       "11961  0.000000e+00  0.000000e+00  0.000000e+00  0.000000e+00  0.000000e+00  \n",
       "\n",
       "[11962 rows x 16257 columns]"
      ]
     },
     "execution_count": 133,
     "metadata": {},
     "output_type": "execute_result"
    }
   ],
   "source": [
    "#stack in same df\n",
    "df_stack =pd.concat([pd.DataFrame(y_stacked),pd.DataFrame(X_stacked.reshape(X_stacked.shape[0],128*127))],axis=1)"
   ]
  },
  {
   "cell_type": "code",
   "execution_count": null,
   "id": "d3cb8da3",
   "metadata": {},
   "outputs": [],
   "source": [
    "#count emotions\n",
    "df_stack['emotion'].value_counts()"
   ]
  },
  {
   "cell_type": "code",
   "execution_count": null,
   "id": "034042ce",
   "metadata": {},
   "outputs": [],
   "source": [
    "#for info\n",
    "# selecting rows based on condition\n",
    "#rslt_df = dataframe[dataframe['Percentage'] > 80]"
   ]
  },
  {
   "cell_type": "code",
   "execution_count": null,
   "id": "1ae0a020",
   "metadata": {},
   "outputs": [],
   "source": [
    "#drop emotions\n",
    "df_stack = df_stack[df_stack['emotion']!='02']\n",
    "df_stack.shape"
   ]
  },
  {
   "cell_type": "code",
   "execution_count": null,
   "id": "b15601b2",
   "metadata": {},
   "outputs": [],
   "source": [
    "#new_X and new_y\n",
    "X_stacked = df_stack.drop(columns=['emotion'])\n",
    "y_stacked = df_stack['emotion']"
   ]
  },
  {
   "cell_type": "code",
   "execution_count": null,
   "id": "8bf5088c",
   "metadata": {},
   "outputs": [],
   "source": [
    "#train/test split\n",
    "X_train5, X_test5, y_train5, y_test5 = train_test_split(X_stacked, y_stacked, test_size=0.3, random_state=42)"
   ]
  },
  {
   "cell_type": "code",
   "execution_count": null,
   "id": "aa2c8a6c",
   "metadata": {},
   "outputs": [],
   "source": [
    "#make model\n",
    "model_stacked = RandomForestClassifier(max_depth=12,min_samples_split=4,n_estimators=1000)\n",
    "model_crema.fit(X_train5.reshape(X_train5.shape[0],128*127),y_train5)"
   ]
  },
  {
   "cell_type": "code",
   "execution_count": null,
   "id": "6daed1a7",
   "metadata": {},
   "outputs": [],
   "source": [
    "y_pred5=model_crema.predict(X_test5.reshape(X_test5.shape[0],128*127))\n",
    "accuracy_score(y_test5,y_pred5)"
   ]
  }
 ],
 "metadata": {
  "kernelspec": {
   "display_name": "Python 3 (ipykernel)",
   "language": "python",
   "name": "python3"
  },
  "language_info": {
   "codemirror_mode": {
    "name": "ipython",
    "version": 3
   },
   "file_extension": ".py",
   "mimetype": "text/x-python",
   "name": "python",
   "nbconvert_exporter": "python",
   "pygments_lexer": "ipython3",
   "version": "3.8.12"
  },
  "toc": {
   "base_numbering": 1,
   "nav_menu": {},
   "number_sections": true,
   "sideBar": true,
   "skip_h1_title": false,
   "title_cell": "Table of Contents",
   "title_sidebar": "Contents",
   "toc_cell": false,
   "toc_position": {
    "height": "calc(100% - 180px)",
    "left": "10px",
    "top": "150px",
    "width": "248.352px"
   },
   "toc_section_display": true,
   "toc_window_display": true
  }
 },
 "nbformat": 4,
 "nbformat_minor": 5
}
