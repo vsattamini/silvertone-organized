{
  "nbformat": 4,
  "nbformat_minor": 0,
  "metadata": {
    "colab": {
      "provenance": [],
      "machine_shape": "hm",
      "mount_file_id": "1QSA9QxlKbqrCUgaiB1hcd9tOYUekFw7z",
      "authorship_tag": "ABX9TyPdLCVc/QAv32WqQFLrpUK1",
      "include_colab_link": true
    },
    "kernelspec": {
      "name": "python3",
      "display_name": "Python 3"
    },
    "language_info": {
      "name": "python"
    },
    "accelerator": "TPU",
    "gpuClass": "premium"
  },
  "cells": [
    {
      "cell_type": "markdown",
      "metadata": {
        "id": "view-in-github",
        "colab_type": "text"
      },
      "source": [
        "<a href=\"https://colab.research.google.com/github/vsattamini/silvertone/blob/luiz/model_mel_fourrier_v2.ipynb\" target=\"_parent\"><img src=\"https://colab.research.google.com/assets/colab-badge.svg\" alt=\"Open In Colab\"/></a>"
      ]
    },
    {
      "cell_type": "code",
      "execution_count": 1,
      "metadata": {
        "id": "XU8JBVwx1lmT"
      },
      "outputs": [],
      "source": [
        "import pandas as pd\n",
        "from tensorflow.keras import layers, Sequential, Input, Model\n",
        "from  tensorflow import expand_dims\n",
        "from sklearn.model_selection import train_test_split\n",
        "from sklearn.preprocessing import LabelEncoder\n",
        "from keras.utils import np_utils, to_categorical\n",
        "from sklearn.preprocessing import MinMaxScaler\n",
        "import torch\n",
        "import tensorflow as tf\n",
        "import numpy as np\n",
        "from tensorflow.keras.callbacks import EarlyStopping"
      ]
    },
    {
      "cell_type": "code",
      "source": [
        "df = pd.read_pickle(\"/content/drive/MyDrive/df/database_final_v4_6emo.pkl\")"
      ],
      "metadata": {
        "id": "kTQ7RJ2Y24Vy"
      },
      "execution_count": 2,
      "outputs": []
    },
    {
      "cell_type": "code",
      "source": [
        "y = df[\"emotion\"]\n",
        "X_mel = np.array(df[\"mel_spec\"].values.tolist()).astype('float32')"
      ],
      "metadata": {
        "id": "L7LUcQ3D50E6"
      },
      "execution_count": 3,
      "outputs": []
    },
    {
      "cell_type": "code",
      "source": [
        "X_fourrier = np.array(df[\"fourrier\"].values.tolist()).astype('float32')"
      ],
      "metadata": {
        "id": "yapsXDOvCnUS"
      },
      "execution_count": 4,
      "outputs": []
    },
    {
      "cell_type": "code",
      "source": [
        "X_sep = np.array(df[\"spectral_centroid\"].values.tolist()).astype('float32')"
      ],
      "metadata": {
        "id": "bd1dtd0bgnHw"
      },
      "execution_count": 5,
      "outputs": []
    },
    {
      "cell_type": "code",
      "source": [
        "X_sep = X_sep.reshape(11770,127)"
      ],
      "metadata": {
        "id": "zGjXNPugf15B"
      },
      "execution_count": 6,
      "outputs": []
    },
    {
      "cell_type": "code",
      "source": [
        "X_mel = expand_dims(X_mel, -1)\n",
        "X_fourrier = expand_dims(X_fourrier, -1)"
      ],
      "metadata": {
        "id": "uWhy--KgkNvu"
      },
      "execution_count": 7,
      "outputs": []
    },
    {
      "cell_type": "code",
      "source": [
        "lb = LabelEncoder()\n",
        "y= np_utils.to_categorical(lb.fit_transform(y))"
      ],
      "metadata": {
        "id": "APn4lWqaH5wo"
      },
      "execution_count": 8,
      "outputs": []
    },
    {
      "cell_type": "code",
      "source": [
        "input_mel = Input(shape=(X_mel.shape[1:]))\n",
        "input_sep = Input(shape=(X_sep.shape[1:]))\n",
        "input_fourrier = Input(shape=(X_fourrier.shape[1:]))"
      ],
      "metadata": {
        "id": "sWW2fY56vWvl"
      },
      "execution_count": 9,
      "outputs": []
    },
    {
      "cell_type": "code",
      "source": [
        "mel = layers.Conv2D(64, (4,4), activation=\"relu\", padding=\"same\")(input_mel)\n",
        "mel = layers.BatchNormalization()(mel)\n",
        "mel = layers.MaxPool2D((2,2))(mel)\n",
        "mel = layers.Dropout(rate=0.2)(mel)\n",
        "mel = layers.Conv2D(128, (4,4), activation=\"relu\", padding=\"same\")(mel)\n",
        "mel = layers.Flatten()(mel)\n",
        "mel = Model(inputs=input_mel, outputs=mel)"
      ],
      "metadata": {
        "id": "eVAqfHCt0gdN"
      },
      "execution_count": 10,
      "outputs": []
    },
    {
      "cell_type": "code",
      "source": [
        "fourrier = layers.Conv2D(64, (4,4), activation=\"relu\", padding=\"same\")(input_fourrier)\n",
        "fourrier = layers.BatchNormalization()(fourrier)\n",
        "fourrier = layers.MaxPool2D((2,2))(fourrier)\n",
        "fourrier = layers.Dropout(rate=0.2)(fourrier)\n",
        "fourrier = layers.Conv2D(128, (4,4), activation=\"relu\", padding=\"same\")(fourrier)\n",
        "fourrier = layers.Flatten()(fourrier)\n",
        "fourrier = Model(inputs=input_fourrier, outputs=fourrier)"
      ],
      "metadata": {
        "id": "b_Fpbf54_q33"
      },
      "execution_count": 11,
      "outputs": []
    },
    {
      "cell_type": "code",
      "source": [
        "sep = layers.Dense(128, activation=\"relu\")(input_sep)\n",
        "sep = layers.BatchNormalization()(sep)\n",
        "sep = layers.Dropout(rate=0.2)(sep)\n",
        "sep = Model(inputs=input_sep, outputs=sep)"
      ],
      "metadata": {
        "id": "cj5mGbjNfXw3"
      },
      "execution_count": 12,
      "outputs": []
    },
    {
      "cell_type": "code",
      "source": [
        "combined = layers.Concatenate()([mel.output, fourrier.output, sep.output])"
      ],
      "metadata": {
        "id": "t9Da_aiN4HTW"
      },
      "execution_count": 13,
      "outputs": []
    },
    {
      "cell_type": "code",
      "source": [
        "final = layers.Dense(10, activation=\"relu\")(combined)\n",
        "final = layers.Dense(128, activation=\"relu\")(final)\n",
        "final = layers.BatchNormalization()(final)\n",
        "final = layers.Dropout(rate=0.2)(final)\n",
        "final = layers.Dense(7, activation=\"softmax\")(final)"
      ],
      "metadata": {
        "id": "uZWgrMgS5edr"
      },
      "execution_count": 14,
      "outputs": []
    },
    {
      "cell_type": "code",
      "source": [
        "model = Model(inputs=[mel.input, fourrier.input, sep.input], outputs=final)"
      ],
      "metadata": {
        "id": "9nkfdv3X6FBP"
      },
      "execution_count": 15,
      "outputs": []
    },
    {
      "cell_type": "code",
      "source": [
        "model.compile(loss=\"categorical_crossentropy\", optimizer=\"adam\", metrics=[\"accuracy\"])"
      ],
      "metadata": {
        "id": "M7LjVQjC6jm8"
      },
      "execution_count": 16,
      "outputs": []
    },
    {
      "cell_type": "code",
      "source": [
        "es = EarlyStopping(patience=10, restore_best_weights=True)\n",
        "model.fit(x=[X_mel, X_fourrier, X_sep], y = y, validation_split=0.3, epochs=100, batch_size=8, callbacks=[es])"
      ],
      "metadata": {
        "id": "O1Lb8aVSIqCE",
        "colab": {
          "base_uri": "https://localhost:8080/"
        },
        "outputId": "33d42d30-50d6-4006-f786-22386df339bd"
      },
      "execution_count": 17,
      "outputs": [
        {
          "output_type": "stream",
          "name": "stdout",
          "text": [
            "Epoch 1/500\n",
            "515/515 [==============================] - 1067s 2s/step - loss: 1.5760 - accuracy: 0.4141 - val_loss: 1.8224 - val_accuracy: 0.3557\n",
            "Epoch 2/500\n",
            "515/515 [==============================] - 1059s 2s/step - loss: 1.3227 - accuracy: 0.5186 - val_loss: 1.6039 - val_accuracy: 0.3925\n",
            "Epoch 3/500\n",
            "515/515 [==============================] - 1066s 2s/step - loss: 1.1016 - accuracy: 0.6013 - val_loss: 1.5279 - val_accuracy: 0.4359\n",
            "Epoch 4/500\n",
            "515/515 [==============================] - 1065s 2s/step - loss: 0.9705 - accuracy: 0.6537 - val_loss: 1.6547 - val_accuracy: 0.3857\n",
            "Epoch 5/500\n",
            "515/515 [==============================] - 1064s 2s/step - loss: 0.8405 - accuracy: 0.7006 - val_loss: 1.6502 - val_accuracy: 0.4084\n",
            "Epoch 6/500\n",
            "515/515 [==============================] - 1065s 2s/step - loss: 0.6930 - accuracy: 0.7542 - val_loss: 1.7561 - val_accuracy: 0.4208\n",
            "Epoch 7/500\n",
            "515/515 [==============================] - 1062s 2s/step - loss: 0.5249 - accuracy: 0.8233 - val_loss: 1.7753 - val_accuracy: 0.4104\n",
            "Epoch 8/500\n",
            "515/515 [==============================] - 1070s 2s/step - loss: 0.3665 - accuracy: 0.8791 - val_loss: 1.9518 - val_accuracy: 0.4220\n",
            "Epoch 9/500\n",
            "515/515 [==============================] - 1063s 2s/step - loss: 0.4352 - accuracy: 0.8601 - val_loss: 1.9267 - val_accuracy: 0.3965\n",
            "Epoch 10/500\n",
            "515/515 [==============================] - 1062s 2s/step - loss: 0.3035 - accuracy: 0.9018 - val_loss: 2.2410 - val_accuracy: 0.4050\n",
            "Epoch 11/500\n",
            "515/515 [==============================] - 1061s 2s/step - loss: 0.1769 - accuracy: 0.9488 - val_loss: 2.5046 - val_accuracy: 0.3769\n",
            "Epoch 12/500\n",
            "515/515 [==============================] - 1059s 2s/step - loss: 0.1245 - accuracy: 0.9620 - val_loss: 2.5432 - val_accuracy: 0.3922\n",
            "Epoch 13/500\n",
            "515/515 [==============================] - 1064s 2s/step - loss: 0.0961 - accuracy: 0.9738 - val_loss: 2.6752 - val_accuracy: 0.3934\n"
          ]
        },
        {
          "output_type": "execute_result",
          "data": {
            "text/plain": [
              "<keras.callbacks.History at 0x7ff22f789940>"
            ]
          },
          "metadata": {},
          "execution_count": 17
        }
      ]
    }
  ]
}