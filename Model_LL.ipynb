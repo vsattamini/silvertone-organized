{
 "cells": [
  {
   "cell_type": "code",
   "execution_count": 1,
   "id": "0656a0ad",
   "metadata": {},
   "outputs": [],
   "source": [
    "import pandas as pd\n",
    "import numpy as np\n",
    "import re"
   ]
  },
  {
   "cell_type": "code",
   "execution_count": 2,
   "id": "40a9d394",
   "metadata": {},
   "outputs": [],
   "source": [
    "df = pd.read_csv(\"dataframe_LL.csv\")"
   ]
  },
  {
   "cell_type": "code",
   "execution_count": 3,
   "id": "2526112a",
   "metadata": {},
   "outputs": [],
   "source": [
    "df = df.drop(columns = \"Unnamed: 0\" )"
   ]
  },
  {
   "cell_type": "code",
   "execution_count": 5,
   "id": "9bd30a39",
   "metadata": {},
   "outputs": [],
   "source": [
    "emotion = []\n",
    "for id in np.arange(0, df.shape[0]):\n",
    "    if df[\"id\"].iloc[id][6:8] == \"01\":\n",
    "        emotion.append(\"neutral\")\n",
    "    elif df[\"id\"].iloc[id][6:8] == \"02\":\n",
    "        emotion.append(\"calm\")\n",
    "    elif df[\"id\"].iloc[id][6:8] == \"03\":\n",
    "        emotion.append(\"happy\")\n",
    "    elif df[\"id\"].iloc[id][6:8] == \"04\":\n",
    "        emotion.append(\"sad\")\n",
    "    elif df[\"id\"].iloc[id][6:8] == \"05\":\n",
    "        emotion.append(\"angry\")\n",
    "    elif df[\"id\"].iloc[id][6:8] == \"06\":\n",
    "        emotion.append(\"fearful\")\n",
    "    elif df[\"id\"].iloc[id][6:8] == \"07\":\n",
    "        emotion.append(\"disgust\")\n",
    "    else:\n",
    "        emotion.append(\"surprised\")"
   ]
  },
  {
   "cell_type": "code",
   "execution_count": 6,
   "id": "d1ea6051",
   "metadata": {},
   "outputs": [],
   "source": [
    "df[\"emotion\"] = emotion"
   ]
  },
  {
   "cell_type": "code",
   "execution_count": 8,
   "id": "c1471fa4",
   "metadata": {},
   "outputs": [],
   "source": [
    "gender = []\n",
    "for id in np.arange(0, df.shape[0]):\n",
    "    if int(df[\"id\"].iloc[0][-2:]) % 2 == 0:\n",
    "        gender.append(\"female\")\n",
    "    else:\n",
    "        gender.append(\"male\")"
   ]
  },
  {
   "cell_type": "code",
   "execution_count": 9,
   "id": "9d13c005",
   "metadata": {},
   "outputs": [],
   "source": [
    "df[\"gender\"] = gender"
   ]
  },
  {
   "cell_type": "code",
   "execution_count": 10,
   "id": "35f42931",
   "metadata": {},
   "outputs": [],
   "source": [
    "mfcc_list = []\n",
    "for row in np.arange(0, df.shape[0]):\n",
    "    m_list = list(filter(None, re.split(\" |\\n\", df[\"mfcc\"][row])))\n",
    "    m_list[-1] = m_list[-1][:-1]\n",
    "    m_list[0] = m_list[0][1:]\n",
    "    mfcc_list.append(m_list)"
   ]
  },
  {
   "cell_type": "code",
   "execution_count": 11,
   "id": "f7a10261",
   "metadata": {},
   "outputs": [],
   "source": [
    "df[\"mfcc_list\"] = mfcc_list"
   ]
  },
  {
   "cell_type": "code",
   "execution_count": 12,
   "id": "0aaa5dcc",
   "metadata": {},
   "outputs": [],
   "source": [
    "y = []\n",
    "for row in np.arange(0, df.shape[0]):\n",
    "    y.append(f\"{df.gender.iloc[row]}_{df.emotion.iloc[row]}\")"
   ]
  },
  {
   "cell_type": "code",
   "execution_count": 13,
   "id": "33833070",
   "metadata": {},
   "outputs": [],
   "source": [
    "df[\"y\"] = y"
   ]
  },
  {
   "cell_type": "code",
   "execution_count": 18,
   "id": "bd7e0549",
   "metadata": {},
   "outputs": [],
   "source": [
    "df.to_csv('database_v3.csv')"
   ]
  },
  {
   "cell_type": "code",
   "execution_count": 19,
   "id": "7770726d",
   "metadata": {},
   "outputs": [
    {
     "data": {
      "text/html": [
       "<div>\n",
       "<style scoped>\n",
       "    .dataframe tbody tr th:only-of-type {\n",
       "        vertical-align: middle;\n",
       "    }\n",
       "\n",
       "    .dataframe tbody tr th {\n",
       "        vertical-align: top;\n",
       "    }\n",
       "\n",
       "    .dataframe thead th {\n",
       "        text-align: right;\n",
       "    }\n",
       "</style>\n",
       "<table border=\"1\" class=\"dataframe\">\n",
       "  <thead>\n",
       "    <tr style=\"text-align: right;\">\n",
       "      <th></th>\n",
       "      <th>y</th>\n",
       "      <th>0</th>\n",
       "      <th>1</th>\n",
       "      <th>2</th>\n",
       "      <th>3</th>\n",
       "      <th>4</th>\n",
       "      <th>5</th>\n",
       "      <th>6</th>\n",
       "      <th>7</th>\n",
       "      <th>8</th>\n",
       "      <th>...</th>\n",
       "      <th>219</th>\n",
       "      <th>220</th>\n",
       "      <th>221</th>\n",
       "      <th>222</th>\n",
       "      <th>223</th>\n",
       "      <th>224</th>\n",
       "      <th>225</th>\n",
       "      <th>226</th>\n",
       "      <th>227</th>\n",
       "      <th>228</th>\n",
       "    </tr>\n",
       "  </thead>\n",
       "  <tbody>\n",
       "    <tr>\n",
       "      <th>0</th>\n",
       "      <td>female_surprised</td>\n",
       "      <td>-29.824322</td>\n",
       "      <td>-30.29628</td>\n",
       "      <td>-30.3411</td>\n",
       "      <td>-30.838333</td>\n",
       "      <td>-31.067204</td>\n",
       "      <td>-30.690607</td>\n",
       "      <td>-29.505543</td>\n",
       "      <td>-30.37067</td>\n",
       "      <td>-30.751425</td>\n",
       "      <td>...</td>\n",
       "      <td>None</td>\n",
       "      <td>None</td>\n",
       "      <td>None</td>\n",
       "      <td>None</td>\n",
       "      <td>None</td>\n",
       "      <td>None</td>\n",
       "      <td>None</td>\n",
       "      <td>None</td>\n",
       "      <td>None</td>\n",
       "      <td>None</td>\n",
       "    </tr>\n",
       "    <tr>\n",
       "      <th>1</th>\n",
       "      <td>female_fearful</td>\n",
       "      <td>-31.363651</td>\n",
       "      <td>-31.014317</td>\n",
       "      <td>-31.938639</td>\n",
       "      <td>-33.056618</td>\n",
       "      <td>-30.624622</td>\n",
       "      <td>-29.9605</td>\n",
       "      <td>-32.25997</td>\n",
       "      <td>-34.145702</td>\n",
       "      <td>-34.1893</td>\n",
       "      <td>...</td>\n",
       "      <td>None</td>\n",
       "      <td>None</td>\n",
       "      <td>None</td>\n",
       "      <td>None</td>\n",
       "      <td>None</td>\n",
       "      <td>None</td>\n",
       "      <td>None</td>\n",
       "      <td>None</td>\n",
       "      <td>None</td>\n",
       "      <td>None</td>\n",
       "    </tr>\n",
       "    <tr>\n",
       "      <th>2</th>\n",
       "      <td>female_disgust</td>\n",
       "      <td>-31.545818</td>\n",
       "      <td>-31.020504</td>\n",
       "      <td>-30.576956</td>\n",
       "      <td>-31.55816</td>\n",
       "      <td>-31.198029</td>\n",
       "      <td>-30.364178</td>\n",
       "      <td>-29.075739</td>\n",
       "      <td>-30.090372</td>\n",
       "      <td>-29.83146</td>\n",
       "      <td>...</td>\n",
       "      <td>None</td>\n",
       "      <td>None</td>\n",
       "      <td>None</td>\n",
       "      <td>None</td>\n",
       "      <td>None</td>\n",
       "      <td>None</td>\n",
       "      <td>None</td>\n",
       "      <td>None</td>\n",
       "      <td>None</td>\n",
       "      <td>None</td>\n",
       "    </tr>\n",
       "    <tr>\n",
       "      <th>3</th>\n",
       "      <td>female_surprised</td>\n",
       "      <td>-34.585396</td>\n",
       "      <td>-31.6647</td>\n",
       "      <td>-30.524185</td>\n",
       "      <td>-30.788443</td>\n",
       "      <td>-31.743572</td>\n",
       "      <td>-32.15195</td>\n",
       "      <td>-31.750254</td>\n",
       "      <td>-30.014618</td>\n",
       "      <td>-30.377722</td>\n",
       "      <td>...</td>\n",
       "      <td>None</td>\n",
       "      <td>None</td>\n",
       "      <td>None</td>\n",
       "      <td>None</td>\n",
       "      <td>None</td>\n",
       "      <td>None</td>\n",
       "      <td>None</td>\n",
       "      <td>None</td>\n",
       "      <td>None</td>\n",
       "      <td>None</td>\n",
       "    </tr>\n",
       "    <tr>\n",
       "      <th>4</th>\n",
       "      <td>female_disgust</td>\n",
       "      <td>-30.627995</td>\n",
       "      <td>-31.362064</td>\n",
       "      <td>-31.129383</td>\n",
       "      <td>-32.04241</td>\n",
       "      <td>-33.47133</td>\n",
       "      <td>-34.445076</td>\n",
       "      <td>-33.192543</td>\n",
       "      <td>-31.554546</td>\n",
       "      <td>-31.1592</td>\n",
       "      <td>...</td>\n",
       "      <td>None</td>\n",
       "      <td>None</td>\n",
       "      <td>None</td>\n",
       "      <td>None</td>\n",
       "      <td>None</td>\n",
       "      <td>None</td>\n",
       "      <td>None</td>\n",
       "      <td>None</td>\n",
       "      <td>None</td>\n",
       "      <td>None</td>\n",
       "    </tr>\n",
       "  </tbody>\n",
       "</table>\n",
       "<p>5 rows × 230 columns</p>\n",
       "</div>"
      ],
      "text/plain": [
       "                  y           0           1           2           3  \\\n",
       "0  female_surprised  -29.824322   -30.29628    -30.3411  -30.838333   \n",
       "1    female_fearful  -31.363651  -31.014317  -31.938639  -33.056618   \n",
       "2    female_disgust  -31.545818  -31.020504  -30.576956   -31.55816   \n",
       "3  female_surprised  -34.585396    -31.6647  -30.524185  -30.788443   \n",
       "4    female_disgust  -30.627995  -31.362064  -31.129383   -32.04241   \n",
       "\n",
       "            4           5           6           7           8  ...   219  \\\n",
       "0  -31.067204  -30.690607  -29.505543   -30.37067  -30.751425  ...  None   \n",
       "1  -30.624622    -29.9605   -32.25997  -34.145702    -34.1893  ...  None   \n",
       "2  -31.198029  -30.364178  -29.075739  -30.090372   -29.83146  ...  None   \n",
       "3  -31.743572   -32.15195  -31.750254  -30.014618  -30.377722  ...  None   \n",
       "4   -33.47133  -34.445076  -33.192543  -31.554546    -31.1592  ...  None   \n",
       "\n",
       "    220   221   222   223   224   225   226   227   228  \n",
       "0  None  None  None  None  None  None  None  None  None  \n",
       "1  None  None  None  None  None  None  None  None  None  \n",
       "2  None  None  None  None  None  None  None  None  None  \n",
       "3  None  None  None  None  None  None  None  None  None  \n",
       "4  None  None  None  None  None  None  None  None  None  \n",
       "\n",
       "[5 rows x 230 columns]"
      ]
     },
     "execution_count": 19,
     "metadata": {},
     "output_type": "execute_result"
    }
   ],
   "source": [
    "df_for_model = pd.concat([df[\"y\"],pd.DataFrame(df['mfcc_list'].values.tolist())],axis=1)\n",
    "df_for_model.head()"
   ]
  },
  {
   "cell_type": "code",
   "execution_count": 20,
   "id": "a0977b31",
   "metadata": {},
   "outputs": [],
   "source": [
    "df_for_model.to_csv(\"database_mscc.csv\")"
   ]
  },
  {
   "cell_type": "code",
   "execution_count": null,
   "id": "c635c971",
   "metadata": {},
   "outputs": [],
   "source": []
  },
  {
   "cell_type": "code",
   "execution_count": null,
   "id": "7697dc73",
   "metadata": {},
   "outputs": [],
   "source": []
  },
  {
   "cell_type": "code",
   "execution_count": null,
   "id": "c0cbaa5a",
   "metadata": {},
   "outputs": [],
   "source": []
  },
  {
   "cell_type": "code",
   "execution_count": null,
   "id": "9edd5c26",
   "metadata": {},
   "outputs": [],
   "source": []
  }
 ],
 "metadata": {
  "kernelspec": {
   "display_name": "Python 3 (ipykernel)",
   "language": "python",
   "name": "python3"
  },
  "language_info": {
   "codemirror_mode": {
    "name": "ipython",
    "version": 3
   },
   "file_extension": ".py",
   "mimetype": "text/x-python",
   "name": "python",
   "nbconvert_exporter": "python",
   "pygments_lexer": "ipython3",
   "version": "3.8.12"
  },
  "nbTranslate": {
   "displayLangs": [
    "*"
   ],
   "hotkey": "alt-t",
   "langInMainMenu": true,
   "sourceLang": "en",
   "targetLang": "fr",
   "useGoogleTranslate": true
  },
  "toc": {
   "base_numbering": 1,
   "nav_menu": {},
   "number_sections": true,
   "sideBar": true,
   "skip_h1_title": false,
   "title_cell": "Table of Contents",
   "title_sidebar": "Contents",
   "toc_cell": false,
   "toc_position": {},
   "toc_section_display": true,
   "toc_window_display": false
  }
 },
 "nbformat": 4,
 "nbformat_minor": 5
}
