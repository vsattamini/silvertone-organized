{
 "cells": [
  {
   "cell_type": "code",
   "execution_count": null,
   "id": "7a970e04",
   "metadata": {},
   "outputs": [],
   "source": [
    "#imports\n",
    "import numpy as np\n",
    "import pandas as pd\n",
    "import matplotlib.pyplot as plt\n",
    "import seaborn as sns\n",
    "\n",
    "import librosa\n",
    "import librosa.display\n",
    "import IPython.display as ipd\n",
    "\n",
    "from glob import glob\n",
    "import tensorflow as tf"
   ]
  },
  {
   "cell_type": "code",
   "execution_count": 1,
   "id": "a326550b",
   "metadata": {},
   "outputs": [],
   "source": [
    "def preprocessing (audio):\n",
    "    spectrograms = []\n",
    "    X, sr = librosa.load(audio) #vectorizing\n",
    "    X_trim = librosa.effects.trim(X,top_db=35) #trimming data\n",
    "    \n",
    "    #padding\n",
    "    if X_trim[0].shape[0] >= 65000:\n",
    "        X_final = X_trim[0][:65000]\n",
    "        X_final = tf.convert_to_tensor(X_final).numpy()\n",
    "    else:\n",
    "        zero_padding = tf.zeros([65000]-tf.shape(X_trim[0]),dtype=tf.float32)\n",
    "        X_final = tf.concat([X_trim[0],zero_padding],0).numpy()\n",
    "        \n",
    "    #mel spectogram\n",
    "    S = librosa.feature.melspectrogram(y=X_final,\n",
    "                                   sr=sr,\n",
    "                                   n_mels=128,)\n",
    "    \n",
    "    \n",
    "    spectrograms.append(S)\n",
    "    X= np.array(spectrograms)\n",
    "    X_flat=X.reshape(X.shape[0],128*127)   \n",
    "    return X_flat #numpy array shape (size,128,127)"
   ]
  },
  {
   "cell_type": "code",
   "execution_count": 3,
   "id": "7cc0ca2d",
   "metadata": {},
   "outputs": [],
   "source": [
    "#import model\n",
    "import pickle\n",
    "filename = 'models/54,6_model.sav'\n",
    "loaded_model = pickle.load(open(filename, 'rb'))"
   ]
  },
  {
   "cell_type": "code",
   "execution_count": null,
   "id": "32265cb9",
   "metadata": {},
   "outputs": [],
   "source": [
    "X_flat = preprocessing(audio) #audio.wav "
   ]
  },
  {
   "cell_type": "code",
   "execution_count": null,
   "id": "85c23afb",
   "metadata": {},
   "outputs": [],
   "source": [
    "emo_relation = {'01': 'neutral', '02': 'calm', '03': 'happy', '04': 'sad',\n",
    "            '05': 'angry', '06': 'fearful', '07': 'disgust', '08': 'surprised'}"
   ]
  },
  {
   "cell_type": "code",
   "execution_count": null,
   "id": "59d2a26a",
   "metadata": {},
   "outputs": [],
   "source": [
    "res = loaded_model.predict(X_flat)"
   ]
  },
  {
   "cell_type": "code",
   "execution_count": null,
   "id": "9d1f5385",
   "metadata": {},
   "outputs": [],
   "source": [
    "emo_relation[res[0]]"
   ]
  }
 ],
 "metadata": {
  "kernelspec": {
   "display_name": "Python 3 (ipykernel)",
   "language": "python",
   "name": "python3"
  },
  "language_info": {
   "codemirror_mode": {
    "name": "ipython",
    "version": 3
   },
   "file_extension": ".py",
   "mimetype": "text/x-python",
   "name": "python",
   "nbconvert_exporter": "python",
   "pygments_lexer": "ipython3",
   "version": "3.8.12"
  },
  "toc": {
   "base_numbering": 1,
   "nav_menu": {},
   "number_sections": true,
   "sideBar": true,
   "skip_h1_title": false,
   "title_cell": "Table of Contents",
   "title_sidebar": "Contents",
   "toc_cell": false,
   "toc_position": {},
   "toc_section_display": true,
   "toc_window_display": false
  }
 },
 "nbformat": 4,
 "nbformat_minor": 5
}
