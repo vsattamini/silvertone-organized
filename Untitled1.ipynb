{
 "cells": [
  {
   "cell_type": "code",
   "execution_count": 1,
   "id": "51ddcc2b-c55c-42fc-b5bc-422fbdd932dc",
   "metadata": {},
   "outputs": [
    {
     "ename": "ModuleNotFoundError",
     "evalue": "No module named 'pyaudio'",
     "output_type": "error",
     "traceback": [
      "\u001b[0;31m---------------------------------------------------------------------------\u001b[0m",
      "\u001b[0;31mModuleNotFoundError\u001b[0m                       Traceback (most recent call last)",
      "Cell \u001b[0;32mIn [1], line 4\u001b[0m\n\u001b[1;32m      1\u001b[0m \u001b[38;5;28;01mimport\u001b[39;00m \u001b[38;5;21;01mwave\u001b[39;00m\n\u001b[1;32m      2\u001b[0m \u001b[38;5;28;01mfrom\u001b[39;00m \u001b[38;5;21;01mdataclasses\u001b[39;00m \u001b[38;5;28;01mimport\u001b[39;00m dataclass, asdict\n\u001b[0;32m----> 4\u001b[0m \u001b[38;5;28;01mimport\u001b[39;00m \u001b[38;5;21;01mpyaudio\u001b[39;00m\n\u001b[1;32m      7\u001b[0m \u001b[38;5;129m@dataclass\u001b[39m\n\u001b[1;32m      8\u001b[0m \u001b[38;5;28;01mclass\u001b[39;00m \u001b[38;5;21;01mStreamParams\u001b[39;00m:\n\u001b[1;32m      9\u001b[0m     \u001b[38;5;28mformat\u001b[39m: \u001b[38;5;28mint\u001b[39m \u001b[38;5;241m=\u001b[39m pyaudio\u001b[38;5;241m.\u001b[39mpaInt16\n",
      "\u001b[0;31mModuleNotFoundError\u001b[0m: No module named 'pyaudio'"
     ]
    }
   ],
   "source": [
    "import wave\n",
    "from dataclasses import dataclass, asdict\n",
    "\n",
    "import pyaudio\n",
    "\n",
    "\n",
    "@dataclass\n",
    "class StreamParams:\n",
    "    format: int = pyaudio.paInt16\n",
    "    channels: int = 2\n",
    "    rate: int = 44100\n",
    "    frames_per_buffer: int = 1024\n",
    "    input: bool = True\n",
    "    output: bool = False\n",
    "\n",
    "    def to_dict(self) -> dict:\n",
    "        return asdict(self)\n",
    "\n",
    "\n",
    "class Recorder:\n",
    "    \"\"\"Recorder uses the blocking I/O facility from pyaudio to record sound\n",
    "    from mic.\n",
    "    Attributes:\n",
    "        - stream_params: StreamParams object with values for pyaudio Stream\n",
    "            object\n",
    "    \"\"\"\n",
    "    def __init__(self, stream_params: StreamParams) -> None:\n",
    "        self.stream_params = stream_params\n",
    "        self._pyaudio = None\n",
    "        self._stream = None\n",
    "        self._wav_file = None\n",
    "\n",
    "    def record(self, duration: int, save_path: str) -> None:\n",
    "        \"\"\"Record sound from mic for a given amount of seconds.\n",
    "        :param duration: Number of seconds we want to record for\n",
    "        :param save_path: Where to store recording\n",
    "        \"\"\"\n",
    "        print(\"Start recording...\")\n",
    "        self._create_recording_resources(save_path)\n",
    "        self._write_wav_file_reading_from_stream(duration)\n",
    "        self._close_recording_resources()\n",
    "        print(\"Stop recording\")\n",
    "\n",
    "    def _create_recording_resources(self, save_path: str) -> None:\n",
    "        self._pyaudio = pyaudio.PyAudio()\n",
    "        self._stream = self._pyaudio.open(**self.stream_params.to_dict())\n",
    "        self._create_wav_file(save_path)\n",
    "\n",
    "    def _create_wav_file(self, save_path: str):\n",
    "        self._wav_file = wave.open(save_path, \"wb\")\n",
    "        self._wav_file.setnchannels(self.stream_params.channels)\n",
    "        self._wav_file.setsampwidth(self._pyaudio.get_sample_size(self.stream_params.format))\n",
    "        self._wav_file.setframerate(self.stream_params.rate)\n",
    "\n",
    "    def _write_wav_file_reading_from_stream(self, duration: int) -> None:\n",
    "        for _ in range(int(self.stream_params.rate * duration / self.stream_params.frames_per_buffer)):\n",
    "            audio_data = self._stream.read(self.stream_params.frames_per_buffer)\n",
    "            self._wav_file.writeframes(audio_data)\n",
    "\n",
    "    def _close_recording_resources(self) -> None:\n",
    "        self._wav_file.close()\n",
    "        self._stream.close()\n",
    "        self._pyaudio.terminate()\n",
    "\n",
    "\n",
    "if __name__ == \"__main__\":\n",
    "    stream_params = StreamParams()\n",
    "    recorder = Recorder(stream_params)\n",
    "    recorder.record(5, \"audio.wav\")\n",
    "\n"
   ]
  },
  {
   "cell_type": "code",
   "execution_count": 2,
   "id": "4191114d-cad5-4252-99bb-32fada666d22",
   "metadata": {},
   "outputs": [
    {
     "name": "stdout",
     "output_type": "stream",
     "text": [
      "Collecting pyaudio\n",
      "  Downloading PyAudio-0.2.12.tar.gz (42 kB)\n",
      "\u001b[2K     \u001b[90m━━━━━━━━━━━━━━━━━━━━━━━━━━━━━━━━━━━━━━━━\u001b[0m \u001b[32m42.9/42.9 kB\u001b[0m \u001b[31m2.4 MB/s\u001b[0m eta \u001b[36m0:00:00\u001b[0m\n",
      "\u001b[?25h  Installing build dependencies ... \u001b[?25ldone\n",
      "\u001b[?25h  Getting requirements to build wheel ... \u001b[?25ldone\n",
      "\u001b[?25h  Preparing metadata (pyproject.toml) ... \u001b[?25ldone\n",
      "\u001b[?25hBuilding wheels for collected packages: pyaudio\n",
      "  Building wheel for pyaudio (pyproject.toml) ... \u001b[?25lerror\n",
      "  \u001b[1;31merror\u001b[0m: \u001b[1msubprocess-exited-with-error\u001b[0m\n",
      "  \n",
      "  \u001b[31m×\u001b[0m \u001b[32mBuilding wheel for pyaudio \u001b[0m\u001b[1;32m(\u001b[0m\u001b[32mpyproject.toml\u001b[0m\u001b[1;32m)\u001b[0m did not run successfully.\n",
      "  \u001b[31m│\u001b[0m exit code: \u001b[1;36m1\u001b[0m\n",
      "  \u001b[31m╰─>\u001b[0m \u001b[31m[16 lines of output]\u001b[0m\n",
      "  \u001b[31m   \u001b[0m running bdist_wheel\n",
      "  \u001b[31m   \u001b[0m running build\n",
      "  \u001b[31m   \u001b[0m running build_py\n",
      "  \u001b[31m   \u001b[0m creating build\n",
      "  \u001b[31m   \u001b[0m creating build/lib.macosx-12.4-x86_64-cpython-38\n",
      "  \u001b[31m   \u001b[0m copying src/pyaudio.py -> build/lib.macosx-12.4-x86_64-cpython-38\n",
      "  \u001b[31m   \u001b[0m running build_ext\n",
      "  \u001b[31m   \u001b[0m building '_portaudio' extension\n",
      "  \u001b[31m   \u001b[0m creating build/temp.macosx-12.4-x86_64-cpython-38\n",
      "  \u001b[31m   \u001b[0m creating build/temp.macosx-12.4-x86_64-cpython-38/src\n",
      "  \u001b[31m   \u001b[0m clang -Wno-unused-result -Wsign-compare -Wunreachable-code -DNDEBUG -g -fwrapv -O3 -Wall -I/Library/Developer/CommandLineTools/SDKs/MacOSX.sdk/usr/include -I/Library/Developer/CommandLineTools/SDKs/MacOSX.sdk/usr/include -DMACOSX=1 -I/usr/local/include -I/usr/include -I/Users/guilhermecavalcantidesabarreto/.pyenv/versions/3.8.12/envs/silvertone/include -I/Users/guilhermecavalcantidesabarreto/.pyenv/versions/3.8.12/include/python3.8 -c src/_portaudiomodule.c -o build/temp.macosx-12.4-x86_64-cpython-38/src/_portaudiomodule.o\n",
      "  \u001b[31m   \u001b[0m src/_portaudiomodule.c:31:10: fatal error: 'portaudio.h' file not found\n",
      "  \u001b[31m   \u001b[0m #include \"portaudio.h\"\n",
      "  \u001b[31m   \u001b[0m          ^~~~~~~~~~~~~\n",
      "  \u001b[31m   \u001b[0m 1 error generated.\n",
      "  \u001b[31m   \u001b[0m error: command '/usr/bin/clang' failed with exit code 1\n",
      "  \u001b[31m   \u001b[0m \u001b[31m[end of output]\u001b[0m\n",
      "  \n",
      "  \u001b[1;35mnote\u001b[0m: This error originates from a subprocess, and is likely not a problem with pip.\n",
      "\u001b[31m  ERROR: Failed building wheel for pyaudio\u001b[0m\u001b[31m\n",
      "\u001b[0m\u001b[?25hFailed to build pyaudio\n",
      "\u001b[31mERROR: Could not build wheels for pyaudio, which is required to install pyproject.toml-based projects\u001b[0m\u001b[31m\n",
      "\u001b[0m"
     ]
    }
   ],
   "source": [
    "!pip install pyaudio\n"
   ]
  },
  {
   "cell_type": "code",
   "execution_count": 3,
   "id": "c5829128-b461-45e3-a462-6ba6273eecd7",
   "metadata": {},
   "outputs": [
    {
     "name": "stdout",
     "output_type": "stream",
     "text": [
      "\u001b[31mERROR: Could not find a version that satisfies the requirement pyproject.toml-based (from versions: none)\u001b[0m\u001b[31m\n",
      "\u001b[0m\u001b[31mERROR: No matching distribution found for pyproject.toml-based\u001b[0m\u001b[31m\n",
      "\u001b[0m"
     ]
    }
   ],
   "source": [
    "!pip install pyproject.toml-based projects\n"
   ]
  },
  {
   "cell_type": "code",
   "execution_count": null,
   "id": "d37884ca-14c7-4207-8c2d-51bf41bcbcdc",
   "metadata": {},
   "outputs": [],
   "source": []
  }
 ],
 "metadata": {
  "kernelspec": {
   "display_name": "Python 3 (ipykernel)",
   "language": "python",
   "name": "python3"
  },
  "language_info": {
   "codemirror_mode": {
    "name": "ipython",
    "version": 3
   },
   "file_extension": ".py",
   "mimetype": "text/x-python",
   "name": "python",
   "nbconvert_exporter": "python",
   "pygments_lexer": "ipython3",
   "version": "3.8.12"
  }
 },
 "nbformat": 4,
 "nbformat_minor": 5
}
