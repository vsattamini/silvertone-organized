{
  "nbformat": 4,
  "nbformat_minor": 0,
  "metadata": {
    "colab": {
      "provenance": [],
      "machine_shape": "hm",
      "mount_file_id": "1QSA9QxlKbqrCUgaiB1hcd9tOYUekFw7z",
      "authorship_tag": "ABX9TyMqzopXU48f4UN0lHS1Owt+",
      "include_colab_link": true
    },
    "kernelspec": {
      "name": "python3",
      "display_name": "Python 3"
    },
    "language_info": {
      "name": "python"
    },
    "accelerator": "TPU",
    "gpuClass": "standard"
  },
  "cells": [
    {
      "cell_type": "markdown",
      "metadata": {
        "id": "view-in-github",
        "colab_type": "text"
      },
      "source": [
        "<a href=\"https://colab.research.google.com/github/vsattamini/silvertone/blob/luiz/model_fourrier_mel.ipynb\" target=\"_parent\"><img src=\"https://colab.research.google.com/assets/colab-badge.svg\" alt=\"Open In Colab\"/></a>"
      ]
    },
    {
      "cell_type": "code",
      "execution_count": 1,
      "metadata": {
        "id": "XU8JBVwx1lmT"
      },
      "outputs": [],
      "source": [
        "import pandas as pd\n",
        "from tensorflow.keras import layers, Sequential, Input, Model\n",
        "from  tensorflow import expand_dims\n",
        "from sklearn.model_selection import train_test_split\n",
        "from sklearn.preprocessing import LabelEncoder\n",
        "from keras.utils import np_utils, to_categorical\n",
        "from sklearn.preprocessing import MinMaxScaler\n",
        "import torch\n",
        "import tensorflow as tf\n",
        "import numpy as np\n",
        "from tensorflow.keras.callbacks import EarlyStopping"
      ]
    },
    {
      "cell_type": "code",
      "source": [
        "df = pd.read_pickle(\"/content/drive/MyDrive/df/database_final_v4_6emo.pkl\")"
      ],
      "metadata": {
        "id": "kTQ7RJ2Y24Vy"
      },
      "execution_count": 2,
      "outputs": []
    },
    {
      "cell_type": "code",
      "source": [
        "y = df[\"emotion\"]\n",
        "X = df[[\"mel_spec\", \"fourrier\",\"intensity\", \"repetition\", \"actor_gender\"]]"
      ],
      "metadata": {
        "id": "VdKapqnSrYq5"
      },
      "execution_count": 3,
      "outputs": []
    },
    {
      "cell_type": "code",
      "source": [
        "X_train, X_test, y_train, y_test = train_test_split(X, y, test_size=0.20, random_state=1405, stratify=y)"
      ],
      "metadata": {
        "id": "VBkwXt0krmme"
      },
      "execution_count": 4,
      "outputs": []
    },
    {
      "cell_type": "code",
      "source": [
        "X_train_mel = np.array(X_train[\"mel_spec\"].values.tolist()).astype('float32')\n",
        "X_train_fourrier = np.array(X_train[\"fourrier\"].values.tolist()).astype('float32')"
      ],
      "metadata": {
        "id": "L7LUcQ3D50E6"
      },
      "execution_count": 5,
      "outputs": []
    },
    {
      "cell_type": "code",
      "source": [
        "X_test_mel = np.array(X_test[\"mel_spec\"].values.tolist()).astype('float32')\n",
        "X_test_fourrier = np.array(X_test[\"fourrier\"].values.tolist()).astype('float32')"
      ],
      "metadata": {
        "id": "jlemUveWtEsV"
      },
      "execution_count": 6,
      "outputs": []
    },
    {
      "cell_type": "code",
      "source": [
        "X_train_mel = expand_dims(X_train_mel, -1)\n",
        "X_train_fourrier = expand_dims(X_train_fourrier, -1)"
      ],
      "metadata": {
        "id": "rH4f32mfTkfQ"
      },
      "execution_count": 7,
      "outputs": []
    },
    {
      "cell_type": "code",
      "source": [
        "lb = LabelEncoder()\n",
        "y_train = np_utils.to_categorical(lb.fit_transform(y_train))\n",
        "y_test = np_utils.to_categorical(lb.fit_transform(y_test))"
      ],
      "metadata": {
        "id": "APn4lWqaH5wo"
      },
      "execution_count": 8,
      "outputs": []
    },
    {
      "cell_type": "code",
      "source": [
        "input_mel = Input(shape=(X_train_mel.shape[1:]))\n",
        "input_fourrier = Input(shape=(X_train_fourrier.shape[1:]))"
      ],
      "metadata": {
        "id": "sWW2fY56vWvl"
      },
      "execution_count": 9,
      "outputs": []
    },
    {
      "cell_type": "code",
      "source": [
        "mel = layers.Conv2D(64, (4,4), activation=\"relu\", padding=\"same\")(input_mel)\n",
        "mel = layers.MaxPool2D((2,2))(mel)\n",
        "mel = layers.Conv2D(128, (3,3), activation=\"relu\", padding=\"same\")(mel)\n",
        "mel = layers.Conv2D(128, (3,3), activation=\"relu\", padding=\"same\")(mel)\n",
        "mel = layers.MaxPool2D((2,2))(mel)\n",
        "mel = layers.Conv2D(128, (3,3), activation=\"relu\", padding=\"same\")(mel)\n",
        "mel = layers.Conv2D(128, (3,3), activation=\"relu\", padding=\"same\")(mel)\n",
        "mel = layers.Flatten()(mel)\n",
        "mel = Model(inputs=input_mel, outputs=mel)"
      ],
      "metadata": {
        "id": "eVAqfHCt0gdN"
      },
      "execution_count": 10,
      "outputs": []
    },
    {
      "cell_type": "code",
      "source": [
        "fourrier = layers.Conv2D(64, (4,4), activation=\"relu\", padding=\"same\")(input_fourrier)\n",
        "fourrier = layers.MaxPool2D((2,2))(fourrier)\n",
        "fourrier = layers.Conv2D(128, (3,3), activation=\"relu\", padding=\"same\")(fourrier)\n",
        "fourrier = layers.Conv2D(128, (3,3), activation=\"relu\", padding=\"same\")(fourrier)\n",
        "fourrier = layers.MaxPool2D((2,2))(fourrier)\n",
        "fourrier = layers.Conv2D(128, (3,3), activation=\"relu\", padding=\"same\")(fourrier)\n",
        "fourrier = layers.Conv2D(128, (3,3), activation=\"relu\", padding=\"same\")(fourrier)\n",
        "fourrier = layers.Flatten()(fourrier)\n",
        "fourrier = Model(inputs=input_fourrier, outputs=fourrier)"
      ],
      "metadata": {
        "id": "20PZpPwF1Dwr"
      },
      "execution_count": 11,
      "outputs": []
    },
    {
      "cell_type": "code",
      "source": [
        "combined = layers.Concatenate()([mel.output, fourrier.output])"
      ],
      "metadata": {
        "id": "t9Da_aiN4HTW"
      },
      "execution_count": 12,
      "outputs": []
    },
    {
      "cell_type": "code",
      "source": [
        "final = layers.Dense(10, activation=\"relu\")(combined)\n",
        "final = layers.Dense(7, activation=\"softmax\")(final)"
      ],
      "metadata": {
        "id": "uZWgrMgS5edr"
      },
      "execution_count": 13,
      "outputs": []
    },
    {
      "cell_type": "code",
      "source": [
        "model = Model(inputs=[mel.input, fourrier.input], outputs=final)"
      ],
      "metadata": {
        "id": "9nkfdv3X6FBP"
      },
      "execution_count": 14,
      "outputs": []
    },
    {
      "cell_type": "code",
      "source": [
        "model.compile(loss=\"categorical_crossentropy\", optimizer=\"adam\", metrics=[\"accuracy\"])"
      ],
      "metadata": {
        "id": "M7LjVQjC6jm8"
      },
      "execution_count": 15,
      "outputs": []
    },
    {
      "cell_type": "code",
      "source": [
        "es = EarlyStopping(patience=10, restore_best_weights=True)\n",
        "model.fit(x=[X_train_mel, X_train_fourrier], y = y_train, validation_split=0.3, epochs=500, batch_size=32, callbacks=[es])"
      ],
      "metadata": {
        "colab": {
          "base_uri": "https://localhost:8080/"
        },
        "id": "O1Lb8aVSIqCE",
        "outputId": "eb3b1a9a-937f-4fb7-bb0d-625242aac5b3"
      },
      "execution_count": 16,
      "outputs": [
        {
          "output_type": "stream",
          "name": "stdout",
          "text": [
            "Epoch 1/500\n",
            "206/206 [==============================] - 1422s 7s/step - loss: 1.8288 - accuracy: 0.2513 - val_loss: 1.5743 - val_accuracy: 0.3352\n",
            "Epoch 2/500\n",
            "206/206 [==============================] - 1422s 7s/step - loss: 1.4750 - accuracy: 0.3968 - val_loss: 1.4134 - val_accuracy: 0.4701\n",
            "Epoch 3/500\n",
            "206/206 [==============================] - 1391s 7s/step - loss: 1.3388 - accuracy: 0.4873 - val_loss: 1.3576 - val_accuracy: 0.4945\n",
            "Epoch 4/500\n",
            "206/206 [==============================] - 1380s 7s/step - loss: 1.2134 - accuracy: 0.5324 - val_loss: 1.3391 - val_accuracy: 0.4733\n",
            "Epoch 5/500\n",
            "206/206 [==============================] - 1388s 7s/step - loss: 1.1759 - accuracy: 0.5315 - val_loss: 1.3638 - val_accuracy: 0.5005\n",
            "Epoch 6/500\n",
            "206/206 [==============================] - 1399s 7s/step - loss: 1.0424 - accuracy: 0.5855 - val_loss: 1.3471 - val_accuracy: 0.5250\n",
            "Epoch 7/500\n",
            "206/206 [==============================] - 1416s 7s/step - loss: 0.8977 - accuracy: 0.6483 - val_loss: 1.5282 - val_accuracy: 0.5306\n",
            "Epoch 8/500\n",
            "206/206 [==============================] - 1430s 7s/step - loss: 0.7767 - accuracy: 0.7023 - val_loss: 2.1516 - val_accuracy: 0.4644\n",
            "Epoch 9/500\n",
            "206/206 [==============================] - 1420s 7s/step - loss: 0.6427 - accuracy: 0.7571 - val_loss: 2.0564 - val_accuracy: 0.5158\n",
            "Epoch 10/500\n",
            "206/206 [==============================] - 1410s 7s/step - loss: 0.5330 - accuracy: 0.8044 - val_loss: 2.3388 - val_accuracy: 0.5140\n",
            "Epoch 11/500\n",
            "206/206 [==============================] - 1435s 7s/step - loss: 0.4590 - accuracy: 0.8325 - val_loss: 2.2242 - val_accuracy: 0.5037\n",
            "Epoch 12/500\n",
            "206/206 [==============================] - 1412s 7s/step - loss: 0.3871 - accuracy: 0.8581 - val_loss: 2.8700 - val_accuracy: 0.5214\n",
            "Epoch 13/500\n",
            "206/206 [==============================] - 1402s 7s/step - loss: 0.3407 - accuracy: 0.8776 - val_loss: 3.4587 - val_accuracy: 0.5002\n",
            "Epoch 14/500\n",
            "206/206 [==============================] - 1403s 7s/step - loss: 0.3474 - accuracy: 0.8789 - val_loss: 3.6718 - val_accuracy: 0.5058\n"
          ]
        },
        {
          "output_type": "execute_result",
          "data": {
            "text/plain": [
              "<keras.callbacks.History at 0x7f0edcf63e90>"
            ]
          },
          "metadata": {},
          "execution_count": 16
        }
      ]
    }
  ]
}